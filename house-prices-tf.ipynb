{
 "cells": [
  {
   "cell_type": "code",
   "execution_count": 275,
   "metadata": {},
   "outputs": [],
   "source": [
    "import numpy as np\n",
    "import pandas as pd \n",
    "%matplotlib inline\n",
    "import matplotlib.pyplot as plt\n",
    "import os\n",
    "import tensorflow as tf\n",
    "from tensorflow import keras\n",
    "from keras import layers\n",
    "from sklearn.model_selection import train_test_split\n",
    "from sklearn.metrics import mean_squared_log_error, r2_score"
   ]
  },
  {
   "cell_type": "markdown",
   "metadata": {},
   "source": [
    "# House price regression using TensorFlow"
   ]
  },
  {
   "cell_type": "markdown",
   "metadata": {},
   "source": [
    "I have to: \n",
    "\n",
    "1) load the data\n",
    "\n",
    "2) apply some basic feature engineering and cleaning\n",
    "\n",
    "3) encode and normalize the data into something that can be efficiently computed by tensorflow\n",
    "\n",
    "4) train the model, score it and compute metrics\n",
    "\n",
    "5) check the model predictions visually\n",
    "\n",
    "6) predict the house prices in the test set"
   ]
  },
  {
   "cell_type": "markdown",
   "metadata": {},
   "source": [
    "Fore more info:\n",
    "\n",
    "https://www.tensorflow.org/tutorials/load_data/pandas_dataframe\n",
    "\n",
    "https://www.tensorflow.org/tutorials/load_data/csv\n",
    "\n",
    "https://www.tensorflow.org/tutorials/structured_data/preprocessing_layers?authuser=2\n",
    "\n",
    "https://www.tensorflow.org/guide/keras/preprocessing_layers"
   ]
  },
  {
   "cell_type": "code",
   "execution_count": 276,
   "metadata": {},
   "outputs": [],
   "source": [
    "from house_prices import feat_eng"
   ]
  },
  {
   "cell_type": "code",
   "execution_count": 277,
   "metadata": {},
   "outputs": [],
   "source": [
    "train=pd.read_csv('train.csv')"
   ]
  },
  {
   "cell_type": "code",
   "execution_count": 278,
   "metadata": {},
   "outputs": [],
   "source": [
    "int_cat_f=['SaleCondition','ExterQual','Neighborhood','KitchenQual','SaleType','PoolQC','MSZoning']\n",
    "int_num_f=['OverallQual','LotArea','BsmtFinSF1','TotalBsmtSF','GrLivArea','GarageArea','YearBuilt','GarageCars','TotRmsAbvGrd','MSSubClass']\n"
   ]
  },
  {
   "cell_type": "code",
   "execution_count": 279,
   "metadata": {},
   "outputs": [],
   "source": [
    "label='SalePrice'\n"
   ]
  },
  {
   "cell_type": "markdown",
   "metadata": {},
   "source": [
    "### First implementation: only using numeric features and model.fit() method"
   ]
  },
  {
   "cell_type": "code",
   "execution_count": 280,
   "metadata": {},
   "outputs": [
    {
     "data": {
      "text/html": [
       "<div>\n",
       "<style scoped>\n",
       "    .dataframe tbody tr th:only-of-type {\n",
       "        vertical-align: middle;\n",
       "    }\n",
       "\n",
       "    .dataframe tbody tr th {\n",
       "        vertical-align: top;\n",
       "    }\n",
       "\n",
       "    .dataframe thead th {\n",
       "        text-align: right;\n",
       "    }\n",
       "</style>\n",
       "<table border=\"1\" class=\"dataframe\">\n",
       "  <thead>\n",
       "    <tr style=\"text-align: right;\">\n",
       "      <th></th>\n",
       "      <th>Id</th>\n",
       "      <th>MSSubClass</th>\n",
       "      <th>MSZoning</th>\n",
       "      <th>LotFrontage</th>\n",
       "      <th>LotArea</th>\n",
       "      <th>Street</th>\n",
       "      <th>Alley</th>\n",
       "      <th>LotShape</th>\n",
       "      <th>LandContour</th>\n",
       "      <th>Utilities</th>\n",
       "      <th>...</th>\n",
       "      <th>MiscFeature</th>\n",
       "      <th>MiscVal</th>\n",
       "      <th>MoSold</th>\n",
       "      <th>YrSold</th>\n",
       "      <th>SaleType</th>\n",
       "      <th>SaleCondition</th>\n",
       "      <th>SalePrice</th>\n",
       "      <th>TotFlrSF</th>\n",
       "      <th>nFlrs</th>\n",
       "      <th>AvgSF</th>\n",
       "    </tr>\n",
       "  </thead>\n",
       "  <tbody>\n",
       "    <tr>\n",
       "      <th>0</th>\n",
       "      <td>1</td>\n",
       "      <td>60</td>\n",
       "      <td>RL</td>\n",
       "      <td>65.0</td>\n",
       "      <td>8450</td>\n",
       "      <td>Pave</td>\n",
       "      <td>NaN</td>\n",
       "      <td>Reg</td>\n",
       "      <td>Lvl</td>\n",
       "      <td>AllPub</td>\n",
       "      <td>...</td>\n",
       "      <td>NaN</td>\n",
       "      <td>0</td>\n",
       "      <td>2</td>\n",
       "      <td>2008</td>\n",
       "      <td>WD</td>\n",
       "      <td>Normal</td>\n",
       "      <td>208500</td>\n",
       "      <td>1710</td>\n",
       "      <td>2.0</td>\n",
       "      <td>855.0</td>\n",
       "    </tr>\n",
       "    <tr>\n",
       "      <th>1</th>\n",
       "      <td>2</td>\n",
       "      <td>20</td>\n",
       "      <td>RL</td>\n",
       "      <td>80.0</td>\n",
       "      <td>9600</td>\n",
       "      <td>Pave</td>\n",
       "      <td>NaN</td>\n",
       "      <td>Reg</td>\n",
       "      <td>Lvl</td>\n",
       "      <td>AllPub</td>\n",
       "      <td>...</td>\n",
       "      <td>NaN</td>\n",
       "      <td>0</td>\n",
       "      <td>5</td>\n",
       "      <td>2007</td>\n",
       "      <td>WD</td>\n",
       "      <td>Normal</td>\n",
       "      <td>181500</td>\n",
       "      <td>1262</td>\n",
       "      <td>1.0</td>\n",
       "      <td>1262.0</td>\n",
       "    </tr>\n",
       "    <tr>\n",
       "      <th>2</th>\n",
       "      <td>3</td>\n",
       "      <td>60</td>\n",
       "      <td>RL</td>\n",
       "      <td>68.0</td>\n",
       "      <td>11250</td>\n",
       "      <td>Pave</td>\n",
       "      <td>NaN</td>\n",
       "      <td>IR1</td>\n",
       "      <td>Lvl</td>\n",
       "      <td>AllPub</td>\n",
       "      <td>...</td>\n",
       "      <td>NaN</td>\n",
       "      <td>0</td>\n",
       "      <td>9</td>\n",
       "      <td>2008</td>\n",
       "      <td>WD</td>\n",
       "      <td>Normal</td>\n",
       "      <td>223500</td>\n",
       "      <td>1786</td>\n",
       "      <td>2.0</td>\n",
       "      <td>893.0</td>\n",
       "    </tr>\n",
       "    <tr>\n",
       "      <th>3</th>\n",
       "      <td>4</td>\n",
       "      <td>70</td>\n",
       "      <td>RL</td>\n",
       "      <td>60.0</td>\n",
       "      <td>9550</td>\n",
       "      <td>Pave</td>\n",
       "      <td>NaN</td>\n",
       "      <td>IR1</td>\n",
       "      <td>Lvl</td>\n",
       "      <td>AllPub</td>\n",
       "      <td>...</td>\n",
       "      <td>NaN</td>\n",
       "      <td>0</td>\n",
       "      <td>2</td>\n",
       "      <td>2006</td>\n",
       "      <td>WD</td>\n",
       "      <td>Abnorml</td>\n",
       "      <td>140000</td>\n",
       "      <td>1717</td>\n",
       "      <td>2.0</td>\n",
       "      <td>858.5</td>\n",
       "    </tr>\n",
       "    <tr>\n",
       "      <th>4</th>\n",
       "      <td>5</td>\n",
       "      <td>60</td>\n",
       "      <td>RL</td>\n",
       "      <td>84.0</td>\n",
       "      <td>14260</td>\n",
       "      <td>Pave</td>\n",
       "      <td>NaN</td>\n",
       "      <td>IR1</td>\n",
       "      <td>Lvl</td>\n",
       "      <td>AllPub</td>\n",
       "      <td>...</td>\n",
       "      <td>NaN</td>\n",
       "      <td>0</td>\n",
       "      <td>12</td>\n",
       "      <td>2008</td>\n",
       "      <td>WD</td>\n",
       "      <td>Normal</td>\n",
       "      <td>250000</td>\n",
       "      <td>2198</td>\n",
       "      <td>2.0</td>\n",
       "      <td>1099.0</td>\n",
       "    </tr>\n",
       "    <tr>\n",
       "      <th>...</th>\n",
       "      <td>...</td>\n",
       "      <td>...</td>\n",
       "      <td>...</td>\n",
       "      <td>...</td>\n",
       "      <td>...</td>\n",
       "      <td>...</td>\n",
       "      <td>...</td>\n",
       "      <td>...</td>\n",
       "      <td>...</td>\n",
       "      <td>...</td>\n",
       "      <td>...</td>\n",
       "      <td>...</td>\n",
       "      <td>...</td>\n",
       "      <td>...</td>\n",
       "      <td>...</td>\n",
       "      <td>...</td>\n",
       "      <td>...</td>\n",
       "      <td>...</td>\n",
       "      <td>...</td>\n",
       "      <td>...</td>\n",
       "      <td>...</td>\n",
       "    </tr>\n",
       "    <tr>\n",
       "      <th>1455</th>\n",
       "      <td>1456</td>\n",
       "      <td>60</td>\n",
       "      <td>RL</td>\n",
       "      <td>62.0</td>\n",
       "      <td>7917</td>\n",
       "      <td>Pave</td>\n",
       "      <td>NaN</td>\n",
       "      <td>Reg</td>\n",
       "      <td>Lvl</td>\n",
       "      <td>AllPub</td>\n",
       "      <td>...</td>\n",
       "      <td>NaN</td>\n",
       "      <td>0</td>\n",
       "      <td>8</td>\n",
       "      <td>2007</td>\n",
       "      <td>WD</td>\n",
       "      <td>Normal</td>\n",
       "      <td>175000</td>\n",
       "      <td>1647</td>\n",
       "      <td>2.0</td>\n",
       "      <td>823.5</td>\n",
       "    </tr>\n",
       "    <tr>\n",
       "      <th>1456</th>\n",
       "      <td>1457</td>\n",
       "      <td>20</td>\n",
       "      <td>RL</td>\n",
       "      <td>85.0</td>\n",
       "      <td>13175</td>\n",
       "      <td>Pave</td>\n",
       "      <td>NaN</td>\n",
       "      <td>Reg</td>\n",
       "      <td>Lvl</td>\n",
       "      <td>AllPub</td>\n",
       "      <td>...</td>\n",
       "      <td>NaN</td>\n",
       "      <td>0</td>\n",
       "      <td>2</td>\n",
       "      <td>2010</td>\n",
       "      <td>WD</td>\n",
       "      <td>Normal</td>\n",
       "      <td>210000</td>\n",
       "      <td>2073</td>\n",
       "      <td>1.0</td>\n",
       "      <td>2073.0</td>\n",
       "    </tr>\n",
       "    <tr>\n",
       "      <th>1457</th>\n",
       "      <td>1458</td>\n",
       "      <td>70</td>\n",
       "      <td>RL</td>\n",
       "      <td>66.0</td>\n",
       "      <td>9042</td>\n",
       "      <td>Pave</td>\n",
       "      <td>NaN</td>\n",
       "      <td>Reg</td>\n",
       "      <td>Lvl</td>\n",
       "      <td>AllPub</td>\n",
       "      <td>...</td>\n",
       "      <td>Shed</td>\n",
       "      <td>2500</td>\n",
       "      <td>5</td>\n",
       "      <td>2010</td>\n",
       "      <td>WD</td>\n",
       "      <td>Normal</td>\n",
       "      <td>266500</td>\n",
       "      <td>2340</td>\n",
       "      <td>2.0</td>\n",
       "      <td>1170.0</td>\n",
       "    </tr>\n",
       "    <tr>\n",
       "      <th>1458</th>\n",
       "      <td>1459</td>\n",
       "      <td>20</td>\n",
       "      <td>RL</td>\n",
       "      <td>68.0</td>\n",
       "      <td>9717</td>\n",
       "      <td>Pave</td>\n",
       "      <td>NaN</td>\n",
       "      <td>Reg</td>\n",
       "      <td>Lvl</td>\n",
       "      <td>AllPub</td>\n",
       "      <td>...</td>\n",
       "      <td>NaN</td>\n",
       "      <td>0</td>\n",
       "      <td>4</td>\n",
       "      <td>2010</td>\n",
       "      <td>WD</td>\n",
       "      <td>Normal</td>\n",
       "      <td>142125</td>\n",
       "      <td>1078</td>\n",
       "      <td>1.0</td>\n",
       "      <td>1078.0</td>\n",
       "    </tr>\n",
       "    <tr>\n",
       "      <th>1459</th>\n",
       "      <td>1460</td>\n",
       "      <td>20</td>\n",
       "      <td>RL</td>\n",
       "      <td>75.0</td>\n",
       "      <td>9937</td>\n",
       "      <td>Pave</td>\n",
       "      <td>NaN</td>\n",
       "      <td>Reg</td>\n",
       "      <td>Lvl</td>\n",
       "      <td>AllPub</td>\n",
       "      <td>...</td>\n",
       "      <td>NaN</td>\n",
       "      <td>0</td>\n",
       "      <td>6</td>\n",
       "      <td>2008</td>\n",
       "      <td>WD</td>\n",
       "      <td>Normal</td>\n",
       "      <td>147500</td>\n",
       "      <td>1256</td>\n",
       "      <td>1.0</td>\n",
       "      <td>1256.0</td>\n",
       "    </tr>\n",
       "  </tbody>\n",
       "</table>\n",
       "<p>1460 rows × 84 columns</p>\n",
       "</div>"
      ],
      "text/plain": [
       "        Id  MSSubClass MSZoning  LotFrontage  LotArea Street Alley LotShape  \\\n",
       "0        1          60       RL         65.0     8450   Pave   NaN      Reg   \n",
       "1        2          20       RL         80.0     9600   Pave   NaN      Reg   \n",
       "2        3          60       RL         68.0    11250   Pave   NaN      IR1   \n",
       "3        4          70       RL         60.0     9550   Pave   NaN      IR1   \n",
       "4        5          60       RL         84.0    14260   Pave   NaN      IR1   \n",
       "...    ...         ...      ...          ...      ...    ...   ...      ...   \n",
       "1455  1456          60       RL         62.0     7917   Pave   NaN      Reg   \n",
       "1456  1457          20       RL         85.0    13175   Pave   NaN      Reg   \n",
       "1457  1458          70       RL         66.0     9042   Pave   NaN      Reg   \n",
       "1458  1459          20       RL         68.0     9717   Pave   NaN      Reg   \n",
       "1459  1460          20       RL         75.0     9937   Pave   NaN      Reg   \n",
       "\n",
       "     LandContour Utilities  ... MiscFeature MiscVal MoSold YrSold SaleType  \\\n",
       "0            Lvl    AllPub  ...         NaN       0      2   2008       WD   \n",
       "1            Lvl    AllPub  ...         NaN       0      5   2007       WD   \n",
       "2            Lvl    AllPub  ...         NaN       0      9   2008       WD   \n",
       "3            Lvl    AllPub  ...         NaN       0      2   2006       WD   \n",
       "4            Lvl    AllPub  ...         NaN       0     12   2008       WD   \n",
       "...          ...       ...  ...         ...     ...    ...    ...      ...   \n",
       "1455         Lvl    AllPub  ...         NaN       0      8   2007       WD   \n",
       "1456         Lvl    AllPub  ...         NaN       0      2   2010       WD   \n",
       "1457         Lvl    AllPub  ...        Shed    2500      5   2010       WD   \n",
       "1458         Lvl    AllPub  ...         NaN       0      4   2010       WD   \n",
       "1459         Lvl    AllPub  ...         NaN       0      6   2008       WD   \n",
       "\n",
       "     SaleCondition SalePrice  TotFlrSF  nFlrs   AvgSF  \n",
       "0           Normal    208500      1710    2.0   855.0  \n",
       "1           Normal    181500      1262    1.0  1262.0  \n",
       "2           Normal    223500      1786    2.0   893.0  \n",
       "3          Abnorml    140000      1717    2.0   858.5  \n",
       "4           Normal    250000      2198    2.0  1099.0  \n",
       "...            ...       ...       ...    ...     ...  \n",
       "1455        Normal    175000      1647    2.0   823.5  \n",
       "1456        Normal    210000      2073    1.0  2073.0  \n",
       "1457        Normal    266500      2340    2.0  1170.0  \n",
       "1458        Normal    142125      1078    1.0  1078.0  \n",
       "1459        Normal    147500      1256    1.0  1256.0  \n",
       "\n",
       "[1460 rows x 84 columns]"
      ]
     },
     "execution_count": 280,
     "metadata": {},
     "output_type": "execute_result"
    }
   ],
   "source": [
    "feat_eng(train)"
   ]
  },
  {
   "cell_type": "code",
   "execution_count": 281,
   "metadata": {},
   "outputs": [],
   "source": [
    "#\n",
    "x,y=train.drop(label,axis=1),train[label]\n",
    "x_train, x_test, y_train, y_test = train_test_split(x, y, test_size=0.3, random_state=0)"
   ]
  },
  {
   "cell_type": "code",
   "execution_count": 282,
   "metadata": {},
   "outputs": [],
   "source": [
    "train_num_feat,test_num_feat=x_train[int_num_f],x_test[int_num_f]\n",
    "tf.convert_to_tensor(train_num_feat)\n",
    "tf.convert_to_tensor(test_num_feat)\n",
    "tf.convert_to_tensor(y_test)\n",
    "tf.convert_to_tensor(y_train)\n",
    "\n",
    "\n",
    "normalizer = tf.keras.layers.Normalization(axis=-1)\n",
    "normalizer.adapt(train_num_feat)\n"
   ]
  },
  {
   "cell_type": "code",
   "execution_count": 283,
   "metadata": {},
   "outputs": [
    {
     "data": {
      "text/html": [
       "<div>\n",
       "<style scoped>\n",
       "    .dataframe tbody tr th:only-of-type {\n",
       "        vertical-align: middle;\n",
       "    }\n",
       "\n",
       "    .dataframe tbody tr th {\n",
       "        vertical-align: top;\n",
       "    }\n",
       "\n",
       "    .dataframe thead th {\n",
       "        text-align: right;\n",
       "    }\n",
       "</style>\n",
       "<table border=\"1\" class=\"dataframe\">\n",
       "  <thead>\n",
       "    <tr style=\"text-align: right;\">\n",
       "      <th></th>\n",
       "      <th>OverallQual</th>\n",
       "      <th>LotArea</th>\n",
       "      <th>BsmtFinSF1</th>\n",
       "      <th>TotalBsmtSF</th>\n",
       "      <th>GrLivArea</th>\n",
       "      <th>GarageArea</th>\n",
       "      <th>YearBuilt</th>\n",
       "      <th>GarageCars</th>\n",
       "      <th>TotRmsAbvGrd</th>\n",
       "      <th>MSSubClass</th>\n",
       "    </tr>\n",
       "  </thead>\n",
       "  <tbody>\n",
       "    <tr>\n",
       "      <th>64</th>\n",
       "      <td>7</td>\n",
       "      <td>9375</td>\n",
       "      <td>739</td>\n",
       "      <td>1057</td>\n",
       "      <td>2034</td>\n",
       "      <td>645</td>\n",
       "      <td>1997</td>\n",
       "      <td>2</td>\n",
       "      <td>8</td>\n",
       "      <td>60</td>\n",
       "    </tr>\n",
       "    <tr>\n",
       "      <th>682</th>\n",
       "      <td>6</td>\n",
       "      <td>2887</td>\n",
       "      <td>1003</td>\n",
       "      <td>1291</td>\n",
       "      <td>1291</td>\n",
       "      <td>431</td>\n",
       "      <td>1996</td>\n",
       "      <td>2</td>\n",
       "      <td>6</td>\n",
       "      <td>120</td>\n",
       "    </tr>\n",
       "    <tr>\n",
       "      <th>960</th>\n",
       "      <td>5</td>\n",
       "      <td>7207</td>\n",
       "      <td>696</td>\n",
       "      <td>858</td>\n",
       "      <td>858</td>\n",
       "      <td>0</td>\n",
       "      <td>1958</td>\n",
       "      <td>0</td>\n",
       "      <td>4</td>\n",
       "      <td>20</td>\n",
       "    </tr>\n",
       "    <tr>\n",
       "      <th>1384</th>\n",
       "      <td>6</td>\n",
       "      <td>9060</td>\n",
       "      <td>204</td>\n",
       "      <td>560</td>\n",
       "      <td>1258</td>\n",
       "      <td>280</td>\n",
       "      <td>1939</td>\n",
       "      <td>1</td>\n",
       "      <td>6</td>\n",
       "      <td>50</td>\n",
       "    </tr>\n",
       "    <tr>\n",
       "      <th>1100</th>\n",
       "      <td>2</td>\n",
       "      <td>8400</td>\n",
       "      <td>290</td>\n",
       "      <td>290</td>\n",
       "      <td>438</td>\n",
       "      <td>246</td>\n",
       "      <td>1920</td>\n",
       "      <td>1</td>\n",
       "      <td>3</td>\n",
       "      <td>30</td>\n",
       "    </tr>\n",
       "    <tr>\n",
       "      <th>...</th>\n",
       "      <td>...</td>\n",
       "      <td>...</td>\n",
       "      <td>...</td>\n",
       "      <td>...</td>\n",
       "      <td>...</td>\n",
       "      <td>...</td>\n",
       "      <td>...</td>\n",
       "      <td>...</td>\n",
       "      <td>...</td>\n",
       "      <td>...</td>\n",
       "    </tr>\n",
       "    <tr>\n",
       "      <th>763</th>\n",
       "      <td>8</td>\n",
       "      <td>9430</td>\n",
       "      <td>1163</td>\n",
       "      <td>1252</td>\n",
       "      <td>2365</td>\n",
       "      <td>856</td>\n",
       "      <td>1999</td>\n",
       "      <td>3</td>\n",
       "      <td>8</td>\n",
       "      <td>60</td>\n",
       "    </tr>\n",
       "    <tr>\n",
       "      <th>835</th>\n",
       "      <td>4</td>\n",
       "      <td>9600</td>\n",
       "      <td>442</td>\n",
       "      <td>1067</td>\n",
       "      <td>1067</td>\n",
       "      <td>436</td>\n",
       "      <td>1950</td>\n",
       "      <td>2</td>\n",
       "      <td>4</td>\n",
       "      <td>20</td>\n",
       "    </tr>\n",
       "    <tr>\n",
       "      <th>1216</th>\n",
       "      <td>6</td>\n",
       "      <td>8930</td>\n",
       "      <td>0</td>\n",
       "      <td>0</td>\n",
       "      <td>1902</td>\n",
       "      <td>539</td>\n",
       "      <td>1978</td>\n",
       "      <td>2</td>\n",
       "      <td>8</td>\n",
       "      <td>90</td>\n",
       "    </tr>\n",
       "    <tr>\n",
       "      <th>559</th>\n",
       "      <td>7</td>\n",
       "      <td>3196</td>\n",
       "      <td>0</td>\n",
       "      <td>1374</td>\n",
       "      <td>1557</td>\n",
       "      <td>420</td>\n",
       "      <td>2003</td>\n",
       "      <td>2</td>\n",
       "      <td>7</td>\n",
       "      <td>120</td>\n",
       "    </tr>\n",
       "    <tr>\n",
       "      <th>684</th>\n",
       "      <td>7</td>\n",
       "      <td>16770</td>\n",
       "      <td>0</td>\n",
       "      <td>1195</td>\n",
       "      <td>1839</td>\n",
       "      <td>486</td>\n",
       "      <td>1998</td>\n",
       "      <td>2</td>\n",
       "      <td>7</td>\n",
       "      <td>60</td>\n",
       "    </tr>\n",
       "  </tbody>\n",
       "</table>\n",
       "<p>1022 rows × 10 columns</p>\n",
       "</div>"
      ],
      "text/plain": [
       "      OverallQual  LotArea  BsmtFinSF1  TotalBsmtSF  GrLivArea  GarageArea  \\\n",
       "64              7     9375         739         1057       2034         645   \n",
       "682             6     2887        1003         1291       1291         431   \n",
       "960             5     7207         696          858        858           0   \n",
       "1384            6     9060         204          560       1258         280   \n",
       "1100            2     8400         290          290        438         246   \n",
       "...           ...      ...         ...          ...        ...         ...   \n",
       "763             8     9430        1163         1252       2365         856   \n",
       "835             4     9600         442         1067       1067         436   \n",
       "1216            6     8930           0            0       1902         539   \n",
       "559             7     3196           0         1374       1557         420   \n",
       "684             7    16770           0         1195       1839         486   \n",
       "\n",
       "      YearBuilt  GarageCars  TotRmsAbvGrd  MSSubClass  \n",
       "64         1997           2             8          60  \n",
       "682        1996           2             6         120  \n",
       "960        1958           0             4          20  \n",
       "1384       1939           1             6          50  \n",
       "1100       1920           1             3          30  \n",
       "...         ...         ...           ...         ...  \n",
       "763        1999           3             8          60  \n",
       "835        1950           2             4          20  \n",
       "1216       1978           2             8          90  \n",
       "559        2003           2             7         120  \n",
       "684        1998           2             7          60  \n",
       "\n",
       "[1022 rows x 10 columns]"
      ]
     },
     "execution_count": 283,
     "metadata": {},
     "output_type": "execute_result"
    }
   ],
   "source": [
    "train_num_feat"
   ]
  },
  {
   "cell_type": "code",
   "execution_count": 284,
   "metadata": {},
   "outputs": [],
   "source": [
    "def get_basic_model():\n",
    "    model = tf.keras.Sequential([\n",
    "        normalizer,\n",
    "        tf.keras.layers.Dense(100, activation='relu'),\n",
    "        tf.keras.layers.Dropout(.25),\n",
    "        tf.keras.layers.Dense(100, activation='relu'),\n",
    "        tf.keras.layers.Dropout(.25),\n",
    "        tf.keras.layers.Dense(100, activation='relu'),\n",
    "        tf.keras.layers.Dense(1)\n",
    "    ])\n",
    "\n",
    "    model.compile(optimizer='adam',\n",
    "                  loss=tf.keras.losses.MeanSquaredError(),\n",
    "                  metrics=[tf.keras.metrics.RootMeanSquaredError(),tf.keras.metrics.MeanSquaredLogarithmicError()])\n",
    "    return model"
   ]
  },
  {
   "cell_type": "markdown",
   "metadata": {},
   "source": [
    "Fitting the model:"
   ]
  },
  {
   "cell_type": "code",
   "execution_count": 285,
   "metadata": {},
   "outputs": [
    {
     "name": "stdout",
     "output_type": "stream",
     "text": [
      "Epoch 1/10\n",
      "69/69 [==============================] - 2s 13ms/step - loss: 38701105152.0000 - root_mean_squared_error: 196725.9531 - mean_squared_logarithmic_error: 95.0131 - val_loss: 39749824512.0000 - val_root_mean_squared_error: 199373.5781 - val_mean_squared_logarithmic_error: 52.8228\n",
      "Epoch 2/10\n",
      "69/69 [==============================] - 1s 10ms/step - loss: 38298710016.0000 - root_mean_squared_error: 195700.5625 - mean_squared_logarithmic_error: 32.6458 - val_loss: 38477479936.0000 - val_root_mean_squared_error: 196156.7812 - val_mean_squared_logarithmic_error: 17.6672\n",
      "Epoch 3/10\n",
      "69/69 [==============================] - 1s 10ms/step - loss: 34899652608.0000 - root_mean_squared_error: 186814.4844 - mean_squared_logarithmic_error: 10.8887 - val_loss: 31112919040.0000 - val_root_mean_squared_error: 176388.5469 - val_mean_squared_logarithmic_error: 5.5419\n",
      "Epoch 4/10\n",
      "69/69 [==============================] - 1s 13ms/step - loss: 23414233088.0000 - root_mean_squared_error: 153017.0938 - mean_squared_logarithmic_error: 3.1297 - val_loss: 15409073152.0000 - val_root_mean_squared_error: 124133.2891 - val_mean_squared_logarithmic_error: 1.3868\n",
      "Epoch 5/10\n",
      "69/69 [==============================] - 1s 9ms/step - loss: 9370050560.0000 - root_mean_squared_error: 96799.0234 - mean_squared_logarithmic_error: 0.7734 - val_loss: 8500282368.0000 - val_root_mean_squared_error: 92196.9766 - val_mean_squared_logarithmic_error: 0.3881\n",
      "Epoch 6/10\n",
      "69/69 [==============================] - 1s 9ms/step - loss: 5536480768.0000 - root_mean_squared_error: 74407.5312 - mean_squared_logarithmic_error: 0.3053 - val_loss: 7366246912.0000 - val_root_mean_squared_error: 85826.8438 - val_mean_squared_logarithmic_error: 0.2467\n",
      "Epoch 7/10\n",
      "69/69 [==============================] - 1s 10ms/step - loss: 4518712320.0000 - root_mean_squared_error: 67221.3672 - mean_squared_logarithmic_error: 0.2323 - val_loss: 6509425152.0000 - val_root_mean_squared_error: 80681.0078 - val_mean_squared_logarithmic_error: 0.1879\n",
      "Epoch 8/10\n",
      "69/69 [==============================] - 1s 9ms/step - loss: 3991589120.0000 - root_mean_squared_error: 63179.0234 - mean_squared_logarithmic_error: 0.1863 - val_loss: 5664481280.0000 - val_root_mean_squared_error: 75262.7500 - val_mean_squared_logarithmic_error: 0.1537\n",
      "Epoch 9/10\n",
      "69/69 [==============================] - 1s 9ms/step - loss: 3417082880.0000 - root_mean_squared_error: 58455.8203 - mean_squared_logarithmic_error: 0.1587 - val_loss: 5211761664.0000 - val_root_mean_squared_error: 72192.5312 - val_mean_squared_logarithmic_error: 0.1267\n",
      "Epoch 10/10\n",
      "69/69 [==============================] - 1s 10ms/step - loss: 2954747136.0000 - root_mean_squared_error: 54357.5859 - mean_squared_logarithmic_error: 0.1337 - val_loss: 4720840704.0000 - val_root_mean_squared_error: 68708.3750 - val_mean_squared_logarithmic_error: 0.1109\n"
     ]
    }
   ],
   "source": [
    "model= get_basic_model()\n",
    "history=model.fit(train_num_feat, y_train, epochs=10, batch_size=15,validation_data=(test_num_feat,y_test))\n"
   ]
  },
  {
   "cell_type": "markdown",
   "metadata": {},
   "source": [
    "### Excercise 2: preprocess by using keras functional API"
   ]
  },
  {
   "cell_type": "markdown",
   "metadata": {},
   "source": [
    "1) Build the preprocessing model, passing data as dict\n",
    "\n",
    "2) numerical features should be normalized\n",
    "\n",
    "3) categorical features should be one hot encoded"
   ]
  },
  {
   "cell_type": "code",
   "execution_count": 286,
   "metadata": {},
   "outputs": [
    {
     "name": "stdout",
     "output_type": "stream",
     "text": [
      "['SaleCondition', 'ExterQual', 'Neighborhood', 'KitchenQual', 'SaleType', 'PoolQC', 'MSZoning'] ['OverallQual', 'LotArea', 'BsmtFinSF1', 'TotalBsmtSF', 'GrLivArea', 'GarageArea', 'YearBuilt', 'GarageCars', 'TotRmsAbvGrd', 'MSSubClass']\n"
     ]
    }
   ],
   "source": [
    "print(int_cat_f,int_num_f)"
   ]
  },
  {
   "cell_type": "code",
   "execution_count": 287,
   "metadata": {},
   "outputs": [
    {
     "data": {
      "text/plain": [
       "{'OverallQual': <KerasTensor: shape=(None, 1) dtype=float32 (created by layer 'OverallQual')>,\n",
       " 'LotArea': <KerasTensor: shape=(None, 1) dtype=float32 (created by layer 'LotArea')>,\n",
       " 'BsmtFinSF1': <KerasTensor: shape=(None, 1) dtype=float32 (created by layer 'BsmtFinSF1')>,\n",
       " 'TotalBsmtSF': <KerasTensor: shape=(None, 1) dtype=float32 (created by layer 'TotalBsmtSF')>,\n",
       " 'GrLivArea': <KerasTensor: shape=(None, 1) dtype=float32 (created by layer 'GrLivArea')>,\n",
       " 'GarageArea': <KerasTensor: shape=(None, 1) dtype=float32 (created by layer 'GarageArea')>,\n",
       " 'YearBuilt': <KerasTensor: shape=(None, 1) dtype=float32 (created by layer 'YearBuilt')>,\n",
       " 'GarageCars': <KerasTensor: shape=(None, 1) dtype=float32 (created by layer 'GarageCars')>,\n",
       " 'TotRmsAbvGrd': <KerasTensor: shape=(None, 1) dtype=float32 (created by layer 'TotRmsAbvGrd')>,\n",
       " 'MSSubClass': <KerasTensor: shape=(None, 1) dtype=float32 (created by layer 'MSSubClass')>,\n",
       " 'SaleCondition': <KerasTensor: shape=(None, 1) dtype=string (created by layer 'SaleCondition')>,\n",
       " 'ExterQual': <KerasTensor: shape=(None, 1) dtype=string (created by layer 'ExterQual')>,\n",
       " 'Neighborhood': <KerasTensor: shape=(None, 1) dtype=string (created by layer 'Neighborhood')>,\n",
       " 'KitchenQual': <KerasTensor: shape=(None, 1) dtype=string (created by layer 'KitchenQual')>,\n",
       " 'SaleType': <KerasTensor: shape=(None, 1) dtype=string (created by layer 'SaleType')>,\n",
       " 'PoolQC': <KerasTensor: shape=(None, 1) dtype=string (created by layer 'PoolQC')>,\n",
       " 'MSZoning': <KerasTensor: shape=(None, 1) dtype=string (created by layer 'MSZoning')>}"
      ]
     },
     "execution_count": 287,
     "metadata": {},
     "output_type": "execute_result"
    }
   ],
   "source": [
    "inputs = {}\n",
    "for name in int_num_f+int_cat_f:\n",
    "    if name in int_num_f:\n",
    "        dtype = tf.float32\n",
    "    if (name in int_cat_f):\n",
    "        dtype = tf.string\n",
    "    inputs[name] = tf.keras.Input(shape=(1,), name=name, dtype=dtype)\n",
    "inputs"
   ]
  },
  {
   "cell_type": "markdown",
   "metadata": {},
   "source": [
    "#### Numeric inputs:"
   ]
  },
  {
   "cell_type": "markdown",
   "metadata": {},
   "source": [
    "Concatenate the numeric input layers:"
   ]
  },
  {
   "cell_type": "code",
   "execution_count": 288,
   "metadata": {},
   "outputs": [
    {
     "data": {
      "text/plain": [
       "<KerasTensor: shape=(None, 10) dtype=float32 (created by layer 'normalization_16')>"
      ]
     },
     "execution_count": 288,
     "metadata": {},
     "output_type": "execute_result"
    }
   ],
   "source": [
    "numeric_inputs = {name:input for name,input in inputs.items()\n",
    "                  if input.dtype==tf.float32}\n",
    "\n",
    "x = layers.Concatenate()(list(numeric_inputs.values()))\n",
    "norm = layers.Normalization()\n",
    "norm.adapt(np.array(train[numeric_inputs.keys()]))\n",
    "all_numeric_inputs = norm(x)\n",
    "\n",
    "all_numeric_inputs"
   ]
  },
  {
   "cell_type": "code",
   "execution_count": 289,
   "metadata": {},
   "outputs": [],
   "source": [
    "preprocessed_inputs = [all_numeric_inputs]"
   ]
  },
  {
   "cell_type": "markdown",
   "metadata": {},
   "source": [
    "#### Categorical inputs"
   ]
  },
  {
   "cell_type": "code",
   "execution_count": 290,
   "metadata": {},
   "outputs": [],
   "source": [
    "for name, input in inputs.items():\n",
    "    if input.dtype == tf.float32:\n",
    "        continue\n",
    "  \n",
    "    lookup = layers.StringLookup(vocabulary=np.unique(train[name]))\n",
    "    one_hot = layers.CategoryEncoding(num_tokens=lookup.vocabulary_size())\n",
    "\n",
    "    x = lookup(input)\n",
    "    x = one_hot(x)\n",
    "    preprocessed_inputs.append(x)"
   ]
  },
  {
   "cell_type": "code",
   "execution_count": 291,
   "metadata": {},
   "outputs": [
    {
     "data": {
      "text/plain": [
       "[<KerasTensor: shape=(None, 10) dtype=float32 (created by layer 'normalization_16')>,\n",
       " <KerasTensor: shape=(None, 7) dtype=float32 (created by layer 'category_encoding_66')>,\n",
       " <KerasTensor: shape=(None, 5) dtype=float32 (created by layer 'category_encoding_67')>,\n",
       " <KerasTensor: shape=(None, 26) dtype=float32 (created by layer 'category_encoding_68')>,\n",
       " <KerasTensor: shape=(None, 5) dtype=float32 (created by layer 'category_encoding_69')>,\n",
       " <KerasTensor: shape=(None, 10) dtype=float32 (created by layer 'category_encoding_70')>,\n",
       " <KerasTensor: shape=(None, 5) dtype=float32 (created by layer 'category_encoding_71')>,\n",
       " <KerasTensor: shape=(None, 6) dtype=float32 (created by layer 'category_encoding_72')>]"
      ]
     },
     "execution_count": 291,
     "metadata": {},
     "output_type": "execute_result"
    }
   ],
   "source": [
    "preprocessed_inputs"
   ]
  },
  {
   "cell_type": "markdown",
   "metadata": {},
   "source": [
    "#### Create the preprocessing layer"
   ]
  },
  {
   "cell_type": "code",
   "execution_count": 292,
   "metadata": {},
   "outputs": [],
   "source": [
    "preprocessed_inputs_cat = layers.Concatenate()(preprocessed_inputs)\n",
    "\n",
    "house_prices_preprocessing = tf.keras.Model(inputs, preprocessed_inputs_cat)\n",
    "\n",
    "#tf.keras.utils.plot_model(model = house_prices_preprocessing , rankdir=\"LR\", dpi=72, show_shapes=True)"
   ]
  },
  {
   "cell_type": "markdown",
   "metadata": {},
   "source": [
    "#### Create the model"
   ]
  },
  {
   "cell_type": "code",
   "execution_count": 306,
   "metadata": {},
   "outputs": [],
   "source": [
    "def create_model(preprocessing_head, inputs:dict):\n",
    "    preprocessed_inputs = preprocessing_head(inputs)\n",
    "    x=tf.keras.layers.Dense(100,activation='relu')(preprocessed_inputs)\n",
    "    x=tf.keras.layers.Dropout(0.25)(x)\n",
    "    x=tf.keras.layers.Dense(150,activation='relu')(x)\n",
    "    x=tf.keras.layers.Dropout(0.25)(x)\n",
    "    x=tf.keras.layers.Dense(100,activation='relu')(x)\n",
    "    result = tf.keras.layers.Dense(1)(x)\n",
    "    model = tf.keras.Model(inputs, result)\n",
    "    model.compile(optimizer='adam',\n",
    "                loss=tf.keras.losses.MeanSquaredLogarithmicError(),\n",
    "                metrics=[tf.keras.metrics.RootMeanSquaredError(),tf.keras.metrics.MeanSquaredLogarithmicError()])\n",
    "    return model\n",
    "\n",
    "house_price_model = create_model(house_prices_preprocessing, inputs)"
   ]
  },
  {
   "cell_type": "code",
   "execution_count": 307,
   "metadata": {},
   "outputs": [
    {
     "name": "stdout",
     "output_type": "stream",
     "text": [
      "Model: \"model_13\"\n",
      "__________________________________________________________________________________________________\n",
      " Layer (type)                   Output Shape         Param #     Connected to                     \n",
      "==================================================================================================\n",
      " BsmtFinSF1 (InputLayer)        [(None, 1)]          0           []                               \n",
      "                                                                                                  \n",
      " ExterQual (InputLayer)         [(None, 1)]          0           []                               \n",
      "                                                                                                  \n",
      " GarageArea (InputLayer)        [(None, 1)]          0           []                               \n",
      "                                                                                                  \n",
      " GarageCars (InputLayer)        [(None, 1)]          0           []                               \n",
      "                                                                                                  \n",
      " GrLivArea (InputLayer)         [(None, 1)]          0           []                               \n",
      "                                                                                                  \n",
      " KitchenQual (InputLayer)       [(None, 1)]          0           []                               \n",
      "                                                                                                  \n",
      " LotArea (InputLayer)           [(None, 1)]          0           []                               \n",
      "                                                                                                  \n",
      " MSSubClass (InputLayer)        [(None, 1)]          0           []                               \n",
      "                                                                                                  \n",
      " MSZoning (InputLayer)          [(None, 1)]          0           []                               \n",
      "                                                                                                  \n",
      " Neighborhood (InputLayer)      [(None, 1)]          0           []                               \n",
      "                                                                                                  \n",
      " OverallQual (InputLayer)       [(None, 1)]          0           []                               \n",
      "                                                                                                  \n",
      " PoolQC (InputLayer)            [(None, 1)]          0           []                               \n",
      "                                                                                                  \n",
      " SaleCondition (InputLayer)     [(None, 1)]          0           []                               \n",
      "                                                                                                  \n",
      " SaleType (InputLayer)          [(None, 1)]          0           []                               \n",
      "                                                                                                  \n",
      " TotRmsAbvGrd (InputLayer)      [(None, 1)]          0           []                               \n",
      "                                                                                                  \n",
      " TotalBsmtSF (InputLayer)       [(None, 1)]          0           []                               \n",
      "                                                                                                  \n",
      " YearBuilt (InputLayer)         [(None, 1)]          0           []                               \n",
      "                                                                                                  \n",
      " model_11 (Functional)          (None, 74)           21          ['BsmtFinSF1[0][0]',             \n",
      "                                                                  'ExterQual[0][0]',              \n",
      "                                                                  'GarageArea[0][0]',             \n",
      "                                                                  'GarageCars[0][0]',             \n",
      "                                                                  'GrLivArea[0][0]',              \n",
      "                                                                  'KitchenQual[0][0]',            \n",
      "                                                                  'LotArea[0][0]',                \n",
      "                                                                  'MSSubClass[0][0]',             \n",
      "                                                                  'MSZoning[0][0]',               \n",
      "                                                                  'Neighborhood[0][0]',           \n",
      "                                                                  'OverallQual[0][0]',            \n",
      "                                                                  'PoolQC[0][0]',                 \n",
      "                                                                  'SaleCondition[0][0]',          \n",
      "                                                                  'SaleType[0][0]',               \n",
      "                                                                  'TotRmsAbvGrd[0][0]',           \n",
      "                                                                  'TotalBsmtSF[0][0]',            \n",
      "                                                                  'YearBuilt[0][0]']              \n",
      "                                                                                                  \n",
      " dense_88 (Dense)               (None, 100)          7500        ['model_11[1][0]']               \n",
      "                                                                                                  \n",
      " dropout_42 (Dropout)           (None, 100)          0           ['dense_88[0][0]']               \n",
      "                                                                                                  \n",
      " dense_89 (Dense)               (None, 150)          15150       ['dropout_42[0][0]']             \n",
      "                                                                                                  \n",
      " dropout_43 (Dropout)           (None, 150)          0           ['dense_89[0][0]']               \n",
      "                                                                                                  \n",
      " dense_90 (Dense)               (None, 100)          15100       ['dropout_43[0][0]']             \n",
      "                                                                                                  \n",
      " dense_91 (Dense)               (None, 1)            101         ['dense_90[0][0]']               \n",
      "                                                                                                  \n",
      "==================================================================================================\n",
      "Total params: 37,872\n",
      "Trainable params: 37,851\n",
      "Non-trainable params: 21\n",
      "__________________________________________________________________________________________________\n",
      "None\n"
     ]
    }
   ],
   "source": [
    "print(house_price_model.summary())"
   ]
  },
  {
   "cell_type": "code",
   "execution_count": 308,
   "metadata": {},
   "outputs": [],
   "source": [
    "#function to create train and validation dictionaries\n",
    "def train_val(df,):\n",
    "    return 0"
   ]
  },
  {
   "cell_type": "code",
   "execution_count": 319,
   "metadata": {},
   "outputs": [],
   "source": [
    "train_df=train_test_split(train,test_size=0.3)"
   ]
  },
  {
   "cell_type": "code",
   "execution_count": 320,
   "metadata": {},
   "outputs": [],
   "source": [
    "train_features_dict={name:np.array(train[name]) for name in (int_num_f+int_cat_f)}\n"
   ]
  },
  {
   "cell_type": "code",
   "execution_count": 323,
   "metadata": {},
   "outputs": [
    {
     "name": "stdout",
     "output_type": "stream",
     "text": [
      "Epoch 1/100\n",
      "78/78 [==============================] - 2s 21ms/step - loss: 0.0341 - root_mean_squared_error: 38945.4766 - mean_squared_logarithmic_error: 0.0341 - val_loss: 0.0269 - val_root_mean_squared_error: 46243.2227 - val_mean_squared_logarithmic_error: 0.0269\n",
      "Epoch 2/100\n",
      "78/78 [==============================] - 2s 20ms/step - loss: 0.0320 - root_mean_squared_error: 37755.6055 - mean_squared_logarithmic_error: 0.0320 - val_loss: 0.0268 - val_root_mean_squared_error: 46232.8242 - val_mean_squared_logarithmic_error: 0.0268\n",
      "Epoch 3/100\n",
      "78/78 [==============================] - 2s 20ms/step - loss: 0.0335 - root_mean_squared_error: 39117.6445 - mean_squared_logarithmic_error: 0.0335 - val_loss: 0.0269 - val_root_mean_squared_error: 46327.6484 - val_mean_squared_logarithmic_error: 0.0269\n",
      "Epoch 4/100\n",
      "31/78 [==========>...................] - ETA: 0s - loss: 0.0297 - root_mean_squared_error: 36260.4961 - mean_squared_logarithmic_error: 0.0297"
     ]
    },
    {
     "ename": "KeyboardInterrupt",
     "evalue": "",
     "output_type": "error",
     "traceback": [
      "\u001b[1;31m---------------------------------------------------------------------------\u001b[0m",
      "\u001b[1;31mKeyboardInterrupt\u001b[0m                         Traceback (most recent call last)",
      "\u001b[1;32md:\\Users\\Alessandro\\Documents\\Machine Learning\\house-prices\\house-prices-tf.ipynb Cella 36\u001b[0m in \u001b[0;36m<cell line: 1>\u001b[1;34m()\u001b[0m\n\u001b[1;32m----> <a href='vscode-notebook-cell:/d%3A/Users/Alessandro/Documents/Machine%20Learning/house-prices/house-prices-tf.ipynb#Y115sZmlsZQ%3D%3D?line=0'>1</a>\u001b[0m history2\u001b[39m=\u001b[39mhouse_price_model\u001b[39m.\u001b[39;49mfit(x\u001b[39m=\u001b[39;49mtrain_features_dict, y\u001b[39m=\u001b[39;49mtrain[label], epochs\u001b[39m=\u001b[39;49m\u001b[39m100\u001b[39;49m,batch_size\u001b[39m=\u001b[39;49m\u001b[39m15\u001b[39;49m,validation_split\u001b[39m=\u001b[39;49m\u001b[39m0.2\u001b[39;49m)\n",
      "File \u001b[1;32mc:\\Users\\Alessandro\\anaconda3\\envs\\tfgpu\\lib\\site-packages\\keras\\utils\\traceback_utils.py:65\u001b[0m, in \u001b[0;36mfilter_traceback.<locals>.error_handler\u001b[1;34m(*args, **kwargs)\u001b[0m\n\u001b[0;32m     63\u001b[0m filtered_tb \u001b[39m=\u001b[39m \u001b[39mNone\u001b[39;00m\n\u001b[0;32m     64\u001b[0m \u001b[39mtry\u001b[39;00m:\n\u001b[1;32m---> 65\u001b[0m     \u001b[39mreturn\u001b[39;00m fn(\u001b[39m*\u001b[39margs, \u001b[39m*\u001b[39m\u001b[39m*\u001b[39mkwargs)\n\u001b[0;32m     66\u001b[0m \u001b[39mexcept\u001b[39;00m \u001b[39mException\u001b[39;00m \u001b[39mas\u001b[39;00m e:\n\u001b[0;32m     67\u001b[0m     filtered_tb \u001b[39m=\u001b[39m _process_traceback_frames(e\u001b[39m.\u001b[39m__traceback__)\n",
      "File \u001b[1;32mc:\\Users\\Alessandro\\anaconda3\\envs\\tfgpu\\lib\\site-packages\\keras\\engine\\training.py:1570\u001b[0m, in \u001b[0;36mModel.fit\u001b[1;34m(self, x, y, batch_size, epochs, verbose, callbacks, validation_split, validation_data, shuffle, class_weight, sample_weight, initial_epoch, steps_per_epoch, validation_steps, validation_batch_size, validation_freq, max_queue_size, workers, use_multiprocessing)\u001b[0m\n\u001b[0;32m   1568\u001b[0m logs \u001b[39m=\u001b[39m tmp_logs\n\u001b[0;32m   1569\u001b[0m end_step \u001b[39m=\u001b[39m step \u001b[39m+\u001b[39m data_handler\u001b[39m.\u001b[39mstep_increment\n\u001b[1;32m-> 1570\u001b[0m callbacks\u001b[39m.\u001b[39;49mon_train_batch_end(end_step, logs)\n\u001b[0;32m   1571\u001b[0m \u001b[39mif\u001b[39;00m \u001b[39mself\u001b[39m\u001b[39m.\u001b[39mstop_training:\n\u001b[0;32m   1572\u001b[0m     \u001b[39mbreak\u001b[39;00m\n",
      "File \u001b[1;32mc:\\Users\\Alessandro\\anaconda3\\envs\\tfgpu\\lib\\site-packages\\keras\\callbacks.py:470\u001b[0m, in \u001b[0;36mCallbackList.on_train_batch_end\u001b[1;34m(self, batch, logs)\u001b[0m\n\u001b[0;32m    463\u001b[0m \u001b[39m\"\"\"Calls the `on_train_batch_end` methods of its callbacks.\u001b[39;00m\n\u001b[0;32m    464\u001b[0m \n\u001b[0;32m    465\u001b[0m \u001b[39mArgs:\u001b[39;00m\n\u001b[0;32m    466\u001b[0m \u001b[39m    batch: Integer, index of batch within the current epoch.\u001b[39;00m\n\u001b[0;32m    467\u001b[0m \u001b[39m    logs: Dict. Aggregated metric results up until this batch.\u001b[39;00m\n\u001b[0;32m    468\u001b[0m \u001b[39m\"\"\"\u001b[39;00m\n\u001b[0;32m    469\u001b[0m \u001b[39mif\u001b[39;00m \u001b[39mself\u001b[39m\u001b[39m.\u001b[39m_should_call_train_batch_hooks:\n\u001b[1;32m--> 470\u001b[0m     \u001b[39mself\u001b[39;49m\u001b[39m.\u001b[39;49m_call_batch_hook(ModeKeys\u001b[39m.\u001b[39;49mTRAIN, \u001b[39m\"\u001b[39;49m\u001b[39mend\u001b[39;49m\u001b[39m\"\u001b[39;49m, batch, logs\u001b[39m=\u001b[39;49mlogs)\n",
      "File \u001b[1;32mc:\\Users\\Alessandro\\anaconda3\\envs\\tfgpu\\lib\\site-packages\\keras\\callbacks.py:317\u001b[0m, in \u001b[0;36mCallbackList._call_batch_hook\u001b[1;34m(self, mode, hook, batch, logs)\u001b[0m\n\u001b[0;32m    315\u001b[0m     \u001b[39mself\u001b[39m\u001b[39m.\u001b[39m_call_batch_begin_hook(mode, batch, logs)\n\u001b[0;32m    316\u001b[0m \u001b[39melif\u001b[39;00m hook \u001b[39m==\u001b[39m \u001b[39m\"\u001b[39m\u001b[39mend\u001b[39m\u001b[39m\"\u001b[39m:\n\u001b[1;32m--> 317\u001b[0m     \u001b[39mself\u001b[39;49m\u001b[39m.\u001b[39;49m_call_batch_end_hook(mode, batch, logs)\n\u001b[0;32m    318\u001b[0m \u001b[39melse\u001b[39;00m:\n\u001b[0;32m    319\u001b[0m     \u001b[39mraise\u001b[39;00m \u001b[39mValueError\u001b[39;00m(\n\u001b[0;32m    320\u001b[0m         \u001b[39mf\u001b[39m\u001b[39m\"\u001b[39m\u001b[39mUnrecognized hook: \u001b[39m\u001b[39m{\u001b[39;00mhook\u001b[39m}\u001b[39;00m\u001b[39m. \u001b[39m\u001b[39m\"\u001b[39m\n\u001b[0;32m    321\u001b[0m         \u001b[39m'\u001b[39m\u001b[39mExpected values are [\u001b[39m\u001b[39m\"\u001b[39m\u001b[39mbegin\u001b[39m\u001b[39m\"\u001b[39m\u001b[39m, \u001b[39m\u001b[39m\"\u001b[39m\u001b[39mend\u001b[39m\u001b[39m\"\u001b[39m\u001b[39m]\u001b[39m\u001b[39m'\u001b[39m\n\u001b[0;32m    322\u001b[0m     )\n",
      "File \u001b[1;32mc:\\Users\\Alessandro\\anaconda3\\envs\\tfgpu\\lib\\site-packages\\keras\\callbacks.py:340\u001b[0m, in \u001b[0;36mCallbackList._call_batch_end_hook\u001b[1;34m(self, mode, batch, logs)\u001b[0m\n\u001b[0;32m    337\u001b[0m     batch_time \u001b[39m=\u001b[39m time\u001b[39m.\u001b[39mtime() \u001b[39m-\u001b[39m \u001b[39mself\u001b[39m\u001b[39m.\u001b[39m_batch_start_time\n\u001b[0;32m    338\u001b[0m     \u001b[39mself\u001b[39m\u001b[39m.\u001b[39m_batch_times\u001b[39m.\u001b[39mappend(batch_time)\n\u001b[1;32m--> 340\u001b[0m \u001b[39mself\u001b[39;49m\u001b[39m.\u001b[39;49m_call_batch_hook_helper(hook_name, batch, logs)\n\u001b[0;32m    342\u001b[0m \u001b[39mif\u001b[39;00m \u001b[39mlen\u001b[39m(\u001b[39mself\u001b[39m\u001b[39m.\u001b[39m_batch_times) \u001b[39m>\u001b[39m\u001b[39m=\u001b[39m \u001b[39mself\u001b[39m\u001b[39m.\u001b[39m_num_batches_for_timing_check:\n\u001b[0;32m    343\u001b[0m     end_hook_name \u001b[39m=\u001b[39m hook_name\n",
      "File \u001b[1;32mc:\\Users\\Alessandro\\anaconda3\\envs\\tfgpu\\lib\\site-packages\\keras\\callbacks.py:388\u001b[0m, in \u001b[0;36mCallbackList._call_batch_hook_helper\u001b[1;34m(self, hook_name, batch, logs)\u001b[0m\n\u001b[0;32m    386\u001b[0m \u001b[39mfor\u001b[39;00m callback \u001b[39min\u001b[39;00m \u001b[39mself\u001b[39m\u001b[39m.\u001b[39mcallbacks:\n\u001b[0;32m    387\u001b[0m     hook \u001b[39m=\u001b[39m \u001b[39mgetattr\u001b[39m(callback, hook_name)\n\u001b[1;32m--> 388\u001b[0m     hook(batch, logs)\n\u001b[0;32m    390\u001b[0m \u001b[39mif\u001b[39;00m \u001b[39mself\u001b[39m\u001b[39m.\u001b[39m_check_timing:\n\u001b[0;32m    391\u001b[0m     \u001b[39mif\u001b[39;00m hook_name \u001b[39mnot\u001b[39;00m \u001b[39min\u001b[39;00m \u001b[39mself\u001b[39m\u001b[39m.\u001b[39m_hook_times:\n",
      "File \u001b[1;32mc:\\Users\\Alessandro\\anaconda3\\envs\\tfgpu\\lib\\site-packages\\keras\\callbacks.py:1081\u001b[0m, in \u001b[0;36mProgbarLogger.on_train_batch_end\u001b[1;34m(self, batch, logs)\u001b[0m\n\u001b[0;32m   1080\u001b[0m \u001b[39mdef\u001b[39;00m \u001b[39mon_train_batch_end\u001b[39m(\u001b[39mself\u001b[39m, batch, logs\u001b[39m=\u001b[39m\u001b[39mNone\u001b[39;00m):\n\u001b[1;32m-> 1081\u001b[0m     \u001b[39mself\u001b[39;49m\u001b[39m.\u001b[39;49m_batch_update_progbar(batch, logs)\n",
      "File \u001b[1;32mc:\\Users\\Alessandro\\anaconda3\\envs\\tfgpu\\lib\\site-packages\\keras\\callbacks.py:1157\u001b[0m, in \u001b[0;36mProgbarLogger._batch_update_progbar\u001b[1;34m(self, batch, logs)\u001b[0m\n\u001b[0;32m   1153\u001b[0m     \u001b[39mself\u001b[39m\u001b[39m.\u001b[39mseen \u001b[39m+\u001b[39m\u001b[39m=\u001b[39m add_seen\n\u001b[0;32m   1155\u001b[0m \u001b[39mif\u001b[39;00m \u001b[39mself\u001b[39m\u001b[39m.\u001b[39mverbose \u001b[39m==\u001b[39m \u001b[39m1\u001b[39m:\n\u001b[0;32m   1156\u001b[0m     \u001b[39m# Only block async when verbose = 1.\u001b[39;00m\n\u001b[1;32m-> 1157\u001b[0m     logs \u001b[39m=\u001b[39m tf_utils\u001b[39m.\u001b[39;49msync_to_numpy_or_python_type(logs)\n\u001b[0;32m   1158\u001b[0m     \u001b[39mself\u001b[39m\u001b[39m.\u001b[39mprogbar\u001b[39m.\u001b[39mupdate(\u001b[39mself\u001b[39m\u001b[39m.\u001b[39mseen, \u001b[39mlist\u001b[39m(logs\u001b[39m.\u001b[39mitems()), finalize\u001b[39m=\u001b[39m\u001b[39mFalse\u001b[39;00m)\n",
      "File \u001b[1;32mc:\\Users\\Alessandro\\anaconda3\\envs\\tfgpu\\lib\\site-packages\\keras\\utils\\tf_utils.py:635\u001b[0m, in \u001b[0;36msync_to_numpy_or_python_type\u001b[1;34m(tensors)\u001b[0m\n\u001b[0;32m    632\u001b[0m         \u001b[39mreturn\u001b[39;00m t\n\u001b[0;32m    633\u001b[0m     \u001b[39mreturn\u001b[39;00m t\u001b[39m.\u001b[39mitem() \u001b[39mif\u001b[39;00m np\u001b[39m.\u001b[39mndim(t) \u001b[39m==\u001b[39m \u001b[39m0\u001b[39m \u001b[39melse\u001b[39;00m t\n\u001b[1;32m--> 635\u001b[0m \u001b[39mreturn\u001b[39;00m tf\u001b[39m.\u001b[39;49mnest\u001b[39m.\u001b[39;49mmap_structure(_to_single_numpy_or_python_type, tensors)\n",
      "File \u001b[1;32mc:\\Users\\Alessandro\\anaconda3\\envs\\tfgpu\\lib\\site-packages\\tensorflow\\python\\util\\nest.py:917\u001b[0m, in \u001b[0;36mmap_structure\u001b[1;34m(func, *structure, **kwargs)\u001b[0m\n\u001b[0;32m    913\u001b[0m flat_structure \u001b[39m=\u001b[39m (flatten(s, expand_composites) \u001b[39mfor\u001b[39;00m s \u001b[39min\u001b[39;00m structure)\n\u001b[0;32m    914\u001b[0m entries \u001b[39m=\u001b[39m \u001b[39mzip\u001b[39m(\u001b[39m*\u001b[39mflat_structure)\n\u001b[0;32m    916\u001b[0m \u001b[39mreturn\u001b[39;00m pack_sequence_as(\n\u001b[1;32m--> 917\u001b[0m     structure[\u001b[39m0\u001b[39m], [func(\u001b[39m*\u001b[39mx) \u001b[39mfor\u001b[39;00m x \u001b[39min\u001b[39;00m entries],\n\u001b[0;32m    918\u001b[0m     expand_composites\u001b[39m=\u001b[39mexpand_composites)\n",
      "File \u001b[1;32mc:\\Users\\Alessandro\\anaconda3\\envs\\tfgpu\\lib\\site-packages\\tensorflow\\python\\util\\nest.py:917\u001b[0m, in \u001b[0;36m<listcomp>\u001b[1;34m(.0)\u001b[0m\n\u001b[0;32m    913\u001b[0m flat_structure \u001b[39m=\u001b[39m (flatten(s, expand_composites) \u001b[39mfor\u001b[39;00m s \u001b[39min\u001b[39;00m structure)\n\u001b[0;32m    914\u001b[0m entries \u001b[39m=\u001b[39m \u001b[39mzip\u001b[39m(\u001b[39m*\u001b[39mflat_structure)\n\u001b[0;32m    916\u001b[0m \u001b[39mreturn\u001b[39;00m pack_sequence_as(\n\u001b[1;32m--> 917\u001b[0m     structure[\u001b[39m0\u001b[39m], [func(\u001b[39m*\u001b[39;49mx) \u001b[39mfor\u001b[39;00m x \u001b[39min\u001b[39;00m entries],\n\u001b[0;32m    918\u001b[0m     expand_composites\u001b[39m=\u001b[39mexpand_composites)\n",
      "File \u001b[1;32mc:\\Users\\Alessandro\\anaconda3\\envs\\tfgpu\\lib\\site-packages\\keras\\utils\\tf_utils.py:628\u001b[0m, in \u001b[0;36msync_to_numpy_or_python_type.<locals>._to_single_numpy_or_python_type\u001b[1;34m(t)\u001b[0m\n\u001b[0;32m    625\u001b[0m \u001b[39mdef\u001b[39;00m \u001b[39m_to_single_numpy_or_python_type\u001b[39m(t):\n\u001b[0;32m    626\u001b[0m     \u001b[39m# Don't turn ragged or sparse tensors to NumPy.\u001b[39;00m\n\u001b[0;32m    627\u001b[0m     \u001b[39mif\u001b[39;00m \u001b[39misinstance\u001b[39m(t, tf\u001b[39m.\u001b[39mTensor):\n\u001b[1;32m--> 628\u001b[0m         t \u001b[39m=\u001b[39m t\u001b[39m.\u001b[39;49mnumpy()\n\u001b[0;32m    629\u001b[0m     \u001b[39m# Strings, ragged and sparse tensors don't have .item(). Return them\u001b[39;00m\n\u001b[0;32m    630\u001b[0m     \u001b[39m# as-is.\u001b[39;00m\n\u001b[0;32m    631\u001b[0m     \u001b[39mif\u001b[39;00m \u001b[39mnot\u001b[39;00m \u001b[39misinstance\u001b[39m(t, (np\u001b[39m.\u001b[39mndarray, np\u001b[39m.\u001b[39mgeneric)):\n",
      "File \u001b[1;32mc:\\Users\\Alessandro\\anaconda3\\envs\\tfgpu\\lib\\site-packages\\tensorflow\\python\\framework\\ops.py:1157\u001b[0m, in \u001b[0;36m_EagerTensorBase.numpy\u001b[1;34m(self)\u001b[0m\n\u001b[0;32m   1134\u001b[0m \u001b[39m\"\"\"Copy of the contents of this Tensor into a NumPy array or scalar.\u001b[39;00m\n\u001b[0;32m   1135\u001b[0m \n\u001b[0;32m   1136\u001b[0m \u001b[39mUnlike NumPy arrays, Tensors are immutable, so this method has to copy\u001b[39;00m\n\u001b[1;32m   (...)\u001b[0m\n\u001b[0;32m   1154\u001b[0m \u001b[39m    NumPy dtype.\u001b[39;00m\n\u001b[0;32m   1155\u001b[0m \u001b[39m\"\"\"\u001b[39;00m\n\u001b[0;32m   1156\u001b[0m \u001b[39m# TODO(slebedev): Consider avoiding a copy for non-CPU or remote tensors.\u001b[39;00m\n\u001b[1;32m-> 1157\u001b[0m maybe_arr \u001b[39m=\u001b[39m \u001b[39mself\u001b[39;49m\u001b[39m.\u001b[39;49m_numpy()  \u001b[39m# pylint: disable=protected-access\u001b[39;00m\n\u001b[0;32m   1158\u001b[0m \u001b[39mreturn\u001b[39;00m maybe_arr\u001b[39m.\u001b[39mcopy() \u001b[39mif\u001b[39;00m \u001b[39misinstance\u001b[39m(maybe_arr, np\u001b[39m.\u001b[39mndarray) \u001b[39melse\u001b[39;00m maybe_arr\n",
      "File \u001b[1;32mc:\\Users\\Alessandro\\anaconda3\\envs\\tfgpu\\lib\\site-packages\\tensorflow\\python\\framework\\ops.py:1123\u001b[0m, in \u001b[0;36m_EagerTensorBase._numpy\u001b[1;34m(self)\u001b[0m\n\u001b[0;32m   1121\u001b[0m \u001b[39mdef\u001b[39;00m \u001b[39m_numpy\u001b[39m(\u001b[39mself\u001b[39m):\n\u001b[0;32m   1122\u001b[0m   \u001b[39mtry\u001b[39;00m:\n\u001b[1;32m-> 1123\u001b[0m     \u001b[39mreturn\u001b[39;00m \u001b[39mself\u001b[39;49m\u001b[39m.\u001b[39;49m_numpy_internal()\n\u001b[0;32m   1124\u001b[0m   \u001b[39mexcept\u001b[39;00m core\u001b[39m.\u001b[39m_NotOkStatusException \u001b[39mas\u001b[39;00m e:  \u001b[39m# pylint: disable=protected-access\u001b[39;00m\n\u001b[0;32m   1125\u001b[0m     \u001b[39mraise\u001b[39;00m core\u001b[39m.\u001b[39m_status_to_exception(e) \u001b[39mfrom\u001b[39;00m \u001b[39mNone\u001b[39m\n",
      "\u001b[1;31mKeyboardInterrupt\u001b[0m: "
     ]
    }
   ],
   "source": [
    "history2=house_price_model.fit(x=train_features_dict, y=train[label], epochs=100,batch_size=15,validation_split=0.2)"
   ]
  },
  {
   "cell_type": "markdown",
   "metadata": {},
   "source": [
    "### Make predictions and score"
   ]
  },
  {
   "cell_type": "code",
   "execution_count": 312,
   "metadata": {},
   "outputs": [],
   "source": [
    "def score_and_visualize(model,x_test,y_test):\n",
    "    predictions=model.predict(x_test).flatten()\n",
    "    print(predictions.shape)\n",
    "    plt.figure(figsize=(10,10))\n",
    "    plt.scatter(y_test,predictions)\n",
    "    plt.xlabel('True')\n",
    "    plt.ylabel('Predicted')\n",
    "    msle=mean_squared_log_error(y_true=y_test, y_pred=predictions)#msle is the metric evaluated in the kaggle challange\n",
    "    r2=r2_score(y_true=y_test, y_pred=predictions)\n",
    "    print('r2 coefficient: ',r2,'\\nmsle = ', msle)\n",
    "    z = np.polyfit(y_test, predictions, 1)\n",
    "    print(z)\n",
    "    p = np.poly1d(z)\n",
    "    plt.plot(y_test,p(y_test), color='magenta')\n",
    "    plt.axline((0,0),slope=1,ls='--')\n",
    "    plt.show()"
   ]
  },
  {
   "cell_type": "code",
   "execution_count": 313,
   "metadata": {},
   "outputs": [
    {
     "name": "stdout",
     "output_type": "stream",
     "text": [
      "14/14 [==============================] - 1s 11ms/step\n",
      "(438,)\n",
      "r2 coefficient:  0.7435448151087853 \n",
      "msle =  0.02548029753387967\n",
      "[7.59097320e-01 4.27600239e+04]\n"
     ]
    },
    {
     "data": {
      "image/png": "[encoded data removed]",
      "text/plain": [
       "<Figure size 720x720 with 1 Axes>"
      ]
     },
     "metadata": {
      "needs_background": "light"
     },
     "output_type": "display_data"
    }
   ],
   "source": [
    "score_and_visualize(model=house_price_model,x_test=val_features_dict,y_test=val_df[label])\n"
   ]
  },
  {
   "cell_type": "markdown",
   "metadata": {},
   "source": [
    "Save predictions"
   ]
  },
  {
   "cell_type": "code",
   "execution_count": 314,
   "metadata": {},
   "outputs": [],
   "source": [
    "import datetime"
   ]
  },
  {
   "cell_type": "code",
   "execution_count": 315,
   "metadata": {},
   "outputs": [
    {
     "name": "stdout",
     "output_type": "stream",
     "text": [
      "46/46 [==============================] - 0s 3ms/step\n"
     ]
    }
   ],
   "source": [
    "write=True\n",
    "\n",
    "test=pd.read_csv('test.csv')\n",
    "test=test[int_num_f]\n",
    "tf.convert_to_tensor(test)\n",
    "pred=model.predict(test)\n",
    "out_df=pd.read_csv('sample_submission.csv')\n",
    "out_df['SalePrice']=pred\n",
    "if write:\n",
    "    out_df.to_csv('prediction_tf.csv',index=False)"
   ]
  },
  {
   "cell_type": "code",
   "execution_count": 316,
   "metadata": {},
   "outputs": [],
   "source": [
    "test=feat_eng(pd.read_csv('test.csv'))\n",
    "test[int_cat_f]=test[int_cat_f].fillna('none')\n",
    "test[int_num_f]=test[int_num_f].fillna(-1)"
   ]
  },
  {
   "cell_type": "code",
   "execution_count": 317,
   "metadata": {},
   "outputs": [
    {
     "name": "stdout",
     "output_type": "stream",
     "text": [
      "46/46 [==============================] - 1s 11ms/step\n"
     ]
    }
   ],
   "source": [
    "test_feature_dict={name:np.array(test[name]) for name in (int_num_f+int_cat_f)}\n",
    "for name in int_num_f:\n",
    "    test_feature_dict[name]=tf.cast(test_feature_dict[name],tf.float32)\n",
    "\n",
    "for name in int_cat_f:\n",
    "    test_feature_dict[name]=tf.cast(test_feature_dict[name],tf.string)\n",
    "\n",
    "pred=house_price_model.predict(test_feature_dict)\n",
    "out_df=pd.read_csv('sample_submission.csv')\n",
    "out_df['SalePrice']=pred\n",
    "if write:\n",
    "    out_df.to_csv('prediction_tf_allfeatures.csv',index=False)"
   ]
  },
  {
   "cell_type": "markdown",
   "metadata": {},
   "source": [
    "Save model"
   ]
  },
  {
   "cell_type": "code",
   "execution_count": 318,
   "metadata": {},
   "outputs": [],
   "source": [
    "savemodel=False\n",
    "if savemodel:\n",
    "    timestamp=datetime.datetime.now().strftime(\"%d%m%Y%H%M%S\")\n",
    "    models_folder= 'models'\n",
    "    os.makedirs(models_folder,exist_ok=True)\n",
    "    model_name= 'model_'+ timestamp +'_tf.h5'\n",
    "    modelpath= os.path.join(models_folder,model_name)\n",
    "    model.save(modelpath)\n",
    "    print('Saved ' , modelpath)"
   ]
  }
 ],
 "metadata": {
  "kernelspec": {
   "display_name": "Python 3.9.12 ('tfgpu')",
   "language": "python",
   "name": "python3"
  },
  "language_info": {
   "codemirror_mode": {
    "name": "ipython",
    "version": 3
   },
   "file_extension": ".py",
   "mimetype": "text/x-python",
   "name": "python",
   "nbconvert_exporter": "python",
   "pygments_lexer": "ipython3",
   "version": "3.9.12"
  },
  "orig_nbformat": 4,
  "vscode": {
   "interpreter": {
    "hash": "4ac2639bf6c51b051b1b83c4d99575383d6e01bb4712884ebd29a7c900e61e25"
   }
  }
 },
 "nbformat": 4,
 "nbformat_minor": 2
}
