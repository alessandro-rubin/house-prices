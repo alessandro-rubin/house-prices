{
 "cells": [
  {
   "cell_type": "code",
   "execution_count": 45,
   "metadata": {},
   "outputs": [],
   "source": [
    "import numpy as np\n",
    "import pandas as pd \n",
    "%matplotlib inline\n",
    "import matplotlib.pyplot as plt\n",
    "import os\n",
    "import tensorflow as tf\n",
    "from tensorflow import keras\n",
    "from keras import layers\n",
    "from sklearn.model_selection import train_test_split\n",
    "from sklearn.metrics import mean_squared_log_error, r2_score"
   ]
  },
  {
   "cell_type": "markdown",
   "metadata": {},
   "source": [
    "# House price regression using TensorFlow"
   ]
  },
  {
   "cell_type": "markdown",
   "metadata": {},
   "source": [
    "I have to: \n",
    "\n",
    "1) load the data\n",
    "\n",
    "2) apply some basic feature engineering and cleaning\n",
    "\n",
    "3) encode and normalize the data into something that can be efficiently computed by tensorflow\n",
    "\n",
    "4) train the model, score it and compute metrics\n",
    "\n",
    "5) check the model predictions visually\n",
    "\n",
    "6) predict the house prices in the test set"
   ]
  },
  {
   "cell_type": "markdown",
   "metadata": {},
   "source": [
    "Fore more info:\n",
    "\n",
    "https://www.tensorflow.org/tutorials/load_data/pandas_dataframe\n",
    "\n",
    "https://www.tensorflow.org/tutorials/load_data/csv\n",
    "\n",
    "https://www.tensorflow.org/tutorials/structured_data/preprocessing_layers?authuser=2\n",
    "\n",
    "https://www.tensorflow.org/guide/keras/preprocessing_layers"
   ]
  },
  {
   "cell_type": "code",
   "execution_count": 46,
   "metadata": {},
   "outputs": [],
   "source": [
    "from house_prices import feat_eng"
   ]
  },
  {
   "cell_type": "code",
   "execution_count": 47,
   "metadata": {},
   "outputs": [],
   "source": [
    "train=pd.read_csv('train.csv')"
   ]
  },
  {
   "cell_type": "code",
   "execution_count": 48,
   "metadata": {},
   "outputs": [],
   "source": [
    "int_cat_f=['SaleCondition','ExterQual','Neighborhood','KitchenQual','SaleType','PoolQC','MSZoning']\n",
    "int_num_f=['OverallQual','LotArea','BsmtFinSF1','TotalBsmtSF','GrLivArea','GarageArea','YearBuilt','GarageCars','TotRmsAbvGrd','MSSubClass']\n"
   ]
  },
  {
   "cell_type": "code",
   "execution_count": 49,
   "metadata": {},
   "outputs": [],
   "source": [
    "label='SalePrice'\n"
   ]
  },
  {
   "cell_type": "markdown",
   "metadata": {},
   "source": [
    "### First implementation: only using numeric features and model.fit() method"
   ]
  },
  {
   "cell_type": "code",
   "execution_count": 50,
   "metadata": {},
   "outputs": [
    {
     "data": {
      "text/html": [
       "<div>\n",
       "<style scoped>\n",
       "    .dataframe tbody tr th:only-of-type {\n",
       "        vertical-align: middle;\n",
       "    }\n",
       "\n",
       "    .dataframe tbody tr th {\n",
       "        vertical-align: top;\n",
       "    }\n",
       "\n",
       "    .dataframe thead th {\n",
       "        text-align: right;\n",
       "    }\n",
       "</style>\n",
       "<table border=\"1\" class=\"dataframe\">\n",
       "  <thead>\n",
       "    <tr style=\"text-align: right;\">\n",
       "      <th></th>\n",
       "      <th>Id</th>\n",
       "      <th>MSSubClass</th>\n",
       "      <th>MSZoning</th>\n",
       "      <th>LotFrontage</th>\n",
       "      <th>LotArea</th>\n",
       "      <th>Street</th>\n",
       "      <th>Alley</th>\n",
       "      <th>LotShape</th>\n",
       "      <th>LandContour</th>\n",
       "      <th>Utilities</th>\n",
       "      <th>...</th>\n",
       "      <th>Fence</th>\n",
       "      <th>MiscFeature</th>\n",
       "      <th>MiscVal</th>\n",
       "      <th>MoSold</th>\n",
       "      <th>YrSold</th>\n",
       "      <th>SaleType</th>\n",
       "      <th>SaleCondition</th>\n",
       "      <th>SalePrice</th>\n",
       "      <th>TotFlrSF</th>\n",
       "      <th>nFlrs</th>\n",
       "    </tr>\n",
       "  </thead>\n",
       "  <tbody>\n",
       "    <tr>\n",
       "      <th>0</th>\n",
       "      <td>1</td>\n",
       "      <td>60</td>\n",
       "      <td>RL</td>\n",
       "      <td>65.0</td>\n",
       "      <td>8450</td>\n",
       "      <td>Pave</td>\n",
       "      <td>NaN</td>\n",
       "      <td>Reg</td>\n",
       "      <td>Lvl</td>\n",
       "      <td>AllPub</td>\n",
       "      <td>...</td>\n",
       "      <td>NaN</td>\n",
       "      <td>NaN</td>\n",
       "      <td>0</td>\n",
       "      <td>2</td>\n",
       "      <td>2008</td>\n",
       "      <td>WD</td>\n",
       "      <td>Normal</td>\n",
       "      <td>208500</td>\n",
       "      <td>1710</td>\n",
       "      <td>2.0</td>\n",
       "    </tr>\n",
       "    <tr>\n",
       "      <th>1</th>\n",
       "      <td>2</td>\n",
       "      <td>20</td>\n",
       "      <td>RL</td>\n",
       "      <td>80.0</td>\n",
       "      <td>9600</td>\n",
       "      <td>Pave</td>\n",
       "      <td>NaN</td>\n",
       "      <td>Reg</td>\n",
       "      <td>Lvl</td>\n",
       "      <td>AllPub</td>\n",
       "      <td>...</td>\n",
       "      <td>NaN</td>\n",
       "      <td>NaN</td>\n",
       "      <td>0</td>\n",
       "      <td>5</td>\n",
       "      <td>2007</td>\n",
       "      <td>WD</td>\n",
       "      <td>Normal</td>\n",
       "      <td>181500</td>\n",
       "      <td>1262</td>\n",
       "      <td>1.0</td>\n",
       "    </tr>\n",
       "    <tr>\n",
       "      <th>2</th>\n",
       "      <td>3</td>\n",
       "      <td>60</td>\n",
       "      <td>RL</td>\n",
       "      <td>68.0</td>\n",
       "      <td>11250</td>\n",
       "      <td>Pave</td>\n",
       "      <td>NaN</td>\n",
       "      <td>IR1</td>\n",
       "      <td>Lvl</td>\n",
       "      <td>AllPub</td>\n",
       "      <td>...</td>\n",
       "      <td>NaN</td>\n",
       "      <td>NaN</td>\n",
       "      <td>0</td>\n",
       "      <td>9</td>\n",
       "      <td>2008</td>\n",
       "      <td>WD</td>\n",
       "      <td>Normal</td>\n",
       "      <td>223500</td>\n",
       "      <td>1786</td>\n",
       "      <td>2.0</td>\n",
       "    </tr>\n",
       "    <tr>\n",
       "      <th>3</th>\n",
       "      <td>4</td>\n",
       "      <td>70</td>\n",
       "      <td>RL</td>\n",
       "      <td>60.0</td>\n",
       "      <td>9550</td>\n",
       "      <td>Pave</td>\n",
       "      <td>NaN</td>\n",
       "      <td>IR1</td>\n",
       "      <td>Lvl</td>\n",
       "      <td>AllPub</td>\n",
       "      <td>...</td>\n",
       "      <td>NaN</td>\n",
       "      <td>NaN</td>\n",
       "      <td>0</td>\n",
       "      <td>2</td>\n",
       "      <td>2006</td>\n",
       "      <td>WD</td>\n",
       "      <td>Abnorml</td>\n",
       "      <td>140000</td>\n",
       "      <td>1717</td>\n",
       "      <td>2.0</td>\n",
       "    </tr>\n",
       "    <tr>\n",
       "      <th>4</th>\n",
       "      <td>5</td>\n",
       "      <td>60</td>\n",
       "      <td>RL</td>\n",
       "      <td>84.0</td>\n",
       "      <td>14260</td>\n",
       "      <td>Pave</td>\n",
       "      <td>NaN</td>\n",
       "      <td>IR1</td>\n",
       "      <td>Lvl</td>\n",
       "      <td>AllPub</td>\n",
       "      <td>...</td>\n",
       "      <td>NaN</td>\n",
       "      <td>NaN</td>\n",
       "      <td>0</td>\n",
       "      <td>12</td>\n",
       "      <td>2008</td>\n",
       "      <td>WD</td>\n",
       "      <td>Normal</td>\n",
       "      <td>250000</td>\n",
       "      <td>2198</td>\n",
       "      <td>2.0</td>\n",
       "    </tr>\n",
       "    <tr>\n",
       "      <th>...</th>\n",
       "      <td>...</td>\n",
       "      <td>...</td>\n",
       "      <td>...</td>\n",
       "      <td>...</td>\n",
       "      <td>...</td>\n",
       "      <td>...</td>\n",
       "      <td>...</td>\n",
       "      <td>...</td>\n",
       "      <td>...</td>\n",
       "      <td>...</td>\n",
       "      <td>...</td>\n",
       "      <td>...</td>\n",
       "      <td>...</td>\n",
       "      <td>...</td>\n",
       "      <td>...</td>\n",
       "      <td>...</td>\n",
       "      <td>...</td>\n",
       "      <td>...</td>\n",
       "      <td>...</td>\n",
       "      <td>...</td>\n",
       "      <td>...</td>\n",
       "    </tr>\n",
       "    <tr>\n",
       "      <th>1455</th>\n",
       "      <td>1456</td>\n",
       "      <td>60</td>\n",
       "      <td>RL</td>\n",
       "      <td>62.0</td>\n",
       "      <td>7917</td>\n",
       "      <td>Pave</td>\n",
       "      <td>NaN</td>\n",
       "      <td>Reg</td>\n",
       "      <td>Lvl</td>\n",
       "      <td>AllPub</td>\n",
       "      <td>...</td>\n",
       "      <td>NaN</td>\n",
       "      <td>NaN</td>\n",
       "      <td>0</td>\n",
       "      <td>8</td>\n",
       "      <td>2007</td>\n",
       "      <td>WD</td>\n",
       "      <td>Normal</td>\n",
       "      <td>175000</td>\n",
       "      <td>1647</td>\n",
       "      <td>2.0</td>\n",
       "    </tr>\n",
       "    <tr>\n",
       "      <th>1456</th>\n",
       "      <td>1457</td>\n",
       "      <td>20</td>\n",
       "      <td>RL</td>\n",
       "      <td>85.0</td>\n",
       "      <td>13175</td>\n",
       "      <td>Pave</td>\n",
       "      <td>NaN</td>\n",
       "      <td>Reg</td>\n",
       "      <td>Lvl</td>\n",
       "      <td>AllPub</td>\n",
       "      <td>...</td>\n",
       "      <td>MnPrv</td>\n",
       "      <td>NaN</td>\n",
       "      <td>0</td>\n",
       "      <td>2</td>\n",
       "      <td>2010</td>\n",
       "      <td>WD</td>\n",
       "      <td>Normal</td>\n",
       "      <td>210000</td>\n",
       "      <td>2073</td>\n",
       "      <td>1.0</td>\n",
       "    </tr>\n",
       "    <tr>\n",
       "      <th>1457</th>\n",
       "      <td>1458</td>\n",
       "      <td>70</td>\n",
       "      <td>RL</td>\n",
       "      <td>66.0</td>\n",
       "      <td>9042</td>\n",
       "      <td>Pave</td>\n",
       "      <td>NaN</td>\n",
       "      <td>Reg</td>\n",
       "      <td>Lvl</td>\n",
       "      <td>AllPub</td>\n",
       "      <td>...</td>\n",
       "      <td>GdPrv</td>\n",
       "      <td>Shed</td>\n",
       "      <td>2500</td>\n",
       "      <td>5</td>\n",
       "      <td>2010</td>\n",
       "      <td>WD</td>\n",
       "      <td>Normal</td>\n",
       "      <td>266500</td>\n",
       "      <td>2340</td>\n",
       "      <td>2.0</td>\n",
       "    </tr>\n",
       "    <tr>\n",
       "      <th>1458</th>\n",
       "      <td>1459</td>\n",
       "      <td>20</td>\n",
       "      <td>RL</td>\n",
       "      <td>68.0</td>\n",
       "      <td>9717</td>\n",
       "      <td>Pave</td>\n",
       "      <td>NaN</td>\n",
       "      <td>Reg</td>\n",
       "      <td>Lvl</td>\n",
       "      <td>AllPub</td>\n",
       "      <td>...</td>\n",
       "      <td>NaN</td>\n",
       "      <td>NaN</td>\n",
       "      <td>0</td>\n",
       "      <td>4</td>\n",
       "      <td>2010</td>\n",
       "      <td>WD</td>\n",
       "      <td>Normal</td>\n",
       "      <td>142125</td>\n",
       "      <td>1078</td>\n",
       "      <td>1.0</td>\n",
       "    </tr>\n",
       "    <tr>\n",
       "      <th>1459</th>\n",
       "      <td>1460</td>\n",
       "      <td>20</td>\n",
       "      <td>RL</td>\n",
       "      <td>75.0</td>\n",
       "      <td>9937</td>\n",
       "      <td>Pave</td>\n",
       "      <td>NaN</td>\n",
       "      <td>Reg</td>\n",
       "      <td>Lvl</td>\n",
       "      <td>AllPub</td>\n",
       "      <td>...</td>\n",
       "      <td>NaN</td>\n",
       "      <td>NaN</td>\n",
       "      <td>0</td>\n",
       "      <td>6</td>\n",
       "      <td>2008</td>\n",
       "      <td>WD</td>\n",
       "      <td>Normal</td>\n",
       "      <td>147500</td>\n",
       "      <td>1256</td>\n",
       "      <td>1.0</td>\n",
       "    </tr>\n",
       "  </tbody>\n",
       "</table>\n",
       "<p>1460 rows × 83 columns</p>\n",
       "</div>"
      ],
      "text/plain": [
       "        Id  MSSubClass MSZoning  LotFrontage  LotArea Street Alley LotShape  \\\n",
       "0        1          60       RL         65.0     8450   Pave   NaN      Reg   \n",
       "1        2          20       RL         80.0     9600   Pave   NaN      Reg   \n",
       "2        3          60       RL         68.0    11250   Pave   NaN      IR1   \n",
       "3        4          70       RL         60.0     9550   Pave   NaN      IR1   \n",
       "4        5          60       RL         84.0    14260   Pave   NaN      IR1   \n",
       "...    ...         ...      ...          ...      ...    ...   ...      ...   \n",
       "1455  1456          60       RL         62.0     7917   Pave   NaN      Reg   \n",
       "1456  1457          20       RL         85.0    13175   Pave   NaN      Reg   \n",
       "1457  1458          70       RL         66.0     9042   Pave   NaN      Reg   \n",
       "1458  1459          20       RL         68.0     9717   Pave   NaN      Reg   \n",
       "1459  1460          20       RL         75.0     9937   Pave   NaN      Reg   \n",
       "\n",
       "     LandContour Utilities  ...  Fence MiscFeature MiscVal MoSold YrSold  \\\n",
       "0            Lvl    AllPub  ...    NaN         NaN       0      2   2008   \n",
       "1            Lvl    AllPub  ...    NaN         NaN       0      5   2007   \n",
       "2            Lvl    AllPub  ...    NaN         NaN       0      9   2008   \n",
       "3            Lvl    AllPub  ...    NaN         NaN       0      2   2006   \n",
       "4            Lvl    AllPub  ...    NaN         NaN       0     12   2008   \n",
       "...          ...       ...  ...    ...         ...     ...    ...    ...   \n",
       "1455         Lvl    AllPub  ...    NaN         NaN       0      8   2007   \n",
       "1456         Lvl    AllPub  ...  MnPrv         NaN       0      2   2010   \n",
       "1457         Lvl    AllPub  ...  GdPrv        Shed    2500      5   2010   \n",
       "1458         Lvl    AllPub  ...    NaN         NaN       0      4   2010   \n",
       "1459         Lvl    AllPub  ...    NaN         NaN       0      6   2008   \n",
       "\n",
       "     SaleType SaleCondition  SalePrice  TotFlrSF  nFlrs  \n",
       "0          WD        Normal     208500      1710    2.0  \n",
       "1          WD        Normal     181500      1262    1.0  \n",
       "2          WD        Normal     223500      1786    2.0  \n",
       "3          WD       Abnorml     140000      1717    2.0  \n",
       "4          WD        Normal     250000      2198    2.0  \n",
       "...       ...           ...        ...       ...    ...  \n",
       "1455       WD        Normal     175000      1647    2.0  \n",
       "1456       WD        Normal     210000      2073    1.0  \n",
       "1457       WD        Normal     266500      2340    2.0  \n",
       "1458       WD        Normal     142125      1078    1.0  \n",
       "1459       WD        Normal     147500      1256    1.0  \n",
       "\n",
       "[1460 rows x 83 columns]"
      ]
     },
     "execution_count": 50,
     "metadata": {},
     "output_type": "execute_result"
    }
   ],
   "source": [
    "feat_eng(train)"
   ]
  },
  {
   "cell_type": "code",
   "execution_count": 51,
   "metadata": {},
   "outputs": [],
   "source": [
    "split_fraction=0.2\n",
    "x,y=train.drop(label,axis=1),train[label]\n",
    "x_train, x_test, y_train, y_test = train_test_split(x, y, test_size=split_fraction, random_state=0)"
   ]
  },
  {
   "cell_type": "code",
   "execution_count": 52,
   "metadata": {},
   "outputs": [],
   "source": [
    "train_num_feat,test_num_feat=x_train[int_num_f],x_test[int_num_f]\n",
    "train_num_feat=tf.convert_to_tensor(train_num_feat)\n",
    "test_num_feat=tf.convert_to_tensor(test_num_feat)\n",
    "y_test=tf.convert_to_tensor(y_test)\n",
    "y_train=tf.convert_to_tensor(y_train)\n",
    "\n",
    "\n",
    "normalizer = tf.keras.layers.Normalization(axis=-1)\n",
    "normalizer.adapt(train_num_feat)\n"
   ]
  },
  {
   "cell_type": "code",
   "execution_count": 53,
   "metadata": {},
   "outputs": [
    {
     "data": {
      "text/plain": [
       "<tf.Tensor: shape=(1168, 10), dtype=int64, numpy=\n",
       "array([[    9, 11694,    48, ...,     3,     9,    20],\n",
       "       [    5,  6600,     0, ...,     1,     5,    20],\n",
       "       [    5, 13360,   713, ...,     2,     5,    30],\n",
       "       ...,\n",
       "       [    6,  8930,     0, ...,     2,     8,    90],\n",
       "       [    7,  3196,     0, ...,     2,     7,   120],\n",
       "       [    7, 16770,     0, ...,     2,     7,    60]], dtype=int64)>"
      ]
     },
     "execution_count": 53,
     "metadata": {},
     "output_type": "execute_result"
    }
   ],
   "source": [
    "train_num_feat"
   ]
  },
  {
   "cell_type": "code",
   "execution_count": 54,
   "metadata": {},
   "outputs": [],
   "source": [
    "def get_basic_model():\n",
    "    model = tf.keras.Sequential([\n",
    "        normalizer,\n",
    "        tf.keras.layers.Dense(100, activation='relu'),\n",
    "        tf.keras.layers.Dropout(.25),\n",
    "        tf.keras.layers.Dense(100, activation='relu'),\n",
    "        tf.keras.layers.Dropout(.25),\n",
    "        tf.keras.layers.Dense(100, activation='relu'),\n",
    "        tf.keras.layers.Dense(1)\n",
    "    ])\n",
    "\n",
    "    model.compile(optimizer='adam',\n",
    "                  loss=tf.keras.losses.MeanSquaredError(),\n",
    "                  metrics=[tf.keras.metrics.RootMeanSquaredError(),tf.keras.metrics.MeanSquaredLogarithmicError()])\n",
    "    return model"
   ]
  },
  {
   "cell_type": "markdown",
   "metadata": {},
   "source": [
    "Fitting the model:"
   ]
  },
  {
   "cell_type": "code",
   "execution_count": 55,
   "metadata": {},
   "outputs": [
    {
     "name": "stdout",
     "output_type": "stream",
     "text": [
      "Epoch 1/10\n",
      "78/78 [==============================] - 1s 11ms/step - loss: 38827937792.0000 - root_mean_squared_error: 197048.0469 - mean_squared_logarithmic_error: 86.7410 - val_loss: 39681626112.0000 - val_root_mean_squared_error: 199202.4844 - val_mean_squared_logarithmic_error: 42.5216\n",
      "Epoch 2/10\n",
      "78/78 [==============================] - 1s 8ms/step - loss: 37838782464.0000 - root_mean_squared_error: 194521.9375 - mean_squared_logarithmic_error: 24.2197 - val_loss: 36704202752.0000 - val_root_mean_squared_error: 191583.4062 - val_mean_squared_logarithmic_error: 11.5450\n",
      "Epoch 3/10\n",
      "78/78 [==============================] - 1s 8ms/step - loss: 30307106816.0000 - root_mean_squared_error: 174089.3594 - mean_squared_logarithmic_error: 6.4038 - val_loss: 22774300672.0000 - val_root_mean_squared_error: 150911.5625 - val_mean_squared_logarithmic_error: 2.6578\n",
      "Epoch 4/10\n",
      "78/78 [==============================] - 1s 9ms/step - loss: 13629627392.0000 - root_mean_squared_error: 116745.9922 - mean_squared_logarithmic_error: 1.3576 - val_loss: 9726512128.0000 - val_root_mean_squared_error: 98623.0781 - val_mean_squared_logarithmic_error: 0.5291\n",
      "Epoch 5/10\n",
      "78/78 [==============================] - 1s 9ms/step - loss: 6022516224.0000 - root_mean_squared_error: 77604.8750 - mean_squared_logarithmic_error: 0.3854 - val_loss: 8637092864.0000 - val_root_mean_squared_error: 92935.9609 - val_mean_squared_logarithmic_error: 0.2870\n",
      "Epoch 6/10\n",
      "78/78 [==============================] - 1s 9ms/step - loss: 5115140608.0000 - root_mean_squared_error: 71520.2109 - mean_squared_logarithmic_error: 0.2764 - val_loss: 7706572800.0000 - val_root_mean_squared_error: 87787.0859 - val_mean_squared_logarithmic_error: 0.2161\n",
      "Epoch 7/10\n",
      "78/78 [==============================] - 1s 8ms/step - loss: 4189098752.0000 - root_mean_squared_error: 64723.2461 - mean_squared_logarithmic_error: 0.2066 - val_loss: 6978193920.0000 - val_root_mean_squared_error: 83535.5859 - val_mean_squared_logarithmic_error: 0.1708\n",
      "Epoch 8/10\n",
      "78/78 [==============================] - 1s 9ms/step - loss: 3668125440.0000 - root_mean_squared_error: 60565.0508 - mean_squared_logarithmic_error: 0.1717 - val_loss: 6267246080.0000 - val_root_mean_squared_error: 79165.9375 - val_mean_squared_logarithmic_error: 0.1434\n",
      "Epoch 9/10\n",
      "78/78 [==============================] - 1s 9ms/step - loss: 3144735488.0000 - root_mean_squared_error: 56077.9414 - mean_squared_logarithmic_error: 0.1424 - val_loss: 5354526208.0000 - val_root_mean_squared_error: 73174.6328 - val_mean_squared_logarithmic_error: 0.1281\n",
      "Epoch 10/10\n",
      "78/78 [==============================] - 1s 8ms/step - loss: 2840613632.0000 - root_mean_squared_error: 53297.4062 - mean_squared_logarithmic_error: 0.1266 - val_loss: 5040544256.0000 - val_root_mean_squared_error: 70996.7891 - val_mean_squared_logarithmic_error: 0.1041\n"
     ]
    }
   ],
   "source": [
    "model= get_basic_model()\n",
    "history=model.fit(train_num_feat, y_train, epochs=10, batch_size=15,validation_data=(test_num_feat,y_test))\n"
   ]
  },
  {
   "cell_type": "markdown",
   "metadata": {},
   "source": [
    "### Excercise 2: preprocess by using keras functional API"
   ]
  },
  {
   "cell_type": "markdown",
   "metadata": {},
   "source": [
    "1) Build the preprocessing model, passing data as dict\n",
    "\n",
    "2) numerical features should be normalized\n",
    "\n",
    "3) categorical features should be one hot encoded"
   ]
  },
  {
   "cell_type": "code",
   "execution_count": 56,
   "metadata": {},
   "outputs": [
    {
     "name": "stdout",
     "output_type": "stream",
     "text": [
      "['SaleCondition', 'ExterQual', 'Neighborhood', 'KitchenQual', 'SaleType', 'PoolQC', 'MSZoning'] ['OverallQual', 'LotArea', 'BsmtFinSF1', 'TotalBsmtSF', 'GrLivArea', 'GarageArea', 'YearBuilt', 'GarageCars', 'TotRmsAbvGrd', 'MSSubClass']\n"
     ]
    }
   ],
   "source": [
    "print(int_cat_f,int_num_f)"
   ]
  },
  {
   "cell_type": "code",
   "execution_count": 57,
   "metadata": {},
   "outputs": [
    {
     "data": {
      "text/plain": [
       "{'OverallQual': <KerasTensor: shape=(None, 1) dtype=float32 (created by layer 'OverallQual')>,\n",
       " 'LotArea': <KerasTensor: shape=(None, 1) dtype=float32 (created by layer 'LotArea')>,\n",
       " 'BsmtFinSF1': <KerasTensor: shape=(None, 1) dtype=float32 (created by layer 'BsmtFinSF1')>,\n",
       " 'TotalBsmtSF': <KerasTensor: shape=(None, 1) dtype=float32 (created by layer 'TotalBsmtSF')>,\n",
       " 'GrLivArea': <KerasTensor: shape=(None, 1) dtype=float32 (created by layer 'GrLivArea')>,\n",
       " 'GarageArea': <KerasTensor: shape=(None, 1) dtype=float32 (created by layer 'GarageArea')>,\n",
       " 'YearBuilt': <KerasTensor: shape=(None, 1) dtype=float32 (created by layer 'YearBuilt')>,\n",
       " 'GarageCars': <KerasTensor: shape=(None, 1) dtype=float32 (created by layer 'GarageCars')>,\n",
       " 'TotRmsAbvGrd': <KerasTensor: shape=(None, 1) dtype=float32 (created by layer 'TotRmsAbvGrd')>,\n",
       " 'MSSubClass': <KerasTensor: shape=(None, 1) dtype=float32 (created by layer 'MSSubClass')>,\n",
       " 'SaleCondition': <KerasTensor: shape=(None, 1) dtype=string (created by layer 'SaleCondition')>,\n",
       " 'ExterQual': <KerasTensor: shape=(None, 1) dtype=string (created by layer 'ExterQual')>,\n",
       " 'Neighborhood': <KerasTensor: shape=(None, 1) dtype=string (created by layer 'Neighborhood')>,\n",
       " 'KitchenQual': <KerasTensor: shape=(None, 1) dtype=string (created by layer 'KitchenQual')>,\n",
       " 'SaleType': <KerasTensor: shape=(None, 1) dtype=string (created by layer 'SaleType')>,\n",
       " 'PoolQC': <KerasTensor: shape=(None, 1) dtype=string (created by layer 'PoolQC')>,\n",
       " 'MSZoning': <KerasTensor: shape=(None, 1) dtype=string (created by layer 'MSZoning')>}"
      ]
     },
     "execution_count": 57,
     "metadata": {},
     "output_type": "execute_result"
    }
   ],
   "source": [
    "inputs = {}\n",
    "for name in int_num_f+int_cat_f:\n",
    "    if name in int_num_f:\n",
    "        dtype = tf.float32\n",
    "    if (name in int_cat_f):\n",
    "        dtype = tf.string\n",
    "    inputs[name] = tf.keras.Input(shape=(1,), name=name, dtype=dtype)\n",
    "inputs"
   ]
  },
  {
   "cell_type": "markdown",
   "metadata": {},
   "source": [
    "#### Numeric inputs:"
   ]
  },
  {
   "cell_type": "markdown",
   "metadata": {},
   "source": [
    "Concatenate the numeric input layers:"
   ]
  },
  {
   "cell_type": "code",
   "execution_count": 58,
   "metadata": {},
   "outputs": [
    {
     "data": {
      "text/plain": [
       "<KerasTensor: shape=(None, 10) dtype=float32 (created by layer 'normalization_4')>"
      ]
     },
     "execution_count": 58,
     "metadata": {},
     "output_type": "execute_result"
    }
   ],
   "source": [
    "numeric_inputs = {name:input for name,input in inputs.items()\n",
    "                  if input.dtype==tf.float32}\n",
    "\n",
    "x = layers.Concatenate()(list(numeric_inputs.values()))\n",
    "norm = layers.Normalization()\n",
    "norm.adapt(np.array(train[numeric_inputs.keys()]))\n",
    "all_numeric_inputs = norm(x)\n",
    "\n",
    "all_numeric_inputs"
   ]
  },
  {
   "cell_type": "code",
   "execution_count": 59,
   "metadata": {},
   "outputs": [],
   "source": [
    "preprocessed_inputs = [all_numeric_inputs]"
   ]
  },
  {
   "cell_type": "markdown",
   "metadata": {},
   "source": [
    "#### Categorical inputs"
   ]
  },
  {
   "cell_type": "code",
   "execution_count": 60,
   "metadata": {},
   "outputs": [],
   "source": [
    "for name, input in inputs.items():\n",
    "    if input.dtype == tf.float32:\n",
    "        continue\n",
    "  \n",
    "    lookup = layers.StringLookup(vocabulary=np.unique(train[name]))\n",
    "    one_hot = layers.CategoryEncoding(num_tokens=lookup.vocabulary_size())\n",
    "\n",
    "    x = lookup(input)\n",
    "    x = one_hot(x)\n",
    "    preprocessed_inputs.append(x)"
   ]
  },
  {
   "cell_type": "code",
   "execution_count": 61,
   "metadata": {},
   "outputs": [
    {
     "data": {
      "text/plain": [
       "[<KerasTensor: shape=(None, 10) dtype=float32 (created by layer 'normalization_4')>,\n",
       " <KerasTensor: shape=(None, 7) dtype=float32 (created by layer 'category_encoding_7')>,\n",
       " <KerasTensor: shape=(None, 5) dtype=float32 (created by layer 'category_encoding_8')>,\n",
       " <KerasTensor: shape=(None, 26) dtype=float32 (created by layer 'category_encoding_9')>,\n",
       " <KerasTensor: shape=(None, 5) dtype=float32 (created by layer 'category_encoding_10')>,\n",
       " <KerasTensor: shape=(None, 10) dtype=float32 (created by layer 'category_encoding_11')>,\n",
       " <KerasTensor: shape=(None, 5) dtype=float32 (created by layer 'category_encoding_12')>,\n",
       " <KerasTensor: shape=(None, 6) dtype=float32 (created by layer 'category_encoding_13')>]"
      ]
     },
     "execution_count": 61,
     "metadata": {},
     "output_type": "execute_result"
    }
   ],
   "source": [
    "preprocessed_inputs"
   ]
  },
  {
   "cell_type": "markdown",
   "metadata": {},
   "source": [
    "#### Create the preprocessing layer"
   ]
  },
  {
   "cell_type": "code",
   "execution_count": 62,
   "metadata": {},
   "outputs": [],
   "source": [
    "preprocessed_inputs_cat = layers.Concatenate()(preprocessed_inputs)\n",
    "\n",
    "house_prices_preprocessing = tf.keras.Model(inputs, preprocessed_inputs_cat)\n",
    "\n",
    "#tf.keras.utils.plot_model(model = house_prices_preprocessing , rankdir=\"LR\", dpi=72, show_shapes=True)"
   ]
  },
  {
   "cell_type": "markdown",
   "metadata": {},
   "source": [
    "#### Create the model"
   ]
  },
  {
   "cell_type": "code",
   "execution_count": 63,
   "metadata": {},
   "outputs": [],
   "source": [
    "def create_model(preprocessing_head, inputs:dict):\n",
    "    preprocessed_inputs = preprocessing_head(inputs)\n",
    "    x=tf.keras.layers.Dense(100,activation='relu')(preprocessed_inputs)\n",
    "    x=tf.keras.layers.Dropout(0.25)(x)\n",
    "    x=tf.keras.layers.Dense(150,activation='relu')(x)\n",
    "    x=tf.keras.layers.Dropout(0.25)(x)\n",
    "    x=tf.keras.layers.Dense(100,activation='relu')(x)\n",
    "    result = tf.keras.layers.Dense(1)(x)\n",
    "    model = tf.keras.Model(inputs, result)\n",
    "    model.compile(optimizer='adam',\n",
    "                loss=tf.keras.losses.MeanSquaredLogarithmicError(),\n",
    "                metrics=[tf.keras.metrics.RootMeanSquaredError(),tf.keras.metrics.MeanSquaredLogarithmicError()])\n",
    "    return model\n",
    "\n",
    "house_price_model = create_model(house_prices_preprocessing, inputs)"
   ]
  },
  {
   "cell_type": "code",
   "execution_count": 64,
   "metadata": {},
   "outputs": [
    {
     "name": "stdout",
     "output_type": "stream",
     "text": [
      "Model: \"model_3\"\n",
      "__________________________________________________________________________________________________\n",
      " Layer (type)                   Output Shape         Param #     Connected to                     \n",
      "==================================================================================================\n",
      " BsmtFinSF1 (InputLayer)        [(None, 1)]          0           []                               \n",
      "                                                                                                  \n",
      " ExterQual (InputLayer)         [(None, 1)]          0           []                               \n",
      "                                                                                                  \n",
      " GarageArea (InputLayer)        [(None, 1)]          0           []                               \n",
      "                                                                                                  \n",
      " GarageCars (InputLayer)        [(None, 1)]          0           []                               \n",
      "                                                                                                  \n",
      " GrLivArea (InputLayer)         [(None, 1)]          0           []                               \n",
      "                                                                                                  \n",
      " KitchenQual (InputLayer)       [(None, 1)]          0           []                               \n",
      "                                                                                                  \n",
      " LotArea (InputLayer)           [(None, 1)]          0           []                               \n",
      "                                                                                                  \n",
      " MSSubClass (InputLayer)        [(None, 1)]          0           []                               \n",
      "                                                                                                  \n",
      " MSZoning (InputLayer)          [(None, 1)]          0           []                               \n",
      "                                                                                                  \n",
      " Neighborhood (InputLayer)      [(None, 1)]          0           []                               \n",
      "                                                                                                  \n",
      " OverallQual (InputLayer)       [(None, 1)]          0           []                               \n",
      "                                                                                                  \n",
      " PoolQC (InputLayer)            [(None, 1)]          0           []                               \n",
      "                                                                                                  \n",
      " SaleCondition (InputLayer)     [(None, 1)]          0           []                               \n",
      "                                                                                                  \n",
      " SaleType (InputLayer)          [(None, 1)]          0           []                               \n",
      "                                                                                                  \n",
      " TotRmsAbvGrd (InputLayer)      [(None, 1)]          0           []                               \n",
      "                                                                                                  \n",
      " TotalBsmtSF (InputLayer)       [(None, 1)]          0           []                               \n",
      "                                                                                                  \n",
      " YearBuilt (InputLayer)         [(None, 1)]          0           []                               \n",
      "                                                                                                  \n",
      " model_2 (Functional)           (None, 74)           21          ['BsmtFinSF1[0][0]',             \n",
      "                                                                  'ExterQual[0][0]',              \n",
      "                                                                  'GarageArea[0][0]',             \n",
      "                                                                  'GarageCars[0][0]',             \n",
      "                                                                  'GrLivArea[0][0]',              \n",
      "                                                                  'KitchenQual[0][0]',            \n",
      "                                                                  'LotArea[0][0]',                \n",
      "                                                                  'MSSubClass[0][0]',             \n",
      "                                                                  'MSZoning[0][0]',               \n",
      "                                                                  'Neighborhood[0][0]',           \n",
      "                                                                  'OverallQual[0][0]',            \n",
      "                                                                  'PoolQC[0][0]',                 \n",
      "                                                                  'SaleCondition[0][0]',          \n",
      "                                                                  'SaleType[0][0]',               \n",
      "                                                                  'TotRmsAbvGrd[0][0]',           \n",
      "                                                                  'TotalBsmtSF[0][0]',            \n",
      "                                                                  'YearBuilt[0][0]']              \n",
      "                                                                                                  \n",
      " dense_16 (Dense)               (None, 100)          7500        ['model_2[0][0]']                \n",
      "                                                                                                  \n",
      " dropout_8 (Dropout)            (None, 100)          0           ['dense_16[0][0]']               \n",
      "                                                                                                  \n",
      " dense_17 (Dense)               (None, 150)          15150       ['dropout_8[0][0]']              \n",
      "                                                                                                  \n",
      " dropout_9 (Dropout)            (None, 150)          0           ['dense_17[0][0]']               \n",
      "                                                                                                  \n",
      " dense_18 (Dense)               (None, 100)          15100       ['dropout_9[0][0]']              \n",
      "                                                                                                  \n",
      " dense_19 (Dense)               (None, 1)            101         ['dense_18[0][0]']               \n",
      "                                                                                                  \n",
      "==================================================================================================\n",
      "Total params: 37,872\n",
      "Trainable params: 37,851\n",
      "Non-trainable params: 21\n",
      "__________________________________________________________________________________________________\n",
      "None\n"
     ]
    }
   ],
   "source": [
    "print(house_price_model.summary())"
   ]
  },
  {
   "cell_type": "code",
   "execution_count": 95,
   "metadata": {},
   "outputs": [],
   "source": [
    "#function to create train and validation dictionaries\n",
    "def train_val(df:pd.DataFrame,val_fraction,feature_list,label,shuffle=False):\n",
    "    '''returns the train and validation sets as dictionaries'''\n",
    "    if shuffle==True:\n",
    "        df=df.sample(frac=1)\n",
    "    \n",
    "    val_size=int(val_fraction*len(df))\n",
    "    train_size=len(df)-val_size\n",
    "    print('train size = ', train_size, '\\nvalidation size = ', val_size)\n",
    "    train_df=df.iloc[:train_size]\n",
    "    val_df=df.iloc[train_size:]\n",
    "    train_dict={name:np.array(train_df[name]) for name in feature_list}\n",
    "    val_dict={name:np.array(val_df[name]) for name in feature_list}\n",
    "    train_label=train_df[label]\n",
    "    val_label=val_df[label]\n",
    "    return train_dict,train_label,val_dict,val_label"
   ]
  },
  {
   "cell_type": "code",
   "execution_count": 66,
   "metadata": {},
   "outputs": [],
   "source": [
    "train_features_dict={name:np.array(train[name]) for name in (int_num_f+int_cat_f)}\n"
   ]
  },
  {
   "cell_type": "code",
   "execution_count": 67,
   "metadata": {},
   "outputs": [
    {
     "data": {
      "text/plain": [
       "array(['Normal', 'Normal', 'Normal', ..., 'Normal', 'Normal', 'Normal'],\n",
       "      dtype=object)"
      ]
     },
     "execution_count": 67,
     "metadata": {},
     "output_type": "execute_result"
    }
   ],
   "source": [
    "train_features_dict['SaleCondition']"
   ]
  },
  {
   "cell_type": "code",
   "execution_count": 68,
   "metadata": {},
   "outputs": [
    {
     "data": {
      "text/plain": [
       "<tf.Tensor: shape=(1460, 74), dtype=float32, numpy=\n",
       "array([[ 0.65147984, -0.20714168,  0.57542485, ...,  0.        ,\n",
       "         1.        ,  0.        ],\n",
       "       [-0.0718355 , -0.09188636,  1.1719922 , ...,  0.        ,\n",
       "         1.        ,  0.        ],\n",
       "       [ 0.65147984,  0.07347997,  0.09290722, ...,  0.        ,\n",
       "         1.        ,  0.        ],\n",
       "       ...,\n",
       "       [ 0.65147984, -0.14781025, -0.36987108, ...,  0.        ,\n",
       "         1.        ,  0.        ],\n",
       "       [-0.7951509 , -0.08016039, -0.8655483 , ...,  0.        ,\n",
       "         1.        ,  0.        ],\n",
       "       [-0.7951509 , -0.05811154,  0.8473894 , ...,  0.        ,\n",
       "         1.        ,  0.        ]], dtype=float32)>"
      ]
     },
     "execution_count": 68,
     "metadata": {},
     "output_type": "execute_result"
    }
   ],
   "source": [
    "house_prices_preprocessing(train_features_dict)"
   ]
  },
  {
   "cell_type": "code",
   "execution_count": 83,
   "metadata": {},
   "outputs": [
    {
     "name": "stdout",
     "output_type": "stream",
     "text": [
      "Epoch 1/100\n",
      "78/78 [==============================] - 2s 21ms/step - loss: 0.0645 - root_mean_squared_error: 57461.3320 - mean_squared_logarithmic_error: 0.0645 - val_loss: 0.0530 - val_root_mean_squared_error: 59860.8828 - val_mean_squared_logarithmic_error: 0.0530\n",
      "Epoch 2/100\n",
      "78/78 [==============================] - 2s 20ms/step - loss: 0.0607 - root_mean_squared_error: 55997.8477 - mean_squared_logarithmic_error: 0.0607 - val_loss: 0.0501 - val_root_mean_squared_error: 58446.7578 - val_mean_squared_logarithmic_error: 0.0501\n",
      "Epoch 3/100\n",
      "78/78 [==============================] - 2s 21ms/step - loss: 0.0597 - root_mean_squared_error: 55209.3320 - mean_squared_logarithmic_error: 0.0597 - val_loss: 0.0477 - val_root_mean_squared_error: 57194.8438 - val_mean_squared_logarithmic_error: 0.0477\n",
      "Epoch 4/100\n",
      "78/78 [==============================] - 2s 20ms/step - loss: 0.0554 - root_mean_squared_error: 52869.0859 - mean_squared_logarithmic_error: 0.0554 - val_loss: 0.0457 - val_root_mean_squared_error: 56052.7539 - val_mean_squared_logarithmic_error: 0.0457\n",
      "Epoch 5/100\n",
      "78/78 [==============================] - 2s 21ms/step - loss: 0.0530 - root_mean_squared_error: 51725.1133 - mean_squared_logarithmic_error: 0.0530 - val_loss: 0.0440 - val_root_mean_squared_error: 55116.1758 - val_mean_squared_logarithmic_error: 0.0440\n",
      "Epoch 6/100\n",
      "78/78 [==============================] - 2s 19ms/step - loss: 0.0531 - root_mean_squared_error: 51022.6133 - mean_squared_logarithmic_error: 0.0531 - val_loss: 0.0426 - val_root_mean_squared_error: 54300.8477 - val_mean_squared_logarithmic_error: 0.0426\n",
      "Epoch 7/100\n",
      "78/78 [==============================] - 2s 20ms/step - loss: 0.0521 - root_mean_squared_error: 51661.6797 - mean_squared_logarithmic_error: 0.0521 - val_loss: 0.0415 - val_root_mean_squared_error: 53548.9531 - val_mean_squared_logarithmic_error: 0.0415\n",
      "Epoch 8/100\n",
      "78/78 [==============================] - 2s 20ms/step - loss: 0.0501 - root_mean_squared_error: 48433.9062 - mean_squared_logarithmic_error: 0.0501 - val_loss: 0.0404 - val_root_mean_squared_error: 52872.1836 - val_mean_squared_logarithmic_error: 0.0404\n",
      "Epoch 9/100\n",
      "78/78 [==============================] - 1s 19ms/step - loss: 0.0497 - root_mean_squared_error: 48026.3789 - mean_squared_logarithmic_error: 0.0497 - val_loss: 0.0396 - val_root_mean_squared_error: 52382.8516 - val_mean_squared_logarithmic_error: 0.0396\n",
      "Epoch 10/100\n",
      "78/78 [==============================] - 2s 20ms/step - loss: 0.0485 - root_mean_squared_error: 48282.1719 - mean_squared_logarithmic_error: 0.0485 - val_loss: 0.0389 - val_root_mean_squared_error: 51865.2539 - val_mean_squared_logarithmic_error: 0.0389\n",
      "Epoch 11/100\n",
      "78/78 [==============================] - 2s 20ms/step - loss: 0.0480 - root_mean_squared_error: 47779.6875 - mean_squared_logarithmic_error: 0.0480 - val_loss: 0.0383 - val_root_mean_squared_error: 51484.6133 - val_mean_squared_logarithmic_error: 0.0383\n",
      "Epoch 12/100\n",
      "78/78 [==============================] - 2s 20ms/step - loss: 0.0487 - root_mean_squared_error: 48025.2031 - mean_squared_logarithmic_error: 0.0487 - val_loss: 0.0377 - val_root_mean_squared_error: 51012.7812 - val_mean_squared_logarithmic_error: 0.0377\n",
      "Epoch 13/100\n",
      "78/78 [==============================] - 1s 19ms/step - loss: 0.0409 - root_mean_squared_error: 44088.7227 - mean_squared_logarithmic_error: 0.0409 - val_loss: 0.0373 - val_root_mean_squared_error: 50759.1250 - val_mean_squared_logarithmic_error: 0.0373\n",
      "Epoch 14/100\n",
      "78/78 [==============================] - 2s 19ms/step - loss: 0.0449 - root_mean_squared_error: 46342.1484 - mean_squared_logarithmic_error: 0.0449 - val_loss: 0.0369 - val_root_mean_squared_error: 50432.0664 - val_mean_squared_logarithmic_error: 0.0369\n",
      "Epoch 15/100\n",
      "78/78 [==============================] - 2s 20ms/step - loss: 0.0436 - root_mean_squared_error: 44609.7539 - mean_squared_logarithmic_error: 0.0436 - val_loss: 0.0365 - val_root_mean_squared_error: 50192.6562 - val_mean_squared_logarithmic_error: 0.0365\n",
      "Epoch 16/100\n",
      "78/78 [==============================] - 1s 19ms/step - loss: 0.0461 - root_mean_squared_error: 45279.3125 - mean_squared_logarithmic_error: 0.0461 - val_loss: 0.0362 - val_root_mean_squared_error: 49961.2188 - val_mean_squared_logarithmic_error: 0.0362\n",
      "Epoch 17/100\n",
      "78/78 [==============================] - 2s 22ms/step - loss: 0.0416 - root_mean_squared_error: 43784.1172 - mean_squared_logarithmic_error: 0.0416 - val_loss: 0.0359 - val_root_mean_squared_error: 49733.5664 - val_mean_squared_logarithmic_error: 0.0359\n",
      "Epoch 18/100\n",
      "78/78 [==============================] - 1s 19ms/step - loss: 0.0421 - root_mean_squared_error: 43851.0312 - mean_squared_logarithmic_error: 0.0421 - val_loss: 0.0356 - val_root_mean_squared_error: 49574.3594 - val_mean_squared_logarithmic_error: 0.0356\n",
      "Epoch 19/100\n",
      "78/78 [==============================] - 1s 19ms/step - loss: 0.0425 - root_mean_squared_error: 43320.3359 - mean_squared_logarithmic_error: 0.0425 - val_loss: 0.0353 - val_root_mean_squared_error: 49408.9570 - val_mean_squared_logarithmic_error: 0.0353\n",
      "Epoch 20/100\n",
      "78/78 [==============================] - 1s 19ms/step - loss: 0.0426 - root_mean_squared_error: 44447.6719 - mean_squared_logarithmic_error: 0.0426 - val_loss: 0.0351 - val_root_mean_squared_error: 49218.4648 - val_mean_squared_logarithmic_error: 0.0351\n",
      "Epoch 21/100\n",
      "78/78 [==============================] - 2s 20ms/step - loss: 0.0403 - root_mean_squared_error: 42950.7812 - mean_squared_logarithmic_error: 0.0403 - val_loss: 0.0348 - val_root_mean_squared_error: 49108.1523 - val_mean_squared_logarithmic_error: 0.0348\n",
      "Epoch 22/100\n",
      "78/78 [==============================] - 2s 19ms/step - loss: 0.0415 - root_mean_squared_error: 42805.4492 - mean_squared_logarithmic_error: 0.0415 - val_loss: 0.0345 - val_root_mean_squared_error: 48970.0117 - val_mean_squared_logarithmic_error: 0.0345\n",
      "Epoch 23/100\n",
      "78/78 [==============================] - 2s 22ms/step - loss: 0.0421 - root_mean_squared_error: 43612.0508 - mean_squared_logarithmic_error: 0.0421 - val_loss: 0.0343 - val_root_mean_squared_error: 48844.1094 - val_mean_squared_logarithmic_error: 0.0343\n",
      "Epoch 24/100\n",
      "78/78 [==============================] - 1s 19ms/step - loss: 0.0393 - root_mean_squared_error: 42952.4922 - mean_squared_logarithmic_error: 0.0393 - val_loss: 0.0341 - val_root_mean_squared_error: 48708.2383 - val_mean_squared_logarithmic_error: 0.0341\n",
      "Epoch 25/100\n",
      "78/78 [==============================] - 2s 20ms/step - loss: 0.0400 - root_mean_squared_error: 41864.0117 - mean_squared_logarithmic_error: 0.0400 - val_loss: 0.0337 - val_root_mean_squared_error: 48650.6172 - val_mean_squared_logarithmic_error: 0.0337\n",
      "Epoch 26/100\n",
      "78/78 [==============================] - 2s 21ms/step - loss: 0.0400 - root_mean_squared_error: 42789.4648 - mean_squared_logarithmic_error: 0.0400 - val_loss: 0.0336 - val_root_mean_squared_error: 48547.1992 - val_mean_squared_logarithmic_error: 0.0336\n",
      "Epoch 27/100\n",
      "78/78 [==============================] - 2s 20ms/step - loss: 0.0381 - root_mean_squared_error: 41959.7656 - mean_squared_logarithmic_error: 0.0381 - val_loss: 0.0333 - val_root_mean_squared_error: 48447.4883 - val_mean_squared_logarithmic_error: 0.0333\n",
      "Epoch 28/100\n",
      "78/78 [==============================] - 1s 18ms/step - loss: 0.0386 - root_mean_squared_error: 42158.9102 - mean_squared_logarithmic_error: 0.0386 - val_loss: 0.0330 - val_root_mean_squared_error: 48402.0898 - val_mean_squared_logarithmic_error: 0.0330\n",
      "Epoch 29/100\n",
      "78/78 [==============================] - 2s 26ms/step - loss: 0.0412 - root_mean_squared_error: 44448.5586 - mean_squared_logarithmic_error: 0.0412 - val_loss: 0.0328 - val_root_mean_squared_error: 48269.8242 - val_mean_squared_logarithmic_error: 0.0328\n",
      "Epoch 30/100\n",
      "78/78 [==============================] - 2s 22ms/step - loss: 0.0386 - root_mean_squared_error: 41427.7188 - mean_squared_logarithmic_error: 0.0386 - val_loss: 0.0326 - val_root_mean_squared_error: 48186.3281 - val_mean_squared_logarithmic_error: 0.0326\n",
      "Epoch 31/100\n",
      "78/78 [==============================] - 2s 21ms/step - loss: 0.0381 - root_mean_squared_error: 41436.0000 - mean_squared_logarithmic_error: 0.0381 - val_loss: 0.0324 - val_root_mean_squared_error: 48079.8477 - val_mean_squared_logarithmic_error: 0.0324\n",
      "Epoch 32/100\n",
      "78/78 [==============================] - 2s 22ms/step - loss: 0.0361 - root_mean_squared_error: 40845.8945 - mean_squared_logarithmic_error: 0.0361 - val_loss: 0.0322 - val_root_mean_squared_error: 47980.1328 - val_mean_squared_logarithmic_error: 0.0322\n",
      "Epoch 33/100\n",
      "78/78 [==============================] - 1s 19ms/step - loss: 0.0360 - root_mean_squared_error: 40135.5352 - mean_squared_logarithmic_error: 0.0360 - val_loss: 0.0320 - val_root_mean_squared_error: 47921.5039 - val_mean_squared_logarithmic_error: 0.0320\n",
      "Epoch 34/100\n",
      "78/78 [==============================] - 2s 20ms/step - loss: 0.0390 - root_mean_squared_error: 41571.4844 - mean_squared_logarithmic_error: 0.0390 - val_loss: 0.0317 - val_root_mean_squared_error: 47830.4922 - val_mean_squared_logarithmic_error: 0.0317\n",
      "Epoch 35/100\n",
      "78/78 [==============================] - 2s 20ms/step - loss: 0.0383 - root_mean_squared_error: 40714.7812 - mean_squared_logarithmic_error: 0.0383 - val_loss: 0.0315 - val_root_mean_squared_error: 47748.4922 - val_mean_squared_logarithmic_error: 0.0315\n",
      "Epoch 36/100\n",
      "78/78 [==============================] - 2s 21ms/step - loss: 0.0360 - root_mean_squared_error: 40614.9141 - mean_squared_logarithmic_error: 0.0360 - val_loss: 0.0314 - val_root_mean_squared_error: 47642.2500 - val_mean_squared_logarithmic_error: 0.0314\n",
      "Epoch 37/100\n",
      "78/78 [==============================] - 2s 20ms/step - loss: 0.0338 - root_mean_squared_error: 38273.9570 - mean_squared_logarithmic_error: 0.0338 - val_loss: 0.0313 - val_root_mean_squared_error: 47547.9023 - val_mean_squared_logarithmic_error: 0.0313\n",
      "Epoch 38/100\n",
      "78/78 [==============================] - 1s 19ms/step - loss: 0.0361 - root_mean_squared_error: 40653.7734 - mean_squared_logarithmic_error: 0.0361 - val_loss: 0.0311 - val_root_mean_squared_error: 47459.3828 - val_mean_squared_logarithmic_error: 0.0311\n",
      "Epoch 39/100\n",
      "78/78 [==============================] - 1s 19ms/step - loss: 0.0355 - root_mean_squared_error: 39727.6914 - mean_squared_logarithmic_error: 0.0355 - val_loss: 0.0309 - val_root_mean_squared_error: 47383.3398 - val_mean_squared_logarithmic_error: 0.0309\n",
      "Epoch 40/100\n",
      "78/78 [==============================] - 2s 20ms/step - loss: 0.0371 - root_mean_squared_error: 40188.2773 - mean_squared_logarithmic_error: 0.0371 - val_loss: 0.0308 - val_root_mean_squared_error: 47291.8594 - val_mean_squared_logarithmic_error: 0.0308\n",
      "Epoch 41/100\n",
      "78/78 [==============================] - 1s 18ms/step - loss: 0.0361 - root_mean_squared_error: 39054.1758 - mean_squared_logarithmic_error: 0.0361 - val_loss: 0.0306 - val_root_mean_squared_error: 47220.3477 - val_mean_squared_logarithmic_error: 0.0306\n",
      "Epoch 42/100\n",
      "78/78 [==============================] - 1s 19ms/step - loss: 0.0356 - root_mean_squared_error: 39509.1328 - mean_squared_logarithmic_error: 0.0356 - val_loss: 0.0305 - val_root_mean_squared_error: 47157.2773 - val_mean_squared_logarithmic_error: 0.0305\n",
      "Epoch 43/100\n",
      "78/78 [==============================] - 2s 20ms/step - loss: 0.0332 - root_mean_squared_error: 39570.0742 - mean_squared_logarithmic_error: 0.0332 - val_loss: 0.0302 - val_root_mean_squared_error: 47121.8750 - val_mean_squared_logarithmic_error: 0.0302\n",
      "Epoch 44/100\n",
      "78/78 [==============================] - 2s 21ms/step - loss: 0.0330 - root_mean_squared_error: 38090.9492 - mean_squared_logarithmic_error: 0.0330 - val_loss: 0.0303 - val_root_mean_squared_error: 47008.5000 - val_mean_squared_logarithmic_error: 0.0303\n",
      "Epoch 45/100\n",
      "78/78 [==============================] - 2s 28ms/step - loss: 0.0331 - root_mean_squared_error: 36876.8906 - mean_squared_logarithmic_error: 0.0331 - val_loss: 0.0300 - val_root_mean_squared_error: 46929.5586 - val_mean_squared_logarithmic_error: 0.0300\n",
      "Epoch 46/100\n",
      "78/78 [==============================] - 1s 18ms/step - loss: 0.0325 - root_mean_squared_error: 39173.4141 - mean_squared_logarithmic_error: 0.0325 - val_loss: 0.0300 - val_root_mean_squared_error: 46857.1758 - val_mean_squared_logarithmic_error: 0.0300\n",
      "Epoch 47/100\n",
      "78/78 [==============================] - 1s 18ms/step - loss: 0.0343 - root_mean_squared_error: 38084.6719 - mean_squared_logarithmic_error: 0.0343 - val_loss: 0.0298 - val_root_mean_squared_error: 46806.6445 - val_mean_squared_logarithmic_error: 0.0298\n",
      "Epoch 48/100\n",
      "78/78 [==============================] - 1s 18ms/step - loss: 0.0341 - root_mean_squared_error: 38801.0078 - mean_squared_logarithmic_error: 0.0341 - val_loss: 0.0298 - val_root_mean_squared_error: 46740.0273 - val_mean_squared_logarithmic_error: 0.0298\n",
      "Epoch 49/100\n",
      "78/78 [==============================] - 1s 18ms/step - loss: 0.0328 - root_mean_squared_error: 38720.3828 - mean_squared_logarithmic_error: 0.0328 - val_loss: 0.0297 - val_root_mean_squared_error: 46683.3164 - val_mean_squared_logarithmic_error: 0.0297\n",
      "Epoch 50/100\n",
      "78/78 [==============================] - 2s 20ms/step - loss: 0.0332 - root_mean_squared_error: 37937.5312 - mean_squared_logarithmic_error: 0.0332 - val_loss: 0.0296 - val_root_mean_squared_error: 46613.0508 - val_mean_squared_logarithmic_error: 0.0296\n",
      "Epoch 51/100\n",
      "78/78 [==============================] - 2s 21ms/step - loss: 0.0343 - root_mean_squared_error: 38011.9922 - mean_squared_logarithmic_error: 0.0343 - val_loss: 0.0295 - val_root_mean_squared_error: 46527.5820 - val_mean_squared_logarithmic_error: 0.0295\n",
      "Epoch 52/100\n",
      "78/78 [==============================] - 1s 19ms/step - loss: 0.0331 - root_mean_squared_error: 38720.5664 - mean_squared_logarithmic_error: 0.0331 - val_loss: 0.0293 - val_root_mean_squared_error: 46461.6680 - val_mean_squared_logarithmic_error: 0.0293\n",
      "Epoch 53/100\n",
      "78/78 [==============================] - 2s 25ms/step - loss: 0.0316 - root_mean_squared_error: 36696.1406 - mean_squared_logarithmic_error: 0.0316 - val_loss: 0.0291 - val_root_mean_squared_error: 46334.1875 - val_mean_squared_logarithmic_error: 0.0291\n",
      "Epoch 54/100\n",
      "78/78 [==============================] - 2s 21ms/step - loss: 0.0324 - root_mean_squared_error: 36926.3125 - mean_squared_logarithmic_error: 0.0324 - val_loss: 0.0289 - val_root_mean_squared_error: 46310.3477 - val_mean_squared_logarithmic_error: 0.0289\n",
      "Epoch 55/100\n",
      "78/78 [==============================] - 1s 19ms/step - loss: 0.0325 - root_mean_squared_error: 37721.8203 - mean_squared_logarithmic_error: 0.0325 - val_loss: 0.0288 - val_root_mean_squared_error: 46294.1172 - val_mean_squared_logarithmic_error: 0.0288\n",
      "Epoch 56/100\n",
      "78/78 [==============================] - 1s 18ms/step - loss: 0.0343 - root_mean_squared_error: 39981.1641 - mean_squared_logarithmic_error: 0.0343 - val_loss: 0.0288 - val_root_mean_squared_error: 46209.4922 - val_mean_squared_logarithmic_error: 0.0288\n",
      "Epoch 57/100\n",
      "78/78 [==============================] - 1s 19ms/step - loss: 0.0310 - root_mean_squared_error: 37121.9570 - mean_squared_logarithmic_error: 0.0310 - val_loss: 0.0286 - val_root_mean_squared_error: 46233.7539 - val_mean_squared_logarithmic_error: 0.0286\n",
      "Epoch 58/100\n",
      "78/78 [==============================] - 1s 18ms/step - loss: 0.0320 - root_mean_squared_error: 37152.9805 - mean_squared_logarithmic_error: 0.0320 - val_loss: 0.0285 - val_root_mean_squared_error: 46164.6914 - val_mean_squared_logarithmic_error: 0.0285\n",
      "Epoch 59/100\n",
      "78/78 [==============================] - 2s 20ms/step - loss: 0.0315 - root_mean_squared_error: 36595.6250 - mean_squared_logarithmic_error: 0.0315 - val_loss: 0.0285 - val_root_mean_squared_error: 46088.7891 - val_mean_squared_logarithmic_error: 0.0285\n",
      "Epoch 60/100\n",
      "78/78 [==============================] - 1s 18ms/step - loss: 0.0304 - root_mean_squared_error: 36090.8906 - mean_squared_logarithmic_error: 0.0304 - val_loss: 0.0283 - val_root_mean_squared_error: 45984.0664 - val_mean_squared_logarithmic_error: 0.0283\n",
      "Epoch 61/100\n",
      "78/78 [==============================] - 1s 18ms/step - loss: 0.0296 - root_mean_squared_error: 34820.6641 - mean_squared_logarithmic_error: 0.0296 - val_loss: 0.0283 - val_root_mean_squared_error: 45979.9648 - val_mean_squared_logarithmic_error: 0.0283\n",
      "Epoch 62/100\n",
      "78/78 [==============================] - 1s 18ms/step - loss: 0.0307 - root_mean_squared_error: 35694.9141 - mean_squared_logarithmic_error: 0.0307 - val_loss: 0.0283 - val_root_mean_squared_error: 45939.4102 - val_mean_squared_logarithmic_error: 0.0283\n",
      "Epoch 63/100\n",
      "78/78 [==============================] - 1s 19ms/step - loss: 0.0313 - root_mean_squared_error: 36464.6836 - mean_squared_logarithmic_error: 0.0313 - val_loss: 0.0282 - val_root_mean_squared_error: 45931.6602 - val_mean_squared_logarithmic_error: 0.0282\n",
      "Epoch 64/100\n",
      "78/78 [==============================] - 1s 18ms/step - loss: 0.0316 - root_mean_squared_error: 39153.7227 - mean_squared_logarithmic_error: 0.0316 - val_loss: 0.0281 - val_root_mean_squared_error: 45896.3203 - val_mean_squared_logarithmic_error: 0.0281\n",
      "Epoch 65/100\n",
      "78/78 [==============================] - 1s 18ms/step - loss: 0.0300 - root_mean_squared_error: 36162.3594 - mean_squared_logarithmic_error: 0.0300 - val_loss: 0.0281 - val_root_mean_squared_error: 45920.5664 - val_mean_squared_logarithmic_error: 0.0281\n",
      "Epoch 66/100\n",
      "78/78 [==============================] - 2s 23ms/step - loss: 0.0305 - root_mean_squared_error: 35530.7578 - mean_squared_logarithmic_error: 0.0305 - val_loss: 0.0279 - val_root_mean_squared_error: 45830.5234 - val_mean_squared_logarithmic_error: 0.0279\n",
      "Epoch 67/100\n",
      "78/78 [==============================] - 2s 20ms/step - loss: 0.0290 - root_mean_squared_error: 35153.0820 - mean_squared_logarithmic_error: 0.0290 - val_loss: 0.0277 - val_root_mean_squared_error: 45777.2422 - val_mean_squared_logarithmic_error: 0.0277\n",
      "Epoch 68/100\n",
      "78/78 [==============================] - 2s 21ms/step - loss: 0.0296 - root_mean_squared_error: 36487.5508 - mean_squared_logarithmic_error: 0.0296 - val_loss: 0.0278 - val_root_mean_squared_error: 45742.8203 - val_mean_squared_logarithmic_error: 0.0278\n",
      "Epoch 69/100\n",
      "78/78 [==============================] - 1s 19ms/step - loss: 0.0306 - root_mean_squared_error: 36787.9688 - mean_squared_logarithmic_error: 0.0306 - val_loss: 0.0276 - val_root_mean_squared_error: 45687.2578 - val_mean_squared_logarithmic_error: 0.0276\n",
      "Epoch 70/100\n",
      "78/78 [==============================] - 1s 18ms/step - loss: 0.0304 - root_mean_squared_error: 35393.4609 - mean_squared_logarithmic_error: 0.0304 - val_loss: 0.0276 - val_root_mean_squared_error: 45590.8906 - val_mean_squared_logarithmic_error: 0.0276\n",
      "Epoch 71/100\n",
      "78/78 [==============================] - 1s 18ms/step - loss: 0.0290 - root_mean_squared_error: 35462.9492 - mean_squared_logarithmic_error: 0.0290 - val_loss: 0.0274 - val_root_mean_squared_error: 45480.2227 - val_mean_squared_logarithmic_error: 0.0274\n",
      "Epoch 72/100\n",
      "78/78 [==============================] - 1s 19ms/step - loss: 0.0288 - root_mean_squared_error: 34333.8047 - mean_squared_logarithmic_error: 0.0288 - val_loss: 0.0274 - val_root_mean_squared_error: 45371.5039 - val_mean_squared_logarithmic_error: 0.0274\n",
      "Epoch 73/100\n",
      "78/78 [==============================] - 1s 18ms/step - loss: 0.0285 - root_mean_squared_error: 34475.6172 - mean_squared_logarithmic_error: 0.0285 - val_loss: 0.0273 - val_root_mean_squared_error: 45289.6992 - val_mean_squared_logarithmic_error: 0.0273\n",
      "Epoch 74/100\n",
      "78/78 [==============================] - 1s 18ms/step - loss: 0.0304 - root_mean_squared_error: 37092.3086 - mean_squared_logarithmic_error: 0.0304 - val_loss: 0.0273 - val_root_mean_squared_error: 45292.3516 - val_mean_squared_logarithmic_error: 0.0273\n",
      "Epoch 75/100\n",
      "78/78 [==============================] - 1s 19ms/step - loss: 0.0287 - root_mean_squared_error: 35898.8281 - mean_squared_logarithmic_error: 0.0287 - val_loss: 0.0273 - val_root_mean_squared_error: 45253.1875 - val_mean_squared_logarithmic_error: 0.0273\n",
      "Epoch 76/100\n",
      "78/78 [==============================] - 1s 18ms/step - loss: 0.0275 - root_mean_squared_error: 34358.7188 - mean_squared_logarithmic_error: 0.0275 - val_loss: 0.0272 - val_root_mean_squared_error: 45296.2539 - val_mean_squared_logarithmic_error: 0.0272\n",
      "Epoch 77/100\n",
      "78/78 [==============================] - 1s 18ms/step - loss: 0.0275 - root_mean_squared_error: 34662.7734 - mean_squared_logarithmic_error: 0.0275 - val_loss: 0.0273 - val_root_mean_squared_error: 45252.9492 - val_mean_squared_logarithmic_error: 0.0273\n",
      "Epoch 78/100\n",
      "78/78 [==============================] - 1s 18ms/step - loss: 0.0301 - root_mean_squared_error: 35259.5664 - mean_squared_logarithmic_error: 0.0301 - val_loss: 0.0272 - val_root_mean_squared_error: 45317.9570 - val_mean_squared_logarithmic_error: 0.0272\n",
      "Epoch 79/100\n",
      "78/78 [==============================] - 1s 18ms/step - loss: 0.0286 - root_mean_squared_error: 35879.9961 - mean_squared_logarithmic_error: 0.0286 - val_loss: 0.0273 - val_root_mean_squared_error: 45334.6016 - val_mean_squared_logarithmic_error: 0.0273\n",
      "Epoch 80/100\n",
      "78/78 [==============================] - 1s 18ms/step - loss: 0.0273 - root_mean_squared_error: 34011.9570 - mean_squared_logarithmic_error: 0.0273 - val_loss: 0.0271 - val_root_mean_squared_error: 45184.8594 - val_mean_squared_logarithmic_error: 0.0271\n",
      "Epoch 81/100\n",
      "78/78 [==============================] - 1s 18ms/step - loss: 0.0287 - root_mean_squared_error: 34494.2070 - mean_squared_logarithmic_error: 0.0287 - val_loss: 0.0272 - val_root_mean_squared_error: 45146.6406 - val_mean_squared_logarithmic_error: 0.0272\n",
      "Epoch 82/100\n",
      "78/78 [==============================] - 1s 18ms/step - loss: 0.0262 - root_mean_squared_error: 33241.9023 - mean_squared_logarithmic_error: 0.0262 - val_loss: 0.0269 - val_root_mean_squared_error: 45113.0195 - val_mean_squared_logarithmic_error: 0.0269\n",
      "Epoch 83/100\n",
      "78/78 [==============================] - 1s 19ms/step - loss: 0.0288 - root_mean_squared_error: 35747.7812 - mean_squared_logarithmic_error: 0.0288 - val_loss: 0.0269 - val_root_mean_squared_error: 45058.8711 - val_mean_squared_logarithmic_error: 0.0269\n",
      "Epoch 84/100\n",
      "78/78 [==============================] - 2s 21ms/step - loss: 0.0280 - root_mean_squared_error: 34772.8477 - mean_squared_logarithmic_error: 0.0280 - val_loss: 0.0269 - val_root_mean_squared_error: 45076.3242 - val_mean_squared_logarithmic_error: 0.0269\n",
      "Epoch 85/100\n",
      "78/78 [==============================] - 1s 19ms/step - loss: 0.0275 - root_mean_squared_error: 32553.5020 - mean_squared_logarithmic_error: 0.0275 - val_loss: 0.0270 - val_root_mean_squared_error: 45100.6328 - val_mean_squared_logarithmic_error: 0.0270\n",
      "Epoch 86/100\n",
      "78/78 [==============================] - 2s 19ms/step - loss: 0.0255 - root_mean_squared_error: 31479.0625 - mean_squared_logarithmic_error: 0.0255 - val_loss: 0.0267 - val_root_mean_squared_error: 45068.1836 - val_mean_squared_logarithmic_error: 0.0267\n",
      "Epoch 87/100\n",
      "78/78 [==============================] - 1s 19ms/step - loss: 0.0283 - root_mean_squared_error: 34915.4023 - mean_squared_logarithmic_error: 0.0283 - val_loss: 0.0270 - val_root_mean_squared_error: 45127.0391 - val_mean_squared_logarithmic_error: 0.0270\n",
      "Epoch 88/100\n",
      "78/78 [==============================] - 1s 18ms/step - loss: 0.0262 - root_mean_squared_error: 31904.7930 - mean_squared_logarithmic_error: 0.0262 - val_loss: 0.0268 - val_root_mean_squared_error: 44834.2266 - val_mean_squared_logarithmic_error: 0.0268\n",
      "Epoch 89/100\n",
      "78/78 [==============================] - 1s 19ms/step - loss: 0.0263 - root_mean_squared_error: 34428.7812 - mean_squared_logarithmic_error: 0.0263 - val_loss: 0.0268 - val_root_mean_squared_error: 44999.6719 - val_mean_squared_logarithmic_error: 0.0268\n",
      "Epoch 90/100\n",
      "78/78 [==============================] - 1s 19ms/step - loss: 0.0262 - root_mean_squared_error: 33473.3438 - mean_squared_logarithmic_error: 0.0262 - val_loss: 0.0269 - val_root_mean_squared_error: 44902.6055 - val_mean_squared_logarithmic_error: 0.0269\n",
      "Epoch 91/100\n",
      "78/78 [==============================] - 1s 18ms/step - loss: 0.0272 - root_mean_squared_error: 34465.6367 - mean_squared_logarithmic_error: 0.0272 - val_loss: 0.0267 - val_root_mean_squared_error: 44898.0195 - val_mean_squared_logarithmic_error: 0.0267\n",
      "Epoch 92/100\n",
      "78/78 [==============================] - 2s 20ms/step - loss: 0.0270 - root_mean_squared_error: 34595.6484 - mean_squared_logarithmic_error: 0.0270 - val_loss: 0.0266 - val_root_mean_squared_error: 44950.5859 - val_mean_squared_logarithmic_error: 0.0266\n",
      "Epoch 93/100\n",
      "78/78 [==============================] - 2s 22ms/step - loss: 0.0287 - root_mean_squared_error: 35474.6953 - mean_squared_logarithmic_error: 0.0287 - val_loss: 0.0267 - val_root_mean_squared_error: 44900.3438 - val_mean_squared_logarithmic_error: 0.0267\n",
      "Epoch 94/100\n",
      "78/78 [==============================] - 2s 21ms/step - loss: 0.0274 - root_mean_squared_error: 35122.8984 - mean_squared_logarithmic_error: 0.0274 - val_loss: 0.0267 - val_root_mean_squared_error: 44987.8633 - val_mean_squared_logarithmic_error: 0.0267\n",
      "Epoch 95/100\n",
      "78/78 [==============================] - 2s 20ms/step - loss: 0.0263 - root_mean_squared_error: 34180.0820 - mean_squared_logarithmic_error: 0.0263 - val_loss: 0.0268 - val_root_mean_squared_error: 45094.3516 - val_mean_squared_logarithmic_error: 0.0268\n",
      "Epoch 96/100\n",
      "78/78 [==============================] - 2s 21ms/step - loss: 0.0260 - root_mean_squared_error: 32800.5000 - mean_squared_logarithmic_error: 0.0260 - val_loss: 0.0267 - val_root_mean_squared_error: 44945.8906 - val_mean_squared_logarithmic_error: 0.0267\n",
      "Epoch 97/100\n",
      "78/78 [==============================] - 2s 21ms/step - loss: 0.0263 - root_mean_squared_error: 32782.8789 - mean_squared_logarithmic_error: 0.0263 - val_loss: 0.0266 - val_root_mean_squared_error: 44917.9023 - val_mean_squared_logarithmic_error: 0.0266\n",
      "Epoch 98/100\n",
      "78/78 [==============================] - 2s 20ms/step - loss: 0.0264 - root_mean_squared_error: 33270.2266 - mean_squared_logarithmic_error: 0.0264 - val_loss: 0.0264 - val_root_mean_squared_error: 44827.0586 - val_mean_squared_logarithmic_error: 0.0264\n",
      "Epoch 99/100\n",
      "78/78 [==============================] - 2s 20ms/step - loss: 0.0264 - root_mean_squared_error: 34117.1680 - mean_squared_logarithmic_error: 0.0264 - val_loss: 0.0265 - val_root_mean_squared_error: 44840.4141 - val_mean_squared_logarithmic_error: 0.0265\n",
      "Epoch 100/100\n",
      "78/78 [==============================] - 2s 20ms/step - loss: 0.0251 - root_mean_squared_error: 33116.8398 - mean_squared_logarithmic_error: 0.0251 - val_loss: 0.0265 - val_root_mean_squared_error: 44998.7852 - val_mean_squared_logarithmic_error: 0.0265\n"
     ]
    }
   ],
   "source": [
    "history2=house_price_model.fit(x=train_features_dict, y=train[label], epochs=100,batch_size=15,validation_split=split_fraction)"
   ]
  },
  {
   "cell_type": "markdown",
   "metadata": {},
   "source": [
    "### Make predictions and score"
   ]
  },
  {
   "cell_type": "code",
   "execution_count": 84,
   "metadata": {},
   "outputs": [],
   "source": [
    "def score_and_visualize(model,x_test,y_test):\n",
    "    predictions=model.predict(x_test).flatten()\n",
    "    print(predictions.shape)\n",
    "    plt.figure(figsize=(10,10))\n",
    "    plt.scatter(y_test,predictions)\n",
    "    plt.xlabel('True')\n",
    "    plt.ylabel('Predicted')\n",
    "    msle=mean_squared_log_error(y_true=y_test, y_pred=predictions)#msle is the metric evaluated in the kaggle challange\n",
    "    r2=r2_score(y_true=y_test, y_pred=predictions)\n",
    "    print('r2 coefficient: ',r2,'\\nmsle = ', msle)\n",
    "    z = np.polyfit(y_test, predictions, 1)\n",
    "    print(z)\n",
    "    p = np.poly1d(z)\n",
    "    plt.plot(y_test,p(y_test), color='magenta')\n",
    "    plt.axline((0,0),slope=1,ls='--')\n",
    "    plt.show()"
   ]
  },
  {
   "cell_type": "code",
   "execution_count": 98,
   "metadata": {},
   "outputs": [
    {
     "data": {
      "image/png": "[encoded data removed]",
      "text/plain": [
       "<Figure size 432x288 with 1 Axes>"
      ]
     },
     "metadata": {
      "needs_background": "light"
     },
     "output_type": "display_data"
    },
    {
     "data": {
      "image/png": "[encoded data removed]",
      "text/plain": [
       "<Figure size 432x288 with 1 Axes>"
      ]
     },
     "metadata": {
      "needs_background": "light"
     },
     "output_type": "display_data"
    }
   ],
   "source": [
    "metric = history2.history['root_mean_squared_error']\n",
    "val_metric = history2.history['val_root_mean_squared_error']\n",
    "\n",
    "loss = history2.history['loss']\n",
    "val_loss = history2.history['val_loss']\n",
    "\n",
    "epochs = range(len(metric))\n",
    "\n",
    "plt.plot(epochs, metric,label='train RMSE')\n",
    "plt.plot(epochs, val_metric,label='val RMSE')\n",
    "plt.title('Training and validation RMSE')\n",
    "plt.legend()\n",
    "plt.figure()\n",
    "\n",
    "plt.plot(epochs, loss,label='train loss')\n",
    "plt.plot(epochs, val_loss,label='val loss')\n",
    "plt.title('Training and validation loss')\n",
    "plt.legend()\n",
    "\n",
    "plt.show()"
   ]
  },
  {
   "cell_type": "code",
   "execution_count": 102,
   "metadata": {},
   "outputs": [
    {
     "name": "stdout",
     "output_type": "stream",
     "text": [
      "train size =  1168 \n",
      "validation size =  292\n"
     ]
    }
   ],
   "source": [
    "_,_,val_features_dict,val_label=train_val(train,0.2,(int_num_f+int_cat_f),label=label,shuffle=True)"
   ]
  },
  {
   "cell_type": "code",
   "execution_count": 103,
   "metadata": {},
   "outputs": [
    {
     "name": "stdout",
     "output_type": "stream",
     "text": [
      "10/10 [==============================] - 0s 17ms/step\n",
      "(292,)\n",
      "r2 coefficient:  0.9044160583684147 \n",
      "msle =  0.014742696265277612\n",
      "[8.89538958e-01 1.99404115e+04]\n"
     ]
    },
    {
     "data": {
      "image/png": "[encoded data removed]",
      "text/plain": [
       "<Figure size 720x720 with 1 Axes>"
      ]
     },
     "metadata": {
      "needs_background": "light"
     },
     "output_type": "display_data"
    }
   ],
   "source": [
    "score_and_visualize(model=house_price_model,x_test=val_features_dict,y_test=val_label)\n"
   ]
  },
  {
   "cell_type": "markdown",
   "metadata": {},
   "source": [
    "Save predictions"
   ]
  },
  {
   "cell_type": "code",
   "execution_count": 105,
   "metadata": {},
   "outputs": [],
   "source": [
    "import datetime"
   ]
  },
  {
   "cell_type": "code",
   "execution_count": 106,
   "metadata": {},
   "outputs": [
    {
     "name": "stdout",
     "output_type": "stream",
     "text": [
      "46/46 [==============================] - 0s 3ms/step\n"
     ]
    }
   ],
   "source": [
    "write=True\n",
    "\n",
    "test=pd.read_csv('test.csv')\n",
    "test=test[int_num_f]\n",
    "tf.convert_to_tensor(test)\n",
    "pred=model.predict(test)\n",
    "out_df=pd.read_csv('sample_submission.csv')\n",
    "out_df['SalePrice']=pred\n",
    "if write:\n",
    "    out_df.to_csv('prediction_tf.csv',index=False)"
   ]
  },
  {
   "cell_type": "code",
   "execution_count": 107,
   "metadata": {},
   "outputs": [],
   "source": [
    "test=feat_eng(pd.read_csv('test.csv'))\n",
    "test[int_cat_f]=test[int_cat_f].fillna('none')\n",
    "test[int_num_f]=test[int_num_f].fillna(-1)"
   ]
  },
  {
   "cell_type": "code",
   "execution_count": 108,
   "metadata": {},
   "outputs": [
    {
     "name": "stdout",
     "output_type": "stream",
     "text": [
      "46/46 [==============================] - 1s 11ms/step\n"
     ]
    }
   ],
   "source": [
    "test_feature_dict={name:np.array(test[name]) for name in (int_num_f+int_cat_f)}\n",
    "for name in int_num_f:\n",
    "    test_feature_dict[name]=tf.cast(test_feature_dict[name],tf.float32)\n",
    "\n",
    "for name in int_cat_f:\n",
    "    test_feature_dict[name]=tf.cast(test_feature_dict[name],tf.string)\n",
    "\n",
    "pred=house_price_model.predict(test_feature_dict)\n",
    "out_df=pd.read_csv('sample_submission.csv')\n",
    "out_df['SalePrice']=pred\n",
    "if write:\n",
    "    out_df.to_csv('prediction_tf_allfeatures.csv',index=False)"
   ]
  },
  {
   "cell_type": "markdown",
   "metadata": {},
   "source": [
    "Save model"
   ]
  },
  {
   "cell_type": "code",
   "execution_count": 109,
   "metadata": {},
   "outputs": [],
   "source": [
    "savemodel=False\n",
    "if savemodel:\n",
    "    timestamp=datetime.datetime.now().strftime(\"%d%m%Y%H%M%S\")\n",
    "    models_folder= 'models'\n",
    "    os.makedirs(models_folder,exist_ok=True)\n",
    "    model_name= 'model_'+ timestamp +'_tf.h5'\n",
    "    modelpath= os.path.join(models_folder,model_name)\n",
    "    model.save(modelpath)\n",
    "    print('Saved ' , modelpath)"
   ]
  }
 ],
 "metadata": {
  "kernelspec": {
   "display_name": "Python 3.9.12 ('tfgpu')",
   "language": "python",
   "name": "python3"
  },
  "language_info": {
   "codemirror_mode": {
    "name": "ipython",
    "version": 3
   },
   "file_extension": ".py",
   "mimetype": "text/x-python",
   "name": "python",
   "nbconvert_exporter": "python",
   "pygments_lexer": "ipython3",
   "version": "3.9.12"
  },
  "orig_nbformat": 4,
  "vscode": {
   "interpreter": {
    "hash": "4ac2639bf6c51b051b1b83c4d99575383d6e01bb4712884ebd29a7c900e61e25"
   }
  }
 },
 "nbformat": 4,
 "nbformat_minor": 2
}
