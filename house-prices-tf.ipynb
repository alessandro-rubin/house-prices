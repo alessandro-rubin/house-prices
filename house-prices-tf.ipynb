{
 "cells": [
  {
   "cell_type": "code",
   "execution_count": 1,
   "id": "fad57d60",
   "metadata": {
    "execution": {
     "iopub.execute_input": "2022-11-28T16:15:51.836224Z",
     "iopub.status.busy": "2022-11-28T16:15:51.834951Z",
     "iopub.status.idle": "2022-11-28T16:15:58.133438Z",
     "shell.execute_reply": "2022-11-28T16:15:58.132341Z"
    },
    "papermill": {
     "duration": 6.315703,
     "end_time": "2022-11-28T16:15:58.136091",
     "exception": false,
     "start_time": "2022-11-28T16:15:51.820388",
     "status": "completed"
    },
    "tags": []
   },
   "outputs": [],
   "source": [
    "import numpy as np\n",
    "import pandas as pd \n",
    "%matplotlib inline\n",
    "import matplotlib.pyplot as plt\n",
    "import os\n",
    "import tensorflow as tf\n",
    "from tensorflow import keras\n",
    "from keras import layers\n",
    "from sklearn.model_selection import train_test_split\n",
    "from sklearn.metrics import mean_squared_log_error, r2_score\n",
    "import seaborn as sns"
   ]
  },
  {
   "cell_type": "markdown",
   "id": "cb7f9fe4",
   "metadata": {
    "papermill": {
     "duration": 0.011963,
     "end_time": "2022-11-28T16:15:58.159348",
     "exception": false,
     "start_time": "2022-11-28T16:15:58.147385",
     "status": "completed"
    },
    "tags": []
   },
   "source": [
    "Check if notebook is running locally or on kaggle/colab"
   ]
  },
  {
   "cell_type": "code",
   "execution_count": 2,
   "id": "0bf26f6b",
   "metadata": {
    "execution": {
     "iopub.execute_input": "2022-11-28T16:15:58.183559Z",
     "iopub.status.busy": "2022-11-28T16:15:58.182856Z",
     "iopub.status.idle": "2022-11-28T16:15:58.190284Z",
     "shell.execute_reply": "2022-11-28T16:15:58.189562Z"
    },
    "papermill": {
     "duration": 0.022993,
     "end_time": "2022-11-28T16:15:58.193070",
     "exception": false,
     "start_time": "2022-11-28T16:15:58.170077",
     "status": "completed"
    },
    "tags": []
   },
   "outputs": [
    {
     "name": "stdout",
     "output_type": "stream",
     "text": [
      "os.environ.get('KAGGLE_URL_BASE') ==  https://www.kaggle.com\n",
      "We are running on a Kaggle Server\n"
     ]
    }
   ],
   "source": [
    "try:\n",
    "  import google.colab\n",
    "  IN_COLAB = True\n",
    "except:\n",
    "  IN_COLAB = False\n",
    "\n",
    "print(\"os.environ.get('KAGGLE_URL_BASE') == \", os.environ.get('KAGGLE_URL_BASE'))\n",
    "if 'kaggle' in os.environ.get('KAGGLE_URL_BASE','localhost'):\n",
    "    print(\"We are running on a Kaggle Server\")\n",
    "    IN_KAGGLE = True\n",
    "else:\n",
    "    IN_KAGGLE = False"
   ]
  },
  {
   "cell_type": "code",
   "execution_count": 3,
   "id": "343307de",
   "metadata": {
    "execution": {
     "iopub.execute_input": "2022-11-28T16:15:58.216715Z",
     "iopub.status.busy": "2022-11-28T16:15:58.216000Z",
     "iopub.status.idle": "2022-11-28T16:15:58.221645Z",
     "shell.execute_reply": "2022-11-28T16:15:58.220468Z"
    },
    "papermill": {
     "duration": 0.020214,
     "end_time": "2022-11-28T16:15:58.224589",
     "exception": false,
     "start_time": "2022-11-28T16:15:58.204375",
     "status": "completed"
    },
    "tags": []
   },
   "outputs": [
    {
     "name": "stdout",
     "output_type": "stream",
     "text": [
      "False\n",
      "True\n"
     ]
    }
   ],
   "source": [
    "print(IN_COLAB)\n",
    "print(IN_KAGGLE)"
   ]
  },
  {
   "cell_type": "markdown",
   "id": "164b2ef3",
   "metadata": {
    "papermill": {
     "duration": 0.010949,
     "end_time": "2022-11-28T16:15:58.246504",
     "exception": false,
     "start_time": "2022-11-28T16:15:58.235555",
     "status": "completed"
    },
    "tags": []
   },
   "source": [
    "# House price regression using TensorFlow"
   ]
  },
  {
   "cell_type": "markdown",
   "id": "39399681",
   "metadata": {
    "papermill": {
     "duration": 0.010845,
     "end_time": "2022-11-28T16:15:58.268521",
     "exception": false,
     "start_time": "2022-11-28T16:15:58.257676",
     "status": "completed"
    },
    "tags": []
   },
   "source": [
    "I have to: \n",
    "\n",
    "1) load the data\n",
    "\n",
    "2) apply some basic feature engineering and cleaning\n",
    "\n",
    "3) encode and normalize the data into something that can be efficiently computed by tensorflow\n",
    "\n",
    "4) train the model, score it and compute metrics\n",
    "\n",
    "5) check the model predictions visually\n",
    "\n",
    "6) predict the house prices in the test set"
   ]
  },
  {
   "cell_type": "markdown",
   "id": "ff92dd92",
   "metadata": {
    "papermill": {
     "duration": 0.010772,
     "end_time": "2022-11-28T16:15:58.290150",
     "exception": false,
     "start_time": "2022-11-28T16:15:58.279378",
     "status": "completed"
    },
    "tags": []
   },
   "source": [
    "Fore more info:\n",
    "\n",
    "https://www.tensorflow.org/tutorials/load_data/pandas_dataframe\n",
    "\n",
    "https://www.tensorflow.org/tutorials/load_data/csv\n",
    "\n",
    "https://www.tensorflow.org/tutorials/structured_data/preprocessing_layers?authuser=2\n",
    "\n",
    "https://www.tensorflow.org/guide/keras/preprocessing_layers"
   ]
  },
  {
   "cell_type": "code",
   "execution_count": 4,
   "id": "755b6f36",
   "metadata": {
    "execution": {
     "iopub.execute_input": "2022-11-28T16:15:58.314290Z",
     "iopub.status.busy": "2022-11-28T16:15:58.313615Z",
     "iopub.status.idle": "2022-11-28T16:15:58.321965Z",
     "shell.execute_reply": "2022-11-28T16:15:58.321102Z"
    },
    "papermill": {
     "duration": 0.023307,
     "end_time": "2022-11-28T16:15:58.324337",
     "exception": false,
     "start_time": "2022-11-28T16:15:58.301030",
     "status": "completed"
    },
    "tags": []
   },
   "outputs": [],
   "source": [
    "if not IN_COLAB and not IN_KAGGLE:\n",
    "    from house_prices_script import feat_eng\n",
    "else:\n",
    "    def feat_eng(df):\n",
    "        ''' performs dataframe cleaning and basic feature engineering'''\n",
    "        #total floors\n",
    "        df['TotFlrSF']=df['1stFlrSF']+df['2ndFlrSF']\n",
    "        #total number of floors (1 or 2)\n",
    "        df['nFlrs']=df['2ndFlrSF'].map(lambda x: int(x>0)+1.)#if df['2ndFlrSF']>0 then df['nFlrs']=2\n",
    "        df['GarageType']=df['GarageType'].fillna('NoGarage')\n",
    "        df['GarageQual']=df['GarageQual'].fillna('NoGarage')\n",
    "        df['GarageCond']=df['GarageCond'].fillna('NoGarage')\n",
    "        df['PoolQC']=df['PoolQC'].fillna('NoPool')\n",
    "        df['FireplaceQu']=df['FireplaceQu'].fillna('NoFp')\n",
    "        #garage cars vs house size\n",
    "        #number of bathrooms vs house size/n bedrooms\n",
    "        return df"
   ]
  },
  {
   "cell_type": "markdown",
   "id": "776fec27",
   "metadata": {
    "papermill": {
     "duration": 0.010537,
     "end_time": "2022-11-28T16:15:58.346718",
     "exception": false,
     "start_time": "2022-11-28T16:15:58.336181",
     "status": "completed"
    },
    "tags": []
   },
   "source": [
    "Load data:"
   ]
  },
  {
   "cell_type": "code",
   "execution_count": 5,
   "id": "83d5d869",
   "metadata": {
    "execution": {
     "iopub.execute_input": "2022-11-28T16:15:58.370216Z",
     "iopub.status.busy": "2022-11-28T16:15:58.369461Z",
     "iopub.status.idle": "2022-11-28T16:15:58.374485Z",
     "shell.execute_reply": "2022-11-28T16:15:58.373703Z"
    },
    "papermill": {
     "duration": 0.019275,
     "end_time": "2022-11-28T16:15:58.376667",
     "exception": false,
     "start_time": "2022-11-28T16:15:58.357392",
     "status": "completed"
    },
    "tags": []
   },
   "outputs": [],
   "source": [
    "if(IN_KAGGLE):\n",
    "    train_path='../input/house-prices-advanced-regression-techniques/train.csv'\n",
    "else:\n",
    "    train_path='./train.csv'"
   ]
  },
  {
   "cell_type": "code",
   "execution_count": 6,
   "id": "b641d604",
   "metadata": {
    "execution": {
     "iopub.execute_input": "2022-11-28T16:15:58.399862Z",
     "iopub.status.busy": "2022-11-28T16:15:58.399226Z",
     "iopub.status.idle": "2022-11-28T16:15:58.444335Z",
     "shell.execute_reply": "2022-11-28T16:15:58.443038Z"
    },
    "papermill": {
     "duration": 0.059779,
     "end_time": "2022-11-28T16:15:58.447186",
     "exception": false,
     "start_time": "2022-11-28T16:15:58.387407",
     "status": "completed"
    },
    "tags": []
   },
   "outputs": [],
   "source": [
    "train=pd.read_csv(train_path).drop([523,1298])"
   ]
  },
  {
   "cell_type": "code",
   "execution_count": 7,
   "id": "f528f57a",
   "metadata": {
    "execution": {
     "iopub.execute_input": "2022-11-28T16:15:58.471906Z",
     "iopub.status.busy": "2022-11-28T16:15:58.471520Z",
     "iopub.status.idle": "2022-11-28T16:15:58.476501Z",
     "shell.execute_reply": "2022-11-28T16:15:58.475807Z"
    },
    "papermill": {
     "duration": 0.019589,
     "end_time": "2022-11-28T16:15:58.478438",
     "exception": false,
     "start_time": "2022-11-28T16:15:58.458849",
     "status": "completed"
    },
    "tags": []
   },
   "outputs": [],
   "source": [
    "int_cat_f=['SaleCondition','ExterQual','Neighborhood','KitchenQual','SaleType','PoolQC','MSZoning','GarageQual','Condition1','BldgType','FireplaceQu','GarageType']\n",
    "int_num_f=['OverallQual','LotArea','BsmtFinSF1','TotalBsmtSF','GrLivArea','GarageArea','YearBuilt','GarageCars','TotRmsAbvGrd','MSSubClass','WoodDeckSF','YearRemodAdd']\n"
   ]
  },
  {
   "cell_type": "code",
   "execution_count": 8,
   "id": "ceeca5de",
   "metadata": {
    "execution": {
     "iopub.execute_input": "2022-11-28T16:15:58.501634Z",
     "iopub.status.busy": "2022-11-28T16:15:58.501126Z",
     "iopub.status.idle": "2022-11-28T16:15:58.504618Z",
     "shell.execute_reply": "2022-11-28T16:15:58.503927Z"
    },
    "papermill": {
     "duration": 0.017375,
     "end_time": "2022-11-28T16:15:58.506612",
     "exception": false,
     "start_time": "2022-11-28T16:15:58.489237",
     "status": "completed"
    },
    "tags": []
   },
   "outputs": [],
   "source": [
    "label='SalePrice'"
   ]
  },
  {
   "cell_type": "code",
   "execution_count": 9,
   "id": "f94957fc",
   "metadata": {
    "execution": {
     "iopub.execute_input": "2022-11-28T16:15:58.529406Z",
     "iopub.status.busy": "2022-11-28T16:15:58.528888Z",
     "iopub.status.idle": "2022-11-28T16:15:58.532652Z",
     "shell.execute_reply": "2022-11-28T16:15:58.531964Z"
    },
    "papermill": {
     "duration": 0.017549,
     "end_time": "2022-11-28T16:15:58.534707",
     "exception": false,
     "start_time": "2022-11-28T16:15:58.517158",
     "status": "completed"
    },
    "tags": []
   },
   "outputs": [],
   "source": [
    "plot=False"
   ]
  },
  {
   "cell_type": "code",
   "execution_count": 10,
   "id": "73617299",
   "metadata": {
    "execution": {
     "iopub.execute_input": "2022-11-28T16:15:58.558329Z",
     "iopub.status.busy": "2022-11-28T16:15:58.557789Z",
     "iopub.status.idle": "2022-11-28T16:15:58.564421Z",
     "shell.execute_reply": "2022-11-28T16:15:58.563438Z"
    },
    "papermill": {
     "duration": 0.021151,
     "end_time": "2022-11-28T16:15:58.566698",
     "exception": false,
     "start_time": "2022-11-28T16:15:58.545547",
     "status": "completed"
    },
    "tags": []
   },
   "outputs": [],
   "source": [
    "def plot_categorical(grouped,label,figsize=(12,8)):\n",
    "    plt.figure(figsize=figsize)\n",
    "    labels=[]\n",
    "    data=[]\n",
    "    for name,group in grouped:\n",
    "        labels.append(name)\n",
    "        data.append(group[label])\n",
    "    plt.boxplot(data,labels=labels)\n",
    "    plt.xlabel(name)\n",
    "    plt.ylabel(label)\n",
    "    plt.show()\n",
    "if plot:\n",
    "    for f in int_cat_f:\n",
    "        grouped=train.groupby(f)\n",
    "        print(f)\n",
    "        plot_categorical(grouped,label=label,figsize=(8,8))"
   ]
  },
  {
   "cell_type": "code",
   "execution_count": 11,
   "id": "7278c5ed",
   "metadata": {
    "execution": {
     "iopub.execute_input": "2022-11-28T16:15:58.589834Z",
     "iopub.status.busy": "2022-11-28T16:15:58.589436Z",
     "iopub.status.idle": "2022-11-28T16:15:59.025149Z",
     "shell.execute_reply": "2022-11-28T16:15:59.024008Z"
    },
    "papermill": {
     "duration": 0.45046,
     "end_time": "2022-11-28T16:15:59.027774",
     "exception": false,
     "start_time": "2022-11-28T16:15:58.577314",
     "status": "completed"
    },
    "tags": []
   },
   "outputs": [
    {
     "data": {
      "image/png": "[encoded data removed]",
      "text/plain": [
       "<Figure size 576x576 with 2 Axes>"
      ]
     },
     "metadata": {
      "needs_background": "light"
     },
     "output_type": "display_data"
    }
   ],
   "source": [
    "\n",
    "corrmat = train[int_num_f+[label]].corr()\n",
    "f, ax = plt.subplots(figsize=(8,8))\n",
    "sns.heatmap(corrmat, vmax=.8, square=True,cmap=\"coolwarm\")\n",
    "plt.show()"
   ]
  },
  {
   "cell_type": "markdown",
   "id": "dc0753b0",
   "metadata": {
    "papermill": {
     "duration": 0.010889,
     "end_time": "2022-11-28T16:15:59.050128",
     "exception": false,
     "start_time": "2022-11-28T16:15:59.039239",
     "status": "completed"
    },
    "tags": []
   },
   "source": [
    "### First implementation: only using numeric features and model.fit() method"
   ]
  },
  {
   "cell_type": "code",
   "execution_count": 12,
   "id": "fd8f7b54",
   "metadata": {
    "execution": {
     "iopub.execute_input": "2022-11-28T16:15:59.074013Z",
     "iopub.status.busy": "2022-11-28T16:15:59.073255Z",
     "iopub.status.idle": "2022-11-28T16:15:59.115918Z",
     "shell.execute_reply": "2022-11-28T16:15:59.114691Z"
    },
    "papermill": {
     "duration": 0.05742,
     "end_time": "2022-11-28T16:15:59.118481",
     "exception": false,
     "start_time": "2022-11-28T16:15:59.061061",
     "status": "completed"
    },
    "tags": []
   },
   "outputs": [
    {
     "data": {
      "text/html": [
       "<div>\n",
       "<style scoped>\n",
       "    .dataframe tbody tr th:only-of-type {\n",
       "        vertical-align: middle;\n",
       "    }\n",
       "\n",
       "    .dataframe tbody tr th {\n",
       "        vertical-align: top;\n",
       "    }\n",
       "\n",
       "    .dataframe thead th {\n",
       "        text-align: right;\n",
       "    }\n",
       "</style>\n",
       "<table border=\"1\" class=\"dataframe\">\n",
       "  <thead>\n",
       "    <tr style=\"text-align: right;\">\n",
       "      <th></th>\n",
       "      <th>Id</th>\n",
       "      <th>MSSubClass</th>\n",
       "      <th>MSZoning</th>\n",
       "      <th>LotFrontage</th>\n",
       "      <th>LotArea</th>\n",
       "      <th>Street</th>\n",
       "      <th>Alley</th>\n",
       "      <th>LotShape</th>\n",
       "      <th>LandContour</th>\n",
       "      <th>Utilities</th>\n",
       "      <th>...</th>\n",
       "      <th>Fence</th>\n",
       "      <th>MiscFeature</th>\n",
       "      <th>MiscVal</th>\n",
       "      <th>MoSold</th>\n",
       "      <th>YrSold</th>\n",
       "      <th>SaleType</th>\n",
       "      <th>SaleCondition</th>\n",
       "      <th>SalePrice</th>\n",
       "      <th>TotFlrSF</th>\n",
       "      <th>nFlrs</th>\n",
       "    </tr>\n",
       "  </thead>\n",
       "  <tbody>\n",
       "    <tr>\n",
       "      <th>0</th>\n",
       "      <td>1</td>\n",
       "      <td>60</td>\n",
       "      <td>RL</td>\n",
       "      <td>65.0</td>\n",
       "      <td>8450</td>\n",
       "      <td>Pave</td>\n",
       "      <td>NaN</td>\n",
       "      <td>Reg</td>\n",
       "      <td>Lvl</td>\n",
       "      <td>AllPub</td>\n",
       "      <td>...</td>\n",
       "      <td>NaN</td>\n",
       "      <td>NaN</td>\n",
       "      <td>0</td>\n",
       "      <td>2</td>\n",
       "      <td>2008</td>\n",
       "      <td>WD</td>\n",
       "      <td>Normal</td>\n",
       "      <td>208500</td>\n",
       "      <td>1710</td>\n",
       "      <td>2.0</td>\n",
       "    </tr>\n",
       "    <tr>\n",
       "      <th>1</th>\n",
       "      <td>2</td>\n",
       "      <td>20</td>\n",
       "      <td>RL</td>\n",
       "      <td>80.0</td>\n",
       "      <td>9600</td>\n",
       "      <td>Pave</td>\n",
       "      <td>NaN</td>\n",
       "      <td>Reg</td>\n",
       "      <td>Lvl</td>\n",
       "      <td>AllPub</td>\n",
       "      <td>...</td>\n",
       "      <td>NaN</td>\n",
       "      <td>NaN</td>\n",
       "      <td>0</td>\n",
       "      <td>5</td>\n",
       "      <td>2007</td>\n",
       "      <td>WD</td>\n",
       "      <td>Normal</td>\n",
       "      <td>181500</td>\n",
       "      <td>1262</td>\n",
       "      <td>1.0</td>\n",
       "    </tr>\n",
       "    <tr>\n",
       "      <th>2</th>\n",
       "      <td>3</td>\n",
       "      <td>60</td>\n",
       "      <td>RL</td>\n",
       "      <td>68.0</td>\n",
       "      <td>11250</td>\n",
       "      <td>Pave</td>\n",
       "      <td>NaN</td>\n",
       "      <td>IR1</td>\n",
       "      <td>Lvl</td>\n",
       "      <td>AllPub</td>\n",
       "      <td>...</td>\n",
       "      <td>NaN</td>\n",
       "      <td>NaN</td>\n",
       "      <td>0</td>\n",
       "      <td>9</td>\n",
       "      <td>2008</td>\n",
       "      <td>WD</td>\n",
       "      <td>Normal</td>\n",
       "      <td>223500</td>\n",
       "      <td>1786</td>\n",
       "      <td>2.0</td>\n",
       "    </tr>\n",
       "    <tr>\n",
       "      <th>3</th>\n",
       "      <td>4</td>\n",
       "      <td>70</td>\n",
       "      <td>RL</td>\n",
       "      <td>60.0</td>\n",
       "      <td>9550</td>\n",
       "      <td>Pave</td>\n",
       "      <td>NaN</td>\n",
       "      <td>IR1</td>\n",
       "      <td>Lvl</td>\n",
       "      <td>AllPub</td>\n",
       "      <td>...</td>\n",
       "      <td>NaN</td>\n",
       "      <td>NaN</td>\n",
       "      <td>0</td>\n",
       "      <td>2</td>\n",
       "      <td>2006</td>\n",
       "      <td>WD</td>\n",
       "      <td>Abnorml</td>\n",
       "      <td>140000</td>\n",
       "      <td>1717</td>\n",
       "      <td>2.0</td>\n",
       "    </tr>\n",
       "    <tr>\n",
       "      <th>4</th>\n",
       "      <td>5</td>\n",
       "      <td>60</td>\n",
       "      <td>RL</td>\n",
       "      <td>84.0</td>\n",
       "      <td>14260</td>\n",
       "      <td>Pave</td>\n",
       "      <td>NaN</td>\n",
       "      <td>IR1</td>\n",
       "      <td>Lvl</td>\n",
       "      <td>AllPub</td>\n",
       "      <td>...</td>\n",
       "      <td>NaN</td>\n",
       "      <td>NaN</td>\n",
       "      <td>0</td>\n",
       "      <td>12</td>\n",
       "      <td>2008</td>\n",
       "      <td>WD</td>\n",
       "      <td>Normal</td>\n",
       "      <td>250000</td>\n",
       "      <td>2198</td>\n",
       "      <td>2.0</td>\n",
       "    </tr>\n",
       "    <tr>\n",
       "      <th>...</th>\n",
       "      <td>...</td>\n",
       "      <td>...</td>\n",
       "      <td>...</td>\n",
       "      <td>...</td>\n",
       "      <td>...</td>\n",
       "      <td>...</td>\n",
       "      <td>...</td>\n",
       "      <td>...</td>\n",
       "      <td>...</td>\n",
       "      <td>...</td>\n",
       "      <td>...</td>\n",
       "      <td>...</td>\n",
       "      <td>...</td>\n",
       "      <td>...</td>\n",
       "      <td>...</td>\n",
       "      <td>...</td>\n",
       "      <td>...</td>\n",
       "      <td>...</td>\n",
       "      <td>...</td>\n",
       "      <td>...</td>\n",
       "      <td>...</td>\n",
       "    </tr>\n",
       "    <tr>\n",
       "      <th>1455</th>\n",
       "      <td>1456</td>\n",
       "      <td>60</td>\n",
       "      <td>RL</td>\n",
       "      <td>62.0</td>\n",
       "      <td>7917</td>\n",
       "      <td>Pave</td>\n",
       "      <td>NaN</td>\n",
       "      <td>Reg</td>\n",
       "      <td>Lvl</td>\n",
       "      <td>AllPub</td>\n",
       "      <td>...</td>\n",
       "      <td>NaN</td>\n",
       "      <td>NaN</td>\n",
       "      <td>0</td>\n",
       "      <td>8</td>\n",
       "      <td>2007</td>\n",
       "      <td>WD</td>\n",
       "      <td>Normal</td>\n",
       "      <td>175000</td>\n",
       "      <td>1647</td>\n",
       "      <td>2.0</td>\n",
       "    </tr>\n",
       "    <tr>\n",
       "      <th>1456</th>\n",
       "      <td>1457</td>\n",
       "      <td>20</td>\n",
       "      <td>RL</td>\n",
       "      <td>85.0</td>\n",
       "      <td>13175</td>\n",
       "      <td>Pave</td>\n",
       "      <td>NaN</td>\n",
       "      <td>Reg</td>\n",
       "      <td>Lvl</td>\n",
       "      <td>AllPub</td>\n",
       "      <td>...</td>\n",
       "      <td>MnPrv</td>\n",
       "      <td>NaN</td>\n",
       "      <td>0</td>\n",
       "      <td>2</td>\n",
       "      <td>2010</td>\n",
       "      <td>WD</td>\n",
       "      <td>Normal</td>\n",
       "      <td>210000</td>\n",
       "      <td>2073</td>\n",
       "      <td>1.0</td>\n",
       "    </tr>\n",
       "    <tr>\n",
       "      <th>1457</th>\n",
       "      <td>1458</td>\n",
       "      <td>70</td>\n",
       "      <td>RL</td>\n",
       "      <td>66.0</td>\n",
       "      <td>9042</td>\n",
       "      <td>Pave</td>\n",
       "      <td>NaN</td>\n",
       "      <td>Reg</td>\n",
       "      <td>Lvl</td>\n",
       "      <td>AllPub</td>\n",
       "      <td>...</td>\n",
       "      <td>GdPrv</td>\n",
       "      <td>Shed</td>\n",
       "      <td>2500</td>\n",
       "      <td>5</td>\n",
       "      <td>2010</td>\n",
       "      <td>WD</td>\n",
       "      <td>Normal</td>\n",
       "      <td>266500</td>\n",
       "      <td>2340</td>\n",
       "      <td>2.0</td>\n",
       "    </tr>\n",
       "    <tr>\n",
       "      <th>1458</th>\n",
       "      <td>1459</td>\n",
       "      <td>20</td>\n",
       "      <td>RL</td>\n",
       "      <td>68.0</td>\n",
       "      <td>9717</td>\n",
       "      <td>Pave</td>\n",
       "      <td>NaN</td>\n",
       "      <td>Reg</td>\n",
       "      <td>Lvl</td>\n",
       "      <td>AllPub</td>\n",
       "      <td>...</td>\n",
       "      <td>NaN</td>\n",
       "      <td>NaN</td>\n",
       "      <td>0</td>\n",
       "      <td>4</td>\n",
       "      <td>2010</td>\n",
       "      <td>WD</td>\n",
       "      <td>Normal</td>\n",
       "      <td>142125</td>\n",
       "      <td>1078</td>\n",
       "      <td>1.0</td>\n",
       "    </tr>\n",
       "    <tr>\n",
       "      <th>1459</th>\n",
       "      <td>1460</td>\n",
       "      <td>20</td>\n",
       "      <td>RL</td>\n",
       "      <td>75.0</td>\n",
       "      <td>9937</td>\n",
       "      <td>Pave</td>\n",
       "      <td>NaN</td>\n",
       "      <td>Reg</td>\n",
       "      <td>Lvl</td>\n",
       "      <td>AllPub</td>\n",
       "      <td>...</td>\n",
       "      <td>NaN</td>\n",
       "      <td>NaN</td>\n",
       "      <td>0</td>\n",
       "      <td>6</td>\n",
       "      <td>2008</td>\n",
       "      <td>WD</td>\n",
       "      <td>Normal</td>\n",
       "      <td>147500</td>\n",
       "      <td>1256</td>\n",
       "      <td>1.0</td>\n",
       "    </tr>\n",
       "  </tbody>\n",
       "</table>\n",
       "<p>1458 rows × 83 columns</p>\n",
       "</div>"
      ],
      "text/plain": [
       "        Id  MSSubClass MSZoning  LotFrontage  LotArea Street Alley LotShape  \\\n",
       "0        1          60       RL         65.0     8450   Pave   NaN      Reg   \n",
       "1        2          20       RL         80.0     9600   Pave   NaN      Reg   \n",
       "2        3          60       RL         68.0    11250   Pave   NaN      IR1   \n",
       "3        4          70       RL         60.0     9550   Pave   NaN      IR1   \n",
       "4        5          60       RL         84.0    14260   Pave   NaN      IR1   \n",
       "...    ...         ...      ...          ...      ...    ...   ...      ...   \n",
       "1455  1456          60       RL         62.0     7917   Pave   NaN      Reg   \n",
       "1456  1457          20       RL         85.0    13175   Pave   NaN      Reg   \n",
       "1457  1458          70       RL         66.0     9042   Pave   NaN      Reg   \n",
       "1458  1459          20       RL         68.0     9717   Pave   NaN      Reg   \n",
       "1459  1460          20       RL         75.0     9937   Pave   NaN      Reg   \n",
       "\n",
       "     LandContour Utilities  ...  Fence MiscFeature MiscVal MoSold YrSold  \\\n",
       "0            Lvl    AllPub  ...    NaN         NaN       0      2   2008   \n",
       "1            Lvl    AllPub  ...    NaN         NaN       0      5   2007   \n",
       "2            Lvl    AllPub  ...    NaN         NaN       0      9   2008   \n",
       "3            Lvl    AllPub  ...    NaN         NaN       0      2   2006   \n",
       "4            Lvl    AllPub  ...    NaN         NaN       0     12   2008   \n",
       "...          ...       ...  ...    ...         ...     ...    ...    ...   \n",
       "1455         Lvl    AllPub  ...    NaN         NaN       0      8   2007   \n",
       "1456         Lvl    AllPub  ...  MnPrv         NaN       0      2   2010   \n",
       "1457         Lvl    AllPub  ...  GdPrv        Shed    2500      5   2010   \n",
       "1458         Lvl    AllPub  ...    NaN         NaN       0      4   2010   \n",
       "1459         Lvl    AllPub  ...    NaN         NaN       0      6   2008   \n",
       "\n",
       "     SaleType SaleCondition  SalePrice  TotFlrSF  nFlrs  \n",
       "0          WD        Normal     208500      1710    2.0  \n",
       "1          WD        Normal     181500      1262    1.0  \n",
       "2          WD        Normal     223500      1786    2.0  \n",
       "3          WD       Abnorml     140000      1717    2.0  \n",
       "4          WD        Normal     250000      2198    2.0  \n",
       "...       ...           ...        ...       ...    ...  \n",
       "1455       WD        Normal     175000      1647    2.0  \n",
       "1456       WD        Normal     210000      2073    1.0  \n",
       "1457       WD        Normal     266500      2340    2.0  \n",
       "1458       WD        Normal     142125      1078    1.0  \n",
       "1459       WD        Normal     147500      1256    1.0  \n",
       "\n",
       "[1458 rows x 83 columns]"
      ]
     },
     "execution_count": 12,
     "metadata": {},
     "output_type": "execute_result"
    }
   ],
   "source": [
    "feat_eng(train)"
   ]
  },
  {
   "cell_type": "markdown",
   "id": "7542f736",
   "metadata": {
    "papermill": {
     "duration": 0.011001,
     "end_time": "2022-11-28T16:15:59.141625",
     "exception": false,
     "start_time": "2022-11-28T16:15:59.130624",
     "status": "completed"
    },
    "tags": []
   },
   "source": [
    "### Excercise 2: preprocess by using keras functional API"
   ]
  },
  {
   "cell_type": "markdown",
   "id": "c3eab7db",
   "metadata": {
    "papermill": {
     "duration": 0.011077,
     "end_time": "2022-11-28T16:15:59.164080",
     "exception": false,
     "start_time": "2022-11-28T16:15:59.153003",
     "status": "completed"
    },
    "tags": []
   },
   "source": [
    "1) Build the preprocessing model, passing data as dict\n",
    "\n",
    "2) numerical features should be normalized\n",
    "\n",
    "3) categorical features should be one hot encoded"
   ]
  },
  {
   "cell_type": "code",
   "execution_count": 13,
   "id": "36ad6c38",
   "metadata": {
    "execution": {
     "iopub.execute_input": "2022-11-28T16:15:59.188717Z",
     "iopub.status.busy": "2022-11-28T16:15:59.187785Z",
     "iopub.status.idle": "2022-11-28T16:15:59.193327Z",
     "shell.execute_reply": "2022-11-28T16:15:59.192170Z"
    },
    "papermill": {
     "duration": 0.021671,
     "end_time": "2022-11-28T16:15:59.196988",
     "exception": false,
     "start_time": "2022-11-28T16:15:59.175317",
     "status": "completed"
    },
    "tags": []
   },
   "outputs": [
    {
     "name": "stdout",
     "output_type": "stream",
     "text": [
      "['SaleCondition', 'ExterQual', 'Neighborhood', 'KitchenQual', 'SaleType', 'PoolQC', 'MSZoning', 'GarageQual', 'Condition1', 'BldgType', 'FireplaceQu', 'GarageType'] ['OverallQual', 'LotArea', 'BsmtFinSF1', 'TotalBsmtSF', 'GrLivArea', 'GarageArea', 'YearBuilt', 'GarageCars', 'TotRmsAbvGrd', 'MSSubClass', 'WoodDeckSF', 'YearRemodAdd']\n"
     ]
    }
   ],
   "source": [
    "print(int_cat_f,int_num_f)"
   ]
  },
  {
   "cell_type": "code",
   "execution_count": 14,
   "id": "73e21e88",
   "metadata": {
    "execution": {
     "iopub.execute_input": "2022-11-28T16:15:59.222488Z",
     "iopub.status.busy": "2022-11-28T16:15:59.221786Z",
     "iopub.status.idle": "2022-11-28T16:15:59.598758Z",
     "shell.execute_reply": "2022-11-28T16:15:59.597701Z"
    },
    "papermill": {
     "duration": 0.392045,
     "end_time": "2022-11-28T16:15:59.601426",
     "exception": false,
     "start_time": "2022-11-28T16:15:59.209381",
     "status": "completed"
    },
    "tags": []
   },
   "outputs": [
    {
     "data": {
      "text/plain": [
       "{'OverallQual': <KerasTensor: shape=(None, 1) dtype=float32 (created by layer 'OverallQual')>,\n",
       " 'LotArea': <KerasTensor: shape=(None, 1) dtype=float32 (created by layer 'LotArea')>,\n",
       " 'BsmtFinSF1': <KerasTensor: shape=(None, 1) dtype=float32 (created by layer 'BsmtFinSF1')>,\n",
       " 'TotalBsmtSF': <KerasTensor: shape=(None, 1) dtype=float32 (created by layer 'TotalBsmtSF')>,\n",
       " 'GrLivArea': <KerasTensor: shape=(None, 1) dtype=float32 (created by layer 'GrLivArea')>,\n",
       " 'GarageArea': <KerasTensor: shape=(None, 1) dtype=float32 (created by layer 'GarageArea')>,\n",
       " 'YearBuilt': <KerasTensor: shape=(None, 1) dtype=float32 (created by layer 'YearBuilt')>,\n",
       " 'GarageCars': <KerasTensor: shape=(None, 1) dtype=float32 (created by layer 'GarageCars')>,\n",
       " 'TotRmsAbvGrd': <KerasTensor: shape=(None, 1) dtype=float32 (created by layer 'TotRmsAbvGrd')>,\n",
       " 'MSSubClass': <KerasTensor: shape=(None, 1) dtype=float32 (created by layer 'MSSubClass')>,\n",
       " 'WoodDeckSF': <KerasTensor: shape=(None, 1) dtype=float32 (created by layer 'WoodDeckSF')>,\n",
       " 'YearRemodAdd': <KerasTensor: shape=(None, 1) dtype=float32 (created by layer 'YearRemodAdd')>,\n",
       " 'SaleCondition': <KerasTensor: shape=(None, 1) dtype=string (created by layer 'SaleCondition')>,\n",
       " 'ExterQual': <KerasTensor: shape=(None, 1) dtype=string (created by layer 'ExterQual')>,\n",
       " 'Neighborhood': <KerasTensor: shape=(None, 1) dtype=string (created by layer 'Neighborhood')>,\n",
       " 'KitchenQual': <KerasTensor: shape=(None, 1) dtype=string (created by layer 'KitchenQual')>,\n",
       " 'SaleType': <KerasTensor: shape=(None, 1) dtype=string (created by layer 'SaleType')>,\n",
       " 'PoolQC': <KerasTensor: shape=(None, 1) dtype=string (created by layer 'PoolQC')>,\n",
       " 'MSZoning': <KerasTensor: shape=(None, 1) dtype=string (created by layer 'MSZoning')>,\n",
       " 'GarageQual': <KerasTensor: shape=(None, 1) dtype=string (created by layer 'GarageQual')>,\n",
       " 'Condition1': <KerasTensor: shape=(None, 1) dtype=string (created by layer 'Condition1')>,\n",
       " 'BldgType': <KerasTensor: shape=(None, 1) dtype=string (created by layer 'BldgType')>,\n",
       " 'FireplaceQu': <KerasTensor: shape=(None, 1) dtype=string (created by layer 'FireplaceQu')>,\n",
       " 'GarageType': <KerasTensor: shape=(None, 1) dtype=string (created by layer 'GarageType')>}"
      ]
     },
     "execution_count": 14,
     "metadata": {},
     "output_type": "execute_result"
    }
   ],
   "source": [
    "inputs = {}\n",
    "for name in int_num_f+int_cat_f:\n",
    "    if name in int_num_f:\n",
    "        dtype = tf.float32\n",
    "    if (name in int_cat_f):\n",
    "        dtype = tf.string\n",
    "    inputs[name] = tf.keras.Input(shape=(1,), name=name, dtype=dtype)\n",
    "inputs"
   ]
  },
  {
   "cell_type": "markdown",
   "id": "66760fce",
   "metadata": {
    "papermill": {
     "duration": 0.011365,
     "end_time": "2022-11-28T16:15:59.624963",
     "exception": false,
     "start_time": "2022-11-28T16:15:59.613598",
     "status": "completed"
    },
    "tags": []
   },
   "source": [
    "#### Numeric inputs:"
   ]
  },
  {
   "cell_type": "markdown",
   "id": "006ec828",
   "metadata": {
    "papermill": {
     "duration": 0.011441,
     "end_time": "2022-11-28T16:15:59.647758",
     "exception": false,
     "start_time": "2022-11-28T16:15:59.636317",
     "status": "completed"
    },
    "tags": []
   },
   "source": [
    "Concatenate the numeric input layers:"
   ]
  },
  {
   "cell_type": "code",
   "execution_count": 15,
   "id": "9e20ac5d",
   "metadata": {
    "execution": {
     "iopub.execute_input": "2022-11-28T16:15:59.673233Z",
     "iopub.status.busy": "2022-11-28T16:15:59.672092Z",
     "iopub.status.idle": "2022-11-28T16:16:00.101986Z",
     "shell.execute_reply": "2022-11-28T16:16:00.100651Z"
    },
    "papermill": {
     "duration": 0.445214,
     "end_time": "2022-11-28T16:16:00.104551",
     "exception": false,
     "start_time": "2022-11-28T16:15:59.659337",
     "status": "completed"
    },
    "tags": []
   },
   "outputs": [
    {
     "name": "stderr",
     "output_type": "stream",
     "text": [
      "2022-11-28 16:15:59.704327: I tensorflow/core/common_runtime/process_util.cc:146] Creating new thread pool with default inter op setting: 2. Tune using inter_op_parallelism_threads for best performance.\n",
      "2022-11-28 16:15:59.782704: I tensorflow/compiler/mlir/mlir_graph_optimization_pass.cc:185] None of the MLIR Optimization Passes are enabled (registered 2)\n"
     ]
    },
    {
     "data": {
      "text/plain": [
       "<KerasTensor: shape=(None, 12) dtype=float32 (created by layer 'normalization')>"
      ]
     },
     "execution_count": 15,
     "metadata": {},
     "output_type": "execute_result"
    }
   ],
   "source": [
    "numeric_inputs = {name:input for name,input in inputs.items()\n",
    "                  if input.dtype==tf.float32}\n",
    "\n",
    "x = layers.Concatenate()(list(numeric_inputs.values()))\n",
    "norm = layers.Normalization()\n",
    "norm.adapt(np.array(train[numeric_inputs.keys()]))\n",
    "all_numeric_inputs = norm(x)\n",
    "\n",
    "all_numeric_inputs"
   ]
  },
  {
   "cell_type": "code",
   "execution_count": 16,
   "id": "e4af4156",
   "metadata": {
    "execution": {
     "iopub.execute_input": "2022-11-28T16:16:00.130542Z",
     "iopub.status.busy": "2022-11-28T16:16:00.129678Z",
     "iopub.status.idle": "2022-11-28T16:16:00.133872Z",
     "shell.execute_reply": "2022-11-28T16:16:00.133151Z"
    },
    "papermill": {
     "duration": 0.019359,
     "end_time": "2022-11-28T16:16:00.135869",
     "exception": false,
     "start_time": "2022-11-28T16:16:00.116510",
     "status": "completed"
    },
    "tags": []
   },
   "outputs": [],
   "source": [
    "preprocessed_inputs = [all_numeric_inputs]"
   ]
  },
  {
   "cell_type": "markdown",
   "id": "da0d02b6",
   "metadata": {
    "papermill": {
     "duration": 0.011404,
     "end_time": "2022-11-28T16:16:00.158809",
     "exception": false,
     "start_time": "2022-11-28T16:16:00.147405",
     "status": "completed"
    },
    "tags": []
   },
   "source": [
    "#### Categorical inputs"
   ]
  },
  {
   "cell_type": "code",
   "execution_count": 17,
   "id": "34667c33",
   "metadata": {
    "execution": {
     "iopub.execute_input": "2022-11-28T16:16:00.184013Z",
     "iopub.status.busy": "2022-11-28T16:16:00.183437Z",
     "iopub.status.idle": "2022-11-28T16:16:00.464093Z",
     "shell.execute_reply": "2022-11-28T16:16:00.462979Z"
    },
    "papermill": {
     "duration": 0.29656,
     "end_time": "2022-11-28T16:16:00.466955",
     "exception": false,
     "start_time": "2022-11-28T16:16:00.170395",
     "status": "completed"
    },
    "tags": []
   },
   "outputs": [],
   "source": [
    "for name, input in inputs.items():\n",
    "    if input.dtype == tf.float32:\n",
    "        continue\n",
    "  \n",
    "    lookup = layers.StringLookup(vocabulary=np.unique(train[name]))\n",
    "    one_hot = layers.CategoryEncoding(num_tokens=lookup.vocabulary_size())\n",
    "\n",
    "    x = lookup(input)\n",
    "    x = one_hot(x)\n",
    "    preprocessed_inputs.append(x)"
   ]
  },
  {
   "cell_type": "markdown",
   "id": "e7246e35",
   "metadata": {
    "papermill": {
     "duration": 0.015991,
     "end_time": "2022-11-28T16:16:00.500746",
     "exception": false,
     "start_time": "2022-11-28T16:16:00.484755",
     "status": "completed"
    },
    "tags": []
   },
   "source": [
    "#### Create the preprocessing layer"
   ]
  },
  {
   "cell_type": "code",
   "execution_count": 18,
   "id": "9a2b2ce9",
   "metadata": {
    "execution": {
     "iopub.execute_input": "2022-11-28T16:16:00.527615Z",
     "iopub.status.busy": "2022-11-28T16:16:00.526928Z",
     "iopub.status.idle": "2022-11-28T16:16:00.548716Z",
     "shell.execute_reply": "2022-11-28T16:16:00.547975Z"
    },
    "papermill": {
     "duration": 0.037784,
     "end_time": "2022-11-28T16:16:00.550757",
     "exception": false,
     "start_time": "2022-11-28T16:16:00.512973",
     "status": "completed"
    },
    "tags": []
   },
   "outputs": [],
   "source": [
    "preprocessed_inputs_cat = layers.Concatenate()(preprocessed_inputs)\n",
    "\n",
    "house_prices_preprocessing = tf.keras.Model(inputs, preprocessed_inputs_cat)\n",
    "\n",
    "#tf.keras.utils.plot_model(model = house_prices_preprocessing , rankdir=\"LR\", dpi=72, show_shapes=True)"
   ]
  },
  {
   "cell_type": "markdown",
   "id": "953d2ddb",
   "metadata": {
    "papermill": {
     "duration": 0.011357,
     "end_time": "2022-11-28T16:16:00.574715",
     "exception": false,
     "start_time": "2022-11-28T16:16:00.563358",
     "status": "completed"
    },
    "tags": []
   },
   "source": [
    "#### Create the model"
   ]
  },
  {
   "cell_type": "code",
   "execution_count": 19,
   "id": "e1863b24",
   "metadata": {
    "execution": {
     "iopub.execute_input": "2022-11-28T16:16:00.600587Z",
     "iopub.status.busy": "2022-11-28T16:16:00.599357Z",
     "iopub.status.idle": "2022-11-28T16:16:00.880506Z",
     "shell.execute_reply": "2022-11-28T16:16:00.879366Z"
    },
    "papermill": {
     "duration": 0.297728,
     "end_time": "2022-11-28T16:16:00.884129",
     "exception": false,
     "start_time": "2022-11-28T16:16:00.586401",
     "status": "completed"
    },
    "tags": []
   },
   "outputs": [],
   "source": [
    "def create_model(preprocessing_head, inputs:dict):\n",
    "    preprocessed_inputs = preprocessing_head(inputs)\n",
    "    x=tf.keras.layers.Dense(100,activation='relu')(preprocessed_inputs)\n",
    "    x=tf.keras.layers.Dropout(0.3)(x)\n",
    "    x=tf.keras.layers.Dense(170,activation='relu')(x)\n",
    "    x=tf.keras.layers.Dropout(0.3)(x)\n",
    "    x=tf.keras.layers.Dense(150,activation='relu')(x)\n",
    "    result = tf.keras.layers.Dense(1)(x)\n",
    "    model = tf.keras.Model(inputs, result)\n",
    "    model.compile(optimizer='adam',\n",
    "                loss=tf.keras.losses.MeanSquaredLogarithmicError(),\n",
    "                metrics=[tf.keras.metrics.RootMeanSquaredError(),tf.keras.metrics.MeanSquaredLogarithmicError()])\n",
    "    return model\n",
    "\n",
    "house_price_model = create_model(house_prices_preprocessing, inputs)"
   ]
  },
  {
   "cell_type": "code",
   "execution_count": 20,
   "id": "150c6635",
   "metadata": {
    "execution": {
     "iopub.execute_input": "2022-11-28T16:16:00.915871Z",
     "iopub.status.busy": "2022-11-28T16:16:00.915484Z",
     "iopub.status.idle": "2022-11-28T16:16:00.926231Z",
     "shell.execute_reply": "2022-11-28T16:16:00.925016Z"
    },
    "papermill": {
     "duration": 0.028545,
     "end_time": "2022-11-28T16:16:00.929840",
     "exception": false,
     "start_time": "2022-11-28T16:16:00.901295",
     "status": "completed"
    },
    "tags": []
   },
   "outputs": [
    {
     "name": "stdout",
     "output_type": "stream",
     "text": [
      "Model: \"model_1\"\n",
      "__________________________________________________________________________________________________\n",
      "Layer (type)                    Output Shape         Param #     Connected to                     \n",
      "==================================================================================================\n",
      "BldgType (InputLayer)           [(None, 1)]          0                                            \n",
      "__________________________________________________________________________________________________\n",
      "BsmtFinSF1 (InputLayer)         [(None, 1)]          0                                            \n",
      "__________________________________________________________________________________________________\n",
      "Condition1 (InputLayer)         [(None, 1)]          0                                            \n",
      "__________________________________________________________________________________________________\n",
      "ExterQual (InputLayer)          [(None, 1)]          0                                            \n",
      "__________________________________________________________________________________________________\n",
      "FireplaceQu (InputLayer)        [(None, 1)]          0                                            \n",
      "__________________________________________________________________________________________________\n",
      "GarageArea (InputLayer)         [(None, 1)]          0                                            \n",
      "__________________________________________________________________________________________________\n",
      "GarageCars (InputLayer)         [(None, 1)]          0                                            \n",
      "__________________________________________________________________________________________________\n",
      "GarageQual (InputLayer)         [(None, 1)]          0                                            \n",
      "__________________________________________________________________________________________________\n",
      "GarageType (InputLayer)         [(None, 1)]          0                                            \n",
      "__________________________________________________________________________________________________\n",
      "GrLivArea (InputLayer)          [(None, 1)]          0                                            \n",
      "__________________________________________________________________________________________________\n",
      "KitchenQual (InputLayer)        [(None, 1)]          0                                            \n",
      "__________________________________________________________________________________________________\n",
      "LotArea (InputLayer)            [(None, 1)]          0                                            \n",
      "__________________________________________________________________________________________________\n",
      "MSSubClass (InputLayer)         [(None, 1)]          0                                            \n",
      "__________________________________________________________________________________________________\n",
      "MSZoning (InputLayer)           [(None, 1)]          0                                            \n",
      "__________________________________________________________________________________________________\n",
      "Neighborhood (InputLayer)       [(None, 1)]          0                                            \n",
      "__________________________________________________________________________________________________\n",
      "OverallQual (InputLayer)        [(None, 1)]          0                                            \n",
      "__________________________________________________________________________________________________\n",
      "PoolQC (InputLayer)             [(None, 1)]          0                                            \n",
      "__________________________________________________________________________________________________\n",
      "SaleCondition (InputLayer)      [(None, 1)]          0                                            \n",
      "__________________________________________________________________________________________________\n",
      "SaleType (InputLayer)           [(None, 1)]          0                                            \n",
      "__________________________________________________________________________________________________\n",
      "TotRmsAbvGrd (InputLayer)       [(None, 1)]          0                                            \n",
      "__________________________________________________________________________________________________\n",
      "TotalBsmtSF (InputLayer)        [(None, 1)]          0                                            \n",
      "__________________________________________________________________________________________________\n",
      "WoodDeckSF (InputLayer)         [(None, 1)]          0                                            \n",
      "__________________________________________________________________________________________________\n",
      "YearBuilt (InputLayer)          [(None, 1)]          0                                            \n",
      "__________________________________________________________________________________________________\n",
      "YearRemodAdd (InputLayer)       [(None, 1)]          0                                            \n",
      "__________________________________________________________________________________________________\n",
      "model (Functional)              (None, 114)          25          BldgType[0][0]                   \n",
      "                                                                 BsmtFinSF1[0][0]                 \n",
      "                                                                 Condition1[0][0]                 \n",
      "                                                                 ExterQual[0][0]                  \n",
      "                                                                 FireplaceQu[0][0]                \n",
      "                                                                 GarageArea[0][0]                 \n",
      "                                                                 GarageCars[0][0]                 \n",
      "                                                                 GarageQual[0][0]                 \n",
      "                                                                 GarageType[0][0]                 \n",
      "                                                                 GrLivArea[0][0]                  \n",
      "                                                                 KitchenQual[0][0]                \n",
      "                                                                 LotArea[0][0]                    \n",
      "                                                                 MSSubClass[0][0]                 \n",
      "                                                                 MSZoning[0][0]                   \n",
      "                                                                 Neighborhood[0][0]               \n",
      "                                                                 OverallQual[0][0]                \n",
      "                                                                 PoolQC[0][0]                     \n",
      "                                                                 SaleCondition[0][0]              \n",
      "                                                                 SaleType[0][0]                   \n",
      "                                                                 TotRmsAbvGrd[0][0]               \n",
      "                                                                 TotalBsmtSF[0][0]                \n",
      "                                                                 WoodDeckSF[0][0]                 \n",
      "                                                                 YearBuilt[0][0]                  \n",
      "                                                                 YearRemodAdd[0][0]               \n",
      "__________________________________________________________________________________________________\n",
      "dense (Dense)                   (None, 100)          11500       model[0][0]                      \n",
      "__________________________________________________________________________________________________\n",
      "dropout (Dropout)               (None, 100)          0           dense[0][0]                      \n",
      "__________________________________________________________________________________________________\n",
      "dense_1 (Dense)                 (None, 170)          17170       dropout[0][0]                    \n",
      "__________________________________________________________________________________________________\n",
      "dropout_1 (Dropout)             (None, 170)          0           dense_1[0][0]                    \n",
      "__________________________________________________________________________________________________\n",
      "dense_2 (Dense)                 (None, 150)          25650       dropout_1[0][0]                  \n",
      "__________________________________________________________________________________________________\n",
      "dense_3 (Dense)                 (None, 1)            151         dense_2[0][0]                    \n",
      "==================================================================================================\n",
      "Total params: 54,496\n",
      "Trainable params: 54,471\n",
      "Non-trainable params: 25\n",
      "__________________________________________________________________________________________________\n",
      "None\n"
     ]
    }
   ],
   "source": [
    "print(house_price_model.summary())"
   ]
  },
  {
   "cell_type": "code",
   "execution_count": 21,
   "id": "501e4467",
   "metadata": {
    "execution": {
     "iopub.execute_input": "2022-11-28T16:16:00.959810Z",
     "iopub.status.busy": "2022-11-28T16:16:00.959447Z",
     "iopub.status.idle": "2022-11-28T16:16:00.968107Z",
     "shell.execute_reply": "2022-11-28T16:16:00.966860Z"
    },
    "papermill": {
     "duration": 0.023921,
     "end_time": "2022-11-28T16:16:00.970232",
     "exception": false,
     "start_time": "2022-11-28T16:16:00.946311",
     "status": "completed"
    },
    "tags": []
   },
   "outputs": [],
   "source": [
    "#function to create train and validation dictionaries\n",
    "def train_val(df:pd.DataFrame,val_fraction,feature_list,label,shuffle=False):\n",
    "    '''returns the train and validation sets as dictionaries'''\n",
    "    if shuffle==True:\n",
    "        df=df.sample(frac=1)\n",
    "    \n",
    "    val_size=int(val_fraction*len(df))\n",
    "    train_size=len(df)-val_size\n",
    "    print('train size = ', train_size, '\\nvalidation size = ', val_size)\n",
    "    train_df=df.iloc[:train_size]\n",
    "    val_df=df.iloc[train_size:]\n",
    "    train_dict={name:np.array(train_df[name]) for name in feature_list}\n",
    "    val_dict={name:np.array(val_df[name]) for name in feature_list}\n",
    "    train_label=train_df[label]\n",
    "    val_label=val_df[label]\n",
    "    return train_dict,train_label,val_dict,val_label"
   ]
  },
  {
   "cell_type": "code",
   "execution_count": 22,
   "id": "b649eb1e",
   "metadata": {
    "execution": {
     "iopub.execute_input": "2022-11-28T16:16:00.997708Z",
     "iopub.status.busy": "2022-11-28T16:16:00.997337Z",
     "iopub.status.idle": "2022-11-28T16:16:01.004041Z",
     "shell.execute_reply": "2022-11-28T16:16:01.002846Z"
    },
    "papermill": {
     "duration": 0.023258,
     "end_time": "2022-11-28T16:16:01.006380",
     "exception": false,
     "start_time": "2022-11-28T16:16:00.983122",
     "status": "completed"
    },
    "tags": []
   },
   "outputs": [],
   "source": [
    "train_features_dict={name:np.array(train[name]) for name in (int_num_f+int_cat_f)}\n"
   ]
  },
  {
   "cell_type": "code",
   "execution_count": 23,
   "id": "b94528b7",
   "metadata": {
    "execution": {
     "iopub.execute_input": "2022-11-28T16:16:01.033579Z",
     "iopub.status.busy": "2022-11-28T16:16:01.033245Z",
     "iopub.status.idle": "2022-11-28T16:16:01.037933Z",
     "shell.execute_reply": "2022-11-28T16:16:01.036835Z"
    },
    "papermill": {
     "duration": 0.020782,
     "end_time": "2022-11-28T16:16:01.040143",
     "exception": false,
     "start_time": "2022-11-28T16:16:01.019361",
     "status": "completed"
    },
    "tags": []
   },
   "outputs": [],
   "source": [
    "split_fraction=0.3"
   ]
  },
  {
   "cell_type": "code",
   "execution_count": 24,
   "id": "7262f141",
   "metadata": {
    "execution": {
     "iopub.execute_input": "2022-11-28T16:16:01.065575Z",
     "iopub.status.busy": "2022-11-28T16:16:01.065263Z",
     "iopub.status.idle": "2022-11-28T16:16:01.122991Z",
     "shell.execute_reply": "2022-11-28T16:16:01.122002Z"
    },
    "papermill": {
     "duration": 0.07283,
     "end_time": "2022-11-28T16:16:01.125127",
     "exception": false,
     "start_time": "2022-11-28T16:16:01.052297",
     "status": "completed"
    },
    "tags": []
   },
   "outputs": [
    {
     "data": {
      "text/plain": [
       "<tf.Tensor: shape=(1458, 114), dtype=float32, numpy=\n",
       "array([[ 0.65850586, -0.20393404,  0.6172831 , ...,  0.        ,\n",
       "         0.        ,  0.        ],\n",
       "       [-0.06829301, -0.08725168,  1.2457188 , ...,  0.        ,\n",
       "         0.        ,  0.        ],\n",
       "       [ 0.65850586,  0.08016215,  0.10898945, ...,  0.        ,\n",
       "         0.        ,  0.        ],\n",
       "       ...,\n",
       "       [ 0.65850586, -0.143868  , -0.37851042, ...,  0.        ,\n",
       "         0.        ,  0.        ],\n",
       "       [-0.79509187, -0.07538052, -0.90066665, ...,  0.        ,\n",
       "         0.        ,  0.        ],\n",
       "       [-0.79509187, -0.05305867,  0.90377593, ...,  0.        ,\n",
       "         0.        ,  0.        ]], dtype=float32)>"
      ]
     },
     "execution_count": 24,
     "metadata": {},
     "output_type": "execute_result"
    }
   ],
   "source": [
    "house_prices_preprocessing(train_features_dict)"
   ]
  },
  {
   "cell_type": "code",
   "execution_count": 25,
   "id": "15d1b610",
   "metadata": {
    "execution": {
     "iopub.execute_input": "2022-11-28T16:16:01.152042Z",
     "iopub.status.busy": "2022-11-28T16:16:01.151121Z",
     "iopub.status.idle": "2022-11-28T16:18:24.596362Z",
     "shell.execute_reply": "2022-11-28T16:18:24.595253Z"
    },
    "papermill": {
     "duration": 143.461971,
     "end_time": "2022-11-28T16:18:24.599359",
     "exception": false,
     "start_time": "2022-11-28T16:16:01.137388",
     "status": "completed"
    },
    "tags": []
   },
   "outputs": [
    {
     "name": "stdout",
     "output_type": "stream",
     "text": [
      "Epoch 1/200\n",
      "68/68 [==============================] - 3s 19ms/step - loss: 82.6101 - root_mean_squared_error: 198442.0938 - mean_squared_logarithmic_error: 82.6101 - val_loss: 46.7397 - val_root_mean_squared_error: 195403.6875 - val_mean_squared_logarithmic_error: 46.7397\n",
      "Epoch 2/200\n",
      "68/68 [==============================] - 0s 6ms/step - loss: 34.3116 - root_mean_squared_error: 197949.5156 - mean_squared_logarithmic_error: 34.3116 - val_loss: 24.7204 - val_root_mean_squared_error: 194489.2031 - val_mean_squared_logarithmic_error: 24.7204\n",
      "Epoch 3/200\n",
      "68/68 [==============================] - 0s 6ms/step - loss: 19.6761 - root_mean_squared_error: 196494.3594 - mean_squared_logarithmic_error: 19.6761 - val_loss: 15.2776 - val_root_mean_squared_error: 192428.5312 - val_mean_squared_logarithmic_error: 15.2776\n",
      "Epoch 4/200\n",
      "68/68 [==============================] - 0s 6ms/step - loss: 12.7506 - root_mean_squared_error: 193883.5781 - mean_squared_logarithmic_error: 12.7506 - val_loss: 10.3109 - val_root_mean_squared_error: 189249.0312 - val_mean_squared_logarithmic_error: 10.3109\n",
      "Epoch 5/200\n",
      "68/68 [==============================] - 0s 6ms/step - loss: 8.8077 - root_mean_squared_error: 190137.7812 - mean_squared_logarithmic_error: 8.8077 - val_loss: 7.2597 - val_root_mean_squared_error: 184952.3438 - val_mean_squared_logarithmic_error: 7.2597\n",
      "Epoch 6/200\n",
      "68/68 [==============================] - 0s 6ms/step - loss: 6.3261 - root_mean_squared_error: 185395.8594 - mean_squared_logarithmic_error: 6.3261 - val_loss: 5.2337 - val_root_mean_squared_error: 179593.6875 - val_mean_squared_logarithmic_error: 5.2337\n",
      "Epoch 7/200\n",
      "68/68 [==============================] - 0s 6ms/step - loss: 4.5972 - root_mean_squared_error: 179501.4844 - mean_squared_logarithmic_error: 4.5972 - val_loss: 3.8338 - val_root_mean_squared_error: 173282.7969 - val_mean_squared_logarithmic_error: 3.8338\n",
      "Epoch 8/200\n",
      "68/68 [==============================] - 0s 7ms/step - loss: 3.3774 - root_mean_squared_error: 172685.0312 - mean_squared_logarithmic_error: 3.3774 - val_loss: 2.8456 - val_root_mean_squared_error: 166278.6250 - val_mean_squared_logarithmic_error: 2.8456\n",
      "Epoch 9/200\n",
      "68/68 [==============================] - 0s 6ms/step - loss: 2.5419 - root_mean_squared_error: 165319.4688 - mean_squared_logarithmic_error: 2.5419 - val_loss: 2.1274 - val_root_mean_squared_error: 158680.6094 - val_mean_squared_logarithmic_error: 2.1274\n",
      "Epoch 10/200\n",
      "68/68 [==============================] - 0s 6ms/step - loss: 1.9180 - root_mean_squared_error: 157602.4844 - mean_squared_logarithmic_error: 1.9180 - val_loss: 1.5976 - val_root_mean_squared_error: 150628.5000 - val_mean_squared_logarithmic_error: 1.5976\n",
      "Epoch 11/200\n",
      "68/68 [==============================] - 0s 6ms/step - loss: 1.4627 - root_mean_squared_error: 149660.8594 - mean_squared_logarithmic_error: 1.4627 - val_loss: 1.2065 - val_root_mean_squared_error: 142402.7031 - val_mean_squared_logarithmic_error: 1.2065\n",
      "Epoch 12/200\n",
      "68/68 [==============================] - 0s 6ms/step - loss: 1.0995 - root_mean_squared_error: 140910.7656 - mean_squared_logarithmic_error: 1.0995 - val_loss: 0.9146 - val_root_mean_squared_error: 134110.1562 - val_mean_squared_logarithmic_error: 0.9146\n",
      "Epoch 13/200\n",
      "68/68 [==============================] - 0s 6ms/step - loss: 0.8548 - root_mean_squared_error: 132903.5781 - mean_squared_logarithmic_error: 0.8548 - val_loss: 0.6973 - val_root_mean_squared_error: 125980.9453 - val_mean_squared_logarithmic_error: 0.6973\n",
      "Epoch 14/200\n",
      "68/68 [==============================] - 0s 6ms/step - loss: 0.6595 - root_mean_squared_error: 124873.8828 - mean_squared_logarithmic_error: 0.6595 - val_loss: 0.5330 - val_root_mean_squared_error: 118033.4219 - val_mean_squared_logarithmic_error: 0.5330\n",
      "Epoch 15/200\n",
      "68/68 [==============================] - 0s 6ms/step - loss: 0.5194 - root_mean_squared_error: 117681.9453 - mean_squared_logarithmic_error: 0.5194 - val_loss: 0.4086 - val_root_mean_squared_error: 110348.8672 - val_mean_squared_logarithmic_error: 0.4086\n",
      "Epoch 16/200\n",
      "68/68 [==============================] - 0s 6ms/step - loss: 0.4092 - root_mean_squared_error: 110222.3516 - mean_squared_logarithmic_error: 0.4092 - val_loss: 0.3157 - val_root_mean_squared_error: 103111.0625 - val_mean_squared_logarithmic_error: 0.3157\n",
      "Epoch 17/200\n",
      "68/68 [==============================] - 0s 6ms/step - loss: 0.3209 - root_mean_squared_error: 102697.9375 - mean_squared_logarithmic_error: 0.3209 - val_loss: 0.2470 - val_root_mean_squared_error: 96456.2266 - val_mean_squared_logarithmic_error: 0.2470\n",
      "Epoch 18/200\n",
      "68/68 [==============================] - 0s 6ms/step - loss: 0.2604 - root_mean_squared_error: 97156.9297 - mean_squared_logarithmic_error: 0.2604 - val_loss: 0.1966 - val_root_mean_squared_error: 90457.9766 - val_mean_squared_logarithmic_error: 0.1966\n",
      "Epoch 19/200\n",
      "68/68 [==============================] - 0s 6ms/step - loss: 0.2202 - root_mean_squared_error: 92108.2188 - mean_squared_logarithmic_error: 0.2202 - val_loss: 0.1577 - val_root_mean_squared_error: 84813.7109 - val_mean_squared_logarithmic_error: 0.1577\n",
      "Epoch 20/200\n",
      "68/68 [==============================] - 0s 6ms/step - loss: 0.1746 - root_mean_squared_error: 85344.4375 - mean_squared_logarithmic_error: 0.1746 - val_loss: 0.1297 - val_root_mean_squared_error: 79934.9297 - val_mean_squared_logarithmic_error: 0.1297\n",
      "Epoch 21/200\n",
      "68/68 [==============================] - 0s 6ms/step - loss: 0.1512 - root_mean_squared_error: 81315.3672 - mean_squared_logarithmic_error: 0.1512 - val_loss: 0.1087 - val_root_mean_squared_error: 75578.0547 - val_mean_squared_logarithmic_error: 0.1087\n",
      "Epoch 22/200\n",
      "68/68 [==============================] - 0s 6ms/step - loss: 0.1298 - root_mean_squared_error: 77324.5938 - mean_squared_logarithmic_error: 0.1298 - val_loss: 0.0928 - val_root_mean_squared_error: 71677.4297 - val_mean_squared_logarithmic_error: 0.0928\n",
      "Epoch 23/200\n",
      "68/68 [==============================] - 0s 6ms/step - loss: 0.1169 - root_mean_squared_error: 73542.2734 - mean_squared_logarithmic_error: 0.1169 - val_loss: 0.0808 - val_root_mean_squared_error: 68248.2578 - val_mean_squared_logarithmic_error: 0.0808\n",
      "Epoch 24/200\n",
      "68/68 [==============================] - 0s 6ms/step - loss: 0.1072 - root_mean_squared_error: 70549.3125 - mean_squared_logarithmic_error: 0.1072 - val_loss: 0.0715 - val_root_mean_squared_error: 65210.0000 - val_mean_squared_logarithmic_error: 0.0715\n",
      "Epoch 25/200\n",
      "68/68 [==============================] - 0s 6ms/step - loss: 0.0948 - root_mean_squared_error: 67965.0547 - mean_squared_logarithmic_error: 0.0948 - val_loss: 0.0644 - val_root_mean_squared_error: 62593.8750 - val_mean_squared_logarithmic_error: 0.0644\n",
      "Epoch 26/200\n",
      "68/68 [==============================] - 0s 6ms/step - loss: 0.0944 - root_mean_squared_error: 67111.0469 - mean_squared_logarithmic_error: 0.0944 - val_loss: 0.0589 - val_root_mean_squared_error: 60316.6836 - val_mean_squared_logarithmic_error: 0.0589\n",
      "Epoch 27/200\n",
      "68/68 [==============================] - 0s 6ms/step - loss: 0.0862 - root_mean_squared_error: 65056.4258 - mean_squared_logarithmic_error: 0.0862 - val_loss: 0.0541 - val_root_mean_squared_error: 58235.0859 - val_mean_squared_logarithmic_error: 0.0541\n",
      "Epoch 28/200\n",
      "68/68 [==============================] - 0s 6ms/step - loss: 0.0758 - root_mean_squared_error: 60610.7500 - mean_squared_logarithmic_error: 0.0758 - val_loss: 0.0504 - val_root_mean_squared_error: 56404.8281 - val_mean_squared_logarithmic_error: 0.0504\n",
      "Epoch 29/200\n",
      "68/68 [==============================] - 0s 6ms/step - loss: 0.0731 - root_mean_squared_error: 60593.2031 - mean_squared_logarithmic_error: 0.0731 - val_loss: 0.0474 - val_root_mean_squared_error: 54801.0938 - val_mean_squared_logarithmic_error: 0.0474\n",
      "Epoch 30/200\n",
      "68/68 [==============================] - 0s 6ms/step - loss: 0.0720 - root_mean_squared_error: 59579.7148 - mean_squared_logarithmic_error: 0.0720 - val_loss: 0.0445 - val_root_mean_squared_error: 53246.9375 - val_mean_squared_logarithmic_error: 0.0445\n",
      "Epoch 31/200\n",
      "68/68 [==============================] - 0s 6ms/step - loss: 0.0674 - root_mean_squared_error: 57096.1367 - mean_squared_logarithmic_error: 0.0674 - val_loss: 0.0420 - val_root_mean_squared_error: 51893.8672 - val_mean_squared_logarithmic_error: 0.0420\n",
      "Epoch 32/200\n",
      "68/68 [==============================] - 0s 6ms/step - loss: 0.0628 - root_mean_squared_error: 55533.7500 - mean_squared_logarithmic_error: 0.0628 - val_loss: 0.0400 - val_root_mean_squared_error: 50759.6250 - val_mean_squared_logarithmic_error: 0.0400\n",
      "Epoch 33/200\n",
      "68/68 [==============================] - 0s 6ms/step - loss: 0.0661 - root_mean_squared_error: 56671.0078 - mean_squared_logarithmic_error: 0.0661 - val_loss: 0.0383 - val_root_mean_squared_error: 49614.7109 - val_mean_squared_logarithmic_error: 0.0383\n",
      "Epoch 34/200\n",
      "68/68 [==============================] - 0s 6ms/step - loss: 0.0569 - root_mean_squared_error: 53400.9922 - mean_squared_logarithmic_error: 0.0569 - val_loss: 0.0366 - val_root_mean_squared_error: 48550.7578 - val_mean_squared_logarithmic_error: 0.0366\n",
      "Epoch 35/200\n",
      "68/68 [==============================] - 0s 6ms/step - loss: 0.0555 - root_mean_squared_error: 52265.3555 - mean_squared_logarithmic_error: 0.0555 - val_loss: 0.0354 - val_root_mean_squared_error: 47683.2852 - val_mean_squared_logarithmic_error: 0.0354\n",
      "Epoch 36/200\n",
      "68/68 [==============================] - 0s 6ms/step - loss: 0.0586 - root_mean_squared_error: 54084.5195 - mean_squared_logarithmic_error: 0.0586 - val_loss: 0.0343 - val_root_mean_squared_error: 46885.2031 - val_mean_squared_logarithmic_error: 0.0343\n",
      "Epoch 37/200\n",
      "68/68 [==============================] - 0s 6ms/step - loss: 0.0562 - root_mean_squared_error: 52573.7656 - mean_squared_logarithmic_error: 0.0562 - val_loss: 0.0334 - val_root_mean_squared_error: 46086.7344 - val_mean_squared_logarithmic_error: 0.0334\n",
      "Epoch 38/200\n",
      "68/68 [==============================] - 0s 6ms/step - loss: 0.0552 - root_mean_squared_error: 51128.7109 - mean_squared_logarithmic_error: 0.0552 - val_loss: 0.0325 - val_root_mean_squared_error: 45343.1758 - val_mean_squared_logarithmic_error: 0.0325\n",
      "Epoch 39/200\n",
      "68/68 [==============================] - 0s 6ms/step - loss: 0.0528 - root_mean_squared_error: 50577.8711 - mean_squared_logarithmic_error: 0.0528 - val_loss: 0.0317 - val_root_mean_squared_error: 44719.6758 - val_mean_squared_logarithmic_error: 0.0317\n",
      "Epoch 40/200\n",
      "68/68 [==============================] - 0s 6ms/step - loss: 0.0522 - root_mean_squared_error: 51320.5547 - mean_squared_logarithmic_error: 0.0522 - val_loss: 0.0309 - val_root_mean_squared_error: 44168.4961 - val_mean_squared_logarithmic_error: 0.0309\n",
      "Epoch 41/200\n",
      "68/68 [==============================] - 0s 6ms/step - loss: 0.0512 - root_mean_squared_error: 49342.6211 - mean_squared_logarithmic_error: 0.0512 - val_loss: 0.0303 - val_root_mean_squared_error: 43559.9961 - val_mean_squared_logarithmic_error: 0.0303\n",
      "Epoch 42/200\n",
      "68/68 [==============================] - 0s 6ms/step - loss: 0.0500 - root_mean_squared_error: 50069.8125 - mean_squared_logarithmic_error: 0.0500 - val_loss: 0.0297 - val_root_mean_squared_error: 43024.8984 - val_mean_squared_logarithmic_error: 0.0297\n",
      "Epoch 43/200\n",
      "68/68 [==============================] - 0s 6ms/step - loss: 0.0506 - root_mean_squared_error: 49736.8359 - mean_squared_logarithmic_error: 0.0506 - val_loss: 0.0292 - val_root_mean_squared_error: 42518.4570 - val_mean_squared_logarithmic_error: 0.0292\n",
      "Epoch 44/200\n",
      "68/68 [==============================] - 0s 6ms/step - loss: 0.0482 - root_mean_squared_error: 47360.5977 - mean_squared_logarithmic_error: 0.0482 - val_loss: 0.0288 - val_root_mean_squared_error: 42119.3633 - val_mean_squared_logarithmic_error: 0.0288\n",
      "Epoch 45/200\n",
      "68/68 [==============================] - 0s 6ms/step - loss: 0.0489 - root_mean_squared_error: 48756.4844 - mean_squared_logarithmic_error: 0.0489 - val_loss: 0.0284 - val_root_mean_squared_error: 41653.2539 - val_mean_squared_logarithmic_error: 0.0284\n",
      "Epoch 46/200\n",
      "68/68 [==============================] - 0s 6ms/step - loss: 0.0511 - root_mean_squared_error: 49154.9922 - mean_squared_logarithmic_error: 0.0511 - val_loss: 0.0278 - val_root_mean_squared_error: 41212.7227 - val_mean_squared_logarithmic_error: 0.0278\n",
      "Epoch 47/200\n",
      "68/68 [==============================] - 0s 6ms/step - loss: 0.0448 - root_mean_squared_error: 45210.8945 - mean_squared_logarithmic_error: 0.0448 - val_loss: 0.0275 - val_root_mean_squared_error: 40904.2734 - val_mean_squared_logarithmic_error: 0.0275\n",
      "Epoch 48/200\n",
      "68/68 [==============================] - 0s 6ms/step - loss: 0.0436 - root_mean_squared_error: 45213.6914 - mean_squared_logarithmic_error: 0.0436 - val_loss: 0.0270 - val_root_mean_squared_error: 40657.9375 - val_mean_squared_logarithmic_error: 0.0270\n",
      "Epoch 49/200\n",
      "68/68 [==============================] - 0s 6ms/step - loss: 0.0415 - root_mean_squared_error: 43284.1758 - mean_squared_logarithmic_error: 0.0415 - val_loss: 0.0267 - val_root_mean_squared_error: 40482.8750 - val_mean_squared_logarithmic_error: 0.0267\n",
      "Epoch 50/200\n",
      "68/68 [==============================] - 0s 6ms/step - loss: 0.0441 - root_mean_squared_error: 45457.5156 - mean_squared_logarithmic_error: 0.0441 - val_loss: 0.0263 - val_root_mean_squared_error: 40138.5781 - val_mean_squared_logarithmic_error: 0.0263\n",
      "Epoch 51/200\n",
      "68/68 [==============================] - 0s 6ms/step - loss: 0.0455 - root_mean_squared_error: 45578.5234 - mean_squared_logarithmic_error: 0.0455 - val_loss: 0.0260 - val_root_mean_squared_error: 39922.9609 - val_mean_squared_logarithmic_error: 0.0260\n",
      "Epoch 52/200\n",
      "68/68 [==============================] - 0s 6ms/step - loss: 0.0427 - root_mean_squared_error: 45588.5625 - mean_squared_logarithmic_error: 0.0427 - val_loss: 0.0257 - val_root_mean_squared_error: 39662.6094 - val_mean_squared_logarithmic_error: 0.0257\n",
      "Epoch 53/200\n",
      "68/68 [==============================] - 0s 6ms/step - loss: 0.0413 - root_mean_squared_error: 43288.3516 - mean_squared_logarithmic_error: 0.0413 - val_loss: 0.0255 - val_root_mean_squared_error: 39414.1172 - val_mean_squared_logarithmic_error: 0.0255\n",
      "Epoch 54/200\n",
      "68/68 [==============================] - 0s 6ms/step - loss: 0.0422 - root_mean_squared_error: 44590.1758 - mean_squared_logarithmic_error: 0.0422 - val_loss: 0.0252 - val_root_mean_squared_error: 39238.9414 - val_mean_squared_logarithmic_error: 0.0252\n",
      "Epoch 55/200\n",
      "68/68 [==============================] - 0s 6ms/step - loss: 0.0424 - root_mean_squared_error: 45059.7422 - mean_squared_logarithmic_error: 0.0424 - val_loss: 0.0249 - val_root_mean_squared_error: 38950.5156 - val_mean_squared_logarithmic_error: 0.0249\n",
      "Epoch 56/200\n",
      "68/68 [==============================] - 0s 6ms/step - loss: 0.0423 - root_mean_squared_error: 44417.2148 - mean_squared_logarithmic_error: 0.0423 - val_loss: 0.0248 - val_root_mean_squared_error: 38730.2031 - val_mean_squared_logarithmic_error: 0.0248\n",
      "Epoch 57/200\n",
      "68/68 [==============================] - 0s 6ms/step - loss: 0.0452 - root_mean_squared_error: 45531.1992 - mean_squared_logarithmic_error: 0.0452 - val_loss: 0.0244 - val_root_mean_squared_error: 38499.7227 - val_mean_squared_logarithmic_error: 0.0244\n",
      "Epoch 58/200\n",
      "68/68 [==============================] - 0s 6ms/step - loss: 0.0390 - root_mean_squared_error: 42583.2070 - mean_squared_logarithmic_error: 0.0390 - val_loss: 0.0242 - val_root_mean_squared_error: 38284.5312 - val_mean_squared_logarithmic_error: 0.0242\n",
      "Epoch 59/200\n",
      "68/68 [==============================] - 0s 6ms/step - loss: 0.0388 - root_mean_squared_error: 43281.1016 - mean_squared_logarithmic_error: 0.0388 - val_loss: 0.0240 - val_root_mean_squared_error: 38045.3828 - val_mean_squared_logarithmic_error: 0.0240\n",
      "Epoch 60/200\n",
      "68/68 [==============================] - 0s 6ms/step - loss: 0.0376 - root_mean_squared_error: 41107.3750 - mean_squared_logarithmic_error: 0.0376 - val_loss: 0.0237 - val_root_mean_squared_error: 37848.7344 - val_mean_squared_logarithmic_error: 0.0237\n",
      "Epoch 61/200\n",
      "68/68 [==============================] - 0s 6ms/step - loss: 0.0433 - root_mean_squared_error: 44563.3008 - mean_squared_logarithmic_error: 0.0433 - val_loss: 0.0236 - val_root_mean_squared_error: 37513.4766 - val_mean_squared_logarithmic_error: 0.0236\n",
      "Epoch 62/200\n",
      "68/68 [==============================] - 0s 6ms/step - loss: 0.0410 - root_mean_squared_error: 42644.1875 - mean_squared_logarithmic_error: 0.0410 - val_loss: 0.0234 - val_root_mean_squared_error: 37302.3086 - val_mean_squared_logarithmic_error: 0.0234\n",
      "Epoch 63/200\n",
      "68/68 [==============================] - 0s 6ms/step - loss: 0.0397 - root_mean_squared_error: 41615.8477 - mean_squared_logarithmic_error: 0.0397 - val_loss: 0.0231 - val_root_mean_squared_error: 37079.2539 - val_mean_squared_logarithmic_error: 0.0231\n",
      "Epoch 64/200\n",
      "68/68 [==============================] - 0s 6ms/step - loss: 0.0394 - root_mean_squared_error: 43477.8047 - mean_squared_logarithmic_error: 0.0394 - val_loss: 0.0229 - val_root_mean_squared_error: 36881.2148 - val_mean_squared_logarithmic_error: 0.0229\n",
      "Epoch 65/200\n",
      "68/68 [==============================] - 0s 6ms/step - loss: 0.0369 - root_mean_squared_error: 40540.5586 - mean_squared_logarithmic_error: 0.0369 - val_loss: 0.0227 - val_root_mean_squared_error: 36618.1172 - val_mean_squared_logarithmic_error: 0.0227\n",
      "Epoch 66/200\n",
      "68/68 [==============================] - 0s 6ms/step - loss: 0.0384 - root_mean_squared_error: 41221.6953 - mean_squared_logarithmic_error: 0.0384 - val_loss: 0.0224 - val_root_mean_squared_error: 36490.0234 - val_mean_squared_logarithmic_error: 0.0224\n",
      "Epoch 67/200\n",
      "68/68 [==============================] - 0s 6ms/step - loss: 0.0382 - root_mean_squared_error: 41825.9375 - mean_squared_logarithmic_error: 0.0382 - val_loss: 0.0223 - val_root_mean_squared_error: 36247.7383 - val_mean_squared_logarithmic_error: 0.0223\n",
      "Epoch 68/200\n",
      "68/68 [==============================] - 0s 6ms/step - loss: 0.0362 - root_mean_squared_error: 41545.5078 - mean_squared_logarithmic_error: 0.0362 - val_loss: 0.0221 - val_root_mean_squared_error: 35955.8047 - val_mean_squared_logarithmic_error: 0.0221\n",
      "Epoch 69/200\n",
      "68/68 [==============================] - 1s 11ms/step - loss: 0.0381 - root_mean_squared_error: 41850.8477 - mean_squared_logarithmic_error: 0.0381 - val_loss: 0.0220 - val_root_mean_squared_error: 35767.6875 - val_mean_squared_logarithmic_error: 0.0220\n",
      "Epoch 70/200\n",
      "68/68 [==============================] - 0s 7ms/step - loss: 0.0386 - root_mean_squared_error: 42940.8242 - mean_squared_logarithmic_error: 0.0386 - val_loss: 0.0220 - val_root_mean_squared_error: 35493.7695 - val_mean_squared_logarithmic_error: 0.0220\n",
      "Epoch 71/200\n",
      "68/68 [==============================] - 0s 6ms/step - loss: 0.0398 - root_mean_squared_error: 43253.1953 - mean_squared_logarithmic_error: 0.0398 - val_loss: 0.0218 - val_root_mean_squared_error: 35361.1289 - val_mean_squared_logarithmic_error: 0.0218\n",
      "Epoch 72/200\n",
      "68/68 [==============================] - 0s 6ms/step - loss: 0.0369 - root_mean_squared_error: 41233.4961 - mean_squared_logarithmic_error: 0.0369 - val_loss: 0.0215 - val_root_mean_squared_error: 35209.1836 - val_mean_squared_logarithmic_error: 0.0215\n",
      "Epoch 73/200\n",
      "68/68 [==============================] - 0s 6ms/step - loss: 0.0350 - root_mean_squared_error: 40165.1289 - mean_squared_logarithmic_error: 0.0350 - val_loss: 0.0213 - val_root_mean_squared_error: 35131.3125 - val_mean_squared_logarithmic_error: 0.0213\n",
      "Epoch 74/200\n",
      "68/68 [==============================] - 0s 6ms/step - loss: 0.0354 - root_mean_squared_error: 40290.5781 - mean_squared_logarithmic_error: 0.0354 - val_loss: 0.0212 - val_root_mean_squared_error: 34877.2500 - val_mean_squared_logarithmic_error: 0.0212\n",
      "Epoch 75/200\n",
      "68/68 [==============================] - 0s 6ms/step - loss: 0.0369 - root_mean_squared_error: 40281.6562 - mean_squared_logarithmic_error: 0.0369 - val_loss: 0.0211 - val_root_mean_squared_error: 34794.5508 - val_mean_squared_logarithmic_error: 0.0211\n",
      "Epoch 76/200\n",
      "68/68 [==============================] - 0s 6ms/step - loss: 0.0351 - root_mean_squared_error: 38494.6602 - mean_squared_logarithmic_error: 0.0351 - val_loss: 0.0210 - val_root_mean_squared_error: 34624.1523 - val_mean_squared_logarithmic_error: 0.0210\n",
      "Epoch 77/200\n",
      "68/68 [==============================] - 0s 6ms/step - loss: 0.0349 - root_mean_squared_error: 40324.2461 - mean_squared_logarithmic_error: 0.0349 - val_loss: 0.0207 - val_root_mean_squared_error: 34539.2852 - val_mean_squared_logarithmic_error: 0.0207\n",
      "Epoch 78/200\n",
      "68/68 [==============================] - 0s 6ms/step - loss: 0.0373 - root_mean_squared_error: 41066.5703 - mean_squared_logarithmic_error: 0.0373 - val_loss: 0.0206 - val_root_mean_squared_error: 34317.5703 - val_mean_squared_logarithmic_error: 0.0206\n",
      "Epoch 79/200\n",
      "68/68 [==============================] - 0s 6ms/step - loss: 0.0366 - root_mean_squared_error: 40948.1211 - mean_squared_logarithmic_error: 0.0366 - val_loss: 0.0205 - val_root_mean_squared_error: 34164.0742 - val_mean_squared_logarithmic_error: 0.0205\n",
      "Epoch 80/200\n",
      "68/68 [==============================] - 0s 6ms/step - loss: 0.0355 - root_mean_squared_error: 39009.0586 - mean_squared_logarithmic_error: 0.0355 - val_loss: 0.0204 - val_root_mean_squared_error: 34006.5977 - val_mean_squared_logarithmic_error: 0.0204\n",
      "Epoch 81/200\n",
      "68/68 [==============================] - 0s 6ms/step - loss: 0.0359 - root_mean_squared_error: 40046.0430 - mean_squared_logarithmic_error: 0.0359 - val_loss: 0.0202 - val_root_mean_squared_error: 33763.3281 - val_mean_squared_logarithmic_error: 0.0202\n",
      "Epoch 82/200\n",
      "68/68 [==============================] - 0s 6ms/step - loss: 0.0344 - root_mean_squared_error: 40665.5508 - mean_squared_logarithmic_error: 0.0344 - val_loss: 0.0201 - val_root_mean_squared_error: 33591.8906 - val_mean_squared_logarithmic_error: 0.0201\n",
      "Epoch 83/200\n",
      "68/68 [==============================] - 0s 6ms/step - loss: 0.0332 - root_mean_squared_error: 38968.7500 - mean_squared_logarithmic_error: 0.0332 - val_loss: 0.0202 - val_root_mean_squared_error: 33456.2070 - val_mean_squared_logarithmic_error: 0.0202\n",
      "Epoch 84/200\n",
      "68/68 [==============================] - 0s 6ms/step - loss: 0.0338 - root_mean_squared_error: 38386.4258 - mean_squared_logarithmic_error: 0.0338 - val_loss: 0.0198 - val_root_mean_squared_error: 33445.2031 - val_mean_squared_logarithmic_error: 0.0198\n",
      "Epoch 85/200\n",
      "68/68 [==============================] - 0s 6ms/step - loss: 0.0324 - root_mean_squared_error: 38155.3867 - mean_squared_logarithmic_error: 0.0324 - val_loss: 0.0198 - val_root_mean_squared_error: 33187.6250 - val_mean_squared_logarithmic_error: 0.0198\n",
      "Epoch 86/200\n",
      "68/68 [==============================] - 0s 6ms/step - loss: 0.0327 - root_mean_squared_error: 38398.0508 - mean_squared_logarithmic_error: 0.0327 - val_loss: 0.0196 - val_root_mean_squared_error: 33291.5234 - val_mean_squared_logarithmic_error: 0.0196\n",
      "Epoch 87/200\n",
      "68/68 [==============================] - 0s 6ms/step - loss: 0.0332 - root_mean_squared_error: 38151.9336 - mean_squared_logarithmic_error: 0.0332 - val_loss: 0.0196 - val_root_mean_squared_error: 33050.4609 - val_mean_squared_logarithmic_error: 0.0196\n",
      "Epoch 88/200\n",
      "68/68 [==============================] - 0s 6ms/step - loss: 0.0295 - root_mean_squared_error: 37257.1055 - mean_squared_logarithmic_error: 0.0295 - val_loss: 0.0194 - val_root_mean_squared_error: 32967.3359 - val_mean_squared_logarithmic_error: 0.0194\n",
      "Epoch 89/200\n",
      "68/68 [==============================] - 0s 6ms/step - loss: 0.0351 - root_mean_squared_error: 38871.2422 - mean_squared_logarithmic_error: 0.0351 - val_loss: 0.0193 - val_root_mean_squared_error: 32868.7773 - val_mean_squared_logarithmic_error: 0.0193\n",
      "Epoch 90/200\n",
      "68/68 [==============================] - 0s 6ms/step - loss: 0.0332 - root_mean_squared_error: 38612.0781 - mean_squared_logarithmic_error: 0.0332 - val_loss: 0.0193 - val_root_mean_squared_error: 32681.6582 - val_mean_squared_logarithmic_error: 0.0193\n",
      "Epoch 91/200\n",
      "68/68 [==============================] - 0s 6ms/step - loss: 0.0341 - root_mean_squared_error: 38736.5117 - mean_squared_logarithmic_error: 0.0341 - val_loss: 0.0193 - val_root_mean_squared_error: 32422.2793 - val_mean_squared_logarithmic_error: 0.0193\n",
      "Epoch 92/200\n",
      "68/68 [==============================] - 0s 6ms/step - loss: 0.0319 - root_mean_squared_error: 37660.2656 - mean_squared_logarithmic_error: 0.0319 - val_loss: 0.0191 - val_root_mean_squared_error: 32365.9512 - val_mean_squared_logarithmic_error: 0.0191\n",
      "Epoch 93/200\n",
      "68/68 [==============================] - 0s 6ms/step - loss: 0.0320 - root_mean_squared_error: 37142.1523 - mean_squared_logarithmic_error: 0.0320 - val_loss: 0.0190 - val_root_mean_squared_error: 32258.2812 - val_mean_squared_logarithmic_error: 0.0190\n",
      "Epoch 94/200\n",
      "68/68 [==============================] - 0s 6ms/step - loss: 0.0324 - root_mean_squared_error: 37541.3242 - mean_squared_logarithmic_error: 0.0324 - val_loss: 0.0188 - val_root_mean_squared_error: 32082.7285 - val_mean_squared_logarithmic_error: 0.0188\n",
      "Epoch 95/200\n",
      "68/68 [==============================] - 0s 6ms/step - loss: 0.0329 - root_mean_squared_error: 37194.0859 - mean_squared_logarithmic_error: 0.0329 - val_loss: 0.0185 - val_root_mean_squared_error: 32193.8066 - val_mean_squared_logarithmic_error: 0.0185\n",
      "Epoch 96/200\n",
      "68/68 [==============================] - 0s 6ms/step - loss: 0.0334 - root_mean_squared_error: 37969.5000 - mean_squared_logarithmic_error: 0.0334 - val_loss: 0.0184 - val_root_mean_squared_error: 32015.2051 - val_mean_squared_logarithmic_error: 0.0184\n",
      "Epoch 97/200\n",
      "68/68 [==============================] - 0s 6ms/step - loss: 0.0294 - root_mean_squared_error: 36137.0078 - mean_squared_logarithmic_error: 0.0294 - val_loss: 0.0186 - val_root_mean_squared_error: 31887.2988 - val_mean_squared_logarithmic_error: 0.0186\n",
      "Epoch 98/200\n",
      "68/68 [==============================] - 0s 6ms/step - loss: 0.0323 - root_mean_squared_error: 37465.4492 - mean_squared_logarithmic_error: 0.0323 - val_loss: 0.0182 - val_root_mean_squared_error: 31803.1172 - val_mean_squared_logarithmic_error: 0.0182\n",
      "Epoch 99/200\n",
      "68/68 [==============================] - 0s 6ms/step - loss: 0.0324 - root_mean_squared_error: 37976.4062 - mean_squared_logarithmic_error: 0.0324 - val_loss: 0.0183 - val_root_mean_squared_error: 31598.1289 - val_mean_squared_logarithmic_error: 0.0183\n",
      "Epoch 100/200\n",
      "68/68 [==============================] - 0s 6ms/step - loss: 0.0282 - root_mean_squared_error: 34643.5586 - mean_squared_logarithmic_error: 0.0282 - val_loss: 0.0181 - val_root_mean_squared_error: 31454.8359 - val_mean_squared_logarithmic_error: 0.0181\n",
      "Epoch 101/200\n",
      "68/68 [==============================] - 0s 6ms/step - loss: 0.0278 - root_mean_squared_error: 34142.7227 - mean_squared_logarithmic_error: 0.0278 - val_loss: 0.0179 - val_root_mean_squared_error: 31489.0312 - val_mean_squared_logarithmic_error: 0.0179\n",
      "Epoch 102/200\n",
      "68/68 [==============================] - 0s 6ms/step - loss: 0.0307 - root_mean_squared_error: 36743.1211 - mean_squared_logarithmic_error: 0.0307 - val_loss: 0.0181 - val_root_mean_squared_error: 31160.8457 - val_mean_squared_logarithmic_error: 0.0181\n",
      "Epoch 103/200\n",
      "68/68 [==============================] - 0s 6ms/step - loss: 0.0288 - root_mean_squared_error: 35320.3438 - mean_squared_logarithmic_error: 0.0288 - val_loss: 0.0178 - val_root_mean_squared_error: 31082.3594 - val_mean_squared_logarithmic_error: 0.0178\n",
      "Epoch 104/200\n",
      "68/68 [==============================] - 0s 6ms/step - loss: 0.0318 - root_mean_squared_error: 37845.6250 - mean_squared_logarithmic_error: 0.0318 - val_loss: 0.0177 - val_root_mean_squared_error: 30939.2988 - val_mean_squared_logarithmic_error: 0.0177\n",
      "Epoch 105/200\n",
      "68/68 [==============================] - 0s 6ms/step - loss: 0.0288 - root_mean_squared_error: 34361.4805 - mean_squared_logarithmic_error: 0.0288 - val_loss: 0.0177 - val_root_mean_squared_error: 30846.9941 - val_mean_squared_logarithmic_error: 0.0177\n",
      "Epoch 106/200\n",
      "68/68 [==============================] - 0s 6ms/step - loss: 0.0281 - root_mean_squared_error: 34799.3320 - mean_squared_logarithmic_error: 0.0281 - val_loss: 0.0175 - val_root_mean_squared_error: 31076.9473 - val_mean_squared_logarithmic_error: 0.0175\n",
      "Epoch 107/200\n",
      "68/68 [==============================] - 0s 6ms/step - loss: 0.0273 - root_mean_squared_error: 34306.6953 - mean_squared_logarithmic_error: 0.0273 - val_loss: 0.0175 - val_root_mean_squared_error: 30823.0391 - val_mean_squared_logarithmic_error: 0.0175\n",
      "Epoch 108/200\n",
      "68/68 [==============================] - 0s 6ms/step - loss: 0.0292 - root_mean_squared_error: 34871.0000 - mean_squared_logarithmic_error: 0.0292 - val_loss: 0.0178 - val_root_mean_squared_error: 30713.2656 - val_mean_squared_logarithmic_error: 0.0178\n",
      "Epoch 109/200\n",
      "68/68 [==============================] - 0s 6ms/step - loss: 0.0300 - root_mean_squared_error: 36689.1250 - mean_squared_logarithmic_error: 0.0300 - val_loss: 0.0174 - val_root_mean_squared_error: 30594.8750 - val_mean_squared_logarithmic_error: 0.0174\n",
      "Epoch 110/200\n",
      "68/68 [==============================] - 0s 6ms/step - loss: 0.0289 - root_mean_squared_error: 35503.4883 - mean_squared_logarithmic_error: 0.0289 - val_loss: 0.0174 - val_root_mean_squared_error: 30532.7324 - val_mean_squared_logarithmic_error: 0.0174\n",
      "Epoch 111/200\n",
      "68/68 [==============================] - 0s 6ms/step - loss: 0.0282 - root_mean_squared_error: 34541.0000 - mean_squared_logarithmic_error: 0.0282 - val_loss: 0.0176 - val_root_mean_squared_error: 30352.7598 - val_mean_squared_logarithmic_error: 0.0176\n",
      "Epoch 112/200\n",
      "68/68 [==============================] - 0s 6ms/step - loss: 0.0287 - root_mean_squared_error: 34586.5703 - mean_squared_logarithmic_error: 0.0287 - val_loss: 0.0173 - val_root_mean_squared_error: 30271.2598 - val_mean_squared_logarithmic_error: 0.0173\n",
      "Epoch 113/200\n",
      "68/68 [==============================] - 0s 6ms/step - loss: 0.0285 - root_mean_squared_error: 36279.1484 - mean_squared_logarithmic_error: 0.0285 - val_loss: 0.0174 - val_root_mean_squared_error: 30100.9258 - val_mean_squared_logarithmic_error: 0.0174\n",
      "Epoch 114/200\n",
      "68/68 [==============================] - 0s 6ms/step - loss: 0.0275 - root_mean_squared_error: 34717.6523 - mean_squared_logarithmic_error: 0.0275 - val_loss: 0.0171 - val_root_mean_squared_error: 30276.8574 - val_mean_squared_logarithmic_error: 0.0171\n",
      "Epoch 115/200\n",
      "68/68 [==============================] - 0s 6ms/step - loss: 0.0300 - root_mean_squared_error: 34722.4180 - mean_squared_logarithmic_error: 0.0300 - val_loss: 0.0170 - val_root_mean_squared_error: 30246.2695 - val_mean_squared_logarithmic_error: 0.0170\n",
      "Epoch 116/200\n",
      "68/68 [==============================] - 0s 6ms/step - loss: 0.0284 - root_mean_squared_error: 35487.5352 - mean_squared_logarithmic_error: 0.0284 - val_loss: 0.0171 - val_root_mean_squared_error: 29939.5176 - val_mean_squared_logarithmic_error: 0.0171\n",
      "Epoch 117/200\n",
      "68/68 [==============================] - 0s 6ms/step - loss: 0.0274 - root_mean_squared_error: 33650.6094 - mean_squared_logarithmic_error: 0.0274 - val_loss: 0.0172 - val_root_mean_squared_error: 29873.2930 - val_mean_squared_logarithmic_error: 0.0172\n",
      "Epoch 118/200\n",
      "68/68 [==============================] - 0s 6ms/step - loss: 0.0271 - root_mean_squared_error: 35416.3281 - mean_squared_logarithmic_error: 0.0271 - val_loss: 0.0168 - val_root_mean_squared_error: 30129.9043 - val_mean_squared_logarithmic_error: 0.0168\n",
      "Epoch 119/200\n",
      "68/68 [==============================] - 0s 6ms/step - loss: 0.0292 - root_mean_squared_error: 34435.3008 - mean_squared_logarithmic_error: 0.0292 - val_loss: 0.0170 - val_root_mean_squared_error: 29774.8086 - val_mean_squared_logarithmic_error: 0.0170\n",
      "Epoch 120/200\n",
      "68/68 [==============================] - 0s 6ms/step - loss: 0.0261 - root_mean_squared_error: 32404.4043 - mean_squared_logarithmic_error: 0.0261 - val_loss: 0.0169 - val_root_mean_squared_error: 29648.3418 - val_mean_squared_logarithmic_error: 0.0169\n",
      "Epoch 121/200\n",
      "68/68 [==============================] - 0s 6ms/step - loss: 0.0255 - root_mean_squared_error: 32925.8750 - mean_squared_logarithmic_error: 0.0255 - val_loss: 0.0168 - val_root_mean_squared_error: 29711.1211 - val_mean_squared_logarithmic_error: 0.0168\n",
      "Epoch 122/200\n",
      "68/68 [==============================] - 0s 7ms/step - loss: 0.0266 - root_mean_squared_error: 33871.6562 - mean_squared_logarithmic_error: 0.0266 - val_loss: 0.0167 - val_root_mean_squared_error: 29431.7891 - val_mean_squared_logarithmic_error: 0.0167\n",
      "Epoch 123/200\n",
      "68/68 [==============================] - 0s 6ms/step - loss: 0.0270 - root_mean_squared_error: 33127.8555 - mean_squared_logarithmic_error: 0.0270 - val_loss: 0.0168 - val_root_mean_squared_error: 29164.9980 - val_mean_squared_logarithmic_error: 0.0168\n",
      "Epoch 124/200\n",
      "68/68 [==============================] - 0s 6ms/step - loss: 0.0263 - root_mean_squared_error: 33124.8711 - mean_squared_logarithmic_error: 0.0263 - val_loss: 0.0166 - val_root_mean_squared_error: 29296.4023 - val_mean_squared_logarithmic_error: 0.0166\n",
      "Epoch 125/200\n",
      "68/68 [==============================] - 0s 6ms/step - loss: 0.0274 - root_mean_squared_error: 34083.3438 - mean_squared_logarithmic_error: 0.0274 - val_loss: 0.0167 - val_root_mean_squared_error: 29017.6133 - val_mean_squared_logarithmic_error: 0.0167\n",
      "Epoch 126/200\n",
      "68/68 [==============================] - 0s 6ms/step - loss: 0.0257 - root_mean_squared_error: 32377.3008 - mean_squared_logarithmic_error: 0.0257 - val_loss: 0.0168 - val_root_mean_squared_error: 28943.9609 - val_mean_squared_logarithmic_error: 0.0168\n",
      "Epoch 127/200\n",
      "68/68 [==============================] - 0s 6ms/step - loss: 0.0282 - root_mean_squared_error: 35517.1094 - mean_squared_logarithmic_error: 0.0282 - val_loss: 0.0165 - val_root_mean_squared_error: 29036.0156 - val_mean_squared_logarithmic_error: 0.0165\n",
      "Epoch 128/200\n",
      "68/68 [==============================] - 0s 6ms/step - loss: 0.0269 - root_mean_squared_error: 32675.8418 - mean_squared_logarithmic_error: 0.0269 - val_loss: 0.0170 - val_root_mean_squared_error: 28826.6875 - val_mean_squared_logarithmic_error: 0.0170\n",
      "Epoch 129/200\n",
      "68/68 [==============================] - 0s 6ms/step - loss: 0.0288 - root_mean_squared_error: 34373.7656 - mean_squared_logarithmic_error: 0.0288 - val_loss: 0.0165 - val_root_mean_squared_error: 28900.2578 - val_mean_squared_logarithmic_error: 0.0165\n",
      "Epoch 130/200\n",
      "68/68 [==============================] - 0s 6ms/step - loss: 0.0269 - root_mean_squared_error: 33811.7266 - mean_squared_logarithmic_error: 0.0269 - val_loss: 0.0164 - val_root_mean_squared_error: 29328.3867 - val_mean_squared_logarithmic_error: 0.0164\n",
      "Epoch 131/200\n",
      "68/68 [==============================] - 0s 6ms/step - loss: 0.0274 - root_mean_squared_error: 33830.4492 - mean_squared_logarithmic_error: 0.0274 - val_loss: 0.0165 - val_root_mean_squared_error: 28775.6680 - val_mean_squared_logarithmic_error: 0.0165\n",
      "Epoch 132/200\n",
      "68/68 [==============================] - 0s 6ms/step - loss: 0.0261 - root_mean_squared_error: 33380.3086 - mean_squared_logarithmic_error: 0.0261 - val_loss: 0.0164 - val_root_mean_squared_error: 28804.2754 - val_mean_squared_logarithmic_error: 0.0164\n",
      "Epoch 133/200\n",
      "68/68 [==============================] - 0s 6ms/step - loss: 0.0263 - root_mean_squared_error: 32454.2949 - mean_squared_logarithmic_error: 0.0263 - val_loss: 0.0163 - val_root_mean_squared_error: 28865.4297 - val_mean_squared_logarithmic_error: 0.0163\n",
      "Epoch 134/200\n",
      "68/68 [==============================] - 0s 6ms/step - loss: 0.0252 - root_mean_squared_error: 33685.8750 - mean_squared_logarithmic_error: 0.0252 - val_loss: 0.0166 - val_root_mean_squared_error: 28547.9238 - val_mean_squared_logarithmic_error: 0.0166\n",
      "Epoch 135/200\n",
      "68/68 [==============================] - 0s 6ms/step - loss: 0.0260 - root_mean_squared_error: 32552.5898 - mean_squared_logarithmic_error: 0.0260 - val_loss: 0.0163 - val_root_mean_squared_error: 28733.8711 - val_mean_squared_logarithmic_error: 0.0163\n",
      "Epoch 136/200\n",
      "68/68 [==============================] - 0s 6ms/step - loss: 0.0255 - root_mean_squared_error: 33130.7188 - mean_squared_logarithmic_error: 0.0255 - val_loss: 0.0166 - val_root_mean_squared_error: 28706.4785 - val_mean_squared_logarithmic_error: 0.0166\n",
      "Epoch 137/200\n",
      "68/68 [==============================] - 0s 6ms/step - loss: 0.0249 - root_mean_squared_error: 32713.0195 - mean_squared_logarithmic_error: 0.0249 - val_loss: 0.0163 - val_root_mean_squared_error: 28682.7383 - val_mean_squared_logarithmic_error: 0.0163\n",
      "Epoch 138/200\n",
      "68/68 [==============================] - 0s 6ms/step - loss: 0.0238 - root_mean_squared_error: 31277.2090 - mean_squared_logarithmic_error: 0.0238 - val_loss: 0.0164 - val_root_mean_squared_error: 28567.4668 - val_mean_squared_logarithmic_error: 0.0164\n",
      "Epoch 139/200\n",
      "68/68 [==============================] - 0s 6ms/step - loss: 0.0265 - root_mean_squared_error: 33189.3828 - mean_squared_logarithmic_error: 0.0265 - val_loss: 0.0163 - val_root_mean_squared_error: 28540.9434 - val_mean_squared_logarithmic_error: 0.0163\n",
      "Epoch 140/200\n",
      "68/68 [==============================] - 0s 6ms/step - loss: 0.0250 - root_mean_squared_error: 31794.6816 - mean_squared_logarithmic_error: 0.0250 - val_loss: 0.0161 - val_root_mean_squared_error: 28505.4492 - val_mean_squared_logarithmic_error: 0.0161\n",
      "Epoch 141/200\n",
      "68/68 [==============================] - 0s 6ms/step - loss: 0.0253 - root_mean_squared_error: 31648.7324 - mean_squared_logarithmic_error: 0.0253 - val_loss: 0.0160 - val_root_mean_squared_error: 28375.2266 - val_mean_squared_logarithmic_error: 0.0160\n",
      "Epoch 142/200\n",
      "68/68 [==============================] - 0s 6ms/step - loss: 0.0253 - root_mean_squared_error: 31724.8301 - mean_squared_logarithmic_error: 0.0253 - val_loss: 0.0160 - val_root_mean_squared_error: 28320.6758 - val_mean_squared_logarithmic_error: 0.0160\n",
      "Epoch 143/200\n",
      "68/68 [==============================] - 0s 6ms/step - loss: 0.0250 - root_mean_squared_error: 32461.9004 - mean_squared_logarithmic_error: 0.0250 - val_loss: 0.0160 - val_root_mean_squared_error: 28299.2441 - val_mean_squared_logarithmic_error: 0.0160\n",
      "Epoch 144/200\n",
      "68/68 [==============================] - 1s 8ms/step - loss: 0.0254 - root_mean_squared_error: 32048.0977 - mean_squared_logarithmic_error: 0.0254 - val_loss: 0.0162 - val_root_mean_squared_error: 28255.9922 - val_mean_squared_logarithmic_error: 0.0162\n",
      "Epoch 145/200\n",
      "68/68 [==============================] - 1s 10ms/step - loss: 0.0256 - root_mean_squared_error: 33542.0117 - mean_squared_logarithmic_error: 0.0256 - val_loss: 0.0159 - val_root_mean_squared_error: 28178.6367 - val_mean_squared_logarithmic_error: 0.0159\n",
      "Epoch 146/200\n",
      "68/68 [==============================] - 0s 7ms/step - loss: 0.0230 - root_mean_squared_error: 32053.0488 - mean_squared_logarithmic_error: 0.0230 - val_loss: 0.0159 - val_root_mean_squared_error: 28271.6621 - val_mean_squared_logarithmic_error: 0.0159\n",
      "Epoch 147/200\n",
      "68/68 [==============================] - 0s 6ms/step - loss: 0.0261 - root_mean_squared_error: 32892.9375 - mean_squared_logarithmic_error: 0.0261 - val_loss: 0.0159 - val_root_mean_squared_error: 28043.8359 - val_mean_squared_logarithmic_error: 0.0159\n",
      "Epoch 148/200\n",
      "68/68 [==============================] - 0s 6ms/step - loss: 0.0223 - root_mean_squared_error: 29940.6055 - mean_squared_logarithmic_error: 0.0223 - val_loss: 0.0159 - val_root_mean_squared_error: 28317.7969 - val_mean_squared_logarithmic_error: 0.0159\n",
      "Epoch 149/200\n",
      "68/68 [==============================] - 0s 6ms/step - loss: 0.0238 - root_mean_squared_error: 31005.2324 - mean_squared_logarithmic_error: 0.0238 - val_loss: 0.0159 - val_root_mean_squared_error: 28155.5332 - val_mean_squared_logarithmic_error: 0.0159\n",
      "Epoch 150/200\n",
      "68/68 [==============================] - 0s 6ms/step - loss: 0.0245 - root_mean_squared_error: 31128.0508 - mean_squared_logarithmic_error: 0.0245 - val_loss: 0.0158 - val_root_mean_squared_error: 28180.4590 - val_mean_squared_logarithmic_error: 0.0158\n",
      "Epoch 151/200\n",
      "68/68 [==============================] - 0s 6ms/step - loss: 0.0229 - root_mean_squared_error: 31124.3066 - mean_squared_logarithmic_error: 0.0229 - val_loss: 0.0158 - val_root_mean_squared_error: 28151.5254 - val_mean_squared_logarithmic_error: 0.0158\n",
      "Epoch 152/200\n",
      "68/68 [==============================] - 0s 7ms/step - loss: 0.0242 - root_mean_squared_error: 32293.6172 - mean_squared_logarithmic_error: 0.0242 - val_loss: 0.0159 - val_root_mean_squared_error: 28447.0391 - val_mean_squared_logarithmic_error: 0.0159\n",
      "Epoch 153/200\n",
      "68/68 [==============================] - 0s 7ms/step - loss: 0.0238 - root_mean_squared_error: 32248.6465 - mean_squared_logarithmic_error: 0.0238 - val_loss: 0.0161 - val_root_mean_squared_error: 27846.6973 - val_mean_squared_logarithmic_error: 0.0161\n",
      "Epoch 154/200\n",
      "68/68 [==============================] - 0s 6ms/step - loss: 0.0230 - root_mean_squared_error: 30663.5586 - mean_squared_logarithmic_error: 0.0230 - val_loss: 0.0159 - val_root_mean_squared_error: 27620.1953 - val_mean_squared_logarithmic_error: 0.0159\n",
      "Epoch 155/200\n",
      "68/68 [==============================] - 0s 6ms/step - loss: 0.0231 - root_mean_squared_error: 30106.0039 - mean_squared_logarithmic_error: 0.0231 - val_loss: 0.0163 - val_root_mean_squared_error: 27776.7910 - val_mean_squared_logarithmic_error: 0.0163\n",
      "Epoch 156/200\n",
      "68/68 [==============================] - 0s 6ms/step - loss: 0.0226 - root_mean_squared_error: 30969.5859 - mean_squared_logarithmic_error: 0.0226 - val_loss: 0.0157 - val_root_mean_squared_error: 27656.6641 - val_mean_squared_logarithmic_error: 0.0157\n",
      "Epoch 157/200\n",
      "68/68 [==============================] - 0s 6ms/step - loss: 0.0233 - root_mean_squared_error: 29947.5273 - mean_squared_logarithmic_error: 0.0233 - val_loss: 0.0164 - val_root_mean_squared_error: 27745.8574 - val_mean_squared_logarithmic_error: 0.0164\n",
      "Epoch 158/200\n",
      "68/68 [==============================] - 0s 6ms/step - loss: 0.0242 - root_mean_squared_error: 31542.2285 - mean_squared_logarithmic_error: 0.0242 - val_loss: 0.0160 - val_root_mean_squared_error: 27580.8984 - val_mean_squared_logarithmic_error: 0.0160\n",
      "Epoch 159/200\n",
      "68/68 [==============================] - 0s 6ms/step - loss: 0.0242 - root_mean_squared_error: 31976.4922 - mean_squared_logarithmic_error: 0.0242 - val_loss: 0.0156 - val_root_mean_squared_error: 28040.5840 - val_mean_squared_logarithmic_error: 0.0156\n",
      "Epoch 160/200\n",
      "68/68 [==============================] - 0s 6ms/step - loss: 0.0234 - root_mean_squared_error: 31705.5586 - mean_squared_logarithmic_error: 0.0234 - val_loss: 0.0156 - val_root_mean_squared_error: 27568.5312 - val_mean_squared_logarithmic_error: 0.0156\n",
      "Epoch 161/200\n",
      "68/68 [==============================] - 0s 6ms/step - loss: 0.0242 - root_mean_squared_error: 31402.9180 - mean_squared_logarithmic_error: 0.0242 - val_loss: 0.0156 - val_root_mean_squared_error: 27681.8770 - val_mean_squared_logarithmic_error: 0.0156\n",
      "Epoch 162/200\n",
      "68/68 [==============================] - 0s 6ms/step - loss: 0.0232 - root_mean_squared_error: 31145.4277 - mean_squared_logarithmic_error: 0.0232 - val_loss: 0.0159 - val_root_mean_squared_error: 27609.7344 - val_mean_squared_logarithmic_error: 0.0159\n",
      "Epoch 163/200\n",
      "68/68 [==============================] - 0s 6ms/step - loss: 0.0239 - root_mean_squared_error: 30523.3496 - mean_squared_logarithmic_error: 0.0239 - val_loss: 0.0155 - val_root_mean_squared_error: 27511.8008 - val_mean_squared_logarithmic_error: 0.0155\n",
      "Epoch 164/200\n",
      "68/68 [==============================] - 0s 6ms/step - loss: 0.0219 - root_mean_squared_error: 29805.1191 - mean_squared_logarithmic_error: 0.0219 - val_loss: 0.0154 - val_root_mean_squared_error: 27801.1387 - val_mean_squared_logarithmic_error: 0.0154\n",
      "Epoch 165/200\n",
      "68/68 [==============================] - 0s 6ms/step - loss: 0.0217 - root_mean_squared_error: 28894.0117 - mean_squared_logarithmic_error: 0.0217 - val_loss: 0.0155 - val_root_mean_squared_error: 27482.8789 - val_mean_squared_logarithmic_error: 0.0155\n",
      "Epoch 166/200\n",
      "68/68 [==============================] - 0s 6ms/step - loss: 0.0215 - root_mean_squared_error: 29760.5527 - mean_squared_logarithmic_error: 0.0215 - val_loss: 0.0155 - val_root_mean_squared_error: 27537.8926 - val_mean_squared_logarithmic_error: 0.0155\n",
      "Epoch 167/200\n",
      "68/68 [==============================] - 0s 6ms/step - loss: 0.0221 - root_mean_squared_error: 29709.6387 - mean_squared_logarithmic_error: 0.0221 - val_loss: 0.0157 - val_root_mean_squared_error: 27629.7988 - val_mean_squared_logarithmic_error: 0.0157\n",
      "Epoch 168/200\n",
      "68/68 [==============================] - 0s 6ms/step - loss: 0.0225 - root_mean_squared_error: 30817.4043 - mean_squared_logarithmic_error: 0.0225 - val_loss: 0.0154 - val_root_mean_squared_error: 27445.6445 - val_mean_squared_logarithmic_error: 0.0154\n",
      "Epoch 169/200\n",
      "68/68 [==============================] - 0s 6ms/step - loss: 0.0226 - root_mean_squared_error: 30753.4746 - mean_squared_logarithmic_error: 0.0226 - val_loss: 0.0154 - val_root_mean_squared_error: 27516.2500 - val_mean_squared_logarithmic_error: 0.0154\n",
      "Epoch 170/200\n",
      "68/68 [==============================] - 0s 6ms/step - loss: 0.0220 - root_mean_squared_error: 29797.3281 - mean_squared_logarithmic_error: 0.0220 - val_loss: 0.0158 - val_root_mean_squared_error: 27530.3633 - val_mean_squared_logarithmic_error: 0.0158\n",
      "Epoch 171/200\n",
      "68/68 [==============================] - 0s 6ms/step - loss: 0.0231 - root_mean_squared_error: 31823.4219 - mean_squared_logarithmic_error: 0.0231 - val_loss: 0.0155 - val_root_mean_squared_error: 27434.0195 - val_mean_squared_logarithmic_error: 0.0155\n",
      "Epoch 172/200\n",
      "68/68 [==============================] - 0s 6ms/step - loss: 0.0232 - root_mean_squared_error: 31308.3457 - mean_squared_logarithmic_error: 0.0232 - val_loss: 0.0155 - val_root_mean_squared_error: 27498.3047 - val_mean_squared_logarithmic_error: 0.0155\n",
      "Epoch 173/200\n",
      "68/68 [==============================] - 0s 6ms/step - loss: 0.0219 - root_mean_squared_error: 30956.4355 - mean_squared_logarithmic_error: 0.0219 - val_loss: 0.0156 - val_root_mean_squared_error: 27487.5898 - val_mean_squared_logarithmic_error: 0.0156\n",
      "Epoch 174/200\n",
      "68/68 [==============================] - 0s 6ms/step - loss: 0.0225 - root_mean_squared_error: 30560.1406 - mean_squared_logarithmic_error: 0.0225 - val_loss: 0.0154 - val_root_mean_squared_error: 27369.3359 - val_mean_squared_logarithmic_error: 0.0154\n",
      "Epoch 175/200\n",
      "68/68 [==============================] - 0s 7ms/step - loss: 0.0217 - root_mean_squared_error: 29058.5645 - mean_squared_logarithmic_error: 0.0217 - val_loss: 0.0155 - val_root_mean_squared_error: 27322.4531 - val_mean_squared_logarithmic_error: 0.0155\n",
      "Epoch 176/200\n",
      "68/68 [==============================] - 0s 6ms/step - loss: 0.0215 - root_mean_squared_error: 29509.9570 - mean_squared_logarithmic_error: 0.0215 - val_loss: 0.0157 - val_root_mean_squared_error: 27396.4453 - val_mean_squared_logarithmic_error: 0.0157\n",
      "Epoch 177/200\n",
      "68/68 [==============================] - 0s 6ms/step - loss: 0.0221 - root_mean_squared_error: 29843.9668 - mean_squared_logarithmic_error: 0.0221 - val_loss: 0.0157 - val_root_mean_squared_error: 27263.4629 - val_mean_squared_logarithmic_error: 0.0157\n",
      "Epoch 178/200\n",
      "68/68 [==============================] - 0s 6ms/step - loss: 0.0226 - root_mean_squared_error: 29960.9062 - mean_squared_logarithmic_error: 0.0226 - val_loss: 0.0154 - val_root_mean_squared_error: 27557.5156 - val_mean_squared_logarithmic_error: 0.0154\n",
      "Epoch 179/200\n",
      "68/68 [==============================] - 0s 6ms/step - loss: 0.0216 - root_mean_squared_error: 30084.3125 - mean_squared_logarithmic_error: 0.0216 - val_loss: 0.0155 - val_root_mean_squared_error: 27265.9902 - val_mean_squared_logarithmic_error: 0.0155\n",
      "Epoch 180/200\n",
      "68/68 [==============================] - 0s 7ms/step - loss: 0.0211 - root_mean_squared_error: 29012.1875 - mean_squared_logarithmic_error: 0.0211 - val_loss: 0.0157 - val_root_mean_squared_error: 27255.5293 - val_mean_squared_logarithmic_error: 0.0157\n",
      "Epoch 181/200\n",
      "68/68 [==============================] - 0s 6ms/step - loss: 0.0212 - root_mean_squared_error: 29198.5352 - mean_squared_logarithmic_error: 0.0212 - val_loss: 0.0154 - val_root_mean_squared_error: 27351.3809 - val_mean_squared_logarithmic_error: 0.0154\n",
      "Epoch 182/200\n",
      "68/68 [==============================] - 0s 6ms/step - loss: 0.0211 - root_mean_squared_error: 28058.8398 - mean_squared_logarithmic_error: 0.0211 - val_loss: 0.0156 - val_root_mean_squared_error: 27151.8672 - val_mean_squared_logarithmic_error: 0.0156\n",
      "Epoch 183/200\n",
      "68/68 [==============================] - 0s 6ms/step - loss: 0.0219 - root_mean_squared_error: 29910.9648 - mean_squared_logarithmic_error: 0.0219 - val_loss: 0.0153 - val_root_mean_squared_error: 27202.7168 - val_mean_squared_logarithmic_error: 0.0153\n",
      "Epoch 184/200\n",
      "68/68 [==============================] - 0s 6ms/step - loss: 0.0208 - root_mean_squared_error: 30130.4062 - mean_squared_logarithmic_error: 0.0208 - val_loss: 0.0156 - val_root_mean_squared_error: 26994.3848 - val_mean_squared_logarithmic_error: 0.0156\n",
      "Epoch 185/200\n",
      "68/68 [==============================] - 0s 6ms/step - loss: 0.0212 - root_mean_squared_error: 29485.8066 - mean_squared_logarithmic_error: 0.0212 - val_loss: 0.0156 - val_root_mean_squared_error: 27950.5332 - val_mean_squared_logarithmic_error: 0.0156\n",
      "Epoch 186/200\n",
      "68/68 [==============================] - 0s 6ms/step - loss: 0.0218 - root_mean_squared_error: 29335.5215 - mean_squared_logarithmic_error: 0.0218 - val_loss: 0.0161 - val_root_mean_squared_error: 27250.9551 - val_mean_squared_logarithmic_error: 0.0161\n",
      "Epoch 187/200\n",
      "68/68 [==============================] - 0s 6ms/step - loss: 0.0227 - root_mean_squared_error: 29761.7109 - mean_squared_logarithmic_error: 0.0227 - val_loss: 0.0155 - val_root_mean_squared_error: 27072.1016 - val_mean_squared_logarithmic_error: 0.0155\n",
      "Epoch 188/200\n",
      "68/68 [==============================] - 0s 6ms/step - loss: 0.0208 - root_mean_squared_error: 29407.0332 - mean_squared_logarithmic_error: 0.0208 - val_loss: 0.0153 - val_root_mean_squared_error: 27521.2090 - val_mean_squared_logarithmic_error: 0.0153\n",
      "Epoch 189/200\n",
      "68/68 [==============================] - 0s 6ms/step - loss: 0.0232 - root_mean_squared_error: 30683.0625 - mean_squared_logarithmic_error: 0.0232 - val_loss: 0.0154 - val_root_mean_squared_error: 27254.3945 - val_mean_squared_logarithmic_error: 0.0154\n",
      "Epoch 190/200\n",
      "68/68 [==============================] - 0s 6ms/step - loss: 0.0215 - root_mean_squared_error: 28611.7012 - mean_squared_logarithmic_error: 0.0215 - val_loss: 0.0156 - val_root_mean_squared_error: 27227.4961 - val_mean_squared_logarithmic_error: 0.0156\n",
      "Epoch 191/200\n",
      "68/68 [==============================] - 0s 6ms/step - loss: 0.0219 - root_mean_squared_error: 29237.9375 - mean_squared_logarithmic_error: 0.0219 - val_loss: 0.0154 - val_root_mean_squared_error: 27204.4180 - val_mean_squared_logarithmic_error: 0.0154\n",
      "Epoch 192/200\n",
      "68/68 [==============================] - 0s 6ms/step - loss: 0.0218 - root_mean_squared_error: 29093.3574 - mean_squared_logarithmic_error: 0.0218 - val_loss: 0.0155 - val_root_mean_squared_error: 27589.3203 - val_mean_squared_logarithmic_error: 0.0155\n",
      "Epoch 193/200\n",
      "68/68 [==============================] - 0s 6ms/step - loss: 0.0210 - root_mean_squared_error: 29529.1816 - mean_squared_logarithmic_error: 0.0210 - val_loss: 0.0157 - val_root_mean_squared_error: 26954.3125 - val_mean_squared_logarithmic_error: 0.0157\n",
      "Epoch 194/200\n",
      "68/68 [==============================] - 0s 6ms/step - loss: 0.0223 - root_mean_squared_error: 30447.1680 - mean_squared_logarithmic_error: 0.0223 - val_loss: 0.0156 - val_root_mean_squared_error: 27031.6270 - val_mean_squared_logarithmic_error: 0.0156\n",
      "Epoch 195/200\n",
      "68/68 [==============================] - 0s 6ms/step - loss: 0.0203 - root_mean_squared_error: 27305.8340 - mean_squared_logarithmic_error: 0.0203 - val_loss: 0.0154 - val_root_mean_squared_error: 27330.1699 - val_mean_squared_logarithmic_error: 0.0154\n",
      "Epoch 196/200\n",
      "68/68 [==============================] - 0s 6ms/step - loss: 0.0211 - root_mean_squared_error: 28769.6230 - mean_squared_logarithmic_error: 0.0211 - val_loss: 0.0157 - val_root_mean_squared_error: 27154.4238 - val_mean_squared_logarithmic_error: 0.0157\n",
      "Epoch 197/200\n",
      "68/68 [==============================] - 0s 6ms/step - loss: 0.0207 - root_mean_squared_error: 27927.7207 - mean_squared_logarithmic_error: 0.0207 - val_loss: 0.0165 - val_root_mean_squared_error: 27412.1680 - val_mean_squared_logarithmic_error: 0.0165\n",
      "Epoch 198/200\n",
      "68/68 [==============================] - 0s 6ms/step - loss: 0.0224 - root_mean_squared_error: 29627.1250 - mean_squared_logarithmic_error: 0.0224 - val_loss: 0.0154 - val_root_mean_squared_error: 27291.7578 - val_mean_squared_logarithmic_error: 0.0154\n",
      "Epoch 199/200\n",
      "68/68 [==============================] - 0s 6ms/step - loss: 0.0215 - root_mean_squared_error: 29017.6191 - mean_squared_logarithmic_error: 0.0215 - val_loss: 0.0154 - val_root_mean_squared_error: 27119.3652 - val_mean_squared_logarithmic_error: 0.0154\n",
      "Epoch 200/200\n",
      "68/68 [==============================] - 0s 6ms/step - loss: 0.0213 - root_mean_squared_error: 30070.0625 - mean_squared_logarithmic_error: 0.0213 - val_loss: 0.0153 - val_root_mean_squared_error: 27202.3730 - val_mean_squared_logarithmic_error: 0.0153\n"
     ]
    }
   ],
   "source": [
    "history2=house_price_model.fit(x=train_features_dict, y=train[label], epochs=200,batch_size=15,validation_split=split_fraction)"
   ]
  },
  {
   "cell_type": "markdown",
   "id": "167ca39a",
   "metadata": {
    "papermill": {
     "duration": 0.097584,
     "end_time": "2022-11-28T16:18:24.795928",
     "exception": false,
     "start_time": "2022-11-28T16:18:24.698344",
     "status": "completed"
    },
    "tags": []
   },
   "source": [
    "### Make predictions and score"
   ]
  },
  {
   "cell_type": "code",
   "execution_count": 26,
   "id": "1142a61c",
   "metadata": {
    "execution": {
     "iopub.execute_input": "2022-11-28T16:18:24.980679Z",
     "iopub.status.busy": "2022-11-28T16:18:24.979805Z",
     "iopub.status.idle": "2022-11-28T16:18:24.988287Z",
     "shell.execute_reply": "2022-11-28T16:18:24.987154Z"
    },
    "papermill": {
     "duration": 0.104209,
     "end_time": "2022-11-28T16:18:24.990530",
     "exception": false,
     "start_time": "2022-11-28T16:18:24.886321",
     "status": "completed"
    },
    "tags": []
   },
   "outputs": [],
   "source": [
    "def score_and_visualize(model,x_test,y_test):\n",
    "    predictions=model.predict(x_test).flatten()\n",
    "    print(predictions.shape)\n",
    "    plt.figure(figsize=(10,10))\n",
    "    plt.scatter(y_test,predictions)\n",
    "    plt.xlabel('True')\n",
    "    plt.ylabel('Predicted')\n",
    "    msle=mean_squared_log_error(y_true=y_test, y_pred=predictions)#msle is the metric evaluated in the kaggle challange\n",
    "    r2=r2_score(y_true=y_test, y_pred=predictions)\n",
    "    print('r2 coefficient: ',r2,'\\nmsle = ', msle)\n",
    "    z = np.polyfit(y_test, predictions, 1)\n",
    "    print(z)\n",
    "    p = np.poly1d(z)\n",
    "    plt.plot(y_test,p(y_test), color='magenta')\n",
    "    plt.axline((0,0),slope=1,ls='--')\n",
    "    plt.show()"
   ]
  },
  {
   "cell_type": "code",
   "execution_count": 27,
   "id": "1db6570b",
   "metadata": {
    "execution": {
     "iopub.execute_input": "2022-11-28T16:18:25.172376Z",
     "iopub.status.busy": "2022-11-28T16:18:25.171629Z",
     "iopub.status.idle": "2022-11-28T16:18:26.294912Z",
     "shell.execute_reply": "2022-11-28T16:18:26.293685Z"
    },
    "papermill": {
     "duration": 1.217033,
     "end_time": "2022-11-28T16:18:26.297578",
     "exception": false,
     "start_time": "2022-11-28T16:18:25.080545",
     "status": "completed"
    },
    "tags": []
   },
   "outputs": [
    {
     "data": {
      "image/png": "[encoded data removed]",
      "text/plain": [
       "<Figure size 432x288 with 1 Axes>"
      ]
     },
     "metadata": {
      "needs_background": "light"
     },
     "output_type": "display_data"
    },
    {
     "data": {
      "image/png": "[encoded data removed]",
      "text/plain": [
       "<Figure size 432x288 with 1 Axes>"
      ]
     },
     "metadata": {
      "needs_background": "light"
     },
     "output_type": "display_data"
    }
   ],
   "source": [
    "metric = history2.history['root_mean_squared_error']\n",
    "val_metric = history2.history['val_root_mean_squared_error']\n",
    "\n",
    "loss = history2.history['loss']\n",
    "val_loss = history2.history['val_loss']\n",
    "\n",
    "epochs = range(len(metric))\n",
    "\n",
    "plt.plot(epochs, metric,label='train RMSE')\n",
    "plt.plot(epochs, val_metric,label='val RMSE')\n",
    "plt.title('Training and validation RMSE')\n",
    "plt.legend()\n",
    "plt.figure()\n",
    "\n",
    "plt.plot(epochs, loss,label='train loss')\n",
    "plt.plot(epochs, val_loss,label='val loss')\n",
    "plt.yscale('log')\n",
    "plt.title('Training and validation loss')\n",
    "plt.legend()\n",
    "\n",
    "plt.show()"
   ]
  },
  {
   "cell_type": "code",
   "execution_count": 28,
   "id": "aba09356",
   "metadata": {
    "execution": {
     "iopub.execute_input": "2022-11-28T16:18:26.481703Z",
     "iopub.status.busy": "2022-11-28T16:18:26.481331Z",
     "iopub.status.idle": "2022-11-28T16:18:26.490571Z",
     "shell.execute_reply": "2022-11-28T16:18:26.489480Z"
    },
    "papermill": {
     "duration": 0.10465,
     "end_time": "2022-11-28T16:18:26.494464",
     "exception": false,
     "start_time": "2022-11-28T16:18:26.389814",
     "status": "completed"
    },
    "tags": []
   },
   "outputs": [
    {
     "name": "stdout",
     "output_type": "stream",
     "text": [
      "train size =  1167 \n",
      "validation size =  291\n"
     ]
    }
   ],
   "source": [
    "_,_,val_features_dict,val_label=train_val(train,0.2,(int_num_f+int_cat_f),label=label,shuffle=False)"
   ]
  },
  {
   "cell_type": "code",
   "execution_count": 29,
   "id": "82e0225f",
   "metadata": {
    "execution": {
     "iopub.execute_input": "2022-11-28T16:18:26.681125Z",
     "iopub.status.busy": "2022-11-28T16:18:26.680361Z",
     "iopub.status.idle": "2022-11-28T16:18:27.784627Z",
     "shell.execute_reply": "2022-11-28T16:18:27.783485Z"
    },
    "papermill": {
     "duration": 1.200848,
     "end_time": "2022-11-28T16:18:27.787033",
     "exception": false,
     "start_time": "2022-11-28T16:18:26.586185",
     "status": "completed"
    },
    "tags": []
   },
   "outputs": [
    {
     "name": "stdout",
     "output_type": "stream",
     "text": [
      "(291,)\n",
      "r2 coefficient:  0.8724600931816735 \n",
      "msle =  0.016083631072301895\n",
      "[8.13773667e-01 3.21523377e+04]\n"
     ]
    },
    {
     "data": {
      "image/png": "[encoded data removed]",
      "text/plain": [
       "<Figure size 720x720 with 1 Axes>"
      ]
     },
     "metadata": {
      "needs_background": "light"
     },
     "output_type": "display_data"
    }
   ],
   "source": [
    "score_and_visualize(model=house_price_model,x_test=val_features_dict,y_test=val_label)\n"
   ]
  },
  {
   "cell_type": "markdown",
   "id": "e4f0a2c0",
   "metadata": {
    "papermill": {
     "duration": 0.092589,
     "end_time": "2022-11-28T16:18:27.971880",
     "exception": false,
     "start_time": "2022-11-28T16:18:27.879291",
     "status": "completed"
    },
    "tags": []
   },
   "source": [
    "Save predictions"
   ]
  },
  {
   "cell_type": "code",
   "execution_count": 30,
   "id": "89726775",
   "metadata": {
    "execution": {
     "iopub.execute_input": "2022-11-28T16:18:28.155518Z",
     "iopub.status.busy": "2022-11-28T16:18:28.155108Z",
     "iopub.status.idle": "2022-11-28T16:18:28.160314Z",
     "shell.execute_reply": "2022-11-28T16:18:28.159191Z"
    },
    "papermill": {
     "duration": 0.098559,
     "end_time": "2022-11-28T16:18:28.162356",
     "exception": false,
     "start_time": "2022-11-28T16:18:28.063797",
     "status": "completed"
    },
    "tags": []
   },
   "outputs": [],
   "source": [
    "import datetime"
   ]
  },
  {
   "cell_type": "code",
   "execution_count": 31,
   "id": "09ccaa92",
   "metadata": {
    "execution": {
     "iopub.execute_input": "2022-11-28T16:18:28.352504Z",
     "iopub.status.busy": "2022-11-28T16:18:28.352122Z",
     "iopub.status.idle": "2022-11-28T16:18:28.359460Z",
     "shell.execute_reply": "2022-11-28T16:18:28.358325Z"
    },
    "papermill": {
     "duration": 0.103788,
     "end_time": "2022-11-28T16:18:28.361635",
     "exception": false,
     "start_time": "2022-11-28T16:18:28.257847",
     "status": "completed"
    },
    "tags": []
   },
   "outputs": [
    {
     "data": {
      "text/plain": [
       "'28112022161828'"
      ]
     },
     "execution_count": 31,
     "metadata": {},
     "output_type": "execute_result"
    }
   ],
   "source": [
    "timestamp=datetime.datetime.now().strftime(\"%d%m%Y%H%M%S\")\n",
    "timestamp"
   ]
  },
  {
   "cell_type": "code",
   "execution_count": 32,
   "id": "9f47b4f2",
   "metadata": {
    "execution": {
     "iopub.execute_input": "2022-11-28T16:18:28.548230Z",
     "iopub.status.busy": "2022-11-28T16:18:28.547431Z",
     "iopub.status.idle": "2022-11-28T16:18:28.552739Z",
     "shell.execute_reply": "2022-11-28T16:18:28.552028Z"
    },
    "papermill": {
     "duration": 0.102713,
     "end_time": "2022-11-28T16:18:28.554927",
     "exception": false,
     "start_time": "2022-11-28T16:18:28.452214",
     "status": "completed"
    },
    "tags": []
   },
   "outputs": [],
   "source": [
    "if IN_KAGGLE:\n",
    "    test_path='../input/house-prices-advanced-regression-techniques/test.csv'\n",
    "else:\n",
    "    test_path='./test.csv'"
   ]
  },
  {
   "cell_type": "code",
   "execution_count": 33,
   "id": "7536f93b",
   "metadata": {
    "execution": {
     "iopub.execute_input": "2022-11-28T16:18:28.741630Z",
     "iopub.status.busy": "2022-11-28T16:18:28.740892Z",
     "iopub.status.idle": "2022-11-28T16:18:28.775882Z",
     "shell.execute_reply": "2022-11-28T16:18:28.774899Z"
    },
    "papermill": {
     "duration": 0.129899,
     "end_time": "2022-11-28T16:18:28.778463",
     "exception": false,
     "start_time": "2022-11-28T16:18:28.648564",
     "status": "completed"
    },
    "tags": []
   },
   "outputs": [],
   "source": [
    "write=True\n",
    "\n",
    "test=pd.read_csv(test_path)"
   ]
  },
  {
   "cell_type": "code",
   "execution_count": 34,
   "id": "a6aad461",
   "metadata": {
    "execution": {
     "iopub.execute_input": "2022-11-28T16:18:28.964331Z",
     "iopub.status.busy": "2022-11-28T16:18:28.963381Z",
     "iopub.status.idle": "2022-11-28T16:18:28.981098Z",
     "shell.execute_reply": "2022-11-28T16:18:28.980193Z"
    },
    "papermill": {
     "duration": 0.11217,
     "end_time": "2022-11-28T16:18:28.983659",
     "exception": false,
     "start_time": "2022-11-28T16:18:28.871489",
     "status": "completed"
    },
    "tags": []
   },
   "outputs": [],
   "source": [
    "test=feat_eng(test)\n",
    "test[int_cat_f]=test[int_cat_f].fillna('none')\n",
    "test[int_num_f]=test[int_num_f].fillna(-1)"
   ]
  },
  {
   "cell_type": "code",
   "execution_count": 35,
   "id": "92db73df",
   "metadata": {
    "execution": {
     "iopub.execute_input": "2022-11-28T16:18:29.172282Z",
     "iopub.status.busy": "2022-11-28T16:18:29.170436Z",
     "iopub.status.idle": "2022-11-28T16:18:30.177955Z",
     "shell.execute_reply": "2022-11-28T16:18:30.176723Z"
    },
    "papermill": {
     "duration": 1.103297,
     "end_time": "2022-11-28T16:18:30.180526",
     "exception": false,
     "start_time": "2022-11-28T16:18:29.077229",
     "status": "completed"
    },
    "tags": []
   },
   "outputs": [],
   "source": [
    "test_feature_dict={name:np.array(test[name]) for name in (int_num_f+int_cat_f)}\n",
    "for name in int_num_f:\n",
    "    test_feature_dict[name]=tf.cast(test_feature_dict[name],tf.float32)\n",
    "\n",
    "for name in int_cat_f:\n",
    "    test_feature_dict[name]=tf.cast(test_feature_dict[name],tf.string)\n",
    "\n",
    "pred=house_price_model.predict(test_feature_dict)\n",
    "if IN_KAGGLE:\n",
    "    out_df=pd.read_csv('/kaggle/input/house-prices-advanced-regression-techniques/sample_submission.csv')\n",
    "else:\n",
    "    out_df=pd.read_csv('sample_submission.csv')\n",
    "out_df['SalePrice']=pred\n",
    "if write:\n",
    "    out_df.to_csv('prediction_tf_allfeatures.csv',index=False)"
   ]
  },
  {
   "cell_type": "markdown",
   "id": "fd96a6ea",
   "metadata": {
    "papermill": {
     "duration": 0.159455,
     "end_time": "2022-11-28T16:18:30.431722",
     "exception": false,
     "start_time": "2022-11-28T16:18:30.272267",
     "status": "completed"
    },
    "tags": []
   },
   "source": [
    "Save model"
   ]
  },
  {
   "cell_type": "code",
   "execution_count": 36,
   "id": "504c3ea2",
   "metadata": {
    "execution": {
     "iopub.execute_input": "2022-11-28T16:18:30.619040Z",
     "iopub.status.busy": "2022-11-28T16:18:30.618652Z",
     "iopub.status.idle": "2022-11-28T16:18:30.674996Z",
     "shell.execute_reply": "2022-11-28T16:18:30.673499Z"
    },
    "papermill": {
     "duration": 0.15403,
     "end_time": "2022-11-28T16:18:30.677491",
     "exception": false,
     "start_time": "2022-11-28T16:18:30.523461",
     "status": "completed"
    },
    "tags": []
   },
   "outputs": [
    {
     "name": "stdout",
     "output_type": "stream",
     "text": [
      "Saved  models/model_28112022161828_tf.h5\n"
     ]
    }
   ],
   "source": [
    "savemodel=True\n",
    "if savemodel:\n",
    "    models_folder= 'models'\n",
    "    os.makedirs(models_folder,exist_ok=True)\n",
    "    model_name= 'model_'+ timestamp +'_tf.h5'\n",
    "    modelpath= os.path.join(models_folder,model_name)\n",
    "    house_price_model.save(modelpath)\n",
    "    print('Saved ' , modelpath)"
   ]
  }
 ],
 "metadata": {
  "kernelspec": {
   "display_name": "Python 3",
   "language": "python",
   "name": "python3"
  },
  "language_info": {
   "codemirror_mode": {
    "name": "ipython",
    "version": 3
   },
   "file_extension": ".py",
   "mimetype": "text/x-python",
   "name": "python",
   "nbconvert_exporter": "python",
   "pygments_lexer": "ipython3",
   "version": "3.7.12"
  },
  "papermill": {
   "default_parameters": {},
   "duration": 170.209276,
   "end_time": "2022-11-28T16:18:33.967839",
   "environment_variables": {},
   "exception": null,
   "input_path": "__notebook__.ipynb",
   "output_path": "__notebook__.ipynb",
   "parameters": {},
   "start_time": "2022-11-28T16:15:43.758563",
   "version": "2.3.4"
  }
 },
 "nbformat": 4,
 "nbformat_minor": 5
}
