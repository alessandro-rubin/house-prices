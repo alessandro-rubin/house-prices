{
 "cells": [
  {
   "cell_type": "code",
   "execution_count": 18,
   "metadata": {},
   "outputs": [],
   "source": [
    "from joblib import load\n",
    "import os\n",
    "from sklearn import set_config\n",
    "set_config(display='diagram')\n",
    "models_folder= 'models'"
   ]
  },
  {
   "cell_type": "code",
   "execution_count": 19,
   "metadata": {},
   "outputs": [],
   "source": [
    "model_list=os.listdir(models_folder)"
   ]
  },
  {
   "cell_type": "code",
   "execution_count": 20,
   "metadata": {},
   "outputs": [
    {
     "name": "stdout",
     "output_type": "stream",
     "text": [
      "models\\model_07112022174426.joblib\n"
     ]
    }
   ],
   "source": [
    "print(os.path.join(models_folder,model_list[1]))"
   ]
  },
  {
   "cell_type": "code",
   "execution_count": 21,
   "metadata": {},
   "outputs": [],
   "source": [
    "model=load(os.path.join(models_folder,model_list[1]))"
   ]
  },
  {
   "cell_type": "code",
   "execution_count": 23,
   "metadata": {},
   "outputs": [
    {
     "data": {
      "text/html": [
       "<style>#sk-8da48d4c-6811-4238-95bb-321f33247c3c {color: black;background-color: white;}#sk-8da48d4c-6811-4238-95bb-321f33247c3c pre{padding: 0;}#sk-8da48d4c-6811-4238-95bb-321f33247c3c div.sk-toggleable {background-color: white;}#sk-8da48d4c-6811-4238-95bb-321f33247c3c label.sk-toggleable__label {cursor: pointer;display: block;width: 100%;margin-bottom: 0;padding: 0.3em;box-sizing: border-box;text-align: center;}#sk-8da48d4c-6811-4238-95bb-321f33247c3c label.sk-toggleable__label-arrow:before {content: \"▸\";float: left;margin-right: 0.25em;color: #696969;}#sk-8da48d4c-6811-4238-95bb-321f33247c3c label.sk-toggleable__label-arrow:hover:before {color: black;}#sk-8da48d4c-6811-4238-95bb-321f33247c3c div.sk-estimator:hover label.sk-toggleable__label-arrow:before {color: black;}#sk-8da48d4c-6811-4238-95bb-321f33247c3c div.sk-toggleable__content {max-height: 0;max-width: 0;overflow: hidden;text-align: left;background-color: #f0f8ff;}#sk-8da48d4c-6811-4238-95bb-321f33247c3c div.sk-toggleable__content pre {margin: 0.2em;color: black;border-radius: 0.25em;background-color: #f0f8ff;}#sk-8da48d4c-6811-4238-95bb-321f33247c3c input.sk-toggleable__control:checked~div.sk-toggleable__content {max-height: 200px;max-width: 100%;overflow: auto;}#sk-8da48d4c-6811-4238-95bb-321f33247c3c input.sk-toggleable__control:checked~label.sk-toggleable__label-arrow:before {content: \"▾\";}#sk-8da48d4c-6811-4238-95bb-321f33247c3c div.sk-estimator input.sk-toggleable__control:checked~label.sk-toggleable__label {background-color: #d4ebff;}#sk-8da48d4c-6811-4238-95bb-321f33247c3c div.sk-label input.sk-toggleable__control:checked~label.sk-toggleable__label {background-color: #d4ebff;}#sk-8da48d4c-6811-4238-95bb-321f33247c3c input.sk-hidden--visually {border: 0;clip: rect(1px 1px 1px 1px);clip: rect(1px, 1px, 1px, 1px);height: 1px;margin: -1px;overflow: hidden;padding: 0;position: absolute;width: 1px;}#sk-8da48d4c-6811-4238-95bb-321f33247c3c div.sk-estimator {font-family: monospace;background-color: #f0f8ff;border: 1px dotted black;border-radius: 0.25em;box-sizing: border-box;margin-bottom: 0.5em;}#sk-8da48d4c-6811-4238-95bb-321f33247c3c div.sk-estimator:hover {background-color: #d4ebff;}#sk-8da48d4c-6811-4238-95bb-321f33247c3c div.sk-parallel-item::after {content: \"\";width: 100%;border-bottom: 1px solid gray;flex-grow: 1;}#sk-8da48d4c-6811-4238-95bb-321f33247c3c div.sk-label:hover label.sk-toggleable__label {background-color: #d4ebff;}#sk-8da48d4c-6811-4238-95bb-321f33247c3c div.sk-serial::before {content: \"\";position: absolute;border-left: 1px solid gray;box-sizing: border-box;top: 2em;bottom: 0;left: 50%;}#sk-8da48d4c-6811-4238-95bb-321f33247c3c div.sk-serial {display: flex;flex-direction: column;align-items: center;background-color: white;padding-right: 0.2em;padding-left: 0.2em;}#sk-8da48d4c-6811-4238-95bb-321f33247c3c div.sk-item {z-index: 1;}#sk-8da48d4c-6811-4238-95bb-321f33247c3c div.sk-parallel {display: flex;align-items: stretch;justify-content: center;background-color: white;}#sk-8da48d4c-6811-4238-95bb-321f33247c3c div.sk-parallel::before {content: \"\";position: absolute;border-left: 1px solid gray;box-sizing: border-box;top: 2em;bottom: 0;left: 50%;}#sk-8da48d4c-6811-4238-95bb-321f33247c3c div.sk-parallel-item {display: flex;flex-direction: column;position: relative;background-color: white;}#sk-8da48d4c-6811-4238-95bb-321f33247c3c div.sk-parallel-item:first-child::after {align-self: flex-end;width: 50%;}#sk-8da48d4c-6811-4238-95bb-321f33247c3c div.sk-parallel-item:last-child::after {align-self: flex-start;width: 50%;}#sk-8da48d4c-6811-4238-95bb-321f33247c3c div.sk-parallel-item:only-child::after {width: 0;}#sk-8da48d4c-6811-4238-95bb-321f33247c3c div.sk-dashed-wrapped {border: 1px dashed gray;margin: 0 0.4em 0.5em 0.4em;box-sizing: border-box;padding-bottom: 0.4em;background-color: white;position: relative;}#sk-8da48d4c-6811-4238-95bb-321f33247c3c div.sk-label label {font-family: monospace;font-weight: bold;background-color: white;display: inline-block;line-height: 1.2em;}#sk-8da48d4c-6811-4238-95bb-321f33247c3c div.sk-label-container {position: relative;z-index: 2;text-align: center;}#sk-8da48d4c-6811-4238-95bb-321f33247c3c div.sk-container {/* jupyter's `normalize.less` sets `[hidden] { display: none; }` but bootstrap.min.css set `[hidden] { display: none !important; }` so we also need the `!important` here to be able to override the default hidden behavior on the sphinx rendered scikit-learn.org. See: https://github.com/scikit-learn/scikit-learn/issues/21755 */display: inline-block !important;position: relative;}#sk-8da48d4c-6811-4238-95bb-321f33247c3c div.sk-text-repr-fallback {display: none;}</style><div id=\"sk-8da48d4c-6811-4238-95bb-321f33247c3c\" class=\"sk-top-container\"><div class=\"sk-text-repr-fallback\"><pre>GridSearchCV(estimator=Pipeline(steps=[(&#x27;preprocessor&#x27;,\n",
       "                                        ColumnTransformer(transformers=[(&#x27;num&#x27;,\n",
       "                                                                         Pipeline(steps=[(&#x27;inp&#x27;,\n",
       "                                                                                          SimpleImputer(strategy=&#x27;median&#x27;)),\n",
       "                                                                                         (&#x27;scaler&#x27;,\n",
       "                                                                                          StandardScaler())]),\n",
       "                                                                         [&#x27;OverallQual&#x27;,\n",
       "                                                                          &#x27;LotArea&#x27;,\n",
       "                                                                          &#x27;LotFrontage&#x27;,\n",
       "                                                                          &#x27;BsmtFinSF1&#x27;,\n",
       "                                                                          &#x27;TotalBsmtSF&#x27;,\n",
       "                                                                          &#x27;GrLivArea&#x27;,\n",
       "                                                                          &#x27;GarageYrBlt&#x27;,\n",
       "                                                                          &#x27;GarageArea&#x27;]),\n",
       "                                                                        (&#x27;cat&#x27;,\n",
       "                                                                         Pipeline(steps=[(&#x27;onehot&#x27;,\n",
       "                                                                                          OneHotEncoder(handle_unknown=...\n",
       "                                                                          &#x27;GarageFinish&#x27;,\n",
       "                                                                          &#x27;KitchenQual&#x27;,\n",
       "                                                                          &#x27;SaleType&#x27;,\n",
       "                                                                          &#x27;PoolQC&#x27;,\n",
       "                                                                          &#x27;FullBath&#x27;]),\n",
       "                                                                        (&#x27;ord&#x27;,\n",
       "                                                                         Pipeline(steps=[(&#x27;ordenc&#x27;,\n",
       "                                                                                          OrdinalEncoder(handle_unknown=&#x27;use_encoded_value&#x27;,\n",
       "                                                                                                         unknown_value=-1))]),\n",
       "                                                                         [&#x27;GarageCars&#x27;])])),\n",
       "                                       (&#x27;regressor&#x27;,\n",
       "                                        GradientBoostingRegressor())]),\n",
       "             param_grid={&#x27;regressor__learning_rate&#x27;: [0.1, 0.5, 1.0],\n",
       "                         &#x27;regressor__n_estimators&#x27;: [50, 100, 150]},\n",
       "             scoring=make_scorer(r2_score))</pre><b>Please rerun this cell to show the HTML repr or trust the notebook.</b></div><div class=\"sk-container\" hidden><div class=\"sk-item sk-dashed-wrapped\"><div class=\"sk-label-container\"><div class=\"sk-label sk-toggleable\"><input class=\"sk-toggleable__control sk-hidden--visually\" id=\"dd2fb89d-4620-4dbe-8eb0-ad732f098c53\" type=\"checkbox\" ><label for=\"dd2fb89d-4620-4dbe-8eb0-ad732f098c53\" class=\"sk-toggleable__label sk-toggleable__label-arrow\">GridSearchCV</label><div class=\"sk-toggleable__content\"><pre>GridSearchCV(estimator=Pipeline(steps=[(&#x27;preprocessor&#x27;,\n",
       "                                        ColumnTransformer(transformers=[(&#x27;num&#x27;,\n",
       "                                                                         Pipeline(steps=[(&#x27;inp&#x27;,\n",
       "                                                                                          SimpleImputer(strategy=&#x27;median&#x27;)),\n",
       "                                                                                         (&#x27;scaler&#x27;,\n",
       "                                                                                          StandardScaler())]),\n",
       "                                                                         [&#x27;OverallQual&#x27;,\n",
       "                                                                          &#x27;LotArea&#x27;,\n",
       "                                                                          &#x27;LotFrontage&#x27;,\n",
       "                                                                          &#x27;BsmtFinSF1&#x27;,\n",
       "                                                                          &#x27;TotalBsmtSF&#x27;,\n",
       "                                                                          &#x27;GrLivArea&#x27;,\n",
       "                                                                          &#x27;GarageYrBlt&#x27;,\n",
       "                                                                          &#x27;GarageArea&#x27;]),\n",
       "                                                                        (&#x27;cat&#x27;,\n",
       "                                                                         Pipeline(steps=[(&#x27;onehot&#x27;,\n",
       "                                                                                          OneHotEncoder(handle_unknown=...\n",
       "                                                                          &#x27;GarageFinish&#x27;,\n",
       "                                                                          &#x27;KitchenQual&#x27;,\n",
       "                                                                          &#x27;SaleType&#x27;,\n",
       "                                                                          &#x27;PoolQC&#x27;,\n",
       "                                                                          &#x27;FullBath&#x27;]),\n",
       "                                                                        (&#x27;ord&#x27;,\n",
       "                                                                         Pipeline(steps=[(&#x27;ordenc&#x27;,\n",
       "                                                                                          OrdinalEncoder(handle_unknown=&#x27;use_encoded_value&#x27;,\n",
       "                                                                                                         unknown_value=-1))]),\n",
       "                                                                         [&#x27;GarageCars&#x27;])])),\n",
       "                                       (&#x27;regressor&#x27;,\n",
       "                                        GradientBoostingRegressor())]),\n",
       "             param_grid={&#x27;regressor__learning_rate&#x27;: [0.1, 0.5, 1.0],\n",
       "                         &#x27;regressor__n_estimators&#x27;: [50, 100, 150]},\n",
       "             scoring=make_scorer(r2_score))</pre></div></div></div><div class=\"sk-parallel\"><div class=\"sk-parallel-item\"><div class=\"sk-item\"><div class=\"sk-serial\"><div class=\"sk-item\"><div class=\"sk-serial\"><div class=\"sk-item sk-dashed-wrapped\"><div class=\"sk-label-container\"><div class=\"sk-label sk-toggleable\"><input class=\"sk-toggleable__control sk-hidden--visually\" id=\"e5d20b22-5094-4583-8911-2ac808516910\" type=\"checkbox\" ><label for=\"e5d20b22-5094-4583-8911-2ac808516910\" class=\"sk-toggleable__label sk-toggleable__label-arrow\">preprocessor: ColumnTransformer</label><div class=\"sk-toggleable__content\"><pre>ColumnTransformer(transformers=[(&#x27;num&#x27;,\n",
       "                                 Pipeline(steps=[(&#x27;inp&#x27;,\n",
       "                                                  SimpleImputer(strategy=&#x27;median&#x27;)),\n",
       "                                                 (&#x27;scaler&#x27;, StandardScaler())]),\n",
       "                                 [&#x27;OverallQual&#x27;, &#x27;LotArea&#x27;, &#x27;LotFrontage&#x27;,\n",
       "                                  &#x27;BsmtFinSF1&#x27;, &#x27;TotalBsmtSF&#x27;, &#x27;GrLivArea&#x27;,\n",
       "                                  &#x27;GarageYrBlt&#x27;, &#x27;GarageArea&#x27;]),\n",
       "                                (&#x27;cat&#x27;,\n",
       "                                 Pipeline(steps=[(&#x27;onehot&#x27;,\n",
       "                                                  OneHotEncoder(handle_unknown=&#x27;ignore&#x27;))]),\n",
       "                                 [&#x27;SaleCondition&#x27;, &#x27;TotRmsAbvGrd&#x27;, &#x27;ExterQual&#x27;,\n",
       "                                  &#x27;Exterior1st&#x27;, &#x27;Neighborhood&#x27;, &#x27;GarageFinish&#x27;,\n",
       "                                  &#x27;KitchenQual&#x27;, &#x27;SaleType&#x27;, &#x27;PoolQC&#x27;,\n",
       "                                  &#x27;FullBath&#x27;]),\n",
       "                                (&#x27;ord&#x27;,\n",
       "                                 Pipeline(steps=[(&#x27;ordenc&#x27;,\n",
       "                                                  OrdinalEncoder(handle_unknown=&#x27;use_encoded_value&#x27;,\n",
       "                                                                 unknown_value=-1))]),\n",
       "                                 [&#x27;GarageCars&#x27;])])</pre></div></div></div><div class=\"sk-parallel\"><div class=\"sk-parallel-item\"><div class=\"sk-item\"><div class=\"sk-label-container\"><div class=\"sk-label sk-toggleable\"><input class=\"sk-toggleable__control sk-hidden--visually\" id=\"863513f4-fd1b-403b-95e9-1e7790ce9ea5\" type=\"checkbox\" ><label for=\"863513f4-fd1b-403b-95e9-1e7790ce9ea5\" class=\"sk-toggleable__label sk-toggleable__label-arrow\">num</label><div class=\"sk-toggleable__content\"><pre>[&#x27;OverallQual&#x27;, &#x27;LotArea&#x27;, &#x27;LotFrontage&#x27;, &#x27;BsmtFinSF1&#x27;, &#x27;TotalBsmtSF&#x27;, &#x27;GrLivArea&#x27;, &#x27;GarageYrBlt&#x27;, &#x27;GarageArea&#x27;]</pre></div></div></div><div class=\"sk-serial\"><div class=\"sk-item\"><div class=\"sk-serial\"><div class=\"sk-item\"><div class=\"sk-estimator sk-toggleable\"><input class=\"sk-toggleable__control sk-hidden--visually\" id=\"91415883-61a0-4afc-8fc4-f001f06aa786\" type=\"checkbox\" ><label for=\"91415883-61a0-4afc-8fc4-f001f06aa786\" class=\"sk-toggleable__label sk-toggleable__label-arrow\">SimpleImputer</label><div class=\"sk-toggleable__content\"><pre>SimpleImputer(strategy=&#x27;median&#x27;)</pre></div></div></div><div class=\"sk-item\"><div class=\"sk-estimator sk-toggleable\"><input class=\"sk-toggleable__control sk-hidden--visually\" id=\"51ccf17e-871c-41d7-954e-95bef2d6dd3a\" type=\"checkbox\" ><label for=\"51ccf17e-871c-41d7-954e-95bef2d6dd3a\" class=\"sk-toggleable__label sk-toggleable__label-arrow\">StandardScaler</label><div class=\"sk-toggleable__content\"><pre>StandardScaler()</pre></div></div></div></div></div></div></div></div><div class=\"sk-parallel-item\"><div class=\"sk-item\"><div class=\"sk-label-container\"><div class=\"sk-label sk-toggleable\"><input class=\"sk-toggleable__control sk-hidden--visually\" id=\"3cf77c89-1b35-4edd-b868-80c03dcf99e0\" type=\"checkbox\" ><label for=\"3cf77c89-1b35-4edd-b868-80c03dcf99e0\" class=\"sk-toggleable__label sk-toggleable__label-arrow\">cat</label><div class=\"sk-toggleable__content\"><pre>[&#x27;SaleCondition&#x27;, &#x27;TotRmsAbvGrd&#x27;, &#x27;ExterQual&#x27;, &#x27;Exterior1st&#x27;, &#x27;Neighborhood&#x27;, &#x27;GarageFinish&#x27;, &#x27;KitchenQual&#x27;, &#x27;SaleType&#x27;, &#x27;PoolQC&#x27;, &#x27;FullBath&#x27;]</pre></div></div></div><div class=\"sk-serial\"><div class=\"sk-item\"><div class=\"sk-serial\"><div class=\"sk-item\"><div class=\"sk-estimator sk-toggleable\"><input class=\"sk-toggleable__control sk-hidden--visually\" id=\"68263015-d37c-434e-9015-491d22fb7a7c\" type=\"checkbox\" ><label for=\"68263015-d37c-434e-9015-491d22fb7a7c\" class=\"sk-toggleable__label sk-toggleable__label-arrow\">OneHotEncoder</label><div class=\"sk-toggleable__content\"><pre>OneHotEncoder(handle_unknown=&#x27;ignore&#x27;)</pre></div></div></div></div></div></div></div></div><div class=\"sk-parallel-item\"><div class=\"sk-item\"><div class=\"sk-label-container\"><div class=\"sk-label sk-toggleable\"><input class=\"sk-toggleable__control sk-hidden--visually\" id=\"8fef8287-af9a-4b0b-b7ef-7f78fc7707bc\" type=\"checkbox\" ><label for=\"8fef8287-af9a-4b0b-b7ef-7f78fc7707bc\" class=\"sk-toggleable__label sk-toggleable__label-arrow\">ord</label><div class=\"sk-toggleable__content\"><pre>[&#x27;GarageCars&#x27;]</pre></div></div></div><div class=\"sk-serial\"><div class=\"sk-item\"><div class=\"sk-serial\"><div class=\"sk-item\"><div class=\"sk-estimator sk-toggleable\"><input class=\"sk-toggleable__control sk-hidden--visually\" id=\"7a406172-9ee0-470f-b178-9154d5042593\" type=\"checkbox\" ><label for=\"7a406172-9ee0-470f-b178-9154d5042593\" class=\"sk-toggleable__label sk-toggleable__label-arrow\">OrdinalEncoder</label><div class=\"sk-toggleable__content\"><pre>OrdinalEncoder(handle_unknown=&#x27;use_encoded_value&#x27;, unknown_value=-1)</pre></div></div></div></div></div></div></div></div></div></div><div class=\"sk-item\"><div class=\"sk-estimator sk-toggleable\"><input class=\"sk-toggleable__control sk-hidden--visually\" id=\"e4ceb53c-999f-4f39-8528-8f78f397dee1\" type=\"checkbox\" ><label for=\"e4ceb53c-999f-4f39-8528-8f78f397dee1\" class=\"sk-toggleable__label sk-toggleable__label-arrow\">GradientBoostingRegressor</label><div class=\"sk-toggleable__content\"><pre>GradientBoostingRegressor()</pre></div></div></div></div></div></div></div></div></div></div></div></div>"
      ],
      "text/plain": [
       "GridSearchCV(estimator=Pipeline(steps=[('preprocessor',\n",
       "                                        ColumnTransformer(transformers=[('num',\n",
       "                                                                         Pipeline(steps=[('inp',\n",
       "                                                                                          SimpleImputer(strategy='median')),\n",
       "                                                                                         ('scaler',\n",
       "                                                                                          StandardScaler())]),\n",
       "                                                                         ['OverallQual',\n",
       "                                                                          'LotArea',\n",
       "                                                                          'LotFrontage',\n",
       "                                                                          'BsmtFinSF1',\n",
       "                                                                          'TotalBsmtSF',\n",
       "                                                                          'GrLivArea',\n",
       "                                                                          'GarageYrBlt',\n",
       "                                                                          'GarageArea']),\n",
       "                                                                        ('cat',\n",
       "                                                                         Pipeline(steps=[('onehot',\n",
       "                                                                                          OneHotEncoder(handle_unknown=...\n",
       "                                                                          'GarageFinish',\n",
       "                                                                          'KitchenQual',\n",
       "                                                                          'SaleType',\n",
       "                                                                          'PoolQC',\n",
       "                                                                          'FullBath']),\n",
       "                                                                        ('ord',\n",
       "                                                                         Pipeline(steps=[('ordenc',\n",
       "                                                                                          OrdinalEncoder(handle_unknown='use_encoded_value',\n",
       "                                                                                                         unknown_value=-1))]),\n",
       "                                                                         ['GarageCars'])])),\n",
       "                                       ('regressor',\n",
       "                                        GradientBoostingRegressor())]),\n",
       "             param_grid={'regressor__learning_rate': [0.1, 0.5, 1.0],\n",
       "                         'regressor__n_estimators': [50, 100, 150]},\n",
       "             scoring=make_scorer(r2_score))"
      ]
     },
     "execution_count": 23,
     "metadata": {},
     "output_type": "execute_result"
    }
   ],
   "source": [
    "model"
   ]
  }
 ],
 "metadata": {
  "kernelspec": {
   "display_name": "Python 3.9.12 ('tfgpu')",
   "language": "python",
   "name": "python3"
  },
  "language_info": {
   "codemirror_mode": {
    "name": "ipython",
    "version": 3
   },
   "file_extension": ".py",
   "mimetype": "text/x-python",
   "name": "python",
   "nbconvert_exporter": "python",
   "pygments_lexer": "ipython3",
   "version": "3.9.12"
  },
  "orig_nbformat": 4,
  "vscode": {
   "interpreter": {
    "hash": "4ac2639bf6c51b051b1b83c4d99575383d6e01bb4712884ebd29a7c900e61e25"
   }
  }
 },
 "nbformat": 4,
 "nbformat_minor": 2
}
