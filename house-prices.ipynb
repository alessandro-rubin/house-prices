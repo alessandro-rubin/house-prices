{
  "metadata": {
    "kernelspec": {
      "language": "python",
      "display_name": "Python 3",
      "name": "python3"
    },
    "language_info": {
      "pygments_lexer": "ipython3",
      "nbconvert_exporter": "python",
      "version": "3.6.4",
      "file_extension": ".py",
      "codemirror_mode": {
        "name": "ipython",
        "version": 3
      },
      "name": "python",
      "mimetype": "text/x-python"
    },
    "colab": {
      "provenance": []
    }
  },
  "nbformat_minor": 0,
  "nbformat": 4,
  "cells": [
    {
      "cell_type": "markdown",
      "source": [
        "# House price prediction with scikit-learn"
      ],
      "metadata": {
        "id": "bd7WvVD9jZVo"
      }
    },
    {
      "cell_type": "markdown",
      "source": [
        "TODO:\n",
        "\n",
        "PCA/feature selection\n",
        "\n",
        "Removing outliers\n",
        "\n",
        "Streamlining analysis with scikit\n",
        "\n",
        "Adding also tensorflow/keras\n"
      ],
      "metadata": {
        "id": "TJrNhpIwjZVu"
      }
    },
    {
      "cell_type": "code",
      "source": [],
      "metadata": {
        "execution": {
          "iopub.status.busy": "2023-09-19T18:46:35.869552Z",
          "iopub.execute_input": "2023-09-19T18:46:35.869960Z",
          "iopub.status.idle": "2023-09-19T18:46:35.914519Z",
          "shell.execute_reply.started": "2023-09-19T18:46:35.869927Z",
          "shell.execute_reply": "2023-09-19T18:46:35.913483Z"
        },
        "trusted": true,
        "id": "Zo3XN_fpjZVv"
      },
      "execution_count": null,
      "outputs": []
    },
    {
      "cell_type": "code",
      "source": [
        "import os\n",
        "try:\n",
        "  import google.colab\n",
        "  IN_COLAB = True\n",
        "except:\n",
        "  IN_COLAB = False\n",
        "\n",
        "print(\"os.environ.get('KAGGLE_URL_BASE') == \", os.environ.get('KAGGLE_URL_BASE'))\n",
        "if 'kaggle' in os.environ.get('KAGGLE_URL_BASE','localhost'):\n",
        "    print(\"We are running on a Kaggle Server\")\n",
        "    IN_KAGGLE = True\n",
        "else:\n",
        "    IN_KAGGLE = False"
      ],
      "metadata": {
        "execution": {
          "iopub.status.busy": "2023-09-19T18:46:35.916613Z",
          "iopub.execute_input": "2023-09-19T18:46:35.917759Z",
          "iopub.status.idle": "2023-09-19T18:46:35.926045Z",
          "shell.execute_reply.started": "2023-09-19T18:46:35.917666Z",
          "shell.execute_reply": "2023-09-19T18:46:35.924814Z"
        },
        "trusted": true,
        "id": "7EUhaoR5jZVx"
      },
      "execution_count": null,
      "outputs": []
    },
    {
      "cell_type": "code",
      "source": [
        "if IN_COLAB:\n",
        "    from google.colab import files\n",
        "    !pip install kaggle\n",
        "    if not os.path.exists(\"/root/.kaggle/kaggle.json\"):\n",
        "        files.upload()\n",
        "        !cp kaggle.json ~/.kaggle/\n",
        "        !chmod 600 ~/.kaggle/kaggle.json\n",
        "    !kaggle competitions download -c house-prices-advanced-regression-techniques\n",
        "    if not os.path.exists(\"/content/train.csv\"):\n",
        "        !unzip /content/house-prices-advanced-regression-techniques.zip\n",
        ""
      ],
      "metadata": {
        "id": "j2bs8Y5eku6o"
      },
      "execution_count": null,
      "outputs": []
    },
    {
      "cell_type": "code",
      "source": [
        "if(IN_KAGGLE):\n",
        "    train_path='../input/house-prices-advanced-regression-techniques/train.csv'\n",
        "    test_path='../input/house-prices-advanced-regression-techniques/test.csv'\n",
        "elif(IN_COLAB):\n",
        "    train_path=\"/content/train.csv\"\n",
        "    test_path=\"/content/test.csv\"\n",
        "else:\n",
        "    train_path='data/train.csv'\n",
        "    test_path='data/test.csv'"
      ],
      "metadata": {
        "execution": {
          "iopub.status.busy": "2023-09-19T18:46:35.927446Z",
          "iopub.execute_input": "2023-09-19T18:46:35.927888Z",
          "iopub.status.idle": "2023-09-19T18:46:35.939207Z",
          "shell.execute_reply.started": "2023-09-19T18:46:35.927855Z",
          "shell.execute_reply": "2023-09-19T18:46:35.937998Z"
        },
        "trusted": true,
        "id": "615RnEv4jZVy"
      },
      "execution_count": null,
      "outputs": []
    },
    {
      "cell_type": "code",
      "source": [
        "import numpy as np # linear algebra\n",
        "import pandas as pd # data processing, CSV file I/O (e.g. pd.read_csv)\n",
        "import matplotlib.pyplot as plt\n",
        "import os\n",
        "import sys\n",
        "import seaborn as sns"
      ],
      "metadata": {
        "execution": {
          "iopub.status.busy": "2023-09-19T18:46:35.941119Z",
          "iopub.execute_input": "2023-09-19T18:46:35.941670Z",
          "iopub.status.idle": "2023-09-19T18:46:38.315554Z",
          "shell.execute_reply.started": "2023-09-19T18:46:35.941638Z",
          "shell.execute_reply": "2023-09-19T18:46:38.314271Z"
        },
        "trusted": true,
        "id": "tT_AIMyEjZVz"
      },
      "execution_count": null,
      "outputs": []
    },
    {
      "cell_type": "code",
      "source": [
        "def plot_categorical(grouped,label,figsize=(12,8)):\n",
        "    plt.figure(figsize=figsize)\n",
        "    labels=[]\n",
        "    data=[]\n",
        "    for name,group in grouped:\n",
        "        labels.append(name)\n",
        "        data.append(group[label])\n",
        "    plt.boxplot(data,labels=labels)\n",
        "    plt.xlabel(name)\n",
        "    plt.ylabel(label)\n",
        "    plt.show()"
      ],
      "metadata": {
        "execution": {
          "iopub.status.busy": "2023-09-19T18:46:38.317364Z",
          "iopub.execute_input": "2023-09-19T18:46:38.318726Z",
          "iopub.status.idle": "2023-09-19T18:46:38.327906Z",
          "shell.execute_reply.started": "2023-09-19T18:46:38.318655Z",
          "shell.execute_reply": "2023-09-19T18:46:38.325417Z"
        },
        "trusted": true,
        "id": "SMli1oC1jZV0"
      },
      "execution_count": null,
      "outputs": []
    },
    {
      "cell_type": "markdown",
      "source": [
        "Feature engineering function:"
      ],
      "metadata": {
        "id": "eb3MqAdgjZV1"
      }
    },
    {
      "cell_type": "code",
      "source": [
        "try:\n",
        "    from house_prices_script import feat_eng\n",
        "except:\n",
        "    def feat_eng(df):\n",
        "        ''' performs dataframe cleaning and basic feature engineering'''\n",
        "        #total floors\n",
        "        df['TotFlrSF']=df['1stFlrSF']+df['2ndFlrSF']\n",
        "        #total number of floors (1 or 2)\n",
        "        df['nFlrs']=df['2ndFlrSF'].map(lambda x: int(x>0)+1.)#if df['2ndFlrSF']>0 then df['nFlrs']=2\n",
        "        df['GarageType']=df['GarageType'].fillna('NoGarage')\n",
        "        df['GarageQual']=df['GarageQual'].fillna('NoGarage')\n",
        "        df['GarageCond']=df['GarageCond'].fillna('NoGarage')\n",
        "        df['PoolQC']=df['PoolQC'].fillna('NoPool')\n",
        "        df['FireplaceQu']=df['FireplaceQu'].fillna('NoFp')\n",
        "        #garage cars vs house size\n",
        "        #number of bathrooms vs house size/n bedrooms\n",
        "        return df"
      ],
      "metadata": {
        "execution": {
          "iopub.status.busy": "2023-09-19T18:46:38.329464Z",
          "iopub.execute_input": "2023-09-19T18:46:38.330809Z",
          "iopub.status.idle": "2023-09-19T18:46:38.349710Z",
          "shell.execute_reply.started": "2023-09-19T18:46:38.330749Z",
          "shell.execute_reply": "2023-09-19T18:46:38.348449Z"
        },
        "trusted": true,
        "id": "6NEfRBZ6jZV2"
      },
      "execution_count": null,
      "outputs": []
    },
    {
      "cell_type": "markdown",
      "source": [
        "# Real estate price prediction"
      ],
      "metadata": {
        "id": "jWulNz4wjZV2"
      }
    },
    {
      "cell_type": "markdown",
      "source": [
        "https://www.kaggle.com/competitions/house-prices-advanced-regression-techniques"
      ],
      "metadata": {
        "id": "eoo71VSHjZV3"
      }
    },
    {
      "cell_type": "markdown",
      "source": [
        "Notes: lots of columns -> possible PCA? (see ml-basic-> clustering tutorial for info on PCA with sklearn)"
      ],
      "metadata": {
        "id": "yGnZuYfrjZV4"
      }
    },
    {
      "cell_type": "code",
      "source": [
        "train,test=pd.read_csv(train_path),pd.read_csv(test_path)\n",
        "train"
      ],
      "metadata": {
        "execution": {
          "iopub.status.busy": "2023-09-19T18:46:38.352925Z",
          "iopub.execute_input": "2023-09-19T18:46:38.353670Z",
          "iopub.status.idle": "2023-09-19T18:46:38.497900Z",
          "shell.execute_reply.started": "2023-09-19T18:46:38.353633Z",
          "shell.execute_reply": "2023-09-19T18:46:38.496751Z"
        },
        "trusted": true,
        "id": "zmfYKtSCjZV4"
      },
      "execution_count": null,
      "outputs": []
    },
    {
      "cell_type": "code",
      "source": [
        "test"
      ],
      "metadata": {
        "execution": {
          "iopub.status.busy": "2023-09-19T18:46:38.499643Z",
          "iopub.execute_input": "2023-09-19T18:46:38.500349Z",
          "iopub.status.idle": "2023-09-19T18:46:38.537018Z",
          "shell.execute_reply.started": "2023-09-19T18:46:38.500306Z",
          "shell.execute_reply": "2023-09-19T18:46:38.535570Z"
        },
        "trusted": true,
        "id": "QOk5E1b8jZV6"
      },
      "execution_count": null,
      "outputs": []
    },
    {
      "cell_type": "code",
      "source": [
        "train,test=feat_eng(train),feat_eng(test)"
      ],
      "metadata": {
        "execution": {
          "iopub.status.busy": "2023-09-19T18:46:38.538842Z",
          "iopub.execute_input": "2023-09-19T18:46:38.539559Z",
          "iopub.status.idle": "2023-09-19T18:46:38.563610Z",
          "shell.execute_reply.started": "2023-09-19T18:46:38.539510Z",
          "shell.execute_reply": "2023-09-19T18:46:38.562433Z"
        },
        "trusted": true,
        "id": "HGqIuzJDjZV6"
      },
      "execution_count": null,
      "outputs": []
    },
    {
      "cell_type": "code",
      "source": [
        "count=test.isna().sum()\n",
        "count=pd.DataFrame(count)\n",
        "count[count[0]!=0]"
      ],
      "metadata": {
        "execution": {
          "iopub.status.busy": "2023-09-19T18:46:38.565647Z",
          "iopub.execute_input": "2023-09-19T18:46:38.566126Z",
          "iopub.status.idle": "2023-09-19T18:46:38.593486Z",
          "shell.execute_reply.started": "2023-09-19T18:46:38.566083Z",
          "shell.execute_reply": "2023-09-19T18:46:38.592232Z"
        },
        "trusted": true,
        "id": "OJ9GnmmWjZV7"
      },
      "execution_count": null,
      "outputs": []
    },
    {
      "cell_type": "code",
      "source": [
        "features=test.keys()\n"
      ],
      "metadata": {
        "execution": {
          "iopub.status.busy": "2023-09-19T18:46:38.594959Z",
          "iopub.execute_input": "2023-09-19T18:46:38.595370Z",
          "iopub.status.idle": "2023-09-19T18:46:38.601897Z",
          "shell.execute_reply.started": "2023-09-19T18:46:38.595332Z",
          "shell.execute_reply": "2023-09-19T18:46:38.600591Z"
        },
        "trusted": true,
        "id": "st3UkeTQjZV7"
      },
      "execution_count": null,
      "outputs": []
    },
    {
      "cell_type": "code",
      "source": [
        "len(features)"
      ],
      "metadata": {
        "execution": {
          "iopub.status.busy": "2023-09-19T18:46:38.603797Z",
          "iopub.execute_input": "2023-09-19T18:46:38.604244Z",
          "iopub.status.idle": "2023-09-19T18:46:38.624529Z",
          "shell.execute_reply.started": "2023-09-19T18:46:38.604200Z",
          "shell.execute_reply": "2023-09-19T18:46:38.623080Z"
        },
        "trusted": true,
        "id": "JsKMXNHrjZV8"
      },
      "execution_count": null,
      "outputs": []
    },
    {
      "cell_type": "code",
      "source": [
        "label='SalePrice'"
      ],
      "metadata": {
        "execution": {
          "iopub.status.busy": "2023-09-19T18:46:38.625850Z",
          "iopub.execute_input": "2023-09-19T18:46:38.626272Z",
          "iopub.status.idle": "2023-09-19T18:46:38.637810Z",
          "shell.execute_reply.started": "2023-09-19T18:46:38.626235Z",
          "shell.execute_reply": "2023-09-19T18:46:38.636835Z"
        },
        "trusted": true,
        "id": "JyiStzO4jZV9"
      },
      "execution_count": null,
      "outputs": []
    },
    {
      "cell_type": "markdown",
      "source": [
        "#### Plotting raw features"
      ],
      "metadata": {
        "id": "5MYkGWSSjZV9"
      }
    },
    {
      "cell_type": "code",
      "source": [
        "plot=True\n"
      ],
      "metadata": {
        "execution": {
          "iopub.status.busy": "2023-09-19T18:46:38.639875Z",
          "iopub.execute_input": "2023-09-19T18:46:38.640334Z",
          "iopub.status.idle": "2023-09-19T18:46:38.652004Z",
          "shell.execute_reply.started": "2023-09-19T18:46:38.640287Z",
          "shell.execute_reply": "2023-09-19T18:46:38.650659Z"
        },
        "trusted": true,
        "id": "4PN0FsQ_jZV-"
      },
      "execution_count": null,
      "outputs": []
    },
    {
      "cell_type": "code",
      "source": [
        "train.hist(bins=30, figsize=(15,15))\n",
        "plt.show()"
      ],
      "metadata": {
        "execution": {
          "iopub.status.busy": "2023-09-19T18:46:38.658106Z",
          "iopub.execute_input": "2023-09-19T18:46:38.658837Z",
          "iopub.status.idle": "2023-09-19T18:46:47.117191Z",
          "shell.execute_reply.started": "2023-09-19T18:46:38.658798Z",
          "shell.execute_reply": "2023-09-19T18:46:47.116354Z"
        },
        "trusted": true,
        "id": "shvp0fTpjZV-"
      },
      "execution_count": null,
      "outputs": []
    },
    {
      "cell_type": "code",
      "source": [
        "corrmat = train.corr(numeric_only=True)\n",
        "f, ax = plt.subplots(figsize=(16, 16))\n",
        "sns.heatmap(corrmat, vmax=.8, square=True,cmap=\"coolwarm\")\n",
        "plt.show()"
      ],
      "metadata": {
        "execution": {
          "iopub.status.busy": "2023-09-19T18:48:09.971858Z",
          "iopub.execute_input": "2023-09-19T18:48:09.972298Z",
          "iopub.status.idle": "2023-09-19T18:48:11.018304Z",
          "shell.execute_reply.started": "2023-09-19T18:48:09.972265Z",
          "shell.execute_reply": "2023-09-19T18:48:11.017209Z"
        },
        "trusted": true,
        "id": "7NAEeIsTjZV-"
      },
      "execution_count": null,
      "outputs": []
    },
    {
      "cell_type": "code",
      "source": [
        "def plot_synth_f(df:pd.DataFrame,plot_type='s',sf='synth',label='SalePrice'):\n",
        "    #definition of synthetic feature here\n",
        "    df[sf]=df['TotFlrSF']#how do I pass a function on the dataframe?\n",
        "    if plot_type=='c':\n",
        "        grouped=df.groupby(sf)\n",
        "        plot_categorical(grouped)\n",
        "    else:\n",
        "        plt.scatter(df[sf],df[label])\n",
        "        plt.xlabel(sf)\n",
        "        plt.ylabel(label)\n",
        "        z = np.polyfit(df[sf],df[label], 1)\n",
        "        p = np.poly1d(z)\n",
        "        plt.plot(df[sf],p(df[sf]), color='magenta')"
      ],
      "metadata": {
        "execution": {
          "iopub.status.busy": "2023-09-19T18:48:22.186906Z",
          "iopub.execute_input": "2023-09-19T18:48:22.187404Z",
          "iopub.status.idle": "2023-09-19T18:48:22.196501Z",
          "shell.execute_reply.started": "2023-09-19T18:48:22.187367Z",
          "shell.execute_reply": "2023-09-19T18:48:22.194867Z"
        },
        "trusted": true,
        "id": "VcavRZZ1jZV_"
      },
      "execution_count": null,
      "outputs": []
    },
    {
      "cell_type": "markdown",
      "source": [
        "Let's see if we can do some feature engineering.\n",
        "\n",
        "First: find if there are nan entries:"
      ],
      "metadata": {
        "id": "r4CbRS3ujZWA"
      }
    },
    {
      "cell_type": "code",
      "source": [
        "subset_df = train.loc[:, train.isnull().any()]\n",
        "\n",
        "subset_df"
      ],
      "metadata": {
        "execution": {
          "iopub.status.busy": "2023-09-19T18:48:22.199265Z",
          "iopub.execute_input": "2023-09-19T18:48:22.199921Z",
          "iopub.status.idle": "2023-09-19T18:48:22.260342Z",
          "shell.execute_reply.started": "2023-09-19T18:48:22.199876Z",
          "shell.execute_reply": "2023-09-19T18:48:22.259518Z"
        },
        "trusted": true,
        "id": "H-6t3nT8jZWA"
      },
      "execution_count": null,
      "outputs": []
    },
    {
      "cell_type": "code",
      "source": [
        "def count_na_per_col(df):\n",
        "    count=df.isna().sum()\n",
        "    count=pd.DataFrame(count).T\n",
        "    return count"
      ],
      "metadata": {
        "execution": {
          "iopub.status.busy": "2023-09-19T18:48:22.261672Z",
          "iopub.execute_input": "2023-09-19T18:48:22.262044Z",
          "iopub.status.idle": "2023-09-19T18:48:22.267791Z",
          "shell.execute_reply.started": "2023-09-19T18:48:22.262013Z",
          "shell.execute_reply": "2023-09-19T18:48:22.266783Z"
        },
        "trusted": true,
        "id": "OjEWcOdojZWB"
      },
      "execution_count": null,
      "outputs": []
    },
    {
      "cell_type": "code",
      "source": [
        "count_na_per_col(train)"
      ],
      "metadata": {
        "execution": {
          "iopub.status.busy": "2023-09-19T18:49:58.778304Z",
          "iopub.execute_input": "2023-09-19T18:49:58.778784Z",
          "iopub.status.idle": "2023-09-19T18:49:58.808905Z",
          "shell.execute_reply.started": "2023-09-19T18:49:58.778746Z",
          "shell.execute_reply": "2023-09-19T18:49:58.807729Z"
        },
        "trusted": true,
        "id": "MmVeZrP_jZWB"
      },
      "execution_count": null,
      "outputs": []
    },
    {
      "cell_type": "code",
      "source": [
        "pd.concat([count_na_per_col(train),count_na_per_col(test)])"
      ],
      "metadata": {
        "execution": {
          "iopub.status.busy": "2023-09-19T18:50:13.390789Z",
          "iopub.execute_input": "2023-09-19T18:50:13.391236Z",
          "iopub.status.idle": "2023-09-19T18:50:13.433538Z",
          "shell.execute_reply.started": "2023-09-19T18:50:13.391201Z",
          "shell.execute_reply": "2023-09-19T18:50:13.432503Z"
        },
        "trusted": true,
        "id": "9i4d9BsHjZWC"
      },
      "execution_count": null,
      "outputs": []
    },
    {
      "cell_type": "markdown",
      "source": [
        "#### Selecting the interesting features"
      ],
      "metadata": {
        "id": "g6GaLt3HjZWC"
      }
    },
    {
      "cell_type": "code",
      "source": [
        "int_cat_f=['SaleCondition','TotRmsAbvGrd','ExterQual','Exterior1st','Neighborhood',\n",
        "            'GarageFinish','KitchenQual','SaleType','PoolQC', 'OverallCond',\n",
        "            'FullBath','HouseStyle','Condition1','MSZoning','BldgType','BsmtQual']\n",
        "int_num_f=['LotArea','LotFrontage','BsmtFinSF1','TotalBsmtSF',\n",
        "            'GrLivArea','GarageYrBlt','GarageArea','YearBuilt','MSSubClass','GarageCars','OverallQual']\n",
        "int_ord_f=[]"
      ],
      "metadata": {
        "execution": {
          "iopub.status.busy": "2023-09-19T18:50:25.797969Z",
          "iopub.execute_input": "2023-09-19T18:50:25.798359Z",
          "iopub.status.idle": "2023-09-19T18:50:25.806342Z",
          "shell.execute_reply.started": "2023-09-19T18:50:25.798329Z",
          "shell.execute_reply": "2023-09-19T18:50:25.804549Z"
        },
        "trusted": true,
        "id": "Rh1wGx3LjZWC"
      },
      "execution_count": null,
      "outputs": []
    },
    {
      "cell_type": "code",
      "source": [
        "train"
      ],
      "metadata": {
        "id": "S1Pt1m4QpuK2"
      },
      "execution_count": null,
      "outputs": []
    },
    {
      "cell_type": "code",
      "source": [
        "train.columns"
      ],
      "metadata": {
        "id": "fqa0GTUGqSm8"
      },
      "execution_count": null,
      "outputs": []
    },
    {
      "cell_type": "code",
      "source": [
        "corrmat = train[int_num_f+[label]].corr()\n",
        "f, ax = plt.subplots(figsize=(8,8))\n",
        "sns.heatmap(corrmat, vmax=.8, square=True,cmap=\"coolwarm\")\n",
        "plt.show()"
      ],
      "metadata": {
        "execution": {
          "iopub.status.busy": "2023-09-19T18:50:25.809338Z",
          "iopub.execute_input": "2023-09-19T18:50:25.810172Z",
          "iopub.status.idle": "2023-09-19T18:50:26.311047Z",
          "shell.execute_reply.started": "2023-09-19T18:50:25.810118Z",
          "shell.execute_reply": "2023-09-19T18:50:26.309466Z"
        },
        "trusted": true,
        "id": "2D0xyfvvjZWD"
      },
      "execution_count": null,
      "outputs": []
    },
    {
      "cell_type": "markdown",
      "source": [
        "## Beginning regressions"
      ],
      "metadata": {
        "id": "yVkFU8X2jZWE"
      }
    },
    {
      "cell_type": "code",
      "source": [
        "from sklearn.compose import ColumnTransformer\n",
        "from sklearn.pipeline import Pipeline\n",
        "from sklearn.preprocessing import StandardScaler, OneHotEncoder, KBinsDiscretizer, OrdinalEncoder\n",
        "from sklearn.model_selection import train_test_split\n",
        "from sklearn.impute import SimpleImputer\n",
        "from sklearn.ensemble import GradientBoostingRegressor\n",
        "from sklearn import set_config\n",
        "from sklearn.metrics import r2_score,make_scorer,mean_squared_log_error\n",
        "from sklearn.ensemble import RandomForestRegressor\n",
        "from sklearn.model_selection import GridSearchCV\n",
        "from sklearn.ensemble import AdaBoostRegressor\n",
        "#from xgboost import XGBRegressor\n",
        "from lightgbm import LGBMRegressor"
      ],
      "metadata": {
        "execution": {
          "iopub.status.busy": "2023-09-19T18:50:26.313948Z",
          "iopub.execute_input": "2023-09-19T18:50:26.314791Z",
          "iopub.status.idle": "2023-09-19T18:50:26.991987Z",
          "shell.execute_reply.started": "2023-09-19T18:50:26.314744Z",
          "shell.execute_reply": "2023-09-19T18:50:26.990424Z"
        },
        "trusted": true,
        "id": "wp6lhG6AjZWE"
      },
      "execution_count": null,
      "outputs": []
    },
    {
      "cell_type": "code",
      "source": [
        "train[train['GarageCars'].isna()]"
      ],
      "metadata": {
        "execution": {
          "iopub.status.busy": "2023-09-19T18:50:26.993427Z",
          "iopub.execute_input": "2023-09-19T18:50:26.993843Z",
          "iopub.status.idle": "2023-09-19T18:50:27.015247Z",
          "shell.execute_reply.started": "2023-09-19T18:50:26.993808Z",
          "shell.execute_reply": "2023-09-19T18:50:27.013624Z"
        },
        "trusted": true,
        "id": "yA6DPxqdjZWE"
      },
      "execution_count": null,
      "outputs": []
    },
    {
      "cell_type": "code",
      "source": [
        "#try using keras model in scikit pipeline.. or just do it all in tensorflow/keras?\n",
        "#from keras.wrappers.scikit_learn import KerasRegressor\n"
      ],
      "metadata": {
        "execution": {
          "iopub.status.busy": "2023-09-19T18:50:27.018403Z",
          "iopub.execute_input": "2023-09-19T18:50:27.019036Z",
          "iopub.status.idle": "2023-09-19T18:50:27.030143Z",
          "shell.execute_reply.started": "2023-09-19T18:50:27.018944Z",
          "shell.execute_reply": "2023-09-19T18:50:27.029090Z"
        },
        "trusted": true,
        "id": "Gos00tuGjZWF"
      },
      "execution_count": null,
      "outputs": []
    },
    {
      "cell_type": "code",
      "source": [
        "params = [{'regressor': [GradientBoostingRegressor()],\n",
        " 'regressor__learning_rate': [0.03,0.1, 0.5, 1.0],\n",
        " 'regressor__n_estimators' : [25,50, 100, 150,200]\n",
        " },\n",
        " {\n",
        "    'regressor':[RandomForestRegressor()],\n",
        "    'regressor__n_estimators' : [25,50, 100, 150,200]\n",
        " },\n",
        " {\n",
        "   'regressor':[AdaBoostRegressor()],\n",
        "   'regressor__learning_rate':[0.03,0.1, 0.5, 1.0],\n",
        "   'regressor__n_estimators' : [25,50, 100, 150,200],\n",
        "   'regressor__loss':['linear','square']\n",
        " }\n",
        " ,\n",
        " {\n",
        "  'regressor':[LGBMRegressor()],\n",
        "  'regressor__learning_rate':[0.02,0.1,0.3],\n",
        "  'regressor__reg_alpha':[0,0.1,0.2,0.3,0.4],\n",
        "  'regressor__n_estimators' : [25,50, 100, 150,200]\n",
        " }\n",
        " ]\n",
        "params2= [{\n",
        "    'regressor':[LGBMRegressor()],\n",
        "    'regressor__learning_rate':[0.02,0.1,0.3],\n",
        "    'regressor__reg_alpha':[0,0.1,0.2,0.3,0.4],\n",
        "    'regressor__n_estimators' : [25,50, 100, 150,200]\n",
        "    }]"
      ],
      "metadata": {
        "execution": {
          "iopub.status.busy": "2023-09-19T18:50:27.031636Z",
          "iopub.execute_input": "2023-09-19T18:50:27.032072Z",
          "iopub.status.idle": "2023-09-19T18:50:27.046059Z",
          "shell.execute_reply.started": "2023-09-19T18:50:27.032026Z",
          "shell.execute_reply": "2023-09-19T18:50:27.044564Z"
        },
        "trusted": true,
        "id": "D0mqIi0vjZWF"
      },
      "execution_count": null,
      "outputs": []
    },
    {
      "cell_type": "markdown",
      "source": [
        "https://stackoverflow.com/questions/38555650/try-multiple-estimator-in-one-grid-search"
      ],
      "metadata": {
        "id": "nQMHVl--jZWG"
      }
    },
    {
      "cell_type": "code",
      "source": [
        "# Define preprocessing for numeric columns (normalize them so they're on the same scale)\n",
        "numeric_transformer = Pipeline(steps=[\n",
        "    ('inp',SimpleImputer(strategy='median')),\n",
        "    ('scaler', StandardScaler())])\n",
        "\n",
        "# Define preprocessing for categorical features\n",
        "categorical_transformer = Pipeline(steps=[\n",
        "    ('onehot', OneHotEncoder(handle_unknown='ignore'))])\n",
        "\n",
        "binned_transformer = Pipeline(steps=[('inp',SimpleImputer(strategy='median')),\n",
        "                                    ('KBinsDiscretizer',KBinsDiscretizer(n_bins=10))])\n",
        "\n",
        "ordinal_transformer = Pipeline(steps=[\n",
        "    ('ordenc', OrdinalEncoder())])\n",
        "\n",
        "# Combine preprocessing steps\n",
        "preprocessor = ColumnTransformer(\n",
        "    transformers=[\n",
        "        ('num', numeric_transformer, int_num_f),\n",
        "        ('cat', categorical_transformer, int_cat_f),\n",
        "        ('ord', ordinal_transformer, int_ord_f)\n",
        "        ])\n",
        "\n",
        "# Create preprocessing and training pipeline\n",
        "pipeline = Pipeline(steps=[('preprocessor', preprocessor),\n",
        "                           ('regressor', GradientBoostingRegressor())])"
      ],
      "metadata": {
        "execution": {
          "iopub.status.busy": "2023-09-19T18:50:27.047672Z",
          "iopub.execute_input": "2023-09-19T18:50:27.048100Z",
          "iopub.status.idle": "2023-09-19T18:50:27.062257Z",
          "shell.execute_reply.started": "2023-09-19T18:50:27.048057Z",
          "shell.execute_reply": "2023-09-19T18:50:27.060789Z"
        },
        "trusted": true,
        "id": "bJ9cLbXojZWG"
      },
      "execution_count": null,
      "outputs": []
    },
    {
      "cell_type": "code",
      "source": [
        "\n",
        "def pipeline_builder(n_cols,c_cols,o_cols,b_cols):\n",
        "    numeric_transformer = Pipeline(steps=[\n",
        "        ('inp',SimpleImputer(strategy='median')),\n",
        "        ('scaler', StandardScaler())])\n",
        "    categorical_transformer = Pipeline(steps=[\n",
        "    ('onehot', OneHotEncoder(handle_unknown='ignore'))])\n",
        "    binned_transformer = Pipeline(steps=[('inp',SimpleImputer(strategy='median')),\n",
        "                                    ('KBinsDiscretizer',KBinsDiscretizer(n_bins=10))])\n",
        "    ordinal_transformer = Pipeline(steps=[('onehot', OrdinalEncoder())])\n",
        "    preprocessor = ColumnTransformer(\n",
        "    transformers=[\n",
        "        ('num', numeric_transformer, n_cols),\n",
        "        ('cat', categorical_transformer, c_cols),\n",
        "        ('ord', ordinal_transformer, o_cols),\n",
        "        ('bin',binned_transformer, b_cols)\n",
        "        ])\n",
        "    pipeline = Pipeline(steps=[('preprocessor', preprocessor),\n",
        "                           ('regressor', RandomForestRegressor())])\n",
        "    pipeline\n",
        "    return pipeline"
      ],
      "metadata": {
        "execution": {
          "iopub.status.busy": "2023-09-19T18:50:27.064017Z",
          "iopub.execute_input": "2023-09-19T18:50:27.064434Z",
          "iopub.status.idle": "2023-09-19T18:50:27.082690Z",
          "shell.execute_reply.started": "2023-09-19T18:50:27.064401Z",
          "shell.execute_reply": "2023-09-19T18:50:27.081446Z"
        },
        "trusted": true,
        "id": "P7_R-fjfjZWH"
      },
      "execution_count": null,
      "outputs": []
    },
    {
      "cell_type": "code",
      "source": [
        "score = make_scorer(r2_score)\n",
        "\n",
        "pipe=pipeline_builder(int_num_f,int_cat_f,int_ord_f,[])\n",
        "\n",
        "gridsearch=GridSearchCV(verbose=1,estimator=pipe,param_grid=params2,scoring=score,return_train_score=False,cv=3,n_jobs=2)\n"
      ],
      "metadata": {
        "execution": {
          "iopub.status.busy": "2023-09-19T18:50:27.084287Z",
          "iopub.execute_input": "2023-09-19T18:50:27.084690Z",
          "iopub.status.idle": "2023-09-19T18:50:27.098034Z",
          "shell.execute_reply.started": "2023-09-19T18:50:27.084641Z",
          "shell.execute_reply": "2023-09-19T18:50:27.096582Z"
        },
        "trusted": true,
        "id": "EjRTGVGcjZWH"
      },
      "execution_count": null,
      "outputs": []
    },
    {
      "cell_type": "markdown",
      "source": [
        "Create feature an label sets, drop outlier coumns"
      ],
      "metadata": {
        "id": "PWEIWNmKjZWI"
      }
    },
    {
      "cell_type": "code",
      "source": [
        "def xy_split(df,label):\n",
        "    x,y=df.drop(label,axis=1),df[label]\n",
        "    return x,y"
      ],
      "metadata": {
        "execution": {
          "iopub.status.busy": "2023-09-19T18:50:27.099346Z",
          "iopub.execute_input": "2023-09-19T18:50:27.099719Z",
          "iopub.status.idle": "2023-09-19T18:50:27.115634Z",
          "shell.execute_reply.started": "2023-09-19T18:50:27.099661Z",
          "shell.execute_reply": "2023-09-19T18:50:27.114538Z"
        },
        "trusted": true,
        "id": "XEgNRwqPjZWI"
      },
      "execution_count": null,
      "outputs": []
    },
    {
      "cell_type": "code",
      "source": [
        "x,y=train.drop([523,1298]).drop(label,axis=1),train.drop([523,1298])[label]\n",
        "x_train, x_test, y_train, y_test = train_test_split(x, y, test_size=0.3, random_state=0)\n"
      ],
      "metadata": {
        "execution": {
          "iopub.status.busy": "2023-09-19T18:50:27.120037Z",
          "iopub.execute_input": "2023-09-19T18:50:27.121084Z",
          "iopub.status.idle": "2023-09-19T18:50:27.142851Z",
          "shell.execute_reply.started": "2023-09-19T18:50:27.121033Z",
          "shell.execute_reply": "2023-09-19T18:50:27.141521Z"
        },
        "trusted": true,
        "id": "dEBRIFbwjZWI"
      },
      "execution_count": null,
      "outputs": []
    },
    {
      "cell_type": "code",
      "source": [
        "set_config(display='diagram')\n",
        "gridsearch"
      ],
      "metadata": {
        "execution": {
          "iopub.status.busy": "2023-09-19T18:50:27.144405Z",
          "iopub.execute_input": "2023-09-19T18:50:27.144789Z",
          "iopub.status.idle": "2023-09-19T18:50:27.462516Z",
          "shell.execute_reply.started": "2023-09-19T18:50:27.144751Z",
          "shell.execute_reply": "2023-09-19T18:50:27.461259Z"
        },
        "trusted": true,
        "id": "MeGPsiHgjZWJ"
      },
      "execution_count": null,
      "outputs": []
    },
    {
      "cell_type": "code",
      "source": [
        "model1=gridsearch.fit(x_train,(y_train))"
      ],
      "metadata": {
        "execution": {
          "iopub.status.busy": "2023-09-19T18:50:27.463735Z",
          "iopub.execute_input": "2023-09-19T18:50:27.464039Z",
          "iopub.status.idle": "2023-09-19T18:51:50.340540Z",
          "shell.execute_reply.started": "2023-09-19T18:50:27.464013Z",
          "shell.execute_reply": "2023-09-19T18:51:50.338666Z"
        },
        "trusted": true,
        "id": "GOHCDXm_jZWJ"
      },
      "execution_count": null,
      "outputs": []
    },
    {
      "cell_type": "code",
      "source": [
        "model1.best_params_"
      ],
      "metadata": {
        "execution": {
          "iopub.status.busy": "2023-09-19T18:51:50.342596Z",
          "iopub.execute_input": "2023-09-19T18:51:50.343032Z",
          "iopub.status.idle": "2023-09-19T18:51:50.349061Z",
          "shell.execute_reply.started": "2023-09-19T18:51:50.342985Z",
          "shell.execute_reply": "2023-09-19T18:51:50.347636Z"
        },
        "trusted": true,
        "id": "dFXLnOiKjZWK"
      },
      "execution_count": null,
      "outputs": []
    },
    {
      "cell_type": "code",
      "source": [
        "model1.best_score_"
      ],
      "metadata": {
        "execution": {
          "iopub.status.busy": "2023-09-19T18:51:50.350442Z",
          "iopub.execute_input": "2023-09-19T18:51:50.350828Z",
          "iopub.status.idle": "2023-09-19T18:51:50.362718Z",
          "shell.execute_reply.started": "2023-09-19T18:51:50.350795Z",
          "shell.execute_reply": "2023-09-19T18:51:50.361873Z"
        },
        "trusted": true,
        "id": "52gqwKqXjZWK"
      },
      "execution_count": null,
      "outputs": []
    },
    {
      "cell_type": "code",
      "source": [
        "model1.best_estimator_"
      ],
      "metadata": {
        "execution": {
          "iopub.status.busy": "2023-09-19T18:51:50.363789Z",
          "iopub.execute_input": "2023-09-19T18:51:50.366578Z",
          "iopub.status.idle": "2023-09-19T18:51:50.513328Z",
          "shell.execute_reply.started": "2023-09-19T18:51:50.366518Z",
          "shell.execute_reply": "2023-09-19T18:51:50.511769Z"
        },
        "trusted": true,
        "id": "NNAkaTtZjZWK"
      },
      "execution_count": null,
      "outputs": []
    },
    {
      "cell_type": "code",
      "source": [
        "best_model=model1.best_estimator_\n",
        "best_model=best_model.fit(x_train,(y_train))"
      ],
      "metadata": {
        "id": "WQNP1GyFzwE2"
      },
      "execution_count": null,
      "outputs": []
    },
    {
      "cell_type": "code",
      "source": [
        "import datetime"
      ],
      "metadata": {
        "execution": {
          "iopub.status.busy": "2023-09-19T18:51:50.516005Z",
          "iopub.execute_input": "2023-09-19T18:51:50.516828Z",
          "iopub.status.idle": "2023-09-19T18:51:50.521511Z",
          "shell.execute_reply.started": "2023-09-19T18:51:50.516779Z",
          "shell.execute_reply": "2023-09-19T18:51:50.520645Z"
        },
        "trusted": true,
        "id": "2F2FrBWhjZWL"
      },
      "execution_count": null,
      "outputs": []
    },
    {
      "cell_type": "code",
      "source": [
        "savemodel=True"
      ],
      "metadata": {
        "execution": {
          "iopub.status.busy": "2023-09-19T18:51:50.522622Z",
          "iopub.execute_input": "2023-09-19T18:51:50.523414Z",
          "iopub.status.idle": "2023-09-19T18:51:50.535731Z",
          "shell.execute_reply.started": "2023-09-19T18:51:50.523379Z",
          "shell.execute_reply": "2023-09-19T18:51:50.534452Z"
        },
        "trusted": true,
        "id": "45F0RN1FjZWM"
      },
      "execution_count": null,
      "outputs": []
    },
    {
      "cell_type": "code",
      "source": [
        "if savemodel:\n",
        "    timestamp=datetime.datetime.now().strftime(\"%d%m%Y%H%M%S\")\n",
        "    models_folder= 'models'\n",
        "    os.makedirs(models_folder,exist_ok=True)\n",
        "    model_name= 'model_'+ timestamp +'.joblib'\n",
        "    modelpath= os.path.join(models_folder,model_name)\n",
        "    from joblib import dump, load\n",
        "    dump(model1, modelpath)\n",
        "    print('Saved ' , modelpath)"
      ],
      "metadata": {
        "execution": {
          "iopub.status.busy": "2023-09-19T18:51:50.537005Z",
          "iopub.execute_input": "2023-09-19T18:51:50.538160Z",
          "iopub.status.idle": "2023-09-19T18:51:50.583979Z",
          "shell.execute_reply.started": "2023-09-19T18:51:50.538111Z",
          "shell.execute_reply": "2023-09-19T18:51:50.582787Z"
        },
        "trusted": true,
        "id": "jusByGZcjZWM"
      },
      "execution_count": null,
      "outputs": []
    },
    {
      "cell_type": "code",
      "source": [
        "def score_and_visualize(model,x_test,y_test):\n",
        "    predictions=model.predict(x_test)\n",
        "    plt.figure(figsize=(10,10))\n",
        "    plt.scatter(y_test,predictions)\n",
        "    plt.xlabel('True')\n",
        "    plt.ylabel('Predicted')\n",
        "    msle=mean_squared_log_error(y_true=y_test, y_pred=predictions)#msle is the metric evaluated in the kaggle challange\n",
        "    r2=r2_score(y_true=y_test, y_pred=predictions)\n",
        "    print('r2 coefficient: ',r2,'\\nmsle = ', msle)\n",
        "    z = np.polyfit(y_test, predictions, 1)\n",
        "    p = np.poly1d(z)\n",
        "    plt.plot(y_test,p(y_test), color='magenta')\n",
        "    plt.axline((0,0),slope=1,ls='--')\n",
        "    plt.show()"
      ],
      "metadata": {
        "execution": {
          "iopub.status.busy": "2023-09-19T18:51:50.585716Z",
          "iopub.execute_input": "2023-09-19T18:51:50.586102Z",
          "iopub.status.idle": "2023-09-19T18:51:50.594118Z",
          "shell.execute_reply.started": "2023-09-19T18:51:50.586071Z",
          "shell.execute_reply": "2023-09-19T18:51:50.592988Z"
        },
        "trusted": true,
        "id": "J2P14niojZWN"
      },
      "execution_count": null,
      "outputs": []
    },
    {
      "cell_type": "code",
      "source": [
        "#len(model2[1].feature_importances_)"
      ],
      "metadata": {
        "execution": {
          "iopub.status.busy": "2023-09-19T18:51:50.595740Z",
          "iopub.execute_input": "2023-09-19T18:51:50.596280Z",
          "iopub.status.idle": "2023-09-19T18:51:50.612567Z",
          "shell.execute_reply.started": "2023-09-19T18:51:50.596250Z",
          "shell.execute_reply": "2023-09-19T18:51:50.610970Z"
        },
        "trusted": true,
        "id": "NaSK2MGCjZWP"
      },
      "execution_count": null,
      "outputs": []
    },
    {
      "cell_type": "code",
      "source": [
        "score_and_visualize(model=model1,x_test=x_test,y_test=y_test)\n",
        "#score_and_visualize(model=model2,x_test=x_test,y_test=y_test)"
      ],
      "metadata": {
        "execution": {
          "iopub.status.busy": "2023-09-19T18:51:50.614412Z",
          "iopub.execute_input": "2023-09-19T18:51:50.614922Z",
          "iopub.status.idle": "2023-09-19T18:51:50.994144Z",
          "shell.execute_reply.started": "2023-09-19T18:51:50.614877Z",
          "shell.execute_reply": "2023-09-19T18:51:50.992933Z"
        },
        "trusted": true,
        "id": "e0fa6vjvjZWP"
      },
      "execution_count": null,
      "outputs": []
    },
    {
      "cell_type": "markdown",
      "source": [
        "## Now make predictions on the test dataset"
      ],
      "metadata": {
        "id": "h9_9WCIyjZWP"
      }
    },
    {
      "cell_type": "code",
      "source": [
        "if IN_KAGGLE:\n",
        "    sample_sub=pd.read_csv(\"/kaggle/input/house-prices-advanced-regression-techniques/sample_submission.csv\")\n",
        "elif IN_COLAB:\n",
        "    sample_sub=pd.read_csv('/content/sample_submission.csv')\n",
        "else:\n",
        "    sample_sub=pd.read_csv('data/sample_submission.csv')\n",
        "sample_sub\n"
      ],
      "metadata": {
        "execution": {
          "iopub.status.busy": "2023-09-19T18:53:43.607798Z",
          "iopub.execute_input": "2023-09-19T18:53:43.608290Z",
          "iopub.status.idle": "2023-09-19T18:53:43.633228Z",
          "shell.execute_reply.started": "2023-09-19T18:53:43.608255Z",
          "shell.execute_reply": "2023-09-19T18:53:43.632313Z"
        },
        "trusted": true,
        "id": "Qgc_mqwfjZWQ"
      },
      "execution_count": null,
      "outputs": []
    },
    {
      "cell_type": "markdown",
      "source": [
        "### Make prediction and save"
      ],
      "metadata": {
        "id": "TGZK9Tc0jZWQ"
      }
    },
    {
      "cell_type": "code",
      "source": [
        "test"
      ],
      "metadata": {
        "execution": {
          "iopub.status.busy": "2023-09-19T18:58:46.869405Z",
          "iopub.execute_input": "2023-09-19T18:58:46.869924Z",
          "iopub.status.idle": "2023-09-19T18:58:46.911143Z",
          "shell.execute_reply.started": "2023-09-19T18:58:46.869874Z",
          "shell.execute_reply": "2023-09-19T18:58:46.909623Z"
        },
        "trusted": true,
        "id": "RY9C25bRjZWQ"
      },
      "execution_count": null,
      "outputs": []
    },
    {
      "cell_type": "code",
      "source": [
        "#make prediction on the test set and save\n",
        "pred=model1.predict(test)\n",
        "pred"
      ],
      "metadata": {
        "execution": {
          "iopub.status.busy": "2023-09-19T19:17:52.608423Z",
          "iopub.execute_input": "2023-09-19T19:17:52.608873Z",
          "iopub.status.idle": "2023-09-19T19:17:52.650091Z",
          "shell.execute_reply.started": "2023-09-19T19:17:52.608836Z",
          "shell.execute_reply": "2023-09-19T19:17:52.648750Z"
        },
        "trusted": true,
        "id": "aipPqg-QjZWR"
      },
      "execution_count": null,
      "outputs": []
    },
    {
      "cell_type": "code",
      "source": [
        "write=True"
      ],
      "metadata": {
        "execution": {
          "iopub.status.busy": "2023-09-19T18:53:43.675154Z",
          "iopub.execute_input": "2023-09-19T18:53:43.675527Z",
          "iopub.status.idle": "2023-09-19T18:53:43.681494Z",
          "shell.execute_reply.started": "2023-09-19T18:53:43.675495Z",
          "shell.execute_reply": "2023-09-19T18:53:43.679914Z"
        },
        "trusted": true,
        "id": "LMJz5ASXjZWR"
      },
      "execution_count": null,
      "outputs": []
    },
    {
      "cell_type": "code",
      "source": [
        "if IN_KAGGLE:\n",
        "    out_df=pd.read_csv(\"/kaggle/input/house-prices-advanced-regression-techniques/sample_submission.csv\")\n",
        "elif IN_COLAB:\n",
        "    out_df=pd.read_csv('/content/sample_submission.csv')\n",
        "else:\n",
        "    out_df=pd.read_csv('data/sample_submission.csv')\n",
        "out_df['SalePrice']=pred\n",
        "if write:\n",
        "    out_df.to_csv('prediction.csv',index=False)"
      ],
      "metadata": {
        "execution": {
          "iopub.status.busy": "2023-09-19T18:54:12.871278Z",
          "iopub.execute_input": "2023-09-19T18:54:12.871754Z",
          "iopub.status.idle": "2023-09-19T18:54:12.891863Z",
          "shell.execute_reply.started": "2023-09-19T18:54:12.871718Z",
          "shell.execute_reply": "2023-09-19T18:54:12.890535Z"
        },
        "trusted": true,
        "id": "QY3oaRErjZWR"
      },
      "execution_count": null,
      "outputs": []
    },
    {
      "cell_type": "code",
      "source": [
        "f = lambda x: model1.predict(\n",
        "    pd.DataFrame(x, columns=test.columns)\n",
        ")"
      ],
      "metadata": {
        "execution": {
          "iopub.status.busy": "2023-09-19T19:00:55.666631Z",
          "iopub.execute_input": "2023-09-19T19:00:55.667132Z",
          "iopub.status.idle": "2023-09-19T19:00:55.672555Z",
          "shell.execute_reply.started": "2023-09-19T19:00:55.667094Z",
          "shell.execute_reply": "2023-09-19T19:00:55.671646Z"
        },
        "trusted": true,
        "id": "01KbiA6IjZWS"
      },
      "execution_count": null,
      "outputs": []
    },
    {
      "cell_type": "code",
      "source": [
        "test.iloc[:4,:]"
      ],
      "metadata": {
        "execution": {
          "iopub.status.busy": "2023-09-19T19:21:28.843580Z",
          "iopub.execute_input": "2023-09-19T19:21:28.844506Z",
          "iopub.status.idle": "2023-09-19T19:21:28.881548Z",
          "shell.execute_reply.started": "2023-09-19T19:21:28.844456Z",
          "shell.execute_reply": "2023-09-19T19:21:28.880346Z"
        },
        "trusted": true,
        "id": "Yt6C11qbjZWS"
      },
      "execution_count": null,
      "outputs": []
    },
    {
      "cell_type": "code",
      "source": [
        "if IN_COLAB:\n",
        "    !pip install shap"
      ],
      "metadata": {
        "id": "8sCZsJO7rjtF"
      },
      "execution_count": null,
      "outputs": []
    },
    {
      "cell_type": "code",
      "source": [
        "\n",
        "import shap\n",
        "\n",
        "# train an XGBoost model\n",
        "subs=test.iloc[:100,:]\n",
        "\n",
        "# explain the model's predictions using SHAP\n",
        "# (same syntax works for LightGBM, CatBoost, scikit-learn, transformers, Spark, etc.)\n",
        "explainer = shap.KernelExplainer(f, subs)\n",
        "shap_values = explainer(subs)\n",
        "\n",
        "# visualize the first prediction's explanation\n",
        "shap.plots.waterfall(shap_values[0])"
      ],
      "metadata": {
        "execution": {
          "iopub.status.busy": "2023-09-19T19:37:38.012655Z",
          "iopub.execute_input": "2023-09-19T19:37:38.013145Z",
          "iopub.status.idle": "2023-09-19T19:38:15.580044Z",
          "shell.execute_reply.started": "2023-09-19T19:37:38.013110Z",
          "shell.execute_reply": "2023-09-19T19:38:15.577703Z"
        },
        "trusted": true,
        "id": "3MoMTg-PjZWS"
      },
      "execution_count": null,
      "outputs": []
    },
    {
      "cell_type": "code",
      "source": [
        "shap.initjs()\n"
      ],
      "metadata": {
        "execution": {
          "iopub.status.busy": "2023-09-19T19:38:15.580947Z",
          "iopub.status.idle": "2023-09-19T19:38:15.581407Z",
          "shell.execute_reply.started": "2023-09-19T19:38:15.581193Z",
          "shell.execute_reply": "2023-09-19T19:38:15.581214Z"
        },
        "trusted": true,
        "id": "LnKQlGw1jZWT"
      },
      "execution_count": null,
      "outputs": []
    },
    {
      "cell_type": "code",
      "source": [
        "shap.initjs()\n",
        "shap.plots.force(shap_values[1])"
      ],
      "metadata": {
        "execution": {
          "iopub.status.busy": "2023-09-19T19:38:15.583718Z",
          "iopub.status.idle": "2023-09-19T19:38:15.584154Z",
          "shell.execute_reply.started": "2023-09-19T19:38:15.583942Z",
          "shell.execute_reply": "2023-09-19T19:38:15.583961Z"
        },
        "trusted": true,
        "id": "1PRXsWvXjZWT"
      },
      "execution_count": null,
      "outputs": []
    },
    {
      "cell_type": "code",
      "source": [
        "shap.plots.force(shap_values[:500])"
      ],
      "metadata": {
        "execution": {
          "iopub.status.busy": "2023-09-19T19:38:15.585846Z",
          "iopub.status.idle": "2023-09-19T19:38:15.586967Z",
          "shell.execute_reply.started": "2023-09-19T19:38:15.586649Z",
          "shell.execute_reply": "2023-09-19T19:38:15.586694Z"
        },
        "trusted": true,
        "id": "wuI2vDZGjZWU"
      },
      "execution_count": null,
      "outputs": []
    },
    {
      "cell_type": "code",
      "source": [
        "shap_values"
      ],
      "metadata": {
        "execution": {
          "iopub.status.busy": "2023-09-19T19:38:15.588707Z",
          "iopub.status.idle": "2023-09-19T19:38:15.589457Z",
          "shell.execute_reply.started": "2023-09-19T19:38:15.589166Z",
          "shell.execute_reply": "2023-09-19T19:38:15.589194Z"
        },
        "trusted": true,
        "id": "uQnkmgvQjZWU"
      },
      "execution_count": null,
      "outputs": []
    },
    {
      "cell_type": "code",
      "source": [
        "shap.plots.beeswarm(shap_values)"
      ],
      "metadata": {
        "execution": {
          "iopub.status.busy": "2023-09-19T19:38:15.591142Z",
          "iopub.status.idle": "2023-09-19T19:38:15.592110Z",
          "shell.execute_reply.started": "2023-09-19T19:38:15.591879Z",
          "shell.execute_reply": "2023-09-19T19:38:15.591900Z"
        },
        "trusted": true,
        "id": "LgsmCzgujZWU"
      },
      "execution_count": null,
      "outputs": []
    }
  ]
}