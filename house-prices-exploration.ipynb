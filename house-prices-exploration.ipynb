{
 "cells": [
  {
   "cell_type": "markdown",
   "metadata": {},
   "source": [
    "# Exploration and analysis of the house prices database"
   ]
  },
  {
   "cell_type": "markdown",
   "metadata": {},
   "source": [
    "### Imports and function definitions"
   ]
  },
  {
   "cell_type": "markdown",
   "metadata": {},
   "source": [
    "Check if notebook is running locally or on kaggle/colab"
   ]
  },
  {
   "cell_type": "code",
   "execution_count": 1,
   "metadata": {},
   "outputs": [
    {
     "name": "stdout",
     "output_type": "stream",
     "text": [
      "os.environ.get('KAGGLE_URL_BASE') ==  None\n"
     ]
    }
   ],
   "source": [
    "import os\n",
    "try:\n",
    "  import google.colab\n",
    "  IN_COLAB = True\n",
    "except:\n",
    "  IN_COLAB = False\n",
    "\n",
    "print(\"os.environ.get('KAGGLE_URL_BASE') == \", os.environ.get('KAGGLE_URL_BASE'))\n",
    "if 'kaggle' in os.environ.get('KAGGLE_URL_BASE','localhost'):\n",
    "    print(\"We are running on a Kaggle Server\")\n",
    "    IN_KAGGLE = True\n",
    "else:\n",
    "    IN_KAGGLE = False"
   ]
  },
  {
   "cell_type": "code",
   "execution_count": 2,
   "metadata": {},
   "outputs": [],
   "source": [
    "import numpy as np # linear algebra\n",
    "import pandas as pd # data processing, CSV file I/O (e.g. pd.read_csv)\n",
    "%matplotlib inline\n",
    "import matplotlib.pyplot as plt\n",
    "import sys\n",
    "import seaborn as sns\n",
    "import plotly.express as px\n",
    "from sklearn.preprocessing import OneHotEncoder,LabelEncoder"
   ]
  },
  {
   "cell_type": "code",
   "execution_count": 3,
   "metadata": {},
   "outputs": [],
   "source": [
    "def plot_categorical(grouped,label,figsize=(12,8)):\n",
    "    plt.figure(figsize=figsize)\n",
    "    labels=[]\n",
    "    data=[]\n",
    "    for name,group in grouped:\n",
    "        labels.append(name)\n",
    "        data.append(group[label])\n",
    "    plt.boxplot(data,labels=labels)\n",
    "    plt.xlabel(name)\n",
    "    plt.ylabel(label)\n",
    "    plt.show()"
   ]
  },
  {
   "cell_type": "code",
   "execution_count": 4,
   "metadata": {},
   "outputs": [],
   "source": [
    "try:\n",
    "    from scripts_sklearn.utils import feat_eng\n",
    "except:\n",
    "    def feat_eng(df):\n",
    "        ''' performs dataframe cleaning and basic feature engineering'''\n",
    "        #total floors\n",
    "        df['TotFlrSF']=df['1stFlrSF']+df['2ndFlrSF']\n",
    "        #total number of floors (1 or 2)\n",
    "        df['nFlrs']=df['2ndFlrSF'].map(lambda x: int(x>0)+1.)#if df['2ndFlrSF']>0 then df['nFlrs']=2\n",
    "        df['GarageType']=df['GarageType'].fillna('NoGarage')\n",
    "        df['GarageQual']=df['GarageQual'].fillna('NoGarage')\n",
    "        df['GarageCond']=df['GarageCond'].fillna('NoGarage')\n",
    "        df['PoolQC']=df['PoolQC'].fillna('NoPool')\n",
    "        df['FireplaceQu']=df['FireplaceQu'].fillna('NoFp')\n",
    "        #garage cars vs house size\n",
    "        #number of bathrooms vs house size/n bedrooms\n",
    "        return df"
   ]
  },
  {
   "cell_type": "code",
   "execution_count": 5,
   "metadata": {},
   "outputs": [],
   "source": [
    "if(IN_KAGGLE):\n",
    "    train_path='../input/house-prices-advanced-regression-techniques/train.csv'\n",
    "    test_path='../input/house-prices-advanced-regression-techniques/test.csv'\n",
    "else:\n",
    "    train_path='data/train.csv'\n",
    "    test_path='data/test.csv'"
   ]
  },
  {
   "cell_type": "code",
   "execution_count": 6,
   "metadata": {},
   "outputs": [],
   "source": [
    "train=pd.read_csv(train_path)\n",
    "test=pd.read_csv(test_path)"
   ]
  },
  {
   "cell_type": "code",
   "execution_count": 7,
   "metadata": {},
   "outputs": [],
   "source": [
    "train,test=feat_eng(train),feat_eng(test)"
   ]
  },
  {
   "cell_type": "code",
   "execution_count": 8,
   "metadata": {},
   "outputs": [
    {
     "data": {
      "text/html": [
       "<div>\n",
       "<style scoped>\n",
       "    .dataframe tbody tr th:only-of-type {\n",
       "        vertical-align: middle;\n",
       "    }\n",
       "\n",
       "    .dataframe tbody tr th {\n",
       "        vertical-align: top;\n",
       "    }\n",
       "\n",
       "    .dataframe thead th {\n",
       "        text-align: right;\n",
       "    }\n",
       "</style>\n",
       "<table border=\"1\" class=\"dataframe\">\n",
       "  <thead>\n",
       "    <tr style=\"text-align: right;\">\n",
       "      <th></th>\n",
       "      <th>Id</th>\n",
       "      <th>MSSubClass</th>\n",
       "      <th>MSZoning</th>\n",
       "      <th>LotFrontage</th>\n",
       "      <th>LotArea</th>\n",
       "      <th>Street</th>\n",
       "      <th>Alley</th>\n",
       "      <th>LotShape</th>\n",
       "      <th>LandContour</th>\n",
       "      <th>Utilities</th>\n",
       "      <th>...</th>\n",
       "      <th>Fence</th>\n",
       "      <th>MiscFeature</th>\n",
       "      <th>MiscVal</th>\n",
       "      <th>MoSold</th>\n",
       "      <th>YrSold</th>\n",
       "      <th>SaleType</th>\n",
       "      <th>SaleCondition</th>\n",
       "      <th>SalePrice</th>\n",
       "      <th>TotFlrSF</th>\n",
       "      <th>nFlrs</th>\n",
       "    </tr>\n",
       "  </thead>\n",
       "  <tbody>\n",
       "    <tr>\n",
       "      <th>0</th>\n",
       "      <td>1</td>\n",
       "      <td>60</td>\n",
       "      <td>RL</td>\n",
       "      <td>65.0</td>\n",
       "      <td>8450</td>\n",
       "      <td>Pave</td>\n",
       "      <td>NaN</td>\n",
       "      <td>Reg</td>\n",
       "      <td>Lvl</td>\n",
       "      <td>AllPub</td>\n",
       "      <td>...</td>\n",
       "      <td>NaN</td>\n",
       "      <td>NaN</td>\n",
       "      <td>0</td>\n",
       "      <td>2</td>\n",
       "      <td>2008</td>\n",
       "      <td>WD</td>\n",
       "      <td>Normal</td>\n",
       "      <td>208500</td>\n",
       "      <td>1710</td>\n",
       "      <td>2.0</td>\n",
       "    </tr>\n",
       "    <tr>\n",
       "      <th>1</th>\n",
       "      <td>2</td>\n",
       "      <td>20</td>\n",
       "      <td>RL</td>\n",
       "      <td>80.0</td>\n",
       "      <td>9600</td>\n",
       "      <td>Pave</td>\n",
       "      <td>NaN</td>\n",
       "      <td>Reg</td>\n",
       "      <td>Lvl</td>\n",
       "      <td>AllPub</td>\n",
       "      <td>...</td>\n",
       "      <td>NaN</td>\n",
       "      <td>NaN</td>\n",
       "      <td>0</td>\n",
       "      <td>5</td>\n",
       "      <td>2007</td>\n",
       "      <td>WD</td>\n",
       "      <td>Normal</td>\n",
       "      <td>181500</td>\n",
       "      <td>1262</td>\n",
       "      <td>1.0</td>\n",
       "    </tr>\n",
       "    <tr>\n",
       "      <th>2</th>\n",
       "      <td>3</td>\n",
       "      <td>60</td>\n",
       "      <td>RL</td>\n",
       "      <td>68.0</td>\n",
       "      <td>11250</td>\n",
       "      <td>Pave</td>\n",
       "      <td>NaN</td>\n",
       "      <td>IR1</td>\n",
       "      <td>Lvl</td>\n",
       "      <td>AllPub</td>\n",
       "      <td>...</td>\n",
       "      <td>NaN</td>\n",
       "      <td>NaN</td>\n",
       "      <td>0</td>\n",
       "      <td>9</td>\n",
       "      <td>2008</td>\n",
       "      <td>WD</td>\n",
       "      <td>Normal</td>\n",
       "      <td>223500</td>\n",
       "      <td>1786</td>\n",
       "      <td>2.0</td>\n",
       "    </tr>\n",
       "    <tr>\n",
       "      <th>3</th>\n",
       "      <td>4</td>\n",
       "      <td>70</td>\n",
       "      <td>RL</td>\n",
       "      <td>60.0</td>\n",
       "      <td>9550</td>\n",
       "      <td>Pave</td>\n",
       "      <td>NaN</td>\n",
       "      <td>IR1</td>\n",
       "      <td>Lvl</td>\n",
       "      <td>AllPub</td>\n",
       "      <td>...</td>\n",
       "      <td>NaN</td>\n",
       "      <td>NaN</td>\n",
       "      <td>0</td>\n",
       "      <td>2</td>\n",
       "      <td>2006</td>\n",
       "      <td>WD</td>\n",
       "      <td>Abnorml</td>\n",
       "      <td>140000</td>\n",
       "      <td>1717</td>\n",
       "      <td>2.0</td>\n",
       "    </tr>\n",
       "    <tr>\n",
       "      <th>4</th>\n",
       "      <td>5</td>\n",
       "      <td>60</td>\n",
       "      <td>RL</td>\n",
       "      <td>84.0</td>\n",
       "      <td>14260</td>\n",
       "      <td>Pave</td>\n",
       "      <td>NaN</td>\n",
       "      <td>IR1</td>\n",
       "      <td>Lvl</td>\n",
       "      <td>AllPub</td>\n",
       "      <td>...</td>\n",
       "      <td>NaN</td>\n",
       "      <td>NaN</td>\n",
       "      <td>0</td>\n",
       "      <td>12</td>\n",
       "      <td>2008</td>\n",
       "      <td>WD</td>\n",
       "      <td>Normal</td>\n",
       "      <td>250000</td>\n",
       "      <td>2198</td>\n",
       "      <td>2.0</td>\n",
       "    </tr>\n",
       "    <tr>\n",
       "      <th>...</th>\n",
       "      <td>...</td>\n",
       "      <td>...</td>\n",
       "      <td>...</td>\n",
       "      <td>...</td>\n",
       "      <td>...</td>\n",
       "      <td>...</td>\n",
       "      <td>...</td>\n",
       "      <td>...</td>\n",
       "      <td>...</td>\n",
       "      <td>...</td>\n",
       "      <td>...</td>\n",
       "      <td>...</td>\n",
       "      <td>...</td>\n",
       "      <td>...</td>\n",
       "      <td>...</td>\n",
       "      <td>...</td>\n",
       "      <td>...</td>\n",
       "      <td>...</td>\n",
       "      <td>...</td>\n",
       "      <td>...</td>\n",
       "      <td>...</td>\n",
       "    </tr>\n",
       "    <tr>\n",
       "      <th>1455</th>\n",
       "      <td>1456</td>\n",
       "      <td>60</td>\n",
       "      <td>RL</td>\n",
       "      <td>62.0</td>\n",
       "      <td>7917</td>\n",
       "      <td>Pave</td>\n",
       "      <td>NaN</td>\n",
       "      <td>Reg</td>\n",
       "      <td>Lvl</td>\n",
       "      <td>AllPub</td>\n",
       "      <td>...</td>\n",
       "      <td>NaN</td>\n",
       "      <td>NaN</td>\n",
       "      <td>0</td>\n",
       "      <td>8</td>\n",
       "      <td>2007</td>\n",
       "      <td>WD</td>\n",
       "      <td>Normal</td>\n",
       "      <td>175000</td>\n",
       "      <td>1647</td>\n",
       "      <td>2.0</td>\n",
       "    </tr>\n",
       "    <tr>\n",
       "      <th>1456</th>\n",
       "      <td>1457</td>\n",
       "      <td>20</td>\n",
       "      <td>RL</td>\n",
       "      <td>85.0</td>\n",
       "      <td>13175</td>\n",
       "      <td>Pave</td>\n",
       "      <td>NaN</td>\n",
       "      <td>Reg</td>\n",
       "      <td>Lvl</td>\n",
       "      <td>AllPub</td>\n",
       "      <td>...</td>\n",
       "      <td>MnPrv</td>\n",
       "      <td>NaN</td>\n",
       "      <td>0</td>\n",
       "      <td>2</td>\n",
       "      <td>2010</td>\n",
       "      <td>WD</td>\n",
       "      <td>Normal</td>\n",
       "      <td>210000</td>\n",
       "      <td>2073</td>\n",
       "      <td>1.0</td>\n",
       "    </tr>\n",
       "    <tr>\n",
       "      <th>1457</th>\n",
       "      <td>1458</td>\n",
       "      <td>70</td>\n",
       "      <td>RL</td>\n",
       "      <td>66.0</td>\n",
       "      <td>9042</td>\n",
       "      <td>Pave</td>\n",
       "      <td>NaN</td>\n",
       "      <td>Reg</td>\n",
       "      <td>Lvl</td>\n",
       "      <td>AllPub</td>\n",
       "      <td>...</td>\n",
       "      <td>GdPrv</td>\n",
       "      <td>Shed</td>\n",
       "      <td>2500</td>\n",
       "      <td>5</td>\n",
       "      <td>2010</td>\n",
       "      <td>WD</td>\n",
       "      <td>Normal</td>\n",
       "      <td>266500</td>\n",
       "      <td>2340</td>\n",
       "      <td>2.0</td>\n",
       "    </tr>\n",
       "    <tr>\n",
       "      <th>1458</th>\n",
       "      <td>1459</td>\n",
       "      <td>20</td>\n",
       "      <td>RL</td>\n",
       "      <td>68.0</td>\n",
       "      <td>9717</td>\n",
       "      <td>Pave</td>\n",
       "      <td>NaN</td>\n",
       "      <td>Reg</td>\n",
       "      <td>Lvl</td>\n",
       "      <td>AllPub</td>\n",
       "      <td>...</td>\n",
       "      <td>NaN</td>\n",
       "      <td>NaN</td>\n",
       "      <td>0</td>\n",
       "      <td>4</td>\n",
       "      <td>2010</td>\n",
       "      <td>WD</td>\n",
       "      <td>Normal</td>\n",
       "      <td>142125</td>\n",
       "      <td>1078</td>\n",
       "      <td>1.0</td>\n",
       "    </tr>\n",
       "    <tr>\n",
       "      <th>1459</th>\n",
       "      <td>1460</td>\n",
       "      <td>20</td>\n",
       "      <td>RL</td>\n",
       "      <td>75.0</td>\n",
       "      <td>9937</td>\n",
       "      <td>Pave</td>\n",
       "      <td>NaN</td>\n",
       "      <td>Reg</td>\n",
       "      <td>Lvl</td>\n",
       "      <td>AllPub</td>\n",
       "      <td>...</td>\n",
       "      <td>NaN</td>\n",
       "      <td>NaN</td>\n",
       "      <td>0</td>\n",
       "      <td>6</td>\n",
       "      <td>2008</td>\n",
       "      <td>WD</td>\n",
       "      <td>Normal</td>\n",
       "      <td>147500</td>\n",
       "      <td>1256</td>\n",
       "      <td>1.0</td>\n",
       "    </tr>\n",
       "  </tbody>\n",
       "</table>\n",
       "<p>1460 rows × 83 columns</p>\n",
       "</div>"
      ],
      "text/plain": [
       "        Id  MSSubClass MSZoning  LotFrontage  LotArea Street Alley LotShape  \\\n",
       "0        1          60       RL         65.0     8450   Pave   NaN      Reg   \n",
       "1        2          20       RL         80.0     9600   Pave   NaN      Reg   \n",
       "2        3          60       RL         68.0    11250   Pave   NaN      IR1   \n",
       "3        4          70       RL         60.0     9550   Pave   NaN      IR1   \n",
       "4        5          60       RL         84.0    14260   Pave   NaN      IR1   \n",
       "...    ...         ...      ...          ...      ...    ...   ...      ...   \n",
       "1455  1456          60       RL         62.0     7917   Pave   NaN      Reg   \n",
       "1456  1457          20       RL         85.0    13175   Pave   NaN      Reg   \n",
       "1457  1458          70       RL         66.0     9042   Pave   NaN      Reg   \n",
       "1458  1459          20       RL         68.0     9717   Pave   NaN      Reg   \n",
       "1459  1460          20       RL         75.0     9937   Pave   NaN      Reg   \n",
       "\n",
       "     LandContour Utilities  ...  Fence MiscFeature MiscVal MoSold YrSold  \\\n",
       "0            Lvl    AllPub  ...    NaN         NaN       0      2   2008   \n",
       "1            Lvl    AllPub  ...    NaN         NaN       0      5   2007   \n",
       "2            Lvl    AllPub  ...    NaN         NaN       0      9   2008   \n",
       "3            Lvl    AllPub  ...    NaN         NaN       0      2   2006   \n",
       "4            Lvl    AllPub  ...    NaN         NaN       0     12   2008   \n",
       "...          ...       ...  ...    ...         ...     ...    ...    ...   \n",
       "1455         Lvl    AllPub  ...    NaN         NaN       0      8   2007   \n",
       "1456         Lvl    AllPub  ...  MnPrv         NaN       0      2   2010   \n",
       "1457         Lvl    AllPub  ...  GdPrv        Shed    2500      5   2010   \n",
       "1458         Lvl    AllPub  ...    NaN         NaN       0      4   2010   \n",
       "1459         Lvl    AllPub  ...    NaN         NaN       0      6   2008   \n",
       "\n",
       "     SaleType SaleCondition  SalePrice  TotFlrSF  nFlrs  \n",
       "0          WD        Normal     208500      1710    2.0  \n",
       "1          WD        Normal     181500      1262    1.0  \n",
       "2          WD        Normal     223500      1786    2.0  \n",
       "3          WD       Abnorml     140000      1717    2.0  \n",
       "4          WD        Normal     250000      2198    2.0  \n",
       "...       ...           ...        ...       ...    ...  \n",
       "1455       WD        Normal     175000      1647    2.0  \n",
       "1456       WD        Normal     210000      2073    1.0  \n",
       "1457       WD        Normal     266500      2340    2.0  \n",
       "1458       WD        Normal     142125      1078    1.0  \n",
       "1459       WD        Normal     147500      1256    1.0  \n",
       "\n",
       "[1460 rows x 83 columns]"
      ]
     },
     "execution_count": 8,
     "metadata": {},
     "output_type": "execute_result"
    }
   ],
   "source": [
    "train"
   ]
  },
  {
   "cell_type": "code",
   "execution_count": 9,
   "metadata": {},
   "outputs": [
    {
     "name": "stderr",
     "output_type": "stream",
     "text": [
      "C:\\Users\\Alessandro\\AppData\\Local\\Temp\\ipykernel_16336\\2270154996.py:1: FutureWarning: The default value of numeric_only in DataFrame.corr is deprecated. In a future version, it will default to False. Select only valid columns or specify the value of numeric_only to silence this warning.\n",
      "  corrmat = train.corr()\n"
     ]
    },
    {
     "data": {
      "image/png": "[encoded data removed]",
      "text/plain": [
       "<Figure size 1600x1600 with 2 Axes>"
      ]
     },
     "metadata": {},
     "output_type": "display_data"
    }
   ],
   "source": [
    "corrmat = train.corr()\n",
    "f, ax = plt.subplots(figsize=(16, 16))\n",
    "sns.heatmap(corrmat, vmax=.8, square=True,cmap=\"coolwarm\")\n",
    "plt.show()"
   ]
  },
  {
   "cell_type": "code",
   "execution_count": 10,
   "metadata": {},
   "outputs": [
    {
     "data": {
      "image/png": "[encoded data removed]",
      "text/plain": [
       "<Figure size 1500x1500 with 42 Axes>"
      ]
     },
     "metadata": {},
     "output_type": "display_data"
    }
   ],
   "source": [
    "train.hist(bins=30, figsize=(15,15))\n",
    "plt.show()"
   ]
  },
  {
   "cell_type": "code",
   "execution_count": 11,
   "metadata": {},
   "outputs": [],
   "source": [
    "features=test.keys()\n",
    "label='SalePrice'"
   ]
  },
  {
   "cell_type": "code",
   "execution_count": null,
   "metadata": {},
   "outputs": [],
   "source": [
    "def plot_features_vs_label(train,label):\n",
    "    i=0\n",
    "    for f in features:\n",
    "        grouped=train.groupby(f)\n",
    "        if len(grouped.groups)>=20:\n",
    "            print(f,i)\n",
    "            i+=1\n",
    "            fig=plt.figure(figsize=(12,8))\n",
    "            plt.scatter(train[f],train[label])\n",
    "            plt.xlabel(f)\n",
    "            plt.ylabel(label)\n",
    "            plt.show()\n",
    "        else:\n",
    "            print(f,i)\n",
    "            i+=1\n",
    "            plot_categorical(grouped,label=label)\n",
    "    '''    else:\n",
    "            fig=plt.figure(12,8)\n",
    "            plt.scatter(train[f],train[label])'''"
   ]
  },
  {
   "cell_type": "code",
   "execution_count": 13,
   "metadata": {},
   "outputs": [],
   "source": [
    "plot=False\n",
    "if plot:\n",
    "    plot_features_vs_label(train,label)\n"
   ]
  },
  {
   "cell_type": "code",
   "execution_count": 14,
   "metadata": {},
   "outputs": [
    {
     "data": {
      "text/html": [
       "<div>\n",
       "<style scoped>\n",
       "    .dataframe tbody tr th:only-of-type {\n",
       "        vertical-align: middle;\n",
       "    }\n",
       "\n",
       "    .dataframe tbody tr th {\n",
       "        vertical-align: top;\n",
       "    }\n",
       "\n",
       "    .dataframe thead th {\n",
       "        text-align: right;\n",
       "    }\n",
       "</style>\n",
       "<table border=\"1\" class=\"dataframe\">\n",
       "  <thead>\n",
       "    <tr style=\"text-align: right;\">\n",
       "      <th></th>\n",
       "      <th>Id</th>\n",
       "      <th>MSSubClass</th>\n",
       "      <th>MSZoning</th>\n",
       "      <th>LotFrontage</th>\n",
       "      <th>LotArea</th>\n",
       "      <th>Street</th>\n",
       "      <th>Alley</th>\n",
       "      <th>LotShape</th>\n",
       "      <th>LandContour</th>\n",
       "      <th>Utilities</th>\n",
       "      <th>...</th>\n",
       "      <th>Fence</th>\n",
       "      <th>MiscFeature</th>\n",
       "      <th>MiscVal</th>\n",
       "      <th>MoSold</th>\n",
       "      <th>YrSold</th>\n",
       "      <th>SaleType</th>\n",
       "      <th>SaleCondition</th>\n",
       "      <th>SalePrice</th>\n",
       "      <th>TotFlrSF</th>\n",
       "      <th>nFlrs</th>\n",
       "    </tr>\n",
       "  </thead>\n",
       "  <tbody>\n",
       "    <tr>\n",
       "      <th>1298</th>\n",
       "      <td>1299</td>\n",
       "      <td>60</td>\n",
       "      <td>RL</td>\n",
       "      <td>313.0</td>\n",
       "      <td>63887</td>\n",
       "      <td>Pave</td>\n",
       "      <td>NaN</td>\n",
       "      <td>IR3</td>\n",
       "      <td>Bnk</td>\n",
       "      <td>AllPub</td>\n",
       "      <td>...</td>\n",
       "      <td>NaN</td>\n",
       "      <td>NaN</td>\n",
       "      <td>0</td>\n",
       "      <td>1</td>\n",
       "      <td>2008</td>\n",
       "      <td>New</td>\n",
       "      <td>Partial</td>\n",
       "      <td>160000</td>\n",
       "      <td>5642</td>\n",
       "      <td>2.0</td>\n",
       "    </tr>\n",
       "    <tr>\n",
       "      <th>523</th>\n",
       "      <td>524</td>\n",
       "      <td>60</td>\n",
       "      <td>RL</td>\n",
       "      <td>130.0</td>\n",
       "      <td>40094</td>\n",
       "      <td>Pave</td>\n",
       "      <td>NaN</td>\n",
       "      <td>IR1</td>\n",
       "      <td>Bnk</td>\n",
       "      <td>AllPub</td>\n",
       "      <td>...</td>\n",
       "      <td>NaN</td>\n",
       "      <td>NaN</td>\n",
       "      <td>0</td>\n",
       "      <td>10</td>\n",
       "      <td>2007</td>\n",
       "      <td>New</td>\n",
       "      <td>Partial</td>\n",
       "      <td>184750</td>\n",
       "      <td>4676</td>\n",
       "      <td>2.0</td>\n",
       "    </tr>\n",
       "  </tbody>\n",
       "</table>\n",
       "<p>2 rows × 83 columns</p>\n",
       "</div>"
      ],
      "text/plain": [
       "        Id  MSSubClass MSZoning  LotFrontage  LotArea Street Alley LotShape  \\\n",
       "1298  1299          60       RL        313.0    63887   Pave   NaN      IR3   \n",
       "523    524          60       RL        130.0    40094   Pave   NaN      IR1   \n",
       "\n",
       "     LandContour Utilities  ... Fence MiscFeature MiscVal MoSold YrSold  \\\n",
       "1298         Bnk    AllPub  ...   NaN         NaN       0      1   2008   \n",
       "523          Bnk    AllPub  ...   NaN         NaN       0     10   2007   \n",
       "\n",
       "     SaleType SaleCondition  SalePrice  TotFlrSF  nFlrs  \n",
       "1298      New       Partial     160000      5642    2.0  \n",
       "523       New       Partial     184750      4676    2.0  \n",
       "\n",
       "[2 rows x 83 columns]"
      ]
     },
     "execution_count": 14,
     "metadata": {},
     "output_type": "execute_result"
    }
   ],
   "source": [
    "train.sort_values(by='GrLivArea',ascending=False)[:2]"
   ]
  },
  {
   "cell_type": "code",
   "execution_count": 15,
   "metadata": {},
   "outputs": [
    {
     "data": {
      "application/vnd.plotly.v1+json": {
       "config": {
        "plotlyServerURL": "https://plot.ly"
       },
       "data": [
        {
         "customdata": [
          [
           1
          ],
          [
           3
          ],
          [
           14
          ],
          [
           23
          ],
          [
           33
          ],
          [
           37
          ],
          [
           44
          ],
          [
           58
          ],
          [
           60
          ],
          [
           65
          ],
          [
           68
          ],
          [
           90
          ],
          [
           95
          ],
          [
           97
          ],
          [
           104
          ],
          [
           113
          ],
          [
           120
          ],
          [
           139
          ],
          [
           140
          ],
          [
           142
          ],
          [
           144
          ],
          [
           151
          ],
          [
           193
          ],
          [
           195
          ],
          [
           204
          ],
          [
           214
          ],
          [
           215
          ],
          [
           217
          ],
          [
           221
          ],
          [
           234
          ],
          [
           237
          ],
          [
           249
          ],
          [
           258
          ],
          [
           259
          ],
          [
           262
          ],
          [
           291
          ],
          [
           302
          ],
          [
           303
          ],
          [
           304
          ],
          [
           306
          ],
          [
           338
          ],
          [
           356
          ],
          [
           375
          ],
          [
           377
          ],
          [
           383
          ],
          [
           389
          ],
          [
           397
          ],
          [
           402
          ],
          [
           429
          ],
          [
           436
          ],
          [
           445
          ],
          [
           465
          ],
          [
           477
          ],
          [
           479
          ],
          [
           519
          ],
          [
           537
          ],
          [
           540
          ],
          [
           591
          ],
          [
           594
          ],
          [
           595
          ],
          [
           605
          ],
          [
           607
          ],
          [
           611
          ],
          [
           613
          ],
          [
           653
          ],
          [
           671
          ],
          [
           684
          ],
          [
           691
          ],
          [
           705
          ],
          [
           720
          ],
          [
           722
          ],
          [
           728
          ],
          [
           733
          ],
          [
           740
          ],
          [
           753
          ],
          [
           757
          ],
          [
           769
          ],
          [
           777
          ],
          [
           783
          ],
          [
           803
          ],
          [
           812
          ],
          [
           816
          ],
          [
           821
          ],
          [
           833
          ],
          [
           839
          ],
          [
           848
          ],
          [
           851
          ],
          [
           857
          ],
          [
           872
          ],
          [
           880
          ],
          [
           912
          ],
          [
           929
          ],
          [
           934
          ],
          [
           939
          ],
          [
           949
          ],
          [
           953
          ],
          [
           959
          ],
          [
           964
          ],
          [
           984
          ],
          [
           994
          ],
          [
           1000
          ],
          [
           1006
          ],
          [
           1017
          ],
          [
           1022
          ],
          [
           1026
          ],
          [
           1034
          ],
          [
           1038
          ],
          [
           1048
          ],
          [
           1052
          ],
          [
           1055
          ],
          [
           1075
          ],
          [
           1079
          ],
          [
           1080
          ],
          [
           1083
          ],
          [
           1096
          ],
          [
           1122
          ],
          [
           1143
          ],
          [
           1167
          ],
          [
           1189
          ],
          [
           1199
          ],
          [
           1202
          ],
          [
           1204
          ],
          [
           1208
          ],
          [
           1238
          ],
          [
           1241
          ],
          [
           1279
          ],
          [
           1281
          ],
          [
           1283
          ],
          [
           1308
          ],
          [
           1312
          ],
          [
           1317
          ],
          [
           1319
          ],
          [
           1332
          ],
          [
           1339
          ],
          [
           1340
          ],
          [
           1343
          ],
          [
           1345
          ],
          [
           1355
          ],
          [
           1367
          ],
          [
           1369
          ],
          [
           1370
          ],
          [
           1373
          ],
          [
           1391
          ],
          [
           1403
          ],
          [
           1407
          ],
          [
           1411
          ],
          [
           1423
          ],
          [
           1442
          ],
          [
           1445
          ],
          [
           1448
          ]
         ],
         "hovertemplate": "Neighborhood=CollgCr<br>GrLivArea=%{x}<br>SalePrice=%{y}<br>Id=%{customdata[0]}<extra></extra>",
         "legendgroup": "CollgCr",
         "marker": {
          "color": "#636efa",
          "symbol": "circle"
         },
         "mode": "markers",
         "name": "CollgCr",
         "showlegend": true,
         "type": "scattergl",
         "x": [
          1710,
          1786,
          1494,
          1795,
          1234,
          1097,
          938,
          1720,
          780,
          2034,
          1479,
          990,
          1786,
          1588,
          1226,
          2696,
          1456,
          1852,
          1764,
          1734,
          1501,
          969,
          1431,
          864,
          848,
          990,
          1392,
          1436,
          1498,
          894,
          1414,
          1668,
          1604,
          1792,
          2574,
          1919,
          2452,
          1541,
          894,
          2000,
          1536,
          1200,
          1928,
          914,
          1797,
          1479,
          894,
          1310,
          1208,
          1661,
          1908,
          1040,
          1493,
          1718,
          1796,
          1724,
          1601,
          1582,
          848,
          924,
          1494,
          1040,
          2153,
          1872,
          1716,
          1476,
          1668,
          848,
          1484,
          971,
          848,
          1232,
          2031,
          1728,
          1494,
          1768,
          1836,
          1614,
          1430,
          1456,
          848,
          1661,
          1640,
          1829,
          1099,
          864,
          848,
          1026,
          1682,
          864,
          1268,
          1788,
          1500,
          1962,
          1776,
          768,
          1337,
          1800,
          2290,
          1500,
          1208,
          985,
          1504,
          1220,
          882,
          1654,
          2263,
          990,
          1316,
          1989,
          1240,
          848,
          990,
          1459,
          1314,
          1552,
          2828,
          1694,
          1660,
          1212,
          1779,
          1630,
          1700,
          1948,
          1768,
          2031,
          1573,
          1040,
          990,
          1274,
          1630,
          1787,
          954,
          1861,
          864,
          2169,
          1456,
          1865,
          1790,
          848,
          1668,
          2097,
          1525,
          1294,
          768,
          1840,
          848,
          848,
          1422,
          2090
         ],
         "xaxis": "x",
         "y": [
          208500,
          223500,
          279500,
          230000,
          179900,
          145000,
          130250,
          196500,
          124900,
          219500,
          226000,
          123600,
          204750,
          214000,
          198900,
          383970,
          163990,
          230000,
          231500,
          260000,
          204000,
          122000,
          192000,
          127000,
          149000,
          156000,
          161750,
          210000,
          204900,
          128200,
          185500,
          180000,
          220000,
          231500,
          276000,
          233230,
          267000,
          205000,
          149900,
          305900,
          214000,
          177500,
          219500,
          148000,
          213500,
          191000,
          123000,
          164990,
          195400,
          212000,
          210000,
          124000,
          208900,
          297000,
          211000,
          188000,
          272000,
          185900,
          140000,
          110000,
          221000,
          152000,
          313000,
          261500,
          191000,
          173500,
          285000,
          141000,
          213000,
          128500,
          143000,
          194500,
          222500,
          190000,
          217000,
          212000,
          216837,
          221500,
          187100,
          189000,
          144500,
          224900,
          183000,
          237000,
          144000,
          133500,
          131500,
          147000,
          200500,
          136500,
          143500,
          236500,
          190000,
          239799,
          192500,
          133900,
          185000,
          239000,
          255900,
          173900,
          206000,
          149900,
          203000,
          194000,
          112500,
          230000,
          287000,
          145000,
          200141,
          255000,
          194000,
          155900,
          126000,
          192000,
          176432,
          212900,
          424870,
          245350,
          195000,
          178000,
          197900,
          213000,
          200000,
          195000,
          224900,
          237000,
          227000,
          150500,
          138000,
          203000,
          295493,
          275000,
          132500,
          200000,
          128500,
          228500,
          155835,
          235000,
          193000,
          144000,
          232000,
          274300,
          235000,
          193879,
          133000,
          230000,
          136500,
          149300,
          179600,
          240000
         ],
         "yaxis": "y"
        },
        {
         "customdata": [
          [
           2
          ],
          [
           54
          ],
          [
           161
          ],
          [
           327
          ],
          [
           401
          ],
          [
           673
          ],
          [
           765
          ],
          [
           850
          ],
          [
           1156
          ],
          [
           1165
          ],
          [
           1254
          ]
         ],
         "hovertemplate": "Neighborhood=Veenker<br>GrLivArea=%{x}<br>SalePrice=%{y}<br>Id=%{customdata[0]}<extra></extra>",
         "legendgroup": "Veenker",
         "marker": {
          "color": "#EF553B",
          "symbol": "circle"
         },
         "mode": "markers",
         "name": "Veenker",
         "showlegend": true,
         "type": "scattergl",
         "x": [
          1262,
          1842,
          1232,
          1719,
          1288,
          1208,
          1494,
          1855,
          1437,
          1432,
          2167
         ],
         "xaxis": "x",
         "y": [
          181500,
          385000,
          162500,
          324000,
          245500,
          165000,
          270000,
          187000,
          218000,
          194000,
          294000
         ],
         "yaxis": "y"
        },
        {
         "customdata": [
          [
           4
          ],
          [
           93
          ],
          [
           114
          ],
          [
           115
          ],
          [
           182
          ],
          [
           191
          ],
          [
           219
          ],
          [
           252
          ],
          [
           300
          ],
          [
           301
          ],
          [
           408
          ],
          [
           418
          ],
          [
           439
          ],
          [
           464
          ],
          [
           504
          ],
          [
           515
          ],
          [
           520
          ],
          [
           530
          ],
          [
           599
          ],
          [
           609
          ],
          [
           658
          ],
          [
           670
          ],
          [
           674
          ],
          [
           727
          ],
          [
           853
          ],
          [
           861
          ],
          [
           908
          ],
          [
           914
          ],
          [
           956
          ],
          [
           967
          ],
          [
           1013
          ],
          [
           1035
          ],
          [
           1060
          ],
          [
           1076
          ],
          [
           1148
          ],
          [
           1153
          ],
          [
           1162
          ],
          [
           1175
          ],
          [
           1179
          ],
          [
           1182
          ],
          [
           1236
          ],
          [
           1245
          ],
          [
           1269
          ],
          [
           1275
          ],
          [
           1302
          ],
          [
           1311
          ],
          [
           1344
          ],
          [
           1406
          ],
          [
           1420
          ],
          [
           1441
          ],
          [
           1458
          ]
         ],
         "hovertemplate": "Neighborhood=Crawfor<br>GrLivArea=%{x}<br>SalePrice=%{y}<br>Id=%{customdata[0]}<extra></extra>",
         "legendgroup": "Crawfor",
         "marker": {
          "color": "#00cc96",
          "symbol": "circle"
         },
         "mode": "markers",
         "name": "Crawfor",
         "showlegend": true,
         "type": "scattergl",
         "x": [
          1717,
          964,
          2259,
          2320,
          1802,
          2727,
          1954,
          1625,
          1152,
          1336,
          1680,
          2624,
          694,
          1660,
          1801,
          789,
          2080,
          2515,
          1647,
          3194,
          1502,
          1180,
          1839,
          1680,
          1646,
          1426,
          2057,
          2002,
          1958,
          1308,
          1502,
          954,
          1991,
          1740,
          1564,
          1811,
          1640,
          2345,
          1343,
          1652,
          1784,
          1517,
          3447,
          1250,
          1494,
          1902,
          1913,
          1646,
          1844,
          2555,
          2340
         ],
         "xaxis": "x",
         "y": [
          140000,
          163500,
          217000,
          259500,
          200100,
          315000,
          311500,
          235000,
          158500,
          157000,
          177000,
          239000,
          90350,
          188700,
          289000,
          96500,
          234000,
          200624,
          217500,
          359100,
          149000,
          137500,
          257500,
          222000,
          164000,
          189950,
          250000,
          145000,
          145000,
          160000,
          165000,
          119750,
          220000,
          219500,
          174500,
          230000,
          224000,
          239000,
          154900,
          392500,
          138887,
          230000,
          381000,
          139000,
          177500,
          335000,
          177000,
          275000,
          223000,
          191000,
          266500
         ],
         "yaxis": "y"
        },
        {
         "customdata": [
          [
           5
          ],
          [
           86
          ],
          [
           227
          ],
          [
           232
          ],
          [
           273
          ],
          [
           319
          ],
          [
           360
          ],
          [
           404
          ],
          [
           424
          ],
          [
           497
          ],
          [
           518
          ],
          [
           525
          ],
          [
           542
          ],
          [
           565
          ],
          [
           655
          ],
          [
           662
          ],
          [
           685
          ],
          [
           692
          ],
          [
           719
          ],
          [
           749
          ],
          [
           760
          ],
          [
           764
          ],
          [
           793
          ],
          [
           982
          ],
          [
           991
          ],
          [
           1033
          ],
          [
           1058
          ],
          [
           1106
          ],
          [
           1170
          ],
          [
           1176
          ],
          [
           1183
          ],
          [
           1188
          ],
          [
           1257
          ],
          [
           1303
          ],
          [
           1313
          ],
          [
           1314
          ],
          [
           1323
          ],
          [
           1354
          ],
          [
           1374
          ],
          [
           1418
          ],
          [
           1427
          ]
         ],
         "hovertemplate": "Neighborhood=NoRidge<br>GrLivArea=%{x}<br>SalePrice=%{y}<br>Id=%{customdata[0]}<extra></extra>",
         "legendgroup": "NoRidge",
         "marker": {
          "color": "#ab63fa",
          "symbol": "circle"
         },
         "mode": "markers",
         "name": "NoRidge",
         "showlegend": true,
         "type": "scattergl",
         "x": [
          2198,
          2417,
          2520,
          2794,
          2270,
          2646,
          1924,
          2263,
          2630,
          3228,
          2344,
          2398,
          2285,
          2295,
          2113,
          2448,
          1839,
          4316,
          2418,
          1720,
          2531,
          2365,
          2013,
          2612,
          2392,
          2520,
          1850,
          2622,
          3627,
          2872,
          4476,
          1624,
          1987,
          2526,
          2810,
          2599,
          1923,
          3238,
          2633,
          2450,
          2127
         ],
         "xaxis": "x",
         "y": [
          250000,
          260000,
          290000,
          403000,
          290000,
          260000,
          280000,
          258000,
          315000,
          430000,
          265000,
          315750,
          248000,
          268000,
          350000,
          402000,
          221000,
          755000,
          341000,
          260400,
          290000,
          337000,
          269790,
          336000,
          348000,
          310000,
          248000,
          325000,
          625000,
          285000,
          745000,
          262000,
          301500,
          290000,
          302000,
          333168,
          190000,
          410000,
          466500,
          340000,
          271000
         ],
         "yaxis": "y"
        },
        {
         "customdata": [
          [
           6
          ],
          [
           47
          ],
          [
           72
          ],
          [
           82
          ],
          [
           138
          ],
          [
           187
          ],
          [
           202
          ],
          [
           275
          ],
          [
           277
          ],
          [
           296
          ],
          [
           361
          ],
          [
           392
          ],
          [
           421
          ],
          [
           423
          ],
          [
           455
          ],
          [
           484
          ],
          [
           514
          ],
          [
           548
          ],
          [
           562
          ],
          [
           593
          ],
          [
           614
          ],
          [
           768
          ],
          [
           776
          ],
          [
           780
          ],
          [
           784
          ],
          [
           792
          ],
          [
           818
          ],
          [
           877
          ],
          [
           909
          ],
          [
           941
          ],
          [
           944
          ],
          [
           954
          ],
          [
           985
          ],
          [
           1009
          ],
          [
           1049
          ],
          [
           1132
          ],
          [
           1139
          ],
          [
           1171
          ],
          [
           1177
          ],
          [
           1191
          ],
          [
           1194
          ],
          [
           1248
          ],
          [
           1253
          ],
          [
           1284
          ],
          [
           1328
          ],
          [
           1408
          ],
          [
           1435
          ],
          [
           1447
          ],
          [
           1454
          ]
         ],
         "hovertemplate": "Neighborhood=Mitchel<br>GrLivArea=%{x}<br>SalePrice=%{y}<br>Id=%{customdata[0]}<extra></extra>",
         "legendgroup": "Mitchel",
         "marker": {
          "color": "#FFA15A",
          "symbol": "circle"
         },
         "mode": "markers",
         "name": "Mitchel",
         "showlegend": true,
         "type": "scattergl",
         "x": [
          1362,
          2149,
          845,
          1337,
          1959,
          1217,
          1279,
          816,
          1560,
          1003,
          912,
          1961,
          1344,
          988,
          1728,
          1216,
          1080,
          768,
          1389,
          816,
          1120,
          1750,
          1204,
          1004,
          1110,
          1062,
          1689,
          1040,
          902,
          1728,
          1632,
          1968,
          1734,
          1710,
          1771,
          974,
          1567,
          1118,
          923,
          1622,
          1224,
          1034,
          874,
          1824,
          816,
          833,
          1126,
          1188,
          1140
         ],
         "xaxis": "x",
         "y": [
          143000,
          239686,
          129500,
          153500,
          171000,
          173000,
          171500,
          124500,
          201000,
          142500,
          156000,
          215000,
          206300,
          113000,
          188000,
          164000,
          134000,
          129500,
          170000,
          138000,
          147000,
          160000,
          162000,
          135000,
          165500,
          146800,
          271000,
          132250,
          131000,
          150900,
          143000,
          172000,
          126000,
          240000,
          115000,
          93500,
          196000,
          171000,
          119500,
          168000,
          165000,
          169900,
          130000,
          139000,
          130500,
          112000,
          160000,
          157900,
          84500
         ],
         "yaxis": "y"
        },
        {
         "customdata": [
          [
           7
          ],
          [
           48
          ],
          [
           57
          ],
          [
           83
          ],
          [
           88
          ],
          [
           106
          ],
          [
           116
          ],
          [
           159
          ],
          [
           181
          ],
          [
           197
          ],
          [
           213
          ],
          [
           241
          ],
          [
           257
          ],
          [
           271
          ],
          [
           282
          ],
          [
           284
          ],
          [
           286
          ],
          [
           298
          ],
          [
           318
          ],
          [
           378
          ],
          [
           382
          ],
          [
           400
          ],
          [
           410
          ],
          [
           413
          ],
          [
           454
          ],
          [
           461
          ],
          [
           502
          ],
          [
           508
          ],
          [
           526
          ],
          [
           550
          ],
          [
           579
          ],
          [
           604
          ],
          [
           624
          ],
          [
           642
          ],
          [
           645
          ],
          [
           651
          ],
          [
           665
          ],
          [
           687
          ],
          [
           688
          ],
          [
           700
          ],
          [
           756
          ],
          [
           759
          ],
          [
           763
          ],
          [
           766
          ],
          [
           794
          ],
          [
           806
          ],
          [
           825
          ],
          [
           830
          ],
          [
           832
          ],
          [
           865
          ],
          [
           876
          ],
          [
           886
          ],
          [
           907
          ],
          [
           915
          ],
          [
           933
          ],
          [
           938
          ],
          [
           960
          ],
          [
           974
          ],
          [
           976
          ],
          [
           978
          ],
          [
           990
          ],
          [
           1003
          ],
          [
           1088
          ],
          [
           1090
          ],
          [
           1092
          ],
          [
           1159
          ],
          [
           1173
          ],
          [
           1192
          ],
          [
           1210
          ],
          [
           1218
          ],
          [
           1227
          ],
          [
           1242
          ],
          [
           1247
          ],
          [
           1266
          ],
          [
           1304
          ],
          [
           1318
          ],
          [
           1325
          ],
          [
           1331
          ],
          [
           1359
          ],
          [
           1365
          ],
          [
           1366
          ],
          [
           1375
          ],
          [
           1404
          ],
          [
           1443
          ],
          [
           1452
          ],
          [
           1455
          ]
         ],
         "hovertemplate": "Neighborhood=Somerst<br>GrLivArea=%{x}<br>SalePrice=%{y}<br>Id=%{customdata[0]}<extra></extra>",
         "legendgroup": "Somerst",
         "marker": {
          "color": "#19d3f3",
          "symbol": "circle"
         },
         "mode": "markers",
         "name": "Somerst",
         "showlegend": true,
         "type": "scattergl",
         "x": [
          1694,
          1656,
          1739,
          1563,
          1224,
          1992,
          1458,
          1947,
          1525,
          1726,
          1852,
          1566,
          1728,
          1939,
          1262,
          1468,
          1250,
          1950,
          1959,
          2466,
          1301,
          1550,
          2078,
          1478,
          1590,
          1935,
          1768,
          1218,
          1266,
          2094,
          1392,
          1200,
          1512,
          1929,
          1766,
          1665,
          2097,
          1761,
          1102,
          1391,
          1471,
          1501,
          1547,
          1506,
          1496,
          1428,
          1489,
          1223,
          1200,
          1372,
          2610,
          1709,
          1636,
          1224,
          1905,
          1971,
          1416,
          1428,
          1382,
          1241,
          1576,
          1574,
          1953,
          1247,
          1252,
          1580,
          1250,
          1441,
          1660,
          1314,
          1933,
          1689,
          1553,
          1452,
          1616,
          1352,
          1795,
          1588,
          1573,
          1200,
          1674,
          1958,
          1464,
          2007,
          1578,
          1221
         ],
         "xaxis": "x",
         "y": [
          307000,
          249700,
          172500,
          245000,
          164500,
          250000,
          176000,
          254900,
          177000,
          311872,
          252678,
          262500,
          207500,
          266000,
          185000,
          244600,
          164700,
          239000,
          270000,
          340000,
          187750,
          241000,
          339750,
          222000,
          210000,
          263435,
          226700,
          208300,
          176000,
          263000,
          146000,
          151000,
          168500,
          226000,
          370878,
          205950,
          423000,
          227875,
          148800,
          196000,
          172500,
          179400,
          215200,
          264132,
          225000,
          227680,
          232600,
          147400,
          151000,
          250580,
          303477,
          328900,
          255000,
          173733,
          320000,
          253000,
          155000,
          182000,
          165000,
          199900,
          197000,
          232000,
          252000,
          197000,
          160000,
          235128,
          171900,
          174000,
          290000,
          229456,
          214000,
          248328,
          186500,
          183900,
          232000,
          208900,
          147000,
          227000,
          177500,
          144152,
          216000,
          250000,
          282922,
          310000,
          287090,
          185000
         ],
         "yaxis": "y"
        },
        {
         "customdata": [
          [
           8
          ],
          [
           101
          ],
          [
           110
          ],
          [
           125
          ],
          [
           136
          ],
          [
           153
          ],
          [
           223
          ],
          [
           246
          ],
          [
           266
          ],
          [
           294
          ],
          [
           299
          ],
          [
           317
          ],
          [
           320
          ],
          [
           339
          ],
          [
           365
          ],
          [
           422
          ],
          [
           456
          ],
          [
           472
          ],
          [
           488
          ],
          [
           517
          ],
          [
           543
          ],
          [
           546
          ],
          [
           612
          ],
          [
           622
          ],
          [
           625
          ],
          [
           633
          ],
          [
           644
          ],
          [
           661
          ],
          [
           702
          ],
          [
           716
          ],
          [
           718
          ],
          [
           746
          ],
          [
           767
          ],
          [
           786
          ],
          [
           811
          ],
          [
           859
          ],
          [
           860
          ],
          [
           925
          ],
          [
           926
          ],
          [
           928
          ],
          [
           950
          ],
          [
           962
          ],
          [
           989
          ],
          [
           998
          ],
          [
           1004
          ],
          [
           1016
          ],
          [
           1042
          ],
          [
           1045
          ],
          [
           1056
          ],
          [
           1072
          ],
          [
           1081
          ],
          [
           1100
          ],
          [
           1112
          ],
          [
           1142
          ],
          [
           1160
          ],
          [
           1205
          ],
          [
           1243
          ],
          [
           1246
          ],
          [
           1272
          ],
          [
           1277
          ],
          [
           1278
          ],
          [
           1287
          ],
          [
           1294
          ],
          [
           1336
          ],
          [
           1337
          ],
          [
           1347
          ],
          [
           1356
          ],
          [
           1387
          ],
          [
           1410
          ],
          [
           1421
          ],
          [
           1430
          ],
          [
           1440
          ],
          [
           1457
          ]
         ],
         "hovertemplate": "Neighborhood=NWAmes<br>GrLivArea=%{x}<br>SalePrice=%{y}<br>Id=%{customdata[0]}<extra></extra>",
         "legendgroup": "NWAmes",
         "marker": {
          "color": "#FF6692",
          "symbol": "circle"
         },
         "mode": "markers",
         "name": "NWAmes",
         "showlegend": true,
         "type": "scattergl",
         "x": [
          2090,
          1610,
          1844,
          1586,
          1682,
          1993,
          1552,
          1872,
          1422,
          2263,
          1743,
          2353,
          1472,
          1621,
          1574,
          1602,
          1242,
          1969,
          1484,
          2119,
          1680,
          2183,
          1032,
          2614,
          1790,
          1411,
          1620,
          1935,
          1164,
          1350,
          1178,
          2715,
          1714,
          1342,
          1309,
          1370,
          2654,
          1686,
          1126,
          1978,
          1381,
          2872,
          2030,
          1442,
          1680,
          1665,
          1632,
          2524,
          1523,
          1556,
          1258,
          1601,
          1964,
          1868,
          1876,
          1074,
          1173,
          1868,
          1489,
          1395,
          1724,
          1328,
          1664,
          1334,
          1656,
          2156,
          1920,
          2784,
          2093,
          1416,
          1440,
          1725,
          2073
         ],
         "xaxis": "x",
         "y": [
          200000,
          205000,
          190000,
          181000,
          174000,
          190000,
          179900,
          241500,
          175500,
          235000,
          175000,
          260000,
          187500,
          202500,
          190000,
          215000,
          175500,
          190000,
          175000,
          158000,
          213250,
          229000,
          148000,
          240000,
          165150,
          82500,
          152000,
          197900,
          140000,
          165000,
          157000,
          299800,
          196500,
          161500,
          181000,
          152000,
          250000,
          207500,
          175000,
          176000,
          197500,
          272000,
          195000,
          185000,
          136905,
          227000,
          173000,
          278000,
          180000,
          154000,
          145000,
          157000,
          205000,
          197500,
          185000,
          153500,
          170000,
          178000,
          185750,
          162000,
          197900,
          143000,
          162900,
          167900,
          135000,
          262500,
          170000,
          250000,
          215000,
          179900,
          182900,
          197000,
          210000
         ],
         "yaxis": "y"
        },
        {
         "customdata": [
          [
           9
          ],
          [
           49
          ],
          [
           64
          ],
          [
           69
          ],
          [
           75
          ],
          [
           80
          ],
          [
           94
          ],
          [
           107
          ],
          [
           108
          ],
          [
           128
          ],
          [
           155
          ],
          [
           164
          ],
          [
           165
          ],
          [
           171
          ],
          [
           180
          ],
          [
           184
          ],
          [
           186
          ],
          [
           188
          ],
          [
           199
          ],
          [
           203
          ],
          [
           205
          ],
          [
           218
          ],
          [
           242
          ],
          [
           243
          ],
          [
           247
          ],
          [
           260
          ],
          [
           264
          ],
          [
           265
          ],
          [
           305
          ],
          [
           313
          ],
          [
           315
          ],
          [
           324
          ],
          [
           354
          ],
          [
           395
          ],
          [
           414
          ],
          [
           426
          ],
          [
           432
          ],
          [
           437
          ],
          [
           450
          ],
          [
           451
          ],
          [
           457
          ],
          [
           459
          ],
          [
           480
          ],
          [
           483
          ],
          [
           489
          ],
          [
           495
          ],
          [
           506
          ],
          [
           509
          ],
          [
           521
          ],
          [
           549
          ],
          [
           552
          ],
          [
           580
          ],
          [
           584
          ],
          [
           597
          ],
          [
           631
          ],
          [
           635
          ],
          [
           638
          ],
          [
           677
          ],
          [
           678
          ],
          [
           694
          ],
          [
           704
          ],
          [
           717
          ],
          [
           736
          ],
          [
           741
          ],
          [
           748
          ],
          [
           751
          ],
          [
           785
          ],
          [
           787
          ],
          [
           789
          ],
          [
           810
          ],
          [
           822
          ],
          [
           837
          ],
          [
           842
          ],
          [
           845
          ],
          [
           875
          ],
          [
           946
          ],
          [
           969
          ],
          [
           987
          ],
          [
           992
          ],
          [
           1002
          ],
          [
           1014
          ],
          [
           1023
          ],
          [
           1063
          ],
          [
           1064
          ],
          [
           1077
          ],
          [
           1115
          ],
          [
           1130
          ],
          [
           1133
          ],
          [
           1149
          ],
          [
           1150
          ],
          [
           1178
          ],
          [
           1184
          ],
          [
           1187
          ],
          [
           1193
          ],
          [
           1198
          ],
          [
           1249
          ],
          [
           1267
          ],
          [
           1293
          ],
          [
           1309
          ],
          [
           1329
          ],
          [
           1338
          ],
          [
           1346
          ],
          [
           1350
          ],
          [
           1371
          ],
          [
           1383
          ],
          [
           1388
          ],
          [
           1394
          ],
          [
           1405
          ],
          [
           1409
          ],
          [
           1417
          ],
          [
           1429
          ],
          [
           1433
          ],
          [
           1439
          ]
         ],
         "hovertemplate": "Neighborhood=OldTown<br>GrLivArea=%{x}<br>SalePrice=%{y}<br>Id=%{customdata[0]}<extra></extra>",
         "legendgroup": "OldTown",
         "marker": {
          "color": "#B6E880",
          "symbol": "circle"
         },
         "mode": "markers",
         "name": "OldTown",
         "showlegend": true,
         "type": "scattergl",
         "x": [
          1774,
          1452,
          1710,
          747,
          1605,
          1230,
          2291,
          1047,
          789,
          840,
          1200,
          882,
          1616,
          1382,
          968,
          2082,
          3608,
          1656,
          2229,
          1310,
          1284,
          1328,
          866,
          1440,
          1928,
          882,
          1316,
          764,
          3493,
          1118,
          1641,
          1163,
          720,
          1034,
          1028,
          1389,
          1198,
          1118,
          1183,
          813,
          1344,
          1666,
          1131,
          1826,
          2414,
          886,
          1960,
          1378,
          1294,
          825,
          928,
          1795,
          2775,
          1368,
          1750,
          1056,
          1387,
          1774,
          792,
          1073,
          1812,
          2554,
          1768,
          1432,
          2640,
          1140,
          1484,
          1652,
          901,
          2138,
          936,
          1559,
          1539,
          1416,
          1131,
          1869,
          968,
          1635,
          1742,
          691,
          1022,
          1248,
          2337,
          1103,
          1466,
          833,
          936,
          2210,
          1111,
          1482,
          1224,
          1130,
          1699,
          1472,
          1690,
          2058,
          1889,
          2372,
          1122,
          2792,
          693,
          960,
          2358,
          1374,
          1762,
          2526,
          1912,
          1214,
          1363,
          2290,
          804,
          968,
          1236
         ],
         "xaxis": "x",
         "y": [
          129900,
          113000,
          140000,
          80000,
          107400,
          110000,
          133900,
          100000,
          115000,
          87000,
          125000,
          103200,
          152000,
          128500,
          100000,
          200000,
          475000,
          135000,
          104000,
          112000,
          110000,
          107000,
          110500,
          79000,
          137000,
          97000,
          130000,
          73000,
          295000,
          119900,
          178000,
          126175,
          105900,
          109000,
          115000,
          135000,
          79900,
          116000,
          120000,
          110000,
          98000,
          161000,
          89471,
          155000,
          160000,
          91300,
          124500,
          161000,
          106250,
          125000,
          112500,
          131500,
          325000,
          114504,
          124000,
          144000,
          93000,
          87000,
          109500,
          108480,
          140000,
          159500,
          163000,
          132000,
          265979,
          96500,
          128000,
          139000,
          107900,
          106000,
          93000,
          153500,
          157500,
          153900,
          66500,
          124900,
          37900,
          117000,
          168000,
          86000,
          85000,
          87000,
          90000,
          110500,
          170000,
          117000,
          140000,
          117500,
          116900,
          143000,
          115000,
          120000,
          95000,
          125000,
          144000,
          129500,
          122000,
          107500,
          147000,
          256000,
          52500,
          108500,
          122000,
          105000,
          157000,
          136000,
          163000,
          105000,
          125500,
          122500,
          119000,
          64500,
          149700
         ],
         "yaxis": "y"
        },
        {
         "customdata": [
          [
           10
          ],
          [
           16
          ],
          [
           30
          ],
          [
           52
          ],
          [
           78
          ],
          [
           147
          ],
          [
           150
          ],
          [
           185
          ],
          [
           251
          ],
          [
           276
          ],
          [
           290
          ],
          [
           329
          ],
          [
           346
          ],
          [
           362
          ],
          [
           394
          ],
          [
           438
          ],
          [
           443
          ],
          [
           460
          ],
          [
           498
          ],
          [
           523
          ],
          [
           532
          ],
          [
           534
          ],
          [
           547
          ],
          [
           556
          ],
          [
           585
          ],
          [
           587
          ],
          [
           590
          ],
          [
           637
          ],
          [
           695
          ],
          [
           697
          ],
          [
           711
          ],
          [
           714
          ],
          [
           762
          ],
          [
           808
          ],
          [
           827
          ],
          [
           913
          ],
          [
           936
          ],
          [
           961
          ],
          [
           975
          ],
          [
           977
          ],
          [
           996
          ],
          [
           1099
          ],
          [
           1136
          ],
          [
           1140
          ],
          [
           1146
          ],
          [
           1203
          ],
          [
           1219
          ],
          [
           1256
          ],
          [
           1264
          ],
          [
           1286
          ],
          [
           1322
          ],
          [
           1324
          ],
          [
           1353
          ],
          [
           1390
          ],
          [
           1398
          ],
          [
           1401
          ],
          [
           1415
          ],
          [
           1444
          ]
         ],
         "hovertemplate": "Neighborhood=BrkSide<br>GrLivArea=%{x}<br>SalePrice=%{y}<br>Id=%{customdata[0]}<extra></extra>",
         "legendgroup": "BrkSide",
         "marker": {
          "color": "#FF97FF",
          "symbol": "circle"
         },
         "mode": "markers",
         "name": "BrkSide",
         "showlegend": true,
         "type": "scattergl",
         "x": [
          1077,
          854,
          520,
          1176,
          1285,
          875,
          1344,
          1252,
          1306,
          1548,
          1396,
          2134,
          1577,
          1505,
          788,
          904,
          1573,
          1203,
          1820,
          1664,
          1362,
          334,
          1635,
          1048,
          1573,
          838,
          935,
          800,
          1539,
          616,
          729,
          960,
          1301,
          1576,
          784,
          1015,
          747,
          858,
          2019,
          869,
          1230,
          1324,
          986,
          1167,
          1576,
          1348,
          912,
          1367,
          1824,
          1412,
          720,
          708,
          1176,
          1218,
          1513,
          1158,
          1848,
          952
         ],
         "xaxis": "x",
         "y": [
          118000,
          132000,
          68500,
          114500,
          127000,
          105000,
          115000,
          127000,
          76500,
          205000,
          153575,
          214500,
          140200,
          145000,
          100000,
          119000,
          162900,
          110000,
          184000,
          159000,
          128000,
          39300,
          210000,
          113000,
          133000,
          130000,
          79500,
          60000,
          141500,
          89000,
          52000,
          129000,
          100000,
          223500,
          109500,
          88000,
          79900,
          116500,
          167500,
          85500,
          121600,
          128000,
          102000,
          144000,
          149000,
          117000,
          80500,
          127500,
          180500,
          132500,
          72500,
          82500,
          134900,
          131000,
          137500,
          120000,
          207000,
          121000
         ],
         "yaxis": "y"
        },
        {
         "customdata": [
          [
           11
          ],
          [
           13
          ],
          [
           18
          ],
          [
           25
          ],
          [
           32
          ],
          [
           50
          ],
          [
           79
          ],
          [
           117
          ],
          [
           135
          ],
          [
           145
          ],
          [
           178
          ],
          [
           207
          ],
          [
           229
          ],
          [
           263
          ],
          [
           289
          ],
          [
           403
          ],
          [
           406
          ],
          [
           417
          ],
          [
           463
          ],
          [
           476
          ],
          [
           485
          ],
          [
           499
          ],
          [
           539
          ],
          [
           561
          ],
          [
           578
          ],
          [
           588
          ],
          [
           610
          ],
          [
           623
          ],
          [
           669
          ],
          [
           680
          ],
          [
           699
          ],
          [
           710
          ],
          [
           715
          ],
          [
           734
          ],
          [
           735
          ],
          [
           742
          ],
          [
           744
          ],
          [
           758
          ],
          [
           771
          ],
          [
           778
          ],
          [
           797
          ],
          [
           836
          ],
          [
           846
          ],
          [
           855
          ],
          [
           856
          ],
          [
           862
          ],
          [
           868
          ],
          [
           879
          ],
          [
           892
          ],
          [
           893
          ],
          [
           894
          ],
          [
           900
          ],
          [
           905
          ],
          [
           958
          ],
          [
           980
          ],
          [
           1011
          ],
          [
           1041
          ],
          [
           1082
          ],
          [
           1118
          ],
          [
           1119
          ],
          [
           1138
          ],
          [
           1144
          ],
          [
           1163
          ],
          [
           1164
          ],
          [
           1195
          ],
          [
           1200
          ],
          [
           1214
          ],
          [
           1216
          ],
          [
           1217
          ],
          [
           1222
          ],
          [
           1231
          ],
          [
           1273
          ],
          [
           1384
          ],
          [
           1446
          ]
         ],
         "hovertemplate": "Neighborhood=Sawyer<br>GrLivArea=%{x}<br>SalePrice=%{y}<br>Id=%{customdata[0]}<extra></extra>",
         "legendgroup": "Sawyer",
         "marker": {
          "color": "#FECB52",
          "symbol": "circle"
         },
         "mode": "markers",
         "name": "Sawyer",
         "showlegend": true,
         "type": "scattergl",
         "x": [
          1040,
          912,
          1296,
          1060,
          1228,
          955,
          1768,
          1092,
          1721,
          1728,
          1920,
          1696,
          912,
          1212,
          900,
          672,
          1620,
          1400,
          864,
          970,
          999,
          899,
          1159,
          1392,
          1320,
          860,
          1029,
          980,
          1437,
          988,
          894,
          904,
          1479,
          1144,
          948,
          912,
          1464,
          1386,
          858,
          894,
          1285,
          1067,
          1701,
          1779,
          1040,
          1039,
          1120,
          1155,
          1683,
          1068,
          1383,
          1236,
          902,
          1057,
          1121,
          1271,
          1803,
          1040,
          894,
          1601,
          1020,
          1006,
          894,
          1258,
          1352,
          1382,
          960,
          894,
          1902,
          1211,
          2620,
          935,
          1416,
          913
         ],
         "xaxis": "x",
         "y": [
          129500,
          144000,
          90000,
          154000,
          149350,
          127000,
          136500,
          139000,
          180000,
          125000,
          172500,
          143900,
          125000,
          151000,
          122000,
          108000,
          150000,
          149500,
          62383,
          132500,
          132500,
          130000,
          158000,
          121500,
          164500,
          137000,
          118500,
          135000,
          168000,
          128500,
          138500,
          109900,
          130500,
          131400,
          108000,
          142000,
          175000,
          158900,
          134900,
          142500,
          143500,
          128000,
          171000,
          170000,
          127000,
          131500,
          129000,
          148000,
          172500,
          154500,
          165000,
          135000,
          125500,
          132000,
          139000,
          135000,
          155000,
          133000,
          130000,
          140000,
          94000,
          80000,
          129000,
          108959,
          158000,
          148000,
          145000,
          125000,
          112000,
          134000,
          190000,
          137000,
          112000,
          129000
         ],
         "yaxis": "y"
        },
        {
         "customdata": [
          [
           12
          ],
          [
           21
          ],
          [
           26
          ],
          [
           28
          ],
          [
           35
          ],
          [
           36
          ],
          [
           46
          ],
          [
           63
          ],
          [
           66
          ],
          [
           152
          ],
          [
           162
          ],
          [
           163
          ],
          [
           168
          ],
          [
           200
          ],
          [
           225
          ],
          [
           239
          ],
          [
           279
          ],
          [
           283
          ],
          [
           310
          ],
          [
           321
          ],
          [
           322
          ],
          [
           333
          ],
          [
           334
          ],
          [
           344
          ],
          [
           349
          ],
          [
           350
          ],
          [
           351
          ],
          [
           390
          ],
          [
           409
          ],
          [
           441
          ],
          [
           469
          ],
          [
           474
          ],
          [
           478
          ],
          [
           481
          ],
          [
           482
          ],
          [
           512
          ],
          [
           516
          ],
          [
           528
          ],
          [
           553
          ],
          [
           555
          ],
          [
           568
          ],
          [
           582
          ],
          [
           592
          ],
          [
           601
          ],
          [
           619
          ],
          [
           632
          ],
          [
           641
          ],
          [
           690
          ],
          [
           708
          ],
          [
           754
          ],
          [
           775
          ],
          [
           799
          ],
          [
           804
          ],
          [
           820
          ],
          [
           826
          ],
          [
           878
          ],
          [
           899
          ],
          [
           927
          ],
          [
           972
          ],
          [
           988
          ],
          [
           995
          ],
          [
           1043
          ],
          [
           1057
          ],
          [
           1059
          ],
          [
           1110
          ],
          [
           1116
          ],
          [
           1158
          ],
          [
           1166
          ],
          [
           1229
          ],
          [
           1237
          ],
          [
           1244
          ],
          [
           1252
          ],
          [
           1290
          ],
          [
           1306
          ],
          [
           1307
          ],
          [
           1360
          ],
          [
           1438
          ]
         ],
         "hovertemplate": "Neighborhood=NridgHt<br>GrLivArea=%{x}<br>SalePrice=%{y}<br>Id=%{customdata[0]}<extra></extra>",
         "legendgroup": "NridgHt",
         "marker": {
          "color": "#636efa",
          "symbol": "circle"
         },
         "mode": "markers",
         "name": "NridgHt",
         "showlegend": true,
         "type": "scattergl",
         "x": [
          2324,
          2376,
          1600,
          1704,
          1561,
          2452,
          1752,
          1370,
          2473,
          1710,
          2668,
          1541,
          2161,
          1713,
          2392,
          1694,
          2121,
          1314,
          1944,
          2596,
          2468,
          1629,
          1358,
          1684,
          1626,
          2728,
          1869,
          2332,
          2172,
          2402,
          1634,
          1976,
          2643,
          1850,
          1792,
          1368,
          2020,
          2713,
          1717,
          2046,
          1535,
          2042,
          2296,
          1904,
          1828,
          1554,
          1518,
          1362,
          1324,
          2098,
          1973,
          3140,
          2822,
          1358,
          2084,
          2224,
          2364,
          2374,
          1626,
          1940,
          1718,
          1306,
          1364,
          2184,
          1836,
          1734,
          1314,
          1502,
          1702,
          1626,
          2076,
          1405,
          1970,
          1652,
          1368,
          1980,
          1932
         ],
         "xaxis": "x",
         "y": [
          345000,
          325300,
          256300,
          306000,
          277500,
          309000,
          319900,
          202500,
          317000,
          372402,
          412500,
          220000,
          325624,
          274900,
          386250,
          318000,
          415298,
          207500,
          360000,
          342643,
          354000,
          284000,
          207000,
          266000,
          154000,
          437154,
          318061,
          426000,
          280000,
          555000,
          250000,
          440000,
          380000,
          326000,
          374000,
          202665,
          402861,
          446261,
          255500,
          284000,
          214000,
          253293,
          451950,
          275000,
          314813,
          209500,
          274000,
          194700,
          254000,
          275500,
          395000,
          485000,
          582933,
          224000,
          385000,
          350000,
          611657,
          285000,
          173000,
          395192,
          337500,
          196000,
          185850,
          335000,
          280000,
          318000,
          230000,
          233170,
          367294,
          175500,
          465000,
          171750,
          281000,
          325000,
          202500,
          315000,
          394617
         ],
         "yaxis": "y"
        },
        {
         "customdata": [
          [
           15
          ],
          [
           17
          ],
          [
           20
          ],
          [
           27
          ],
          [
           29
          ],
          [
           34
          ],
          [
           38
          ],
          [
           39
          ],
          [
           41
          ],
          [
           45
          ],
          [
           55
          ],
          [
           56
          ],
          [
           67
          ],
          [
           71
          ],
          [
           74
          ],
          [
           77
          ],
          [
           81
          ],
          [
           84
          ],
          [
           91
          ],
          [
           92
          ],
          [
           100
          ],
          [
           123
          ],
          [
           129
          ],
          [
           130
          ],
          [
           131
          ],
          [
           133
          ],
          [
           137
          ],
          [
           141
          ],
          [
           143
          ],
          [
           157
          ],
          [
           172
          ],
          [
           174
          ],
          [
           192
          ],
          [
           198
          ],
          [
           208
          ],
          [
           210
          ],
          [
           216
          ],
          [
           224
          ],
          [
           231
          ],
          [
           248
          ],
          [
           254
          ],
          [
           255
          ],
          [
           261
          ],
          [
           274
          ],
          [
           287
          ],
          [
           288
          ],
          [
           295
          ],
          [
           312
          ],
          [
           325
          ],
          [
           328
          ],
          [
           331
          ],
          [
           332
          ],
          [
           340
          ],
          [
           343
          ],
          [
           347
          ],
          [
           348
          ],
          [
           367
          ],
          [
           368
          ],
          [
           369
          ],
          [
           370
          ],
          [
           374
          ],
          [
           393
          ],
          [
           398
          ],
          [
           420
          ],
          [
           425
          ],
          [
           428
          ],
          [
           447
          ],
          [
           467
          ],
          [
           468
          ],
          [
           486
          ],
          [
           487
          ],
          [
           492
          ],
          [
           494
          ],
          [
           500
          ],
          [
           510
          ],
          [
           511
          ],
          [
           513
          ],
          [
           522
          ],
          [
           527
          ],
          [
           533
          ],
          [
           538
          ],
          [
           544
          ],
          [
           557
          ],
          [
           570
          ],
          [
           571
          ],
          [
           572
          ],
          [
           575
          ],
          [
           576
          ],
          [
           581
          ],
          [
           606
          ],
          [
           616
          ],
          [
           618
          ],
          [
           626
          ],
          [
           627
          ],
          [
           628
          ],
          [
           629
          ],
          [
           630
          ],
          [
           634
          ],
          [
           643
          ],
          [
           646
          ],
          [
           647
          ],
          [
           649
          ],
          [
           657
          ],
          [
           659
          ],
          [
           663
          ],
          [
           667
          ],
          [
           675
          ],
          [
           723
          ],
          [
           726
          ],
          [
           729
          ],
          [
           737
          ],
          [
           755
          ],
          [
           761
          ],
          [
           774
          ],
          [
           798
          ],
          [
           805
          ],
          [
           807
          ],
          [
           809
          ],
          [
           814
          ],
          [
           817
          ],
          [
           831
          ],
          [
           834
          ],
          [
           835
          ],
          [
           843
          ],
          [
           844
          ],
          [
           854
          ],
          [
           864
          ],
          [
           866
          ],
          [
           871
          ],
          [
           873
          ],
          [
           874
          ],
          [
           885
          ],
          [
           887
          ],
          [
           889
          ],
          [
           890
          ],
          [
           891
          ],
          [
           896
          ],
          [
           901
          ],
          [
           902
          ],
          [
           906
          ],
          [
           911
          ],
          [
           920
          ],
          [
           932
          ],
          [
           935
          ],
          [
           947
          ],
          [
           951
          ],
          [
           968
          ],
          [
           970
          ],
          [
           971
          ],
          [
           981
          ],
          [
           993
          ],
          [
           997
          ],
          [
           1007
          ],
          [
           1015
          ],
          [
           1027
          ],
          [
           1029
          ],
          [
           1053
          ],
          [
           1065
          ],
          [
           1068
          ],
          [
           1070
          ],
          [
           1071
          ],
          [
           1078
          ],
          [
           1084
          ],
          [
           1091
          ],
          [
           1094
          ],
          [
           1095
          ],
          [
           1102
          ],
          [
           1103
          ],
          [
           1104
          ],
          [
           1113
          ],
          [
           1114
          ],
          [
           1120
          ],
          [
           1126
          ],
          [
           1137
          ],
          [
           1141
          ],
          [
           1151
          ],
          [
           1155
          ],
          [
           1157
          ],
          [
           1172
          ],
          [
           1201
          ],
          [
           1209
          ],
          [
           1215
          ],
          [
           1221
          ],
          [
           1223
          ],
          [
           1224
          ],
          [
           1226
          ],
          [
           1228
          ],
          [
           1230
          ],
          [
           1232
          ],
          [
           1233
          ],
          [
           1234
          ],
          [
           1250
          ],
          [
           1251
          ],
          [
           1260
          ],
          [
           1262
          ],
          [
           1265
          ],
          [
           1270
          ],
          [
           1276
          ],
          [
           1291
          ],
          [
           1296
          ],
          [
           1297
          ],
          [
           1300
          ],
          [
           1316
          ],
          [
           1321
          ],
          [
           1341
          ],
          [
           1351
          ],
          [
           1352
          ],
          [
           1357
          ],
          [
           1358
          ],
          [
           1363
          ],
          [
           1372
          ],
          [
           1382
          ],
          [
           1392
          ],
          [
           1393
          ],
          [
           1399
          ],
          [
           1412
          ],
          [
           1413
          ],
          [
           1419
          ],
          [
           1425
          ],
          [
           1426
          ],
          [
           1428
          ],
          [
           1436
          ],
          [
           1437
          ],
          [
           1451
          ],
          [
           1459
          ]
         ],
         "hovertemplate": "Neighborhood=NAmes<br>GrLivArea=%{x}<br>SalePrice=%{y}<br>Id=%{customdata[0]}<extra></extra>",
         "legendgroup": "NAmes",
         "marker": {
          "color": "#EF553B",
          "symbol": "circle"
         },
         "mode": "markers",
         "name": "NAmes",
         "showlegend": true,
         "type": "scattergl",
         "x": [
          1253,
          1004,
          1339,
          900,
          1600,
          1700,
          1297,
          1057,
          1324,
          1150,
          1360,
          1425,
          2207,
          2223,
          1086,
          952,
          2142,
          1065,
          1040,
          1235,
          1225,
          1080,
          1348,
          1053,
          2157,
          1327,
          1214,
          864,
          1385,
          1040,
          1656,
          1362,
          1479,
          3112,
          1100,
          1092,
          1236,
          864,
          1194,
          1375,
          1302,
          1314,
          1382,
          1632,
          1734,
          858,
          1644,
          972,
          2978,
          1383,
          1728,
          1056,
          1215,
          1040,
          958,
          1478,
          1394,
          1431,
          1268,
          1287,
          1319,
          882,
          1812,
          1056,
          1196,
          907,
          1888,
          1277,
          1644,
          1113,
          1073,
          1578,
          1269,
          912,
          1041,
          1363,
          864,
          1244,
          928,
          827,
          864,
          767,
          1092,
          943,
          1728,
          864,
          1109,
          1216,
          1429,
          1986,
          1054,
          832,
          1116,
          1422,
          1520,
          2080,
          1350,
          1056,
          2704,
          981,
          1048,
          1839,
          1053,
          1458,
          1392,
          2380,
          1136,
          864,
          864,
          1776,
          1040,
          1026,
          864,
          912,
          773,
          1128,
          980,
          1086,
          1442,
          1008,
          1392,
          1516,
          1144,
          1165,
          1800,
          1445,
          1148,
          1002,
          894,
          910,
          1268,
          892,
          1712,
          2217,
          1505,
          924,
          1796,
          858,
          1306,
          1063,
          2274,
          1414,
          925,
          2069,
          1144,
          864,
          1098,
          1095,
          1192,
          999,
          1851,
          1050,
          1657,
          1082,
          1264,
          1376,
          1977,
          1154,
          1611,
          893,
          1048,
          1096,
          1251,
          1040,
          1200,
          936,
          950,
          1134,
          1194,
          816,
          1008,
          1040,
          1005,
          1252,
          952,
          932,
          1820,
          1265,
          1261,
          864,
          1283,
          999,
          912,
          1846,
          2136,
          1138,
          912,
          1507,
          1190,
          1224,
          1188,
          988,
          2110,
          1054,
          1050,
          1337,
          1524,
          1920,
          1152,
          1052,
          1128,
          1246,
          2112,
          1478,
          872,
          2634,
          1716,
          892,
          1078,
          1738,
          1661,
          2117,
          1584,
          900,
          1904,
          1668,
          1040,
          1144,
          1344,
          1252,
          1558,
          1537,
          864,
          1792,
          1078
         ],
         "xaxis": "x",
         "y": [
          157000,
          149000,
          139000,
          134800,
          207500,
          165500,
          153000,
          109000,
          160000,
          141000,
          130000,
          180500,
          180000,
          244000,
          144900,
          135750,
          193500,
          126500,
          109900,
          98600,
          128950,
          136000,
          155000,
          150000,
          226000,
          150750,
          143000,
          115000,
          166000,
          109500,
          215000,
          163000,
          184000,
          235000,
          141000,
          145000,
          134450,
          97000,
          148000,
          140000,
          158000,
          145000,
          176000,
          139000,
          159000,
          88000,
          167000,
          132000,
          242000,
          145250,
          119000,
          139000,
          155000,
          87500,
          151500,
          157500,
          159000,
          165000,
          132000,
          162000,
          123000,
          106500,
          169500,
          142000,
          139000,
          109008,
          190000,
          167000,
          146500,
          147000,
          156000,
          133000,
          155000,
          120000,
          124500,
          164900,
          129900,
          150000,
          132000,
          107500,
          111250,
          133000,
          141000,
          135960,
          142600,
          120000,
          139000,
          118500,
          181900,
          205000,
          137500,
          105500,
          160000,
          139900,
          153000,
          135000,
          168500,
          139400,
          345000,
          143250,
          98300,
          155000,
          145500,
          97500,
          110000,
          129000,
          140000,
          124500,
          120500,
          110000,
          93500,
          156000,
          127500,
          114500,
          110000,
          118000,
          135500,
          159950,
          157900,
          137000,
          166000,
          167000,
          139950,
          174900,
          141000,
          158000,
          132500,
          148500,
          109500,
          116000,
          133000,
          100000,
          145000,
          268000,
          149500,
          122900,
          140000,
          110000,
          153000,
          128000,
          154300,
          176500,
          117500,
          242000,
          143000,
          129000,
          135000,
          140000,
          135000,
          178400,
          187000,
          136500,
          163500,
          119200,
          167500,
          105000,
          165000,
          154000,
          167900,
          135000,
          135000,
          138800,
          160000,
          92900,
          146000,
          129000,
          119500,
          135000,
          159500,
          129900,
          134500,
          133700,
          115000,
          119000,
          139000,
          124000,
          201800,
          179900,
          163000,
          116050,
          140000,
          134500,
          115000,
          143000,
          137900,
          145000,
          147000,
          127000,
          132500,
          101800,
          142000,
          119000,
          244000,
          151000,
          128900,
          181000,
          144000,
          137000,
          180500,
          138500,
          155000,
          154000,
          206900,
          156500,
          123000,
          200000,
          171000,
          110000,
          149900,
          104900,
          165500,
          237500,
          124000,
          123000,
          138000,
          140000,
          90000,
          124000,
          144000,
          142000,
          140000,
          174000,
          120500,
          136000,
          142125
         ],
         "yaxis": "y"
        },
        {
         "customdata": [
          [
           19
          ],
          [
           43
          ],
          [
           61
          ],
          [
           102
          ],
          [
           103
          ],
          [
           119
          ],
          [
           124
          ],
          [
           149
          ],
          [
           189
          ],
          [
           209
          ],
          [
           238
          ],
          [
           244
          ],
          [
           245
          ],
          [
           253
          ],
          [
           281
          ],
          [
           285
          ],
          [
           307
          ],
          [
           323
          ],
          [
           342
          ],
          [
           373
          ],
          [
           384
          ],
          [
           415
          ],
          [
           427
          ],
          [
           470
          ],
          [
           507
          ],
          [
           569
          ],
          [
           603
          ],
          [
           668
          ],
          [
           681
          ],
          [
           743
          ],
          [
           779
          ],
          [
           782
          ],
          [
           788
          ],
          [
           796
          ],
          [
           828
          ],
          [
           847
          ],
          [
           863
          ],
          [
           870
          ],
          [
           895
          ],
          [
           898
          ],
          [
           919
          ],
          [
           921
          ],
          [
           924
          ],
          [
           937
          ],
          [
           952
          ],
          [
           973
          ],
          [
           1044
          ],
          [
           1086
          ],
          [
           1107
          ],
          [
           1134
          ],
          [
           1147
          ],
          [
           1206
          ],
          [
           1207
          ],
          [
           1211
          ],
          [
           1239
          ],
          [
           1310
          ],
          [
           1342
          ],
          [
           1349
          ],
          [
           1414
          ]
         ],
         "hovertemplate": "Neighborhood=SawyerW<br>GrLivArea=%{x}<br>SalePrice=%{y}<br>Id=%{customdata[0]}<extra></extra>",
         "legendgroup": "SawyerW",
         "marker": {
          "color": "#00cc96",
          "symbol": "circle"
         },
         "mode": "markers",
         "name": "SawyerW",
         "showlegend": true,
         "type": "scattergl",
         "x": [
          1114,
          884,
          1158,
          1732,
          1535,
          3222,
          1199,
          1080,
          1224,
          2062,
          1744,
          1217,
          2110,
          1640,
          1982,
          1575,
          2243,
          2730,
          841,
          752,
          784,
          2097,
          1644,
          1710,
          1911,
          2132,
          1915,
          1679,
          923,
          1349,
          2020,
          1603,
          2084,
          1564,
          1434,
          1775,
          1097,
          1949,
          1535,
          2240,
          2127,
          1721,
          1617,
          1200,
          965,
          918,
          2329,
          996,
          1442,
          2020,
          1298,
          2196,
          1056,
          1845,
          1141,
          1294,
          1114,
          1494,
          1844
         ],
         "xaxis": "x",
         "y": [
          159000,
          144000,
          158000,
          178000,
          118964,
          320000,
          153900,
          141000,
          153337,
          277000,
          194500,
          120000,
          205000,
          173000,
          228500,
          179200,
          225000,
          301000,
          82000,
          125000,
          76000,
          228000,
          275000,
          187000,
          215000,
          316600,
          220000,
          193500,
          143000,
          179000,
          144000,
          175900,
          233000,
          171000,
          189000,
          213000,
          152000,
          236000,
          118858,
          142953,
          238000,
          201000,
          193000,
          184900,
          119900,
          99500,
          262280,
          147000,
          179900,
          239500,
          180000,
          271900,
          107000,
          189000,
          142500,
          179200,
          155000,
          215000,
          257000
         ],
         "yaxis": "y"
        },
        {
         "customdata": [
          [
           22
          ],
          [
           31
          ],
          [
           53
          ],
          [
           62
          ],
          [
           89
          ],
          [
           105
          ],
          [
           109
          ],
          [
           122
          ],
          [
           126
          ],
          [
           269
          ],
          [
           297
          ],
          [
           308
          ],
          [
           326
          ],
          [
           330
          ],
          [
           366
          ],
          [
           399
          ],
          [
           449
          ],
          [
           496
          ],
          [
           558
          ],
          [
           602
          ],
          [
           654
          ],
          [
           706
          ],
          [
           712
          ],
          [
           730
          ],
          [
           802
          ],
          [
           813
          ],
          [
           897
          ],
          [
           917
          ],
          [
           999
          ],
          [
           1062
          ],
          [
           1097
          ],
          [
           1121
          ],
          [
           1154
          ],
          [
           1280
          ],
          [
           1326
          ],
          [
           1334
          ],
          [
           1386
          ]
         ],
         "hovertemplate": "Neighborhood=IDOTRR<br>GrLivArea=%{x}<br>SalePrice=%{y}<br>Id=%{customdata[0]}<extra></extra>",
         "legendgroup": "IDOTRR",
         "marker": {
          "color": "#ab63fa",
          "symbol": "circle"
         },
         "mode": "markers",
         "name": "IDOTRR",
         "showlegend": true,
         "type": "scattergl",
         "x": [
          1108,
          1317,
          816,
          1111,
          1526,
          1818,
          1517,
          1123,
          754,
          778,
          1558,
          1406,
          803,
          1192,
          1344,
          1077,
          1376,
          720,
          1336,
          1375,
          1469,
          1092,
          1178,
          1208,
          1196,
          1044,
          951,
          480,
          1077,
          894,
          1355,
          1012,
          816,
          1128,
          796,
          1360,
          1154
         ],
         "xaxis": "x",
         "y": [
          139400,
          40000,
          110000,
          101000,
          85000,
          169500,
          115000,
          100000,
          84500,
          120500,
          152000,
          89500,
          87000,
          78000,
          147000,
          67000,
          119500,
          34900,
          108000,
          141000,
          135000,
          55000,
          102776,
          103000,
          109900,
          55993,
          106500,
          35311,
          91000,
          81000,
          127000,
          118400,
          120500,
          68400,
          55000,
          125500,
          125500
         ],
         "yaxis": "y"
        },
        {
         "customdata": [
          [
           24
          ],
          [
           76
          ],
          [
           345
          ],
          [
           358
          ],
          [
           435
          ],
          [
           490
          ],
          [
           491
          ],
          [
           615
          ],
          [
           650
          ],
          [
           916
          ],
          [
           1008
          ],
          [
           1039
          ],
          [
           1040
          ],
          [
           1069
          ],
          [
           1087
          ],
          [
           1368
          ],
          [
           1450
          ]
         ],
         "hovertemplate": "Neighborhood=MeadowV<br>GrLivArea=%{x}<br>SalePrice=%{y}<br>Id=%{customdata[0]}<extra></extra>",
         "legendgroup": "MeadowV",
         "marker": {
          "color": "#FFA15A",
          "symbol": "circle"
         },
         "mode": "markers",
         "name": "MeadowV",
         "showlegend": true,
         "type": "scattergl",
         "x": [
          1060,
          988,
          1112,
          1142,
          630,
          630,
          1304,
          630,
          630,
          1092,
          1092,
          1344,
          630,
          2521,
          1092,
          1475,
          630
         ],
         "xaxis": "x",
         "y": [
          129900,
          91000,
          85000,
          134000,
          81000,
          86000,
          115000,
          75500,
          84500,
          75000,
          88000,
          97000,
          80000,
          151400,
          83500,
          127000,
          92000
         ],
         "yaxis": "y"
        },
        {
         "customdata": [
          [
           40
          ],
          [
           98
          ],
          [
           99
          ],
          [
           111
          ],
          [
           118
          ],
          [
           146
          ],
          [
           156
          ],
          [
           166
          ],
          [
           176
          ],
          [
           183
          ],
          [
           194
          ],
          [
           201
          ],
          [
           211
          ],
          [
           212
          ],
          [
           240
          ],
          [
           270
          ],
          [
           293
          ],
          [
           309
          ],
          [
           353
          ],
          [
           363
          ],
          [
           376
          ],
          [
           387
          ],
          [
           388
          ],
          [
           391
          ],
          [
           396
          ],
          [
           411
          ],
          [
           419
          ],
          [
           440
          ],
          [
           442
          ],
          [
           446
          ],
          [
           473
          ],
          [
           503
          ],
          [
           524
          ],
          [
           529
          ],
          [
           536
          ],
          [
           554
          ],
          [
           563
          ],
          [
           564
          ],
          [
           583
          ],
          [
           608
          ],
          [
           621
          ],
          [
           639
          ],
          [
           648
          ],
          [
           652
          ],
          [
           660
          ],
          [
           664
          ],
          [
           672
          ],
          [
           698
          ],
          [
           724
          ],
          [
           725
          ],
          [
           739
          ],
          [
           750
          ],
          [
           772
          ],
          [
           773
          ],
          [
           815
          ],
          [
           840
          ],
          [
           881
          ],
          [
           888
          ],
          [
           918
          ],
          [
           922
          ],
          [
           943
          ],
          [
           955
          ],
          [
           979
          ],
          [
           986
          ],
          [
           1001
          ],
          [
           1012
          ],
          [
           1021
          ],
          [
           1036
          ],
          [
           1046
          ],
          [
           1050
          ],
          [
           1054
          ],
          [
           1073
          ],
          [
           1074
          ],
          [
           1089
          ],
          [
           1123
          ],
          [
           1124
          ],
          [
           1145
          ],
          [
           1152
          ],
          [
           1169
          ],
          [
           1180
          ],
          [
           1186
          ],
          [
           1213
          ],
          [
           1255
          ],
          [
           1258
          ],
          [
           1274
          ],
          [
           1295
          ],
          [
           1298
          ],
          [
           1299
          ],
          [
           1305
          ],
          [
           1315
          ],
          [
           1320
          ],
          [
           1327
          ],
          [
           1333
          ],
          [
           1378
          ],
          [
           1381
          ],
          [
           1385
          ],
          [
           1424
          ],
          [
           1449
          ],
          [
           1453
          ],
          [
           1460
          ]
         ],
         "hovertemplate": "Neighborhood=Edwards<br>GrLivArea=%{x}<br>SalePrice=%{y}<br>Id=%{customdata[0]}<extra></extra>",
         "legendgroup": "Edwards",
         "marker": {
          "color": "#19d3f3",
          "symbol": "circle"
         },
         "mode": "markers",
         "name": "Edwards",
         "showlegend": true,
         "type": "scattergl",
         "x": [
          1152,
          960,
          835,
          1855,
          1125,
          1709,
          1096,
          1355,
          2158,
          1340,
          1709,
          1121,
          864,
          1212,
          1487,
          1113,
          1716,
          861,
          1111,
          1922,
          904,
          1184,
          1125,
          1367,
          1144,
          1276,
          1134,
          1196,
          1440,
          1689,
          1072,
          1214,
          4676,
          605,
          1347,
          1126,
          996,
          1674,
          816,
          2008,
          864,
          796,
          1094,
          1510,
          1486,
          1181,
          1369,
          1148,
          1470,
          1698,
          1200,
          1529,
          1220,
          1117,
          1250,
          1200,
          1090,
          1393,
          1229,
          2200,
          1440,
          980,
          894,
          1164,
          944,
          1664,
          1132,
          845,
          1733,
          930,
          1526,
          1456,
          1426,
          1709,
          960,
          698,
          924,
          1466,
          2108,
          1124,
          1221,
          672,
          1656,
          864,
          1357,
          864,
          1072,
          5642,
          1708,
          948,
          948,
          774,
          816,
          1604,
          864,
          1258,
          2201,
          1346,
          1072,
          1256
         ],
         "xaxis": "x",
         "y": [
          82000,
          94750,
          83000,
          136900,
          155000,
          130000,
          79000,
          127500,
          243000,
          120000,
          130000,
          140000,
          98000,
          186000,
          113000,
          148000,
          131000,
          82500,
          95000,
          198500,
          61000,
          81000,
          125000,
          119000,
          129000,
          60000,
          126000,
          110000,
          118000,
          127500,
          148000,
          140000,
          184750,
          86000,
          107500,
          108000,
          108000,
          185000,
          118500,
          225000,
          67000,
          85000,
          155000,
          108000,
          167000,
          137500,
          103600,
          123500,
          135000,
          320000,
          179000,
          98000,
          102000,
          107000,
          116000,
          130500,
          157000,
          135500,
          135000,
          145900,
          150000,
          127500,
          110000,
          125000,
          82000,
          100000,
          176000,
          84000,
          139600,
          84900,
          144500,
          91500,
          159500,
          137500,
          112000,
          118000,
          80000,
          149900,
          235000,
          93000,
          104900,
          113000,
          165400,
          99900,
          177000,
          115000,
          140000,
          160000,
          130000,
          119000,
          111000,
          79000,
          100000,
          117000,
          58500,
          105000,
          274970,
          112000,
          145000,
          147500
         ],
         "yaxis": "y"
        },
        {
         "customdata": [
          [
           42
          ],
          [
           134
          ],
          [
           158
          ],
          [
           170
          ],
          [
           175
          ],
          [
           314
          ],
          [
           336
          ],
          [
           341
          ],
          [
           430
          ],
          [
           453
          ],
          [
           531
          ],
          [
           541
          ],
          [
           573
          ],
          [
           586
          ],
          [
           620
          ],
          [
           693
          ],
          [
           696
          ],
          [
           701
          ],
          [
           732
          ],
          [
           867
          ],
          [
           882
          ],
          [
           931
          ],
          [
           945
          ],
          [
           948
          ],
          [
           965
          ],
          [
           1025
          ],
          [
           1028
          ],
          [
           1037
          ],
          [
           1181
          ],
          [
           1185
          ],
          [
           1240
          ],
          [
           1268
          ],
          [
           1282
          ],
          [
           1348
          ],
          [
           1376
          ],
          [
           1380
          ],
          [
           1396
          ],
          [
           1397
          ]
         ],
         "hovertemplate": "Neighborhood=Timber<br>GrLivArea=%{x}<br>SalePrice=%{y}<br>Id=%{customdata[0]}<extra></extra>",
         "legendgroup": "Timber",
         "marker": {
          "color": "#FF6692",
          "symbol": "circle"
         },
         "mode": "markers",
         "name": "Timber",
         "showlegend": true,
         "type": "scattergl",
         "x": [
          1328,
          1296,
          1968,
          1707,
          1651,
          2036,
          1786,
          1908,
          1412,
          1756,
          1509,
          1838,
          1692,
          2028,
          2262,
          2519,
          1137,
          1800,
          1146,
          1646,
          1717,
          1466,
          1344,
          1629,
          1894,
          2898,
          1646,
          1620,
          2514,
          1572,
          1484,
          2018,
          1339,
          1776,
          1571,
          1394,
          2482,
          1687
         ],
         "xaxis": "x",
         "y": [
          170000,
          220000,
          269500,
          228000,
          184000,
          375000,
          228950,
          202900,
          175000,
          204000,
          175000,
          315000,
          224500,
          369900,
          305000,
          335000,
          176000,
          312500,
          187500,
          248900,
          187500,
          201000,
          137500,
          270000,
          214900,
          287000,
          293077,
          315500,
          250000,
          186700,
          265900,
          378500,
          180000,
          283463,
          239000,
          167500,
          281213,
          160000
         ],
         "yaxis": "y"
        },
        {
         "customdata": [
          [
           51
          ],
          [
           73
          ],
          [
           85
          ],
          [
           87
          ],
          [
           96
          ],
          [
           112
          ],
          [
           132
          ],
          [
           148
          ],
          [
           160
          ],
          [
           169
          ],
          [
           206
          ],
          [
           222
          ],
          [
           235
          ],
          [
           256
          ],
          [
           267
          ],
          [
           278
          ],
          [
           311
          ],
          [
           316
          ],
          [
           335
          ],
          [
           357
          ],
          [
           371
          ],
          [
           380
          ],
          [
           405
          ],
          [
           412
          ],
          [
           416
          ],
          [
           434
          ],
          [
           448
          ],
          [
           493
          ],
          [
           535
          ],
          [
           545
          ],
          [
           559
          ],
          [
           574
          ],
          [
           617
          ],
          [
           666
          ],
          [
           709
          ],
          [
           738
          ],
          [
           747
          ],
          [
           752
          ],
          [
           781
          ],
          [
           795
          ],
          [
           823
          ],
          [
           858
          ],
          [
           869
          ],
          [
           883
          ],
          [
           903
          ],
          [
           904
          ],
          [
           910
          ],
          [
           923
          ],
          [
           930
          ],
          [
           942
          ],
          [
           966
          ],
          [
           1019
          ],
          [
           1051
          ],
          [
           1067
          ],
          [
           1085
          ],
          [
           1108
          ],
          [
           1109
          ],
          [
           1111
          ],
          [
           1117
          ],
          [
           1125
          ],
          [
           1128
          ],
          [
           1129
          ],
          [
           1135
          ],
          [
           1168
          ],
          [
           1190
          ],
          [
           1196
          ],
          [
           1197
          ],
          [
           1212
          ],
          [
           1225
          ],
          [
           1259
          ],
          [
           1261
          ],
          [
           1301
          ],
          [
           1330
          ],
          [
           1364
          ],
          [
           1389
          ],
          [
           1402
          ],
          [
           1431
          ],
          [
           1434
          ],
          [
           1456
          ]
         ],
         "hovertemplate": "Neighborhood=Gilbert<br>GrLivArea=%{x}<br>SalePrice=%{y}<br>Id=%{customdata[0]}<extra></extra>",
         "legendgroup": "Gilbert",
         "marker": {
          "color": "#B6E880",
          "symbol": "circle"
         },
         "mode": "markers",
         "name": "Gilbert",
         "showlegend": true,
         "type": "scattergl",
         "x": [
          1470,
          1718,
          1474,
          1560,
          1470,
          1430,
          2054,
          2035,
          2462,
          1720,
          1442,
          2267,
          1960,
          2291,
          1511,
          864,
          1501,
          1432,
          1638,
          1167,
          1664,
          1800,
          1572,
          1056,
          1340,
          1604,
          1886,
          1456,
          1414,
          1496,
          1446,
          1430,
          1509,
          1936,
          1456,
          1801,
          2256,
          1320,
          1253,
          1895,
          1733,
          1481,
          2320,
          1593,
          1509,
          1670,
          1484,
          1316,
          2236,
          2060,
          1484,
          1472,
          1302,
          1571,
          1498,
          2021,
          1690,
          1658,
          1419,
          1482,
          1530,
          1959,
          1600,
          1671,
          1804,
          1456,
          1863,
          1752,
          1490,
          1166,
          1675,
          1983,
          1632,
          1412,
          1746,
          1593,
          1838,
          1792,
          1647
         ],
         "xaxis": "x",
         "y": [
          177000,
          185000,
          168500,
          174000,
          185000,
          180000,
          244000,
          222500,
          320000,
          183500,
          180500,
          200000,
          216500,
          230000,
          185000,
          141000,
          165600,
          188500,
          192000,
          173000,
          172400,
          179000,
          168000,
          145000,
          181134,
          181000,
          199900,
          172785,
          178000,
          179665,
          175000,
          170000,
          183200,
          230500,
          179540,
          239900,
          236000,
          162000,
          176000,
          194500,
          225000,
          174000,
          169000,
          178000,
          180000,
          240000,
          174000,
          169990,
          222000,
          214000,
          178900,
          160000,
          176485,
          178000,
          187500,
          274725,
          181000,
          188000,
          184100,
          163900,
          259000,
          215000,
          169000,
          173000,
          189000,
          176000,
          219210,
          164000,
          184000,
          190000,
          181000,
          225000,
          176500,
          156932,
          377500,
          193000,
          192140,
          186500,
          175000
         ],
         "yaxis": "y"
        },
        {
         "customdata": [
          [
           59
          ],
          [
           173
          ],
          [
           179
          ],
          [
           190
          ],
          [
           337
          ],
          [
           379
          ],
          [
           471
          ],
          [
           475
          ],
          [
           567
          ],
          [
           596
          ],
          [
           679
          ],
          [
           686
          ],
          [
           689
          ],
          [
           703
          ],
          [
           713
          ],
          [
           721
          ],
          [
           731
          ],
          [
           745
          ],
          [
           770
          ],
          [
           1018
          ],
          [
           1047
          ],
          [
           1061
          ],
          [
           1098
          ],
          [
           1289
          ],
          [
           1362
          ]
         ],
         "hovertemplate": "Neighborhood=StoneBr<br>GrLivArea=%{x}<br>SalePrice=%{y}<br>Id=%{customdata[0]}<extra></extra>",
         "legendgroup": "StoneBr",
         "marker": {
          "color": "#FF97FF",
          "symbol": "circle"
         },
         "mode": "markers",
         "name": "StoneBr",
         "showlegend": true,
         "type": "scattergl",
         "x": [
          2945,
          1767,
          2234,
          1593,
          1922,
          1856,
          1502,
          1652,
          2504,
          1826,
          2046,
          2090,
          1419,
          2576,
          1228,
          1742,
          1616,
          1337,
          3279,
          1360,
          2868,
          1338,
          1088,
          1659,
          1530
         ],
         "xaxis": "x",
         "y": [
          438780,
          239000,
          501837,
          286000,
          377426,
          394432,
          212000,
          251000,
          325000,
          319000,
          372500,
          207500,
          392000,
          361919,
          189000,
          275000,
          236500,
          180000,
          538000,
          187500,
          556581,
          213500,
          170000,
          278000,
          260000
         ],
         "yaxis": "y"
        },
        {
         "customdata": [
          [
           70
          ],
          [
           121
          ],
          [
           154
          ],
          [
           167
          ],
          [
           177
          ],
          [
           250
          ],
          [
           272
          ],
          [
           280
          ],
          [
           352
          ],
          [
           359
          ],
          [
           372
          ],
          [
           385
          ],
          [
           452
          ],
          [
           458
          ],
          [
           589
          ],
          [
           683
          ],
          [
           707
          ],
          [
           790
          ],
          [
           801
          ],
          [
           819
          ],
          [
           829
          ],
          [
           849
          ],
          [
           940
          ],
          [
           1066
          ],
          [
           1174
          ],
          [
           1263
          ],
          [
           1271
          ],
          [
           1288
          ]
         ],
         "hovertemplate": "Neighborhood=ClearCr<br>GrLivArea=%{x}<br>SalePrice=%{y}<br>Id=%{customdata[0]}<extra></extra>",
         "legendgroup": "ClearCr",
         "marker": {
          "color": "#FECB52",
          "symbol": "circle"
         },
         "mode": "markers",
         "name": "ClearCr",
         "showlegend": true,
         "type": "scattergl",
         "x": [
          2287,
          988,
          1252,
          1867,
          2060,
          2144,
          1363,
          2022,
          1453,
          1352,
          1588,
          1953,
          1533,
          1663,
          1473,
          1291,
          1824,
          2087,
          1688,
          1052,
          2126,
          2358,
          2403,
          2260,
          3086,
          1788,
          1524,
          1582
         ],
         "xaxis": "x",
         "y": [
          225000,
          180000,
          235000,
          190000,
          211000,
          277000,
          241500,
          192000,
          190000,
          130000,
          134432,
          240000,
          280000,
          256000,
          143000,
          173000,
          302000,
          187500,
          200000,
          155000,
          185000,
          240000,
          244400,
          328000,
          200500,
          161500,
          260000,
          190000
         ],
         "yaxis": "y"
        },
        {
         "customdata": [
          [
           127
          ],
          [
           196
          ],
          [
           505
          ],
          [
           551
          ],
          [
           676
          ],
          [
           963
          ],
          [
           1161
          ],
          [
           1422
          ],
          [
           1432
          ]
         ],
         "hovertemplate": "Neighborhood=NPkVill<br>GrLivArea=%{x}<br>SalePrice=%{y}<br>Id=%{customdata[0]}<extra></extra>",
         "legendgroup": "NPkVill",
         "marker": {
          "color": "#636efa",
          "symbol": "circle"
         },
         "mode": "markers",
         "name": "NPkVill",
         "showlegend": true,
         "type": "scattergl",
         "x": [
          958,
          1456,
          1322,
          1069,
          1441,
          1548,
          1456,
          1069,
          958
         ],
         "xaxis": "x",
         "y": [
          128000,
          148500,
          147000,
          140000,
          148500,
          155000,
          146000,
          127500,
          143750
         ],
         "yaxis": "y"
        },
        {
         "customdata": [
          [
           220
          ],
          [
           230
          ],
          [
           386
          ],
          [
           444
          ],
          [
           466
          ],
          [
           560
          ],
          [
           598
          ],
          [
           640
          ],
          [
           791
          ],
          [
           852
          ],
          [
           983
          ],
          [
           1005
          ],
          [
           1020
          ],
          [
           1024
          ],
          [
           1127
          ],
          [
           1395
          ],
          [
           1416
          ]
         ],
         "hovertemplate": "Neighborhood=Blmngtn<br>GrLivArea=%{x}<br>SalePrice=%{y}<br>Id=%{customdata[0]}<extra></extra>",
         "legendgroup": "Blmngtn",
         "marker": {
          "color": "#EF553B",
          "symbol": "circle"
         },
         "mode": "markers",
         "name": "Blmngtn",
         "showlegend": true,
         "type": "scattergl",
         "x": [
          1248,
          1555,
          1269,
          1258,
          1414,
          1557,
          1402,
          1567,
          1145,
          1456,
          1266,
          1504,
          1506,
          1504,
          1555,
          1500,
          1569
         ],
         "xaxis": "x",
         "y": [
          167240,
          192500,
          192000,
          172500,
          178740,
          234000,
          194201,
          264561,
          160200,
          215000,
          159895,
          181000,
          213490,
          191000,
          174000,
          246578,
          175900
         ],
         "yaxis": "y"
        },
        {
         "customdata": [
          [
           226
          ],
          [
           228
          ],
          [
           233
          ],
          [
           236
          ],
          [
           364
          ],
          [
           431
          ],
          [
           433
          ],
          [
           501
          ],
          [
           656
          ],
          [
           838
          ],
          [
           1030
          ],
          [
           1105
          ],
          [
           1220
          ],
          [
           1292
          ],
          [
           1335
          ],
          [
           1379
          ]
         ],
         "hovertemplate": "Neighborhood=BrDale<br>GrLivArea=%{x}<br>SalePrice=%{y}<br>Id=%{customdata[0]}<extra></extra>",
         "legendgroup": "BrDale",
         "marker": {
          "color": "#00cc96",
          "symbol": "circle"
         },
         "mode": "markers",
         "name": "BrDale",
         "showlegend": true,
         "type": "scattergl",
         "x": [
          1302,
          987,
          987,
          987,
          987,
          987,
          1365,
          1218,
          1092,
          987,
          1218,
          1302,
          1218,
          1302,
          1365,
          987
         ],
         "xaxis": "x",
         "y": [
          112000,
          106000,
          94500,
          89500,
          118000,
          85400,
          122500,
          113000,
          88000,
          100000,
          118000,
          106000,
          91500,
          119500,
          125000,
          83000
         ],
         "yaxis": "y"
        },
        {
         "customdata": [
          [
           268
          ],
          [
           292
          ],
          [
           355
          ],
          [
           381
          ],
          [
           407
          ],
          [
           462
          ],
          [
           566
          ],
          [
           577
          ],
          [
           636
          ],
          [
           682
          ],
          [
           800
          ],
          [
           824
          ],
          [
           841
          ],
          [
           884
          ],
          [
           1010
          ],
          [
           1031
          ],
          [
           1032
          ],
          [
           1093
          ],
          [
           1101
          ],
          [
           1131
          ],
          [
           1235
          ],
          [
           1285
          ],
          [
           1361
          ],
          [
           1377
          ],
          [
           1400
          ]
         ],
         "hovertemplate": "Neighborhood=SWISU<br>GrLivArea=%{x}<br>SalePrice=%{y}<br>Id=%{customdata[0]}<extra></extra>",
         "legendgroup": "SWISU",
         "marker": {
          "color": "#ab63fa",
          "symbol": "circle"
         },
         "mode": "markers",
         "name": "SWISU",
         "showlegend": true,
         "type": "scattergl",
         "x": [
          2192,
          1716,
          1595,
          1691,
          1639,
          1135,
          1647,
          1477,
          3395,
          1520,
          1768,
          1489,
          1482,
          2230,
          1522,
          1928,
          3082,
          1694,
          438,
          1981,
          1964,
          2447,
          2601,
          790,
          1608
         ],
         "xaxis": "x",
         "y": [
          179500,
          135900,
          140000,
          127000,
          115000,
          155000,
          128000,
          145000,
          200000,
          159434,
          175000,
          139500,
          140000,
          118500,
          102000,
          160000,
          197000,
          136500,
          60000,
          135000,
          130000,
          169000,
          189000,
          91000,
          137450
         ],
         "yaxis": "y"
        },
        {
         "customdata": [
          [
           600
          ],
          [
           957
          ]
         ],
         "hovertemplate": "Neighborhood=Blueste<br>GrLivArea=%{x}<br>SalePrice=%{y}<br>Id=%{customdata[0]}<extra></extra>",
         "legendgroup": "Blueste",
         "marker": {
          "color": "#FFA15A",
          "symbol": "circle"
         },
         "mode": "markers",
         "name": "Blueste",
         "showlegend": true,
         "type": "scattergl",
         "x": [
          1556,
          1229
         ],
         "xaxis": "x",
         "y": [
          151000,
          124000
         ],
         "yaxis": "y"
        }
       ],
       "layout": {
        "height": 800,
        "legend": {
         "title": {
          "text": "Neighborhood"
         },
         "tracegroupgap": 0
        },
        "margin": {
         "t": 60
        },
        "template": {
         "data": {
          "bar": [
           {
            "error_x": {
             "color": "#2a3f5f"
            },
            "error_y": {
             "color": "#2a3f5f"
            },
            "marker": {
             "line": {
              "color": "#E5ECF6",
              "width": 0.5
             },
             "pattern": {
              "fillmode": "overlay",
              "size": 10,
              "solidity": 0.2
             }
            },
            "type": "bar"
           }
          ],
          "barpolar": [
           {
            "marker": {
             "line": {
              "color": "#E5ECF6",
              "width": 0.5
             },
             "pattern": {
              "fillmode": "overlay",
              "size": 10,
              "solidity": 0.2
             }
            },
            "type": "barpolar"
           }
          ],
          "carpet": [
           {
            "aaxis": {
             "endlinecolor": "#2a3f5f",
             "gridcolor": "white",
             "linecolor": "white",
             "minorgridcolor": "white",
             "startlinecolor": "#2a3f5f"
            },
            "baxis": {
             "endlinecolor": "#2a3f5f",
             "gridcolor": "white",
             "linecolor": "white",
             "minorgridcolor": "white",
             "startlinecolor": "#2a3f5f"
            },
            "type": "carpet"
           }
          ],
          "choropleth": [
           {
            "colorbar": {
             "outlinewidth": 0,
             "ticks": ""
            },
            "type": "choropleth"
           }
          ],
          "contour": [
           {
            "colorbar": {
             "outlinewidth": 0,
             "ticks": ""
            },
            "colorscale": [
             [
              0,
              "#0d0887"
             ],
             [
              0.1111111111111111,
              "#46039f"
             ],
             [
              0.2222222222222222,
              "#7201a8"
             ],
             [
              0.3333333333333333,
              "#9c179e"
             ],
             [
              0.4444444444444444,
              "#bd3786"
             ],
             [
              0.5555555555555556,
              "#d8576b"
             ],
             [
              0.6666666666666666,
              "#ed7953"
             ],
             [
              0.7777777777777778,
              "#fb9f3a"
             ],
             [
              0.8888888888888888,
              "#fdca26"
             ],
             [
              1,
              "#f0f921"
             ]
            ],
            "type": "contour"
           }
          ],
          "contourcarpet": [
           {
            "colorbar": {
             "outlinewidth": 0,
             "ticks": ""
            },
            "type": "contourcarpet"
           }
          ],
          "heatmap": [
           {
            "colorbar": {
             "outlinewidth": 0,
             "ticks": ""
            },
            "colorscale": [
             [
              0,
              "#0d0887"
             ],
             [
              0.1111111111111111,
              "#46039f"
             ],
             [
              0.2222222222222222,
              "#7201a8"
             ],
             [
              0.3333333333333333,
              "#9c179e"
             ],
             [
              0.4444444444444444,
              "#bd3786"
             ],
             [
              0.5555555555555556,
              "#d8576b"
             ],
             [
              0.6666666666666666,
              "#ed7953"
             ],
             [
              0.7777777777777778,
              "#fb9f3a"
             ],
             [
              0.8888888888888888,
              "#fdca26"
             ],
             [
              1,
              "#f0f921"
             ]
            ],
            "type": "heatmap"
           }
          ],
          "heatmapgl": [
           {
            "colorbar": {
             "outlinewidth": 0,
             "ticks": ""
            },
            "colorscale": [
             [
              0,
              "#0d0887"
             ],
             [
              0.1111111111111111,
              "#46039f"
             ],
             [
              0.2222222222222222,
              "#7201a8"
             ],
             [
              0.3333333333333333,
              "#9c179e"
             ],
             [
              0.4444444444444444,
              "#bd3786"
             ],
             [
              0.5555555555555556,
              "#d8576b"
             ],
             [
              0.6666666666666666,
              "#ed7953"
             ],
             [
              0.7777777777777778,
              "#fb9f3a"
             ],
             [
              0.8888888888888888,
              "#fdca26"
             ],
             [
              1,
              "#f0f921"
             ]
            ],
            "type": "heatmapgl"
           }
          ],
          "histogram": [
           {
            "marker": {
             "pattern": {
              "fillmode": "overlay",
              "size": 10,
              "solidity": 0.2
             }
            },
            "type": "histogram"
           }
          ],
          "histogram2d": [
           {
            "colorbar": {
             "outlinewidth": 0,
             "ticks": ""
            },
            "colorscale": [
             [
              0,
              "#0d0887"
             ],
             [
              0.1111111111111111,
              "#46039f"
             ],
             [
              0.2222222222222222,
              "#7201a8"
             ],
             [
              0.3333333333333333,
              "#9c179e"
             ],
             [
              0.4444444444444444,
              "#bd3786"
             ],
             [
              0.5555555555555556,
              "#d8576b"
             ],
             [
              0.6666666666666666,
              "#ed7953"
             ],
             [
              0.7777777777777778,
              "#fb9f3a"
             ],
             [
              0.8888888888888888,
              "#fdca26"
             ],
             [
              1,
              "#f0f921"
             ]
            ],
            "type": "histogram2d"
           }
          ],
          "histogram2dcontour": [
           {
            "colorbar": {
             "outlinewidth": 0,
             "ticks": ""
            },
            "colorscale": [
             [
              0,
              "#0d0887"
             ],
             [
              0.1111111111111111,
              "#46039f"
             ],
             [
              0.2222222222222222,
              "#7201a8"
             ],
             [
              0.3333333333333333,
              "#9c179e"
             ],
             [
              0.4444444444444444,
              "#bd3786"
             ],
             [
              0.5555555555555556,
              "#d8576b"
             ],
             [
              0.6666666666666666,
              "#ed7953"
             ],
             [
              0.7777777777777778,
              "#fb9f3a"
             ],
             [
              0.8888888888888888,
              "#fdca26"
             ],
             [
              1,
              "#f0f921"
             ]
            ],
            "type": "histogram2dcontour"
           }
          ],
          "mesh3d": [
           {
            "colorbar": {
             "outlinewidth": 0,
             "ticks": ""
            },
            "type": "mesh3d"
           }
          ],
          "parcoords": [
           {
            "line": {
             "colorbar": {
              "outlinewidth": 0,
              "ticks": ""
             }
            },
            "type": "parcoords"
           }
          ],
          "pie": [
           {
            "automargin": true,
            "type": "pie"
           }
          ],
          "scatter": [
           {
            "fillpattern": {
             "fillmode": "overlay",
             "size": 10,
             "solidity": 0.2
            },
            "type": "scatter"
           }
          ],
          "scatter3d": [
           {
            "line": {
             "colorbar": {
              "outlinewidth": 0,
              "ticks": ""
             }
            },
            "marker": {
             "colorbar": {
              "outlinewidth": 0,
              "ticks": ""
             }
            },
            "type": "scatter3d"
           }
          ],
          "scattercarpet": [
           {
            "marker": {
             "colorbar": {
              "outlinewidth": 0,
              "ticks": ""
             }
            },
            "type": "scattercarpet"
           }
          ],
          "scattergeo": [
           {
            "marker": {
             "colorbar": {
              "outlinewidth": 0,
              "ticks": ""
             }
            },
            "type": "scattergeo"
           }
          ],
          "scattergl": [
           {
            "marker": {
             "colorbar": {
              "outlinewidth": 0,
              "ticks": ""
             }
            },
            "type": "scattergl"
           }
          ],
          "scattermapbox": [
           {
            "marker": {
             "colorbar": {
              "outlinewidth": 0,
              "ticks": ""
             }
            },
            "type": "scattermapbox"
           }
          ],
          "scatterpolar": [
           {
            "marker": {
             "colorbar": {
              "outlinewidth": 0,
              "ticks": ""
             }
            },
            "type": "scatterpolar"
           }
          ],
          "scatterpolargl": [
           {
            "marker": {
             "colorbar": {
              "outlinewidth": 0,
              "ticks": ""
             }
            },
            "type": "scatterpolargl"
           }
          ],
          "scatterternary": [
           {
            "marker": {
             "colorbar": {
              "outlinewidth": 0,
              "ticks": ""
             }
            },
            "type": "scatterternary"
           }
          ],
          "surface": [
           {
            "colorbar": {
             "outlinewidth": 0,
             "ticks": ""
            },
            "colorscale": [
             [
              0,
              "#0d0887"
             ],
             [
              0.1111111111111111,
              "#46039f"
             ],
             [
              0.2222222222222222,
              "#7201a8"
             ],
             [
              0.3333333333333333,
              "#9c179e"
             ],
             [
              0.4444444444444444,
              "#bd3786"
             ],
             [
              0.5555555555555556,
              "#d8576b"
             ],
             [
              0.6666666666666666,
              "#ed7953"
             ],
             [
              0.7777777777777778,
              "#fb9f3a"
             ],
             [
              0.8888888888888888,
              "#fdca26"
             ],
             [
              1,
              "#f0f921"
             ]
            ],
            "type": "surface"
           }
          ],
          "table": [
           {
            "cells": {
             "fill": {
              "color": "#EBF0F8"
             },
             "line": {
              "color": "white"
             }
            },
            "header": {
             "fill": {
              "color": "#C8D4E3"
             },
             "line": {
              "color": "white"
             }
            },
            "type": "table"
           }
          ]
         },
         "layout": {
          "annotationdefaults": {
           "arrowcolor": "#2a3f5f",
           "arrowhead": 0,
           "arrowwidth": 1
          },
          "autotypenumbers": "strict",
          "coloraxis": {
           "colorbar": {
            "outlinewidth": 0,
            "ticks": ""
           }
          },
          "colorscale": {
           "diverging": [
            [
             0,
             "#8e0152"
            ],
            [
             0.1,
             "#c51b7d"
            ],
            [
             0.2,
             "#de77ae"
            ],
            [
             0.3,
             "#f1b6da"
            ],
            [
             0.4,
             "#fde0ef"
            ],
            [
             0.5,
             "#f7f7f7"
            ],
            [
             0.6,
             "#e6f5d0"
            ],
            [
             0.7,
             "#b8e186"
            ],
            [
             0.8,
             "#7fbc41"
            ],
            [
             0.9,
             "#4d9221"
            ],
            [
             1,
             "#276419"
            ]
           ],
           "sequential": [
            [
             0,
             "#0d0887"
            ],
            [
             0.1111111111111111,
             "#46039f"
            ],
            [
             0.2222222222222222,
             "#7201a8"
            ],
            [
             0.3333333333333333,
             "#9c179e"
            ],
            [
             0.4444444444444444,
             "#bd3786"
            ],
            [
             0.5555555555555556,
             "#d8576b"
            ],
            [
             0.6666666666666666,
             "#ed7953"
            ],
            [
             0.7777777777777778,
             "#fb9f3a"
            ],
            [
             0.8888888888888888,
             "#fdca26"
            ],
            [
             1,
             "#f0f921"
            ]
           ],
           "sequentialminus": [
            [
             0,
             "#0d0887"
            ],
            [
             0.1111111111111111,
             "#46039f"
            ],
            [
             0.2222222222222222,
             "#7201a8"
            ],
            [
             0.3333333333333333,
             "#9c179e"
            ],
            [
             0.4444444444444444,
             "#bd3786"
            ],
            [
             0.5555555555555556,
             "#d8576b"
            ],
            [
             0.6666666666666666,
             "#ed7953"
            ],
            [
             0.7777777777777778,
             "#fb9f3a"
            ],
            [
             0.8888888888888888,
             "#fdca26"
            ],
            [
             1,
             "#f0f921"
            ]
           ]
          },
          "colorway": [
           "#636efa",
           "#EF553B",
           "#00cc96",
           "#ab63fa",
           "#FFA15A",
           "#19d3f3",
           "#FF6692",
           "#B6E880",
           "#FF97FF",
           "#FECB52"
          ],
          "font": {
           "color": "#2a3f5f"
          },
          "geo": {
           "bgcolor": "white",
           "lakecolor": "white",
           "landcolor": "#E5ECF6",
           "showlakes": true,
           "showland": true,
           "subunitcolor": "white"
          },
          "hoverlabel": {
           "align": "left"
          },
          "hovermode": "closest",
          "mapbox": {
           "style": "light"
          },
          "paper_bgcolor": "white",
          "plot_bgcolor": "#E5ECF6",
          "polar": {
           "angularaxis": {
            "gridcolor": "white",
            "linecolor": "white",
            "ticks": ""
           },
           "bgcolor": "#E5ECF6",
           "radialaxis": {
            "gridcolor": "white",
            "linecolor": "white",
            "ticks": ""
           }
          },
          "scene": {
           "xaxis": {
            "backgroundcolor": "#E5ECF6",
            "gridcolor": "white",
            "gridwidth": 2,
            "linecolor": "white",
            "showbackground": true,
            "ticks": "",
            "zerolinecolor": "white"
           },
           "yaxis": {
            "backgroundcolor": "#E5ECF6",
            "gridcolor": "white",
            "gridwidth": 2,
            "linecolor": "white",
            "showbackground": true,
            "ticks": "",
            "zerolinecolor": "white"
           },
           "zaxis": {
            "backgroundcolor": "#E5ECF6",
            "gridcolor": "white",
            "gridwidth": 2,
            "linecolor": "white",
            "showbackground": true,
            "ticks": "",
            "zerolinecolor": "white"
           }
          },
          "shapedefaults": {
           "line": {
            "color": "#2a3f5f"
           }
          },
          "ternary": {
           "aaxis": {
            "gridcolor": "white",
            "linecolor": "white",
            "ticks": ""
           },
           "baxis": {
            "gridcolor": "white",
            "linecolor": "white",
            "ticks": ""
           },
           "bgcolor": "#E5ECF6",
           "caxis": {
            "gridcolor": "white",
            "linecolor": "white",
            "ticks": ""
           }
          },
          "title": {
           "x": 0.05
          },
          "xaxis": {
           "automargin": true,
           "gridcolor": "white",
           "linecolor": "white",
           "ticks": "",
           "title": {
            "standoff": 15
           },
           "zerolinecolor": "white",
           "zerolinewidth": 2
          },
          "yaxis": {
           "automargin": true,
           "gridcolor": "white",
           "linecolor": "white",
           "ticks": "",
           "title": {
            "standoff": 15
           },
           "zerolinecolor": "white",
           "zerolinewidth": 2
          }
         }
        },
        "xaxis": {
         "anchor": "y",
         "domain": [
          0,
          1
         ],
         "title": {
          "text": "GrLivArea"
         }
        },
        "yaxis": {
         "anchor": "x",
         "domain": [
          0,
          1
         ],
         "title": {
          "text": "SalePrice"
         }
        }
       }
      }
     },
     "metadata": {},
     "output_type": "display_data"
    }
   ],
   "source": [
    "fig = px.scatter(train, x=\"GrLivArea\", y=label, hover_data=['Id'],color='Neighborhood',height=800)\n",
    "fig.show()"
   ]
  },
  {
   "cell_type": "code",
   "execution_count": 16,
   "metadata": {},
   "outputs": [
    {
     "data": {
      "application/vnd.plotly.v1+json": {
       "config": {
        "plotlyServerURL": "https://plot.ly"
       },
       "data": [
        {
         "customdata": [
          [
           1
          ],
          [
           3
          ],
          [
           14
          ],
          [
           23
          ],
          [
           33
          ],
          [
           37
          ],
          [
           44
          ],
          [
           58
          ],
          [
           60
          ],
          [
           65
          ],
          [
           68
          ],
          [
           90
          ],
          [
           95
          ],
          [
           97
          ],
          [
           104
          ],
          [
           113
          ],
          [
           120
          ],
          [
           139
          ],
          [
           140
          ],
          [
           142
          ],
          [
           144
          ],
          [
           151
          ],
          [
           193
          ],
          [
           195
          ],
          [
           204
          ],
          [
           214
          ],
          [
           215
          ],
          [
           217
          ],
          [
           221
          ],
          [
           234
          ],
          [
           237
          ],
          [
           249
          ],
          [
           258
          ],
          [
           259
          ],
          [
           262
          ],
          [
           291
          ],
          [
           302
          ],
          [
           303
          ],
          [
           304
          ],
          [
           306
          ],
          [
           338
          ],
          [
           356
          ],
          [
           375
          ],
          [
           377
          ],
          [
           383
          ],
          [
           389
          ],
          [
           397
          ],
          [
           402
          ],
          [
           429
          ],
          [
           436
          ],
          [
           445
          ],
          [
           465
          ],
          [
           477
          ],
          [
           479
          ],
          [
           519
          ],
          [
           537
          ],
          [
           540
          ],
          [
           591
          ],
          [
           594
          ],
          [
           595
          ],
          [
           605
          ],
          [
           607
          ],
          [
           611
          ],
          [
           613
          ],
          [
           653
          ],
          [
           671
          ],
          [
           684
          ],
          [
           691
          ],
          [
           705
          ],
          [
           720
          ],
          [
           722
          ],
          [
           728
          ],
          [
           733
          ],
          [
           740
          ],
          [
           753
          ],
          [
           757
          ],
          [
           769
          ],
          [
           777
          ],
          [
           783
          ],
          [
           803
          ],
          [
           812
          ],
          [
           816
          ],
          [
           821
          ],
          [
           833
          ],
          [
           839
          ],
          [
           848
          ],
          [
           851
          ],
          [
           857
          ],
          [
           872
          ],
          [
           880
          ],
          [
           912
          ],
          [
           929
          ],
          [
           934
          ],
          [
           939
          ],
          [
           949
          ],
          [
           953
          ],
          [
           959
          ],
          [
           964
          ],
          [
           984
          ],
          [
           994
          ],
          [
           1000
          ],
          [
           1006
          ],
          [
           1017
          ],
          [
           1022
          ],
          [
           1026
          ],
          [
           1034
          ],
          [
           1038
          ],
          [
           1048
          ],
          [
           1052
          ],
          [
           1055
          ],
          [
           1075
          ],
          [
           1079
          ],
          [
           1080
          ],
          [
           1083
          ],
          [
           1096
          ],
          [
           1122
          ],
          [
           1143
          ],
          [
           1167
          ],
          [
           1189
          ],
          [
           1199
          ],
          [
           1202
          ],
          [
           1204
          ],
          [
           1208
          ],
          [
           1238
          ],
          [
           1241
          ],
          [
           1279
          ],
          [
           1281
          ],
          [
           1283
          ],
          [
           1308
          ],
          [
           1312
          ],
          [
           1317
          ],
          [
           1319
          ],
          [
           1332
          ],
          [
           1339
          ],
          [
           1340
          ],
          [
           1343
          ],
          [
           1345
          ],
          [
           1355
          ],
          [
           1367
          ],
          [
           1369
          ],
          [
           1370
          ],
          [
           1373
          ],
          [
           1391
          ],
          [
           1403
          ],
          [
           1407
          ],
          [
           1411
          ],
          [
           1423
          ],
          [
           1442
          ],
          [
           1445
          ],
          [
           1448
          ]
         ],
         "hovertemplate": "Neighborhood=CollgCr<br>GrLivArea=%{x}<br>SalePrice=%{y}<br>Id=%{customdata[0]}<extra></extra>",
         "legendgroup": "CollgCr",
         "marker": {
          "color": "#636efa",
          "symbol": "circle"
         },
         "mode": "markers",
         "name": "CollgCr",
         "showlegend": true,
         "type": "scattergl",
         "x": [
          1710,
          1786,
          1494,
          1795,
          1234,
          1097,
          938,
          1720,
          780,
          2034,
          1479,
          990,
          1786,
          1588,
          1226,
          2696,
          1456,
          1852,
          1764,
          1734,
          1501,
          969,
          1431,
          864,
          848,
          990,
          1392,
          1436,
          1498,
          894,
          1414,
          1668,
          1604,
          1792,
          2574,
          1919,
          2452,
          1541,
          894,
          2000,
          1536,
          1200,
          1928,
          914,
          1797,
          1479,
          894,
          1310,
          1208,
          1661,
          1908,
          1040,
          1493,
          1718,
          1796,
          1724,
          1601,
          1582,
          848,
          924,
          1494,
          1040,
          2153,
          1872,
          1716,
          1476,
          1668,
          848,
          1484,
          971,
          848,
          1232,
          2031,
          1728,
          1494,
          1768,
          1836,
          1614,
          1430,
          1456,
          848,
          1661,
          1640,
          1829,
          1099,
          864,
          848,
          1026,
          1682,
          864,
          1268,
          1788,
          1500,
          1962,
          1776,
          768,
          1337,
          1800,
          2290,
          1500,
          1208,
          985,
          1504,
          1220,
          882,
          1654,
          2263,
          990,
          1316,
          1989,
          1240,
          848,
          990,
          1459,
          1314,
          1552,
          2828,
          1694,
          1660,
          1212,
          1779,
          1630,
          1700,
          1948,
          1768,
          2031,
          1573,
          1040,
          990,
          1274,
          1630,
          1787,
          954,
          1861,
          864,
          2169,
          1456,
          1865,
          1790,
          848,
          1668,
          2097,
          1525,
          1294,
          768,
          1840,
          848,
          848,
          1422,
          2090
         ],
         "xaxis": "x",
         "y": [
          208500,
          223500,
          279500,
          230000,
          179900,
          145000,
          130250,
          196500,
          124900,
          219500,
          226000,
          123600,
          204750,
          214000,
          198900,
          383970,
          163990,
          230000,
          231500,
          260000,
          204000,
          122000,
          192000,
          127000,
          149000,
          156000,
          161750,
          210000,
          204900,
          128200,
          185500,
          180000,
          220000,
          231500,
          276000,
          233230,
          267000,
          205000,
          149900,
          305900,
          214000,
          177500,
          219500,
          148000,
          213500,
          191000,
          123000,
          164990,
          195400,
          212000,
          210000,
          124000,
          208900,
          297000,
          211000,
          188000,
          272000,
          185900,
          140000,
          110000,
          221000,
          152000,
          313000,
          261500,
          191000,
          173500,
          285000,
          141000,
          213000,
          128500,
          143000,
          194500,
          222500,
          190000,
          217000,
          212000,
          216837,
          221500,
          187100,
          189000,
          144500,
          224900,
          183000,
          237000,
          144000,
          133500,
          131500,
          147000,
          200500,
          136500,
          143500,
          236500,
          190000,
          239799,
          192500,
          133900,
          185000,
          239000,
          255900,
          173900,
          206000,
          149900,
          203000,
          194000,
          112500,
          230000,
          287000,
          145000,
          200141,
          255000,
          194000,
          155900,
          126000,
          192000,
          176432,
          212900,
          424870,
          245350,
          195000,
          178000,
          197900,
          213000,
          200000,
          195000,
          224900,
          237000,
          227000,
          150500,
          138000,
          203000,
          295493,
          275000,
          132500,
          200000,
          128500,
          228500,
          155835,
          235000,
          193000,
          144000,
          232000,
          274300,
          235000,
          193879,
          133000,
          230000,
          136500,
          149300,
          179600,
          240000
         ],
         "yaxis": "y"
        },
        {
         "customdata": [
          [
           2
          ],
          [
           54
          ],
          [
           161
          ],
          [
           327
          ],
          [
           401
          ],
          [
           673
          ],
          [
           765
          ],
          [
           850
          ],
          [
           1156
          ],
          [
           1165
          ],
          [
           1254
          ]
         ],
         "hovertemplate": "Neighborhood=Veenker<br>GrLivArea=%{x}<br>SalePrice=%{y}<br>Id=%{customdata[0]}<extra></extra>",
         "legendgroup": "Veenker",
         "marker": {
          "color": "#EF553B",
          "symbol": "circle"
         },
         "mode": "markers",
         "name": "Veenker",
         "showlegend": true,
         "type": "scattergl",
         "x": [
          1262,
          1842,
          1232,
          1719,
          1288,
          1208,
          1494,
          1855,
          1437,
          1432,
          2167
         ],
         "xaxis": "x",
         "y": [
          181500,
          385000,
          162500,
          324000,
          245500,
          165000,
          270000,
          187000,
          218000,
          194000,
          294000
         ],
         "yaxis": "y"
        },
        {
         "customdata": [
          [
           4
          ],
          [
           93
          ],
          [
           114
          ],
          [
           115
          ],
          [
           182
          ],
          [
           191
          ],
          [
           219
          ],
          [
           252
          ],
          [
           300
          ],
          [
           301
          ],
          [
           408
          ],
          [
           418
          ],
          [
           439
          ],
          [
           464
          ],
          [
           504
          ],
          [
           515
          ],
          [
           520
          ],
          [
           530
          ],
          [
           599
          ],
          [
           609
          ],
          [
           658
          ],
          [
           670
          ],
          [
           674
          ],
          [
           727
          ],
          [
           853
          ],
          [
           861
          ],
          [
           908
          ],
          [
           914
          ],
          [
           956
          ],
          [
           967
          ],
          [
           1013
          ],
          [
           1035
          ],
          [
           1060
          ],
          [
           1076
          ],
          [
           1148
          ],
          [
           1153
          ],
          [
           1162
          ],
          [
           1175
          ],
          [
           1179
          ],
          [
           1182
          ],
          [
           1236
          ],
          [
           1245
          ],
          [
           1269
          ],
          [
           1275
          ],
          [
           1302
          ],
          [
           1311
          ],
          [
           1344
          ],
          [
           1406
          ],
          [
           1420
          ],
          [
           1441
          ],
          [
           1458
          ]
         ],
         "hovertemplate": "Neighborhood=Crawfor<br>GrLivArea=%{x}<br>SalePrice=%{y}<br>Id=%{customdata[0]}<extra></extra>",
         "legendgroup": "Crawfor",
         "marker": {
          "color": "#00cc96",
          "symbol": "circle"
         },
         "mode": "markers",
         "name": "Crawfor",
         "showlegend": true,
         "type": "scattergl",
         "x": [
          1717,
          964,
          2259,
          2320,
          1802,
          2727,
          1954,
          1625,
          1152,
          1336,
          1680,
          2624,
          694,
          1660,
          1801,
          789,
          2080,
          2515,
          1647,
          3194,
          1502,
          1180,
          1839,
          1680,
          1646,
          1426,
          2057,
          2002,
          1958,
          1308,
          1502,
          954,
          1991,
          1740,
          1564,
          1811,
          1640,
          2345,
          1343,
          1652,
          1784,
          1517,
          3447,
          1250,
          1494,
          1902,
          1913,
          1646,
          1844,
          2555,
          2340
         ],
         "xaxis": "x",
         "y": [
          140000,
          163500,
          217000,
          259500,
          200100,
          315000,
          311500,
          235000,
          158500,
          157000,
          177000,
          239000,
          90350,
          188700,
          289000,
          96500,
          234000,
          200624,
          217500,
          359100,
          149000,
          137500,
          257500,
          222000,
          164000,
          189950,
          250000,
          145000,
          145000,
          160000,
          165000,
          119750,
          220000,
          219500,
          174500,
          230000,
          224000,
          239000,
          154900,
          392500,
          138887,
          230000,
          381000,
          139000,
          177500,
          335000,
          177000,
          275000,
          223000,
          191000,
          266500
         ],
         "yaxis": "y"
        },
        {
         "customdata": [
          [
           5
          ],
          [
           86
          ],
          [
           227
          ],
          [
           232
          ],
          [
           273
          ],
          [
           319
          ],
          [
           360
          ],
          [
           404
          ],
          [
           424
          ],
          [
           497
          ],
          [
           518
          ],
          [
           525
          ],
          [
           542
          ],
          [
           565
          ],
          [
           655
          ],
          [
           662
          ],
          [
           685
          ],
          [
           692
          ],
          [
           719
          ],
          [
           749
          ],
          [
           760
          ],
          [
           764
          ],
          [
           793
          ],
          [
           982
          ],
          [
           991
          ],
          [
           1033
          ],
          [
           1058
          ],
          [
           1106
          ],
          [
           1170
          ],
          [
           1176
          ],
          [
           1183
          ],
          [
           1188
          ],
          [
           1257
          ],
          [
           1303
          ],
          [
           1313
          ],
          [
           1314
          ],
          [
           1323
          ],
          [
           1354
          ],
          [
           1374
          ],
          [
           1418
          ],
          [
           1427
          ]
         ],
         "hovertemplate": "Neighborhood=NoRidge<br>GrLivArea=%{x}<br>SalePrice=%{y}<br>Id=%{customdata[0]}<extra></extra>",
         "legendgroup": "NoRidge",
         "marker": {
          "color": "#ab63fa",
          "symbol": "circle"
         },
         "mode": "markers",
         "name": "NoRidge",
         "showlegend": true,
         "type": "scattergl",
         "x": [
          2198,
          2417,
          2520,
          2794,
          2270,
          2646,
          1924,
          2263,
          2630,
          3228,
          2344,
          2398,
          2285,
          2295,
          2113,
          2448,
          1839,
          4316,
          2418,
          1720,
          2531,
          2365,
          2013,
          2612,
          2392,
          2520,
          1850,
          2622,
          3627,
          2872,
          4476,
          1624,
          1987,
          2526,
          2810,
          2599,
          1923,
          3238,
          2633,
          2450,
          2127
         ],
         "xaxis": "x",
         "y": [
          250000,
          260000,
          290000,
          403000,
          290000,
          260000,
          280000,
          258000,
          315000,
          430000,
          265000,
          315750,
          248000,
          268000,
          350000,
          402000,
          221000,
          755000,
          341000,
          260400,
          290000,
          337000,
          269790,
          336000,
          348000,
          310000,
          248000,
          325000,
          625000,
          285000,
          745000,
          262000,
          301500,
          290000,
          302000,
          333168,
          190000,
          410000,
          466500,
          340000,
          271000
         ],
         "yaxis": "y"
        },
        {
         "customdata": [
          [
           6
          ],
          [
           47
          ],
          [
           72
          ],
          [
           82
          ],
          [
           138
          ],
          [
           187
          ],
          [
           202
          ],
          [
           275
          ],
          [
           277
          ],
          [
           296
          ],
          [
           361
          ],
          [
           392
          ],
          [
           421
          ],
          [
           423
          ],
          [
           455
          ],
          [
           484
          ],
          [
           514
          ],
          [
           548
          ],
          [
           562
          ],
          [
           593
          ],
          [
           614
          ],
          [
           768
          ],
          [
           776
          ],
          [
           780
          ],
          [
           784
          ],
          [
           792
          ],
          [
           818
          ],
          [
           877
          ],
          [
           909
          ],
          [
           941
          ],
          [
           944
          ],
          [
           954
          ],
          [
           985
          ],
          [
           1009
          ],
          [
           1049
          ],
          [
           1132
          ],
          [
           1139
          ],
          [
           1171
          ],
          [
           1177
          ],
          [
           1191
          ],
          [
           1194
          ],
          [
           1248
          ],
          [
           1253
          ],
          [
           1284
          ],
          [
           1328
          ],
          [
           1408
          ],
          [
           1435
          ],
          [
           1447
          ],
          [
           1454
          ]
         ],
         "hovertemplate": "Neighborhood=Mitchel<br>GrLivArea=%{x}<br>SalePrice=%{y}<br>Id=%{customdata[0]}<extra></extra>",
         "legendgroup": "Mitchel",
         "marker": {
          "color": "#FFA15A",
          "symbol": "circle"
         },
         "mode": "markers",
         "name": "Mitchel",
         "showlegend": true,
         "type": "scattergl",
         "x": [
          1362,
          2149,
          845,
          1337,
          1959,
          1217,
          1279,
          816,
          1560,
          1003,
          912,
          1961,
          1344,
          988,
          1728,
          1216,
          1080,
          768,
          1389,
          816,
          1120,
          1750,
          1204,
          1004,
          1110,
          1062,
          1689,
          1040,
          902,
          1728,
          1632,
          1968,
          1734,
          1710,
          1771,
          974,
          1567,
          1118,
          923,
          1622,
          1224,
          1034,
          874,
          1824,
          816,
          833,
          1126,
          1188,
          1140
         ],
         "xaxis": "x",
         "y": [
          143000,
          239686,
          129500,
          153500,
          171000,
          173000,
          171500,
          124500,
          201000,
          142500,
          156000,
          215000,
          206300,
          113000,
          188000,
          164000,
          134000,
          129500,
          170000,
          138000,
          147000,
          160000,
          162000,
          135000,
          165500,
          146800,
          271000,
          132250,
          131000,
          150900,
          143000,
          172000,
          126000,
          240000,
          115000,
          93500,
          196000,
          171000,
          119500,
          168000,
          165000,
          169900,
          130000,
          139000,
          130500,
          112000,
          160000,
          157900,
          84500
         ],
         "yaxis": "y"
        },
        {
         "customdata": [
          [
           7
          ],
          [
           48
          ],
          [
           57
          ],
          [
           83
          ],
          [
           88
          ],
          [
           106
          ],
          [
           116
          ],
          [
           159
          ],
          [
           181
          ],
          [
           197
          ],
          [
           213
          ],
          [
           241
          ],
          [
           257
          ],
          [
           271
          ],
          [
           282
          ],
          [
           284
          ],
          [
           286
          ],
          [
           298
          ],
          [
           318
          ],
          [
           378
          ],
          [
           382
          ],
          [
           400
          ],
          [
           410
          ],
          [
           413
          ],
          [
           454
          ],
          [
           461
          ],
          [
           502
          ],
          [
           508
          ],
          [
           526
          ],
          [
           550
          ],
          [
           579
          ],
          [
           604
          ],
          [
           624
          ],
          [
           642
          ],
          [
           645
          ],
          [
           651
          ],
          [
           665
          ],
          [
           687
          ],
          [
           688
          ],
          [
           700
          ],
          [
           756
          ],
          [
           759
          ],
          [
           763
          ],
          [
           766
          ],
          [
           794
          ],
          [
           806
          ],
          [
           825
          ],
          [
           830
          ],
          [
           832
          ],
          [
           865
          ],
          [
           876
          ],
          [
           886
          ],
          [
           907
          ],
          [
           915
          ],
          [
           933
          ],
          [
           938
          ],
          [
           960
          ],
          [
           974
          ],
          [
           976
          ],
          [
           978
          ],
          [
           990
          ],
          [
           1003
          ],
          [
           1088
          ],
          [
           1090
          ],
          [
           1092
          ],
          [
           1159
          ],
          [
           1173
          ],
          [
           1192
          ],
          [
           1210
          ],
          [
           1218
          ],
          [
           1227
          ],
          [
           1242
          ],
          [
           1247
          ],
          [
           1266
          ],
          [
           1304
          ],
          [
           1318
          ],
          [
           1325
          ],
          [
           1331
          ],
          [
           1359
          ],
          [
           1365
          ],
          [
           1366
          ],
          [
           1375
          ],
          [
           1404
          ],
          [
           1443
          ],
          [
           1452
          ],
          [
           1455
          ]
         ],
         "hovertemplate": "Neighborhood=Somerst<br>GrLivArea=%{x}<br>SalePrice=%{y}<br>Id=%{customdata[0]}<extra></extra>",
         "legendgroup": "Somerst",
         "marker": {
          "color": "#19d3f3",
          "symbol": "circle"
         },
         "mode": "markers",
         "name": "Somerst",
         "showlegend": true,
         "type": "scattergl",
         "x": [
          1694,
          1656,
          1739,
          1563,
          1224,
          1992,
          1458,
          1947,
          1525,
          1726,
          1852,
          1566,
          1728,
          1939,
          1262,
          1468,
          1250,
          1950,
          1959,
          2466,
          1301,
          1550,
          2078,
          1478,
          1590,
          1935,
          1768,
          1218,
          1266,
          2094,
          1392,
          1200,
          1512,
          1929,
          1766,
          1665,
          2097,
          1761,
          1102,
          1391,
          1471,
          1501,
          1547,
          1506,
          1496,
          1428,
          1489,
          1223,
          1200,
          1372,
          2610,
          1709,
          1636,
          1224,
          1905,
          1971,
          1416,
          1428,
          1382,
          1241,
          1576,
          1574,
          1953,
          1247,
          1252,
          1580,
          1250,
          1441,
          1660,
          1314,
          1933,
          1689,
          1553,
          1452,
          1616,
          1352,
          1795,
          1588,
          1573,
          1200,
          1674,
          1958,
          1464,
          2007,
          1578,
          1221
         ],
         "xaxis": "x",
         "y": [
          307000,
          249700,
          172500,
          245000,
          164500,
          250000,
          176000,
          254900,
          177000,
          311872,
          252678,
          262500,
          207500,
          266000,
          185000,
          244600,
          164700,
          239000,
          270000,
          340000,
          187750,
          241000,
          339750,
          222000,
          210000,
          263435,
          226700,
          208300,
          176000,
          263000,
          146000,
          151000,
          168500,
          226000,
          370878,
          205950,
          423000,
          227875,
          148800,
          196000,
          172500,
          179400,
          215200,
          264132,
          225000,
          227680,
          232600,
          147400,
          151000,
          250580,
          303477,
          328900,
          255000,
          173733,
          320000,
          253000,
          155000,
          182000,
          165000,
          199900,
          197000,
          232000,
          252000,
          197000,
          160000,
          235128,
          171900,
          174000,
          290000,
          229456,
          214000,
          248328,
          186500,
          183900,
          232000,
          208900,
          147000,
          227000,
          177500,
          144152,
          216000,
          250000,
          282922,
          310000,
          287090,
          185000
         ],
         "yaxis": "y"
        },
        {
         "customdata": [
          [
           8
          ],
          [
           101
          ],
          [
           110
          ],
          [
           125
          ],
          [
           136
          ],
          [
           153
          ],
          [
           223
          ],
          [
           246
          ],
          [
           266
          ],
          [
           294
          ],
          [
           299
          ],
          [
           317
          ],
          [
           320
          ],
          [
           339
          ],
          [
           365
          ],
          [
           422
          ],
          [
           456
          ],
          [
           472
          ],
          [
           488
          ],
          [
           517
          ],
          [
           543
          ],
          [
           546
          ],
          [
           612
          ],
          [
           622
          ],
          [
           625
          ],
          [
           633
          ],
          [
           644
          ],
          [
           661
          ],
          [
           702
          ],
          [
           716
          ],
          [
           718
          ],
          [
           746
          ],
          [
           767
          ],
          [
           786
          ],
          [
           811
          ],
          [
           859
          ],
          [
           860
          ],
          [
           925
          ],
          [
           926
          ],
          [
           928
          ],
          [
           950
          ],
          [
           962
          ],
          [
           989
          ],
          [
           998
          ],
          [
           1004
          ],
          [
           1016
          ],
          [
           1042
          ],
          [
           1045
          ],
          [
           1056
          ],
          [
           1072
          ],
          [
           1081
          ],
          [
           1100
          ],
          [
           1112
          ],
          [
           1142
          ],
          [
           1160
          ],
          [
           1205
          ],
          [
           1243
          ],
          [
           1246
          ],
          [
           1272
          ],
          [
           1277
          ],
          [
           1278
          ],
          [
           1287
          ],
          [
           1294
          ],
          [
           1336
          ],
          [
           1337
          ],
          [
           1347
          ],
          [
           1356
          ],
          [
           1387
          ],
          [
           1410
          ],
          [
           1421
          ],
          [
           1430
          ],
          [
           1440
          ],
          [
           1457
          ]
         ],
         "hovertemplate": "Neighborhood=NWAmes<br>GrLivArea=%{x}<br>SalePrice=%{y}<br>Id=%{customdata[0]}<extra></extra>",
         "legendgroup": "NWAmes",
         "marker": {
          "color": "#FF6692",
          "symbol": "circle"
         },
         "mode": "markers",
         "name": "NWAmes",
         "showlegend": true,
         "type": "scattergl",
         "x": [
          2090,
          1610,
          1844,
          1586,
          1682,
          1993,
          1552,
          1872,
          1422,
          2263,
          1743,
          2353,
          1472,
          1621,
          1574,
          1602,
          1242,
          1969,
          1484,
          2119,
          1680,
          2183,
          1032,
          2614,
          1790,
          1411,
          1620,
          1935,
          1164,
          1350,
          1178,
          2715,
          1714,
          1342,
          1309,
          1370,
          2654,
          1686,
          1126,
          1978,
          1381,
          2872,
          2030,
          1442,
          1680,
          1665,
          1632,
          2524,
          1523,
          1556,
          1258,
          1601,
          1964,
          1868,
          1876,
          1074,
          1173,
          1868,
          1489,
          1395,
          1724,
          1328,
          1664,
          1334,
          1656,
          2156,
          1920,
          2784,
          2093,
          1416,
          1440,
          1725,
          2073
         ],
         "xaxis": "x",
         "y": [
          200000,
          205000,
          190000,
          181000,
          174000,
          190000,
          179900,
          241500,
          175500,
          235000,
          175000,
          260000,
          187500,
          202500,
          190000,
          215000,
          175500,
          190000,
          175000,
          158000,
          213250,
          229000,
          148000,
          240000,
          165150,
          82500,
          152000,
          197900,
          140000,
          165000,
          157000,
          299800,
          196500,
          161500,
          181000,
          152000,
          250000,
          207500,
          175000,
          176000,
          197500,
          272000,
          195000,
          185000,
          136905,
          227000,
          173000,
          278000,
          180000,
          154000,
          145000,
          157000,
          205000,
          197500,
          185000,
          153500,
          170000,
          178000,
          185750,
          162000,
          197900,
          143000,
          162900,
          167900,
          135000,
          262500,
          170000,
          250000,
          215000,
          179900,
          182900,
          197000,
          210000
         ],
         "yaxis": "y"
        },
        {
         "customdata": [
          [
           9
          ],
          [
           49
          ],
          [
           64
          ],
          [
           69
          ],
          [
           75
          ],
          [
           80
          ],
          [
           94
          ],
          [
           107
          ],
          [
           108
          ],
          [
           128
          ],
          [
           155
          ],
          [
           164
          ],
          [
           165
          ],
          [
           171
          ],
          [
           180
          ],
          [
           184
          ],
          [
           186
          ],
          [
           188
          ],
          [
           199
          ],
          [
           203
          ],
          [
           205
          ],
          [
           218
          ],
          [
           242
          ],
          [
           243
          ],
          [
           247
          ],
          [
           260
          ],
          [
           264
          ],
          [
           265
          ],
          [
           305
          ],
          [
           313
          ],
          [
           315
          ],
          [
           324
          ],
          [
           354
          ],
          [
           395
          ],
          [
           414
          ],
          [
           426
          ],
          [
           432
          ],
          [
           437
          ],
          [
           450
          ],
          [
           451
          ],
          [
           457
          ],
          [
           459
          ],
          [
           480
          ],
          [
           483
          ],
          [
           489
          ],
          [
           495
          ],
          [
           506
          ],
          [
           509
          ],
          [
           521
          ],
          [
           549
          ],
          [
           552
          ],
          [
           580
          ],
          [
           584
          ],
          [
           597
          ],
          [
           631
          ],
          [
           635
          ],
          [
           638
          ],
          [
           677
          ],
          [
           678
          ],
          [
           694
          ],
          [
           704
          ],
          [
           717
          ],
          [
           736
          ],
          [
           741
          ],
          [
           748
          ],
          [
           751
          ],
          [
           785
          ],
          [
           787
          ],
          [
           789
          ],
          [
           810
          ],
          [
           822
          ],
          [
           837
          ],
          [
           842
          ],
          [
           845
          ],
          [
           875
          ],
          [
           946
          ],
          [
           969
          ],
          [
           987
          ],
          [
           992
          ],
          [
           1002
          ],
          [
           1014
          ],
          [
           1023
          ],
          [
           1063
          ],
          [
           1064
          ],
          [
           1077
          ],
          [
           1115
          ],
          [
           1130
          ],
          [
           1133
          ],
          [
           1149
          ],
          [
           1150
          ],
          [
           1178
          ],
          [
           1184
          ],
          [
           1187
          ],
          [
           1193
          ],
          [
           1198
          ],
          [
           1249
          ],
          [
           1267
          ],
          [
           1293
          ],
          [
           1309
          ],
          [
           1329
          ],
          [
           1338
          ],
          [
           1346
          ],
          [
           1350
          ],
          [
           1371
          ],
          [
           1383
          ],
          [
           1388
          ],
          [
           1394
          ],
          [
           1405
          ],
          [
           1409
          ],
          [
           1417
          ],
          [
           1429
          ],
          [
           1433
          ],
          [
           1439
          ]
         ],
         "hovertemplate": "Neighborhood=OldTown<br>GrLivArea=%{x}<br>SalePrice=%{y}<br>Id=%{customdata[0]}<extra></extra>",
         "legendgroup": "OldTown",
         "marker": {
          "color": "#B6E880",
          "symbol": "circle"
         },
         "mode": "markers",
         "name": "OldTown",
         "showlegend": true,
         "type": "scattergl",
         "x": [
          1774,
          1452,
          1710,
          747,
          1605,
          1230,
          2291,
          1047,
          789,
          840,
          1200,
          882,
          1616,
          1382,
          968,
          2082,
          3608,
          1656,
          2229,
          1310,
          1284,
          1328,
          866,
          1440,
          1928,
          882,
          1316,
          764,
          3493,
          1118,
          1641,
          1163,
          720,
          1034,
          1028,
          1389,
          1198,
          1118,
          1183,
          813,
          1344,
          1666,
          1131,
          1826,
          2414,
          886,
          1960,
          1378,
          1294,
          825,
          928,
          1795,
          2775,
          1368,
          1750,
          1056,
          1387,
          1774,
          792,
          1073,
          1812,
          2554,
          1768,
          1432,
          2640,
          1140,
          1484,
          1652,
          901,
          2138,
          936,
          1559,
          1539,
          1416,
          1131,
          1869,
          968,
          1635,
          1742,
          691,
          1022,
          1248,
          2337,
          1103,
          1466,
          833,
          936,
          2210,
          1111,
          1482,
          1224,
          1130,
          1699,
          1472,
          1690,
          2058,
          1889,
          2372,
          1122,
          2792,
          693,
          960,
          2358,
          1374,
          1762,
          2526,
          1912,
          1214,
          1363,
          2290,
          804,
          968,
          1236
         ],
         "xaxis": "x",
         "y": [
          129900,
          113000,
          140000,
          80000,
          107400,
          110000,
          133900,
          100000,
          115000,
          87000,
          125000,
          103200,
          152000,
          128500,
          100000,
          200000,
          475000,
          135000,
          104000,
          112000,
          110000,
          107000,
          110500,
          79000,
          137000,
          97000,
          130000,
          73000,
          295000,
          119900,
          178000,
          126175,
          105900,
          109000,
          115000,
          135000,
          79900,
          116000,
          120000,
          110000,
          98000,
          161000,
          89471,
          155000,
          160000,
          91300,
          124500,
          161000,
          106250,
          125000,
          112500,
          131500,
          325000,
          114504,
          124000,
          144000,
          93000,
          87000,
          109500,
          108480,
          140000,
          159500,
          163000,
          132000,
          265979,
          96500,
          128000,
          139000,
          107900,
          106000,
          93000,
          153500,
          157500,
          153900,
          66500,
          124900,
          37900,
          117000,
          168000,
          86000,
          85000,
          87000,
          90000,
          110500,
          170000,
          117000,
          140000,
          117500,
          116900,
          143000,
          115000,
          120000,
          95000,
          125000,
          144000,
          129500,
          122000,
          107500,
          147000,
          256000,
          52500,
          108500,
          122000,
          105000,
          157000,
          136000,
          163000,
          105000,
          125500,
          122500,
          119000,
          64500,
          149700
         ],
         "yaxis": "y"
        },
        {
         "customdata": [
          [
           10
          ],
          [
           16
          ],
          [
           30
          ],
          [
           52
          ],
          [
           78
          ],
          [
           147
          ],
          [
           150
          ],
          [
           185
          ],
          [
           251
          ],
          [
           276
          ],
          [
           290
          ],
          [
           329
          ],
          [
           346
          ],
          [
           362
          ],
          [
           394
          ],
          [
           438
          ],
          [
           443
          ],
          [
           460
          ],
          [
           498
          ],
          [
           523
          ],
          [
           532
          ],
          [
           534
          ],
          [
           547
          ],
          [
           556
          ],
          [
           585
          ],
          [
           587
          ],
          [
           590
          ],
          [
           637
          ],
          [
           695
          ],
          [
           697
          ],
          [
           711
          ],
          [
           714
          ],
          [
           762
          ],
          [
           808
          ],
          [
           827
          ],
          [
           913
          ],
          [
           936
          ],
          [
           961
          ],
          [
           975
          ],
          [
           977
          ],
          [
           996
          ],
          [
           1099
          ],
          [
           1136
          ],
          [
           1140
          ],
          [
           1146
          ],
          [
           1203
          ],
          [
           1219
          ],
          [
           1256
          ],
          [
           1264
          ],
          [
           1286
          ],
          [
           1322
          ],
          [
           1324
          ],
          [
           1353
          ],
          [
           1390
          ],
          [
           1398
          ],
          [
           1401
          ],
          [
           1415
          ],
          [
           1444
          ]
         ],
         "hovertemplate": "Neighborhood=BrkSide<br>GrLivArea=%{x}<br>SalePrice=%{y}<br>Id=%{customdata[0]}<extra></extra>",
         "legendgroup": "BrkSide",
         "marker": {
          "color": "#FF97FF",
          "symbol": "circle"
         },
         "mode": "markers",
         "name": "BrkSide",
         "showlegend": true,
         "type": "scattergl",
         "x": [
          1077,
          854,
          520,
          1176,
          1285,
          875,
          1344,
          1252,
          1306,
          1548,
          1396,
          2134,
          1577,
          1505,
          788,
          904,
          1573,
          1203,
          1820,
          1664,
          1362,
          334,
          1635,
          1048,
          1573,
          838,
          935,
          800,
          1539,
          616,
          729,
          960,
          1301,
          1576,
          784,
          1015,
          747,
          858,
          2019,
          869,
          1230,
          1324,
          986,
          1167,
          1576,
          1348,
          912,
          1367,
          1824,
          1412,
          720,
          708,
          1176,
          1218,
          1513,
          1158,
          1848,
          952
         ],
         "xaxis": "x",
         "y": [
          118000,
          132000,
          68500,
          114500,
          127000,
          105000,
          115000,
          127000,
          76500,
          205000,
          153575,
          214500,
          140200,
          145000,
          100000,
          119000,
          162900,
          110000,
          184000,
          159000,
          128000,
          39300,
          210000,
          113000,
          133000,
          130000,
          79500,
          60000,
          141500,
          89000,
          52000,
          129000,
          100000,
          223500,
          109500,
          88000,
          79900,
          116500,
          167500,
          85500,
          121600,
          128000,
          102000,
          144000,
          149000,
          117000,
          80500,
          127500,
          180500,
          132500,
          72500,
          82500,
          134900,
          131000,
          137500,
          120000,
          207000,
          121000
         ],
         "yaxis": "y"
        },
        {
         "customdata": [
          [
           11
          ],
          [
           13
          ],
          [
           18
          ],
          [
           25
          ],
          [
           32
          ],
          [
           50
          ],
          [
           79
          ],
          [
           117
          ],
          [
           135
          ],
          [
           145
          ],
          [
           178
          ],
          [
           207
          ],
          [
           229
          ],
          [
           263
          ],
          [
           289
          ],
          [
           403
          ],
          [
           406
          ],
          [
           417
          ],
          [
           463
          ],
          [
           476
          ],
          [
           485
          ],
          [
           499
          ],
          [
           539
          ],
          [
           561
          ],
          [
           578
          ],
          [
           588
          ],
          [
           610
          ],
          [
           623
          ],
          [
           669
          ],
          [
           680
          ],
          [
           699
          ],
          [
           710
          ],
          [
           715
          ],
          [
           734
          ],
          [
           735
          ],
          [
           742
          ],
          [
           744
          ],
          [
           758
          ],
          [
           771
          ],
          [
           778
          ],
          [
           797
          ],
          [
           836
          ],
          [
           846
          ],
          [
           855
          ],
          [
           856
          ],
          [
           862
          ],
          [
           868
          ],
          [
           879
          ],
          [
           892
          ],
          [
           893
          ],
          [
           894
          ],
          [
           900
          ],
          [
           905
          ],
          [
           958
          ],
          [
           980
          ],
          [
           1011
          ],
          [
           1041
          ],
          [
           1082
          ],
          [
           1118
          ],
          [
           1119
          ],
          [
           1138
          ],
          [
           1144
          ],
          [
           1163
          ],
          [
           1164
          ],
          [
           1195
          ],
          [
           1200
          ],
          [
           1214
          ],
          [
           1216
          ],
          [
           1217
          ],
          [
           1222
          ],
          [
           1231
          ],
          [
           1273
          ],
          [
           1384
          ],
          [
           1446
          ]
         ],
         "hovertemplate": "Neighborhood=Sawyer<br>GrLivArea=%{x}<br>SalePrice=%{y}<br>Id=%{customdata[0]}<extra></extra>",
         "legendgroup": "Sawyer",
         "marker": {
          "color": "#FECB52",
          "symbol": "circle"
         },
         "mode": "markers",
         "name": "Sawyer",
         "showlegend": true,
         "type": "scattergl",
         "x": [
          1040,
          912,
          1296,
          1060,
          1228,
          955,
          1768,
          1092,
          1721,
          1728,
          1920,
          1696,
          912,
          1212,
          900,
          672,
          1620,
          1400,
          864,
          970,
          999,
          899,
          1159,
          1392,
          1320,
          860,
          1029,
          980,
          1437,
          988,
          894,
          904,
          1479,
          1144,
          948,
          912,
          1464,
          1386,
          858,
          894,
          1285,
          1067,
          1701,
          1779,
          1040,
          1039,
          1120,
          1155,
          1683,
          1068,
          1383,
          1236,
          902,
          1057,
          1121,
          1271,
          1803,
          1040,
          894,
          1601,
          1020,
          1006,
          894,
          1258,
          1352,
          1382,
          960,
          894,
          1902,
          1211,
          2620,
          935,
          1416,
          913
         ],
         "xaxis": "x",
         "y": [
          129500,
          144000,
          90000,
          154000,
          149350,
          127000,
          136500,
          139000,
          180000,
          125000,
          172500,
          143900,
          125000,
          151000,
          122000,
          108000,
          150000,
          149500,
          62383,
          132500,
          132500,
          130000,
          158000,
          121500,
          164500,
          137000,
          118500,
          135000,
          168000,
          128500,
          138500,
          109900,
          130500,
          131400,
          108000,
          142000,
          175000,
          158900,
          134900,
          142500,
          143500,
          128000,
          171000,
          170000,
          127000,
          131500,
          129000,
          148000,
          172500,
          154500,
          165000,
          135000,
          125500,
          132000,
          139000,
          135000,
          155000,
          133000,
          130000,
          140000,
          94000,
          80000,
          129000,
          108959,
          158000,
          148000,
          145000,
          125000,
          112000,
          134000,
          190000,
          137000,
          112000,
          129000
         ],
         "yaxis": "y"
        },
        {
         "customdata": [
          [
           12
          ],
          [
           21
          ],
          [
           26
          ],
          [
           28
          ],
          [
           35
          ],
          [
           36
          ],
          [
           46
          ],
          [
           63
          ],
          [
           66
          ],
          [
           152
          ],
          [
           162
          ],
          [
           163
          ],
          [
           168
          ],
          [
           200
          ],
          [
           225
          ],
          [
           239
          ],
          [
           279
          ],
          [
           283
          ],
          [
           310
          ],
          [
           321
          ],
          [
           322
          ],
          [
           333
          ],
          [
           334
          ],
          [
           344
          ],
          [
           349
          ],
          [
           350
          ],
          [
           351
          ],
          [
           390
          ],
          [
           409
          ],
          [
           441
          ],
          [
           469
          ],
          [
           474
          ],
          [
           478
          ],
          [
           481
          ],
          [
           482
          ],
          [
           512
          ],
          [
           516
          ],
          [
           528
          ],
          [
           553
          ],
          [
           555
          ],
          [
           568
          ],
          [
           582
          ],
          [
           592
          ],
          [
           601
          ],
          [
           619
          ],
          [
           632
          ],
          [
           641
          ],
          [
           690
          ],
          [
           708
          ],
          [
           754
          ],
          [
           775
          ],
          [
           799
          ],
          [
           804
          ],
          [
           820
          ],
          [
           826
          ],
          [
           878
          ],
          [
           899
          ],
          [
           927
          ],
          [
           972
          ],
          [
           988
          ],
          [
           995
          ],
          [
           1043
          ],
          [
           1057
          ],
          [
           1059
          ],
          [
           1110
          ],
          [
           1116
          ],
          [
           1158
          ],
          [
           1166
          ],
          [
           1229
          ],
          [
           1237
          ],
          [
           1244
          ],
          [
           1252
          ],
          [
           1290
          ],
          [
           1306
          ],
          [
           1307
          ],
          [
           1360
          ],
          [
           1438
          ]
         ],
         "hovertemplate": "Neighborhood=NridgHt<br>GrLivArea=%{x}<br>SalePrice=%{y}<br>Id=%{customdata[0]}<extra></extra>",
         "legendgroup": "NridgHt",
         "marker": {
          "color": "#636efa",
          "symbol": "circle"
         },
         "mode": "markers",
         "name": "NridgHt",
         "showlegend": true,
         "type": "scattergl",
         "x": [
          2324,
          2376,
          1600,
          1704,
          1561,
          2452,
          1752,
          1370,
          2473,
          1710,
          2668,
          1541,
          2161,
          1713,
          2392,
          1694,
          2121,
          1314,
          1944,
          2596,
          2468,
          1629,
          1358,
          1684,
          1626,
          2728,
          1869,
          2332,
          2172,
          2402,
          1634,
          1976,
          2643,
          1850,
          1792,
          1368,
          2020,
          2713,
          1717,
          2046,
          1535,
          2042,
          2296,
          1904,
          1828,
          1554,
          1518,
          1362,
          1324,
          2098,
          1973,
          3140,
          2822,
          1358,
          2084,
          2224,
          2364,
          2374,
          1626,
          1940,
          1718,
          1306,
          1364,
          2184,
          1836,
          1734,
          1314,
          1502,
          1702,
          1626,
          2076,
          1405,
          1970,
          1652,
          1368,
          1980,
          1932
         ],
         "xaxis": "x",
         "y": [
          345000,
          325300,
          256300,
          306000,
          277500,
          309000,
          319900,
          202500,
          317000,
          372402,
          412500,
          220000,
          325624,
          274900,
          386250,
          318000,
          415298,
          207500,
          360000,
          342643,
          354000,
          284000,
          207000,
          266000,
          154000,
          437154,
          318061,
          426000,
          280000,
          555000,
          250000,
          440000,
          380000,
          326000,
          374000,
          202665,
          402861,
          446261,
          255500,
          284000,
          214000,
          253293,
          451950,
          275000,
          314813,
          209500,
          274000,
          194700,
          254000,
          275500,
          395000,
          485000,
          582933,
          224000,
          385000,
          350000,
          611657,
          285000,
          173000,
          395192,
          337500,
          196000,
          185850,
          335000,
          280000,
          318000,
          230000,
          233170,
          367294,
          175500,
          465000,
          171750,
          281000,
          325000,
          202500,
          315000,
          394617
         ],
         "yaxis": "y"
        },
        {
         "customdata": [
          [
           15
          ],
          [
           17
          ],
          [
           20
          ],
          [
           27
          ],
          [
           29
          ],
          [
           34
          ],
          [
           38
          ],
          [
           39
          ],
          [
           41
          ],
          [
           45
          ],
          [
           55
          ],
          [
           56
          ],
          [
           67
          ],
          [
           71
          ],
          [
           74
          ],
          [
           77
          ],
          [
           81
          ],
          [
           84
          ],
          [
           91
          ],
          [
           92
          ],
          [
           100
          ],
          [
           123
          ],
          [
           129
          ],
          [
           130
          ],
          [
           131
          ],
          [
           133
          ],
          [
           137
          ],
          [
           141
          ],
          [
           143
          ],
          [
           157
          ],
          [
           172
          ],
          [
           174
          ],
          [
           192
          ],
          [
           198
          ],
          [
           208
          ],
          [
           210
          ],
          [
           216
          ],
          [
           224
          ],
          [
           231
          ],
          [
           248
          ],
          [
           254
          ],
          [
           255
          ],
          [
           261
          ],
          [
           274
          ],
          [
           287
          ],
          [
           288
          ],
          [
           295
          ],
          [
           312
          ],
          [
           325
          ],
          [
           328
          ],
          [
           331
          ],
          [
           332
          ],
          [
           340
          ],
          [
           343
          ],
          [
           347
          ],
          [
           348
          ],
          [
           367
          ],
          [
           368
          ],
          [
           369
          ],
          [
           370
          ],
          [
           374
          ],
          [
           393
          ],
          [
           398
          ],
          [
           420
          ],
          [
           425
          ],
          [
           428
          ],
          [
           447
          ],
          [
           467
          ],
          [
           468
          ],
          [
           486
          ],
          [
           487
          ],
          [
           492
          ],
          [
           494
          ],
          [
           500
          ],
          [
           510
          ],
          [
           511
          ],
          [
           513
          ],
          [
           522
          ],
          [
           527
          ],
          [
           533
          ],
          [
           538
          ],
          [
           544
          ],
          [
           557
          ],
          [
           570
          ],
          [
           571
          ],
          [
           572
          ],
          [
           575
          ],
          [
           576
          ],
          [
           581
          ],
          [
           606
          ],
          [
           616
          ],
          [
           618
          ],
          [
           626
          ],
          [
           627
          ],
          [
           628
          ],
          [
           629
          ],
          [
           630
          ],
          [
           634
          ],
          [
           643
          ],
          [
           646
          ],
          [
           647
          ],
          [
           649
          ],
          [
           657
          ],
          [
           659
          ],
          [
           663
          ],
          [
           667
          ],
          [
           675
          ],
          [
           723
          ],
          [
           726
          ],
          [
           729
          ],
          [
           737
          ],
          [
           755
          ],
          [
           761
          ],
          [
           774
          ],
          [
           798
          ],
          [
           805
          ],
          [
           807
          ],
          [
           809
          ],
          [
           814
          ],
          [
           817
          ],
          [
           831
          ],
          [
           834
          ],
          [
           835
          ],
          [
           843
          ],
          [
           844
          ],
          [
           854
          ],
          [
           864
          ],
          [
           866
          ],
          [
           871
          ],
          [
           873
          ],
          [
           874
          ],
          [
           885
          ],
          [
           887
          ],
          [
           889
          ],
          [
           890
          ],
          [
           891
          ],
          [
           896
          ],
          [
           901
          ],
          [
           902
          ],
          [
           906
          ],
          [
           911
          ],
          [
           920
          ],
          [
           932
          ],
          [
           935
          ],
          [
           947
          ],
          [
           951
          ],
          [
           968
          ],
          [
           970
          ],
          [
           971
          ],
          [
           981
          ],
          [
           993
          ],
          [
           997
          ],
          [
           1007
          ],
          [
           1015
          ],
          [
           1027
          ],
          [
           1029
          ],
          [
           1053
          ],
          [
           1065
          ],
          [
           1068
          ],
          [
           1070
          ],
          [
           1071
          ],
          [
           1078
          ],
          [
           1084
          ],
          [
           1091
          ],
          [
           1094
          ],
          [
           1095
          ],
          [
           1102
          ],
          [
           1103
          ],
          [
           1104
          ],
          [
           1113
          ],
          [
           1114
          ],
          [
           1120
          ],
          [
           1126
          ],
          [
           1137
          ],
          [
           1141
          ],
          [
           1151
          ],
          [
           1155
          ],
          [
           1157
          ],
          [
           1172
          ],
          [
           1201
          ],
          [
           1209
          ],
          [
           1215
          ],
          [
           1221
          ],
          [
           1223
          ],
          [
           1224
          ],
          [
           1226
          ],
          [
           1228
          ],
          [
           1230
          ],
          [
           1232
          ],
          [
           1233
          ],
          [
           1234
          ],
          [
           1250
          ],
          [
           1251
          ],
          [
           1260
          ],
          [
           1262
          ],
          [
           1265
          ],
          [
           1270
          ],
          [
           1276
          ],
          [
           1291
          ],
          [
           1296
          ],
          [
           1297
          ],
          [
           1300
          ],
          [
           1316
          ],
          [
           1321
          ],
          [
           1341
          ],
          [
           1351
          ],
          [
           1352
          ],
          [
           1357
          ],
          [
           1358
          ],
          [
           1363
          ],
          [
           1372
          ],
          [
           1382
          ],
          [
           1392
          ],
          [
           1393
          ],
          [
           1399
          ],
          [
           1412
          ],
          [
           1413
          ],
          [
           1419
          ],
          [
           1425
          ],
          [
           1426
          ],
          [
           1428
          ],
          [
           1436
          ],
          [
           1437
          ],
          [
           1451
          ],
          [
           1459
          ]
         ],
         "hovertemplate": "Neighborhood=NAmes<br>GrLivArea=%{x}<br>SalePrice=%{y}<br>Id=%{customdata[0]}<extra></extra>",
         "legendgroup": "NAmes",
         "marker": {
          "color": "#EF553B",
          "symbol": "circle"
         },
         "mode": "markers",
         "name": "NAmes",
         "showlegend": true,
         "type": "scattergl",
         "x": [
          1253,
          1004,
          1339,
          900,
          1600,
          1700,
          1297,
          1057,
          1324,
          1150,
          1360,
          1425,
          2207,
          2223,
          1086,
          952,
          2142,
          1065,
          1040,
          1235,
          1225,
          1080,
          1348,
          1053,
          2157,
          1327,
          1214,
          864,
          1385,
          1040,
          1656,
          1362,
          1479,
          3112,
          1100,
          1092,
          1236,
          864,
          1194,
          1375,
          1302,
          1314,
          1382,
          1632,
          1734,
          858,
          1644,
          972,
          2978,
          1383,
          1728,
          1056,
          1215,
          1040,
          958,
          1478,
          1394,
          1431,
          1268,
          1287,
          1319,
          882,
          1812,
          1056,
          1196,
          907,
          1888,
          1277,
          1644,
          1113,
          1073,
          1578,
          1269,
          912,
          1041,
          1363,
          864,
          1244,
          928,
          827,
          864,
          767,
          1092,
          943,
          1728,
          864,
          1109,
          1216,
          1429,
          1986,
          1054,
          832,
          1116,
          1422,
          1520,
          2080,
          1350,
          1056,
          2704,
          981,
          1048,
          1839,
          1053,
          1458,
          1392,
          2380,
          1136,
          864,
          864,
          1776,
          1040,
          1026,
          864,
          912,
          773,
          1128,
          980,
          1086,
          1442,
          1008,
          1392,
          1516,
          1144,
          1165,
          1800,
          1445,
          1148,
          1002,
          894,
          910,
          1268,
          892,
          1712,
          2217,
          1505,
          924,
          1796,
          858,
          1306,
          1063,
          2274,
          1414,
          925,
          2069,
          1144,
          864,
          1098,
          1095,
          1192,
          999,
          1851,
          1050,
          1657,
          1082,
          1264,
          1376,
          1977,
          1154,
          1611,
          893,
          1048,
          1096,
          1251,
          1040,
          1200,
          936,
          950,
          1134,
          1194,
          816,
          1008,
          1040,
          1005,
          1252,
          952,
          932,
          1820,
          1265,
          1261,
          864,
          1283,
          999,
          912,
          1846,
          2136,
          1138,
          912,
          1507,
          1190,
          1224,
          1188,
          988,
          2110,
          1054,
          1050,
          1337,
          1524,
          1920,
          1152,
          1052,
          1128,
          1246,
          2112,
          1478,
          872,
          2634,
          1716,
          892,
          1078,
          1738,
          1661,
          2117,
          1584,
          900,
          1904,
          1668,
          1040,
          1144,
          1344,
          1252,
          1558,
          1537,
          864,
          1792,
          1078
         ],
         "xaxis": "x",
         "y": [
          157000,
          149000,
          139000,
          134800,
          207500,
          165500,
          153000,
          109000,
          160000,
          141000,
          130000,
          180500,
          180000,
          244000,
          144900,
          135750,
          193500,
          126500,
          109900,
          98600,
          128950,
          136000,
          155000,
          150000,
          226000,
          150750,
          143000,
          115000,
          166000,
          109500,
          215000,
          163000,
          184000,
          235000,
          141000,
          145000,
          134450,
          97000,
          148000,
          140000,
          158000,
          145000,
          176000,
          139000,
          159000,
          88000,
          167000,
          132000,
          242000,
          145250,
          119000,
          139000,
          155000,
          87500,
          151500,
          157500,
          159000,
          165000,
          132000,
          162000,
          123000,
          106500,
          169500,
          142000,
          139000,
          109008,
          190000,
          167000,
          146500,
          147000,
          156000,
          133000,
          155000,
          120000,
          124500,
          164900,
          129900,
          150000,
          132000,
          107500,
          111250,
          133000,
          141000,
          135960,
          142600,
          120000,
          139000,
          118500,
          181900,
          205000,
          137500,
          105500,
          160000,
          139900,
          153000,
          135000,
          168500,
          139400,
          345000,
          143250,
          98300,
          155000,
          145500,
          97500,
          110000,
          129000,
          140000,
          124500,
          120500,
          110000,
          93500,
          156000,
          127500,
          114500,
          110000,
          118000,
          135500,
          159950,
          157900,
          137000,
          166000,
          167000,
          139950,
          174900,
          141000,
          158000,
          132500,
          148500,
          109500,
          116000,
          133000,
          100000,
          145000,
          268000,
          149500,
          122900,
          140000,
          110000,
          153000,
          128000,
          154300,
          176500,
          117500,
          242000,
          143000,
          129000,
          135000,
          140000,
          135000,
          178400,
          187000,
          136500,
          163500,
          119200,
          167500,
          105000,
          165000,
          154000,
          167900,
          135000,
          135000,
          138800,
          160000,
          92900,
          146000,
          129000,
          119500,
          135000,
          159500,
          129900,
          134500,
          133700,
          115000,
          119000,
          139000,
          124000,
          201800,
          179900,
          163000,
          116050,
          140000,
          134500,
          115000,
          143000,
          137900,
          145000,
          147000,
          127000,
          132500,
          101800,
          142000,
          119000,
          244000,
          151000,
          128900,
          181000,
          144000,
          137000,
          180500,
          138500,
          155000,
          154000,
          206900,
          156500,
          123000,
          200000,
          171000,
          110000,
          149900,
          104900,
          165500,
          237500,
          124000,
          123000,
          138000,
          140000,
          90000,
          124000,
          144000,
          142000,
          140000,
          174000,
          120500,
          136000,
          142125
         ],
         "yaxis": "y"
        },
        {
         "customdata": [
          [
           19
          ],
          [
           43
          ],
          [
           61
          ],
          [
           102
          ],
          [
           103
          ],
          [
           119
          ],
          [
           124
          ],
          [
           149
          ],
          [
           189
          ],
          [
           209
          ],
          [
           238
          ],
          [
           244
          ],
          [
           245
          ],
          [
           253
          ],
          [
           281
          ],
          [
           285
          ],
          [
           307
          ],
          [
           323
          ],
          [
           342
          ],
          [
           373
          ],
          [
           384
          ],
          [
           415
          ],
          [
           427
          ],
          [
           470
          ],
          [
           507
          ],
          [
           569
          ],
          [
           603
          ],
          [
           668
          ],
          [
           681
          ],
          [
           743
          ],
          [
           779
          ],
          [
           782
          ],
          [
           788
          ],
          [
           796
          ],
          [
           828
          ],
          [
           847
          ],
          [
           863
          ],
          [
           870
          ],
          [
           895
          ],
          [
           898
          ],
          [
           919
          ],
          [
           921
          ],
          [
           924
          ],
          [
           937
          ],
          [
           952
          ],
          [
           973
          ],
          [
           1044
          ],
          [
           1086
          ],
          [
           1107
          ],
          [
           1134
          ],
          [
           1147
          ],
          [
           1206
          ],
          [
           1207
          ],
          [
           1211
          ],
          [
           1239
          ],
          [
           1310
          ],
          [
           1342
          ],
          [
           1349
          ],
          [
           1414
          ]
         ],
         "hovertemplate": "Neighborhood=SawyerW<br>GrLivArea=%{x}<br>SalePrice=%{y}<br>Id=%{customdata[0]}<extra></extra>",
         "legendgroup": "SawyerW",
         "marker": {
          "color": "#00cc96",
          "symbol": "circle"
         },
         "mode": "markers",
         "name": "SawyerW",
         "showlegend": true,
         "type": "scattergl",
         "x": [
          1114,
          884,
          1158,
          1732,
          1535,
          3222,
          1199,
          1080,
          1224,
          2062,
          1744,
          1217,
          2110,
          1640,
          1982,
          1575,
          2243,
          2730,
          841,
          752,
          784,
          2097,
          1644,
          1710,
          1911,
          2132,
          1915,
          1679,
          923,
          1349,
          2020,
          1603,
          2084,
          1564,
          1434,
          1775,
          1097,
          1949,
          1535,
          2240,
          2127,
          1721,
          1617,
          1200,
          965,
          918,
          2329,
          996,
          1442,
          2020,
          1298,
          2196,
          1056,
          1845,
          1141,
          1294,
          1114,
          1494,
          1844
         ],
         "xaxis": "x",
         "y": [
          159000,
          144000,
          158000,
          178000,
          118964,
          320000,
          153900,
          141000,
          153337,
          277000,
          194500,
          120000,
          205000,
          173000,
          228500,
          179200,
          225000,
          301000,
          82000,
          125000,
          76000,
          228000,
          275000,
          187000,
          215000,
          316600,
          220000,
          193500,
          143000,
          179000,
          144000,
          175900,
          233000,
          171000,
          189000,
          213000,
          152000,
          236000,
          118858,
          142953,
          238000,
          201000,
          193000,
          184900,
          119900,
          99500,
          262280,
          147000,
          179900,
          239500,
          180000,
          271900,
          107000,
          189000,
          142500,
          179200,
          155000,
          215000,
          257000
         ],
         "yaxis": "y"
        },
        {
         "customdata": [
          [
           22
          ],
          [
           31
          ],
          [
           53
          ],
          [
           62
          ],
          [
           89
          ],
          [
           105
          ],
          [
           109
          ],
          [
           122
          ],
          [
           126
          ],
          [
           269
          ],
          [
           297
          ],
          [
           308
          ],
          [
           326
          ],
          [
           330
          ],
          [
           366
          ],
          [
           399
          ],
          [
           449
          ],
          [
           496
          ],
          [
           558
          ],
          [
           602
          ],
          [
           654
          ],
          [
           706
          ],
          [
           712
          ],
          [
           730
          ],
          [
           802
          ],
          [
           813
          ],
          [
           897
          ],
          [
           917
          ],
          [
           999
          ],
          [
           1062
          ],
          [
           1097
          ],
          [
           1121
          ],
          [
           1154
          ],
          [
           1280
          ],
          [
           1326
          ],
          [
           1334
          ],
          [
           1386
          ]
         ],
         "hovertemplate": "Neighborhood=IDOTRR<br>GrLivArea=%{x}<br>SalePrice=%{y}<br>Id=%{customdata[0]}<extra></extra>",
         "legendgroup": "IDOTRR",
         "marker": {
          "color": "#ab63fa",
          "symbol": "circle"
         },
         "mode": "markers",
         "name": "IDOTRR",
         "showlegend": true,
         "type": "scattergl",
         "x": [
          1108,
          1317,
          816,
          1111,
          1526,
          1818,
          1517,
          1123,
          754,
          778,
          1558,
          1406,
          803,
          1192,
          1344,
          1077,
          1376,
          720,
          1336,
          1375,
          1469,
          1092,
          1178,
          1208,
          1196,
          1044,
          951,
          480,
          1077,
          894,
          1355,
          1012,
          816,
          1128,
          796,
          1360,
          1154
         ],
         "xaxis": "x",
         "y": [
          139400,
          40000,
          110000,
          101000,
          85000,
          169500,
          115000,
          100000,
          84500,
          120500,
          152000,
          89500,
          87000,
          78000,
          147000,
          67000,
          119500,
          34900,
          108000,
          141000,
          135000,
          55000,
          102776,
          103000,
          109900,
          55993,
          106500,
          35311,
          91000,
          81000,
          127000,
          118400,
          120500,
          68400,
          55000,
          125500,
          125500
         ],
         "yaxis": "y"
        },
        {
         "customdata": [
          [
           24
          ],
          [
           76
          ],
          [
           345
          ],
          [
           358
          ],
          [
           435
          ],
          [
           490
          ],
          [
           491
          ],
          [
           615
          ],
          [
           650
          ],
          [
           916
          ],
          [
           1008
          ],
          [
           1039
          ],
          [
           1040
          ],
          [
           1069
          ],
          [
           1087
          ],
          [
           1368
          ],
          [
           1450
          ]
         ],
         "hovertemplate": "Neighborhood=MeadowV<br>GrLivArea=%{x}<br>SalePrice=%{y}<br>Id=%{customdata[0]}<extra></extra>",
         "legendgroup": "MeadowV",
         "marker": {
          "color": "#FFA15A",
          "symbol": "circle"
         },
         "mode": "markers",
         "name": "MeadowV",
         "showlegend": true,
         "type": "scattergl",
         "x": [
          1060,
          988,
          1112,
          1142,
          630,
          630,
          1304,
          630,
          630,
          1092,
          1092,
          1344,
          630,
          2521,
          1092,
          1475,
          630
         ],
         "xaxis": "x",
         "y": [
          129900,
          91000,
          85000,
          134000,
          81000,
          86000,
          115000,
          75500,
          84500,
          75000,
          88000,
          97000,
          80000,
          151400,
          83500,
          127000,
          92000
         ],
         "yaxis": "y"
        },
        {
         "customdata": [
          [
           40
          ],
          [
           98
          ],
          [
           99
          ],
          [
           111
          ],
          [
           118
          ],
          [
           146
          ],
          [
           156
          ],
          [
           166
          ],
          [
           176
          ],
          [
           183
          ],
          [
           194
          ],
          [
           201
          ],
          [
           211
          ],
          [
           212
          ],
          [
           240
          ],
          [
           270
          ],
          [
           293
          ],
          [
           309
          ],
          [
           353
          ],
          [
           363
          ],
          [
           376
          ],
          [
           387
          ],
          [
           388
          ],
          [
           391
          ],
          [
           396
          ],
          [
           411
          ],
          [
           419
          ],
          [
           440
          ],
          [
           442
          ],
          [
           446
          ],
          [
           473
          ],
          [
           503
          ],
          [
           529
          ],
          [
           536
          ],
          [
           554
          ],
          [
           563
          ],
          [
           564
          ],
          [
           583
          ],
          [
           608
          ],
          [
           621
          ],
          [
           639
          ],
          [
           648
          ],
          [
           652
          ],
          [
           660
          ],
          [
           664
          ],
          [
           672
          ],
          [
           698
          ],
          [
           724
          ],
          [
           725
          ],
          [
           739
          ],
          [
           750
          ],
          [
           772
          ],
          [
           773
          ],
          [
           815
          ],
          [
           840
          ],
          [
           881
          ],
          [
           888
          ],
          [
           918
          ],
          [
           922
          ],
          [
           943
          ],
          [
           955
          ],
          [
           979
          ],
          [
           986
          ],
          [
           1001
          ],
          [
           1012
          ],
          [
           1021
          ],
          [
           1036
          ],
          [
           1046
          ],
          [
           1050
          ],
          [
           1054
          ],
          [
           1073
          ],
          [
           1074
          ],
          [
           1089
          ],
          [
           1123
          ],
          [
           1124
          ],
          [
           1145
          ],
          [
           1152
          ],
          [
           1169
          ],
          [
           1180
          ],
          [
           1186
          ],
          [
           1213
          ],
          [
           1255
          ],
          [
           1258
          ],
          [
           1274
          ],
          [
           1295
          ],
          [
           1298
          ],
          [
           1305
          ],
          [
           1315
          ],
          [
           1320
          ],
          [
           1327
          ],
          [
           1333
          ],
          [
           1378
          ],
          [
           1381
          ],
          [
           1385
          ],
          [
           1424
          ],
          [
           1449
          ],
          [
           1453
          ],
          [
           1460
          ]
         ],
         "hovertemplate": "Neighborhood=Edwards<br>GrLivArea=%{x}<br>SalePrice=%{y}<br>Id=%{customdata[0]}<extra></extra>",
         "legendgroup": "Edwards",
         "marker": {
          "color": "#19d3f3",
          "symbol": "circle"
         },
         "mode": "markers",
         "name": "Edwards",
         "showlegend": true,
         "type": "scattergl",
         "x": [
          1152,
          960,
          835,
          1855,
          1125,
          1709,
          1096,
          1355,
          2158,
          1340,
          1709,
          1121,
          864,
          1212,
          1487,
          1113,
          1716,
          861,
          1111,
          1922,
          904,
          1184,
          1125,
          1367,
          1144,
          1276,
          1134,
          1196,
          1440,
          1689,
          1072,
          1214,
          605,
          1347,
          1126,
          996,
          1674,
          816,
          2008,
          864,
          796,
          1094,
          1510,
          1486,
          1181,
          1369,
          1148,
          1470,
          1698,
          1200,
          1529,
          1220,
          1117,
          1250,
          1200,
          1090,
          1393,
          1229,
          2200,
          1440,
          980,
          894,
          1164,
          944,
          1664,
          1132,
          845,
          1733,
          930,
          1526,
          1456,
          1426,
          1709,
          960,
          698,
          924,
          1466,
          2108,
          1124,
          1221,
          672,
          1656,
          864,
          1357,
          864,
          1072,
          1708,
          948,
          948,
          774,
          816,
          1604,
          864,
          1258,
          2201,
          1346,
          1072,
          1256
         ],
         "xaxis": "x",
         "y": [
          82000,
          94750,
          83000,
          136900,
          155000,
          130000,
          79000,
          127500,
          243000,
          120000,
          130000,
          140000,
          98000,
          186000,
          113000,
          148000,
          131000,
          82500,
          95000,
          198500,
          61000,
          81000,
          125000,
          119000,
          129000,
          60000,
          126000,
          110000,
          118000,
          127500,
          148000,
          140000,
          86000,
          107500,
          108000,
          108000,
          185000,
          118500,
          225000,
          67000,
          85000,
          155000,
          108000,
          167000,
          137500,
          103600,
          123500,
          135000,
          320000,
          179000,
          98000,
          102000,
          107000,
          116000,
          130500,
          157000,
          135500,
          135000,
          145900,
          150000,
          127500,
          110000,
          125000,
          82000,
          100000,
          176000,
          84000,
          139600,
          84900,
          144500,
          91500,
          159500,
          137500,
          112000,
          118000,
          80000,
          149900,
          235000,
          93000,
          104900,
          113000,
          165400,
          99900,
          177000,
          115000,
          140000,
          130000,
          119000,
          111000,
          79000,
          100000,
          117000,
          58500,
          105000,
          274970,
          112000,
          145000,
          147500
         ],
         "yaxis": "y"
        },
        {
         "customdata": [
          [
           42
          ],
          [
           134
          ],
          [
           158
          ],
          [
           170
          ],
          [
           175
          ],
          [
           314
          ],
          [
           336
          ],
          [
           341
          ],
          [
           430
          ],
          [
           453
          ],
          [
           531
          ],
          [
           541
          ],
          [
           573
          ],
          [
           586
          ],
          [
           620
          ],
          [
           693
          ],
          [
           696
          ],
          [
           701
          ],
          [
           732
          ],
          [
           867
          ],
          [
           882
          ],
          [
           931
          ],
          [
           945
          ],
          [
           948
          ],
          [
           965
          ],
          [
           1025
          ],
          [
           1028
          ],
          [
           1037
          ],
          [
           1181
          ],
          [
           1185
          ],
          [
           1240
          ],
          [
           1268
          ],
          [
           1282
          ],
          [
           1348
          ],
          [
           1376
          ],
          [
           1380
          ],
          [
           1396
          ],
          [
           1397
          ]
         ],
         "hovertemplate": "Neighborhood=Timber<br>GrLivArea=%{x}<br>SalePrice=%{y}<br>Id=%{customdata[0]}<extra></extra>",
         "legendgroup": "Timber",
         "marker": {
          "color": "#FF6692",
          "symbol": "circle"
         },
         "mode": "markers",
         "name": "Timber",
         "showlegend": true,
         "type": "scattergl",
         "x": [
          1328,
          1296,
          1968,
          1707,
          1651,
          2036,
          1786,
          1908,
          1412,
          1756,
          1509,
          1838,
          1692,
          2028,
          2262,
          2519,
          1137,
          1800,
          1146,
          1646,
          1717,
          1466,
          1344,
          1629,
          1894,
          2898,
          1646,
          1620,
          2514,
          1572,
          1484,
          2018,
          1339,
          1776,
          1571,
          1394,
          2482,
          1687
         ],
         "xaxis": "x",
         "y": [
          170000,
          220000,
          269500,
          228000,
          184000,
          375000,
          228950,
          202900,
          175000,
          204000,
          175000,
          315000,
          224500,
          369900,
          305000,
          335000,
          176000,
          312500,
          187500,
          248900,
          187500,
          201000,
          137500,
          270000,
          214900,
          287000,
          293077,
          315500,
          250000,
          186700,
          265900,
          378500,
          180000,
          283463,
          239000,
          167500,
          281213,
          160000
         ],
         "yaxis": "y"
        },
        {
         "customdata": [
          [
           51
          ],
          [
           73
          ],
          [
           85
          ],
          [
           87
          ],
          [
           96
          ],
          [
           112
          ],
          [
           132
          ],
          [
           148
          ],
          [
           160
          ],
          [
           169
          ],
          [
           206
          ],
          [
           222
          ],
          [
           235
          ],
          [
           256
          ],
          [
           267
          ],
          [
           278
          ],
          [
           311
          ],
          [
           316
          ],
          [
           335
          ],
          [
           357
          ],
          [
           371
          ],
          [
           380
          ],
          [
           405
          ],
          [
           412
          ],
          [
           416
          ],
          [
           434
          ],
          [
           448
          ],
          [
           493
          ],
          [
           535
          ],
          [
           545
          ],
          [
           559
          ],
          [
           574
          ],
          [
           617
          ],
          [
           666
          ],
          [
           709
          ],
          [
           738
          ],
          [
           747
          ],
          [
           752
          ],
          [
           781
          ],
          [
           795
          ],
          [
           823
          ],
          [
           858
          ],
          [
           869
          ],
          [
           883
          ],
          [
           903
          ],
          [
           904
          ],
          [
           910
          ],
          [
           923
          ],
          [
           930
          ],
          [
           942
          ],
          [
           966
          ],
          [
           1019
          ],
          [
           1051
          ],
          [
           1067
          ],
          [
           1085
          ],
          [
           1108
          ],
          [
           1109
          ],
          [
           1111
          ],
          [
           1117
          ],
          [
           1125
          ],
          [
           1128
          ],
          [
           1129
          ],
          [
           1135
          ],
          [
           1168
          ],
          [
           1190
          ],
          [
           1196
          ],
          [
           1197
          ],
          [
           1212
          ],
          [
           1225
          ],
          [
           1259
          ],
          [
           1261
          ],
          [
           1301
          ],
          [
           1330
          ],
          [
           1364
          ],
          [
           1389
          ],
          [
           1402
          ],
          [
           1431
          ],
          [
           1434
          ],
          [
           1456
          ]
         ],
         "hovertemplate": "Neighborhood=Gilbert<br>GrLivArea=%{x}<br>SalePrice=%{y}<br>Id=%{customdata[0]}<extra></extra>",
         "legendgroup": "Gilbert",
         "marker": {
          "color": "#B6E880",
          "symbol": "circle"
         },
         "mode": "markers",
         "name": "Gilbert",
         "showlegend": true,
         "type": "scattergl",
         "x": [
          1470,
          1718,
          1474,
          1560,
          1470,
          1430,
          2054,
          2035,
          2462,
          1720,
          1442,
          2267,
          1960,
          2291,
          1511,
          864,
          1501,
          1432,
          1638,
          1167,
          1664,
          1800,
          1572,
          1056,
          1340,
          1604,
          1886,
          1456,
          1414,
          1496,
          1446,
          1430,
          1509,
          1936,
          1456,
          1801,
          2256,
          1320,
          1253,
          1895,
          1733,
          1481,
          2320,
          1593,
          1509,
          1670,
          1484,
          1316,
          2236,
          2060,
          1484,
          1472,
          1302,
          1571,
          1498,
          2021,
          1690,
          1658,
          1419,
          1482,
          1530,
          1959,
          1600,
          1671,
          1804,
          1456,
          1863,
          1752,
          1490,
          1166,
          1675,
          1983,
          1632,
          1412,
          1746,
          1593,
          1838,
          1792,
          1647
         ],
         "xaxis": "x",
         "y": [
          177000,
          185000,
          168500,
          174000,
          185000,
          180000,
          244000,
          222500,
          320000,
          183500,
          180500,
          200000,
          216500,
          230000,
          185000,
          141000,
          165600,
          188500,
          192000,
          173000,
          172400,
          179000,
          168000,
          145000,
          181134,
          181000,
          199900,
          172785,
          178000,
          179665,
          175000,
          170000,
          183200,
          230500,
          179540,
          239900,
          236000,
          162000,
          176000,
          194500,
          225000,
          174000,
          169000,
          178000,
          180000,
          240000,
          174000,
          169990,
          222000,
          214000,
          178900,
          160000,
          176485,
          178000,
          187500,
          274725,
          181000,
          188000,
          184100,
          163900,
          259000,
          215000,
          169000,
          173000,
          189000,
          176000,
          219210,
          164000,
          184000,
          190000,
          181000,
          225000,
          176500,
          156932,
          377500,
          193000,
          192140,
          186500,
          175000
         ],
         "yaxis": "y"
        },
        {
         "customdata": [
          [
           59
          ],
          [
           173
          ],
          [
           179
          ],
          [
           190
          ],
          [
           337
          ],
          [
           379
          ],
          [
           471
          ],
          [
           475
          ],
          [
           567
          ],
          [
           596
          ],
          [
           679
          ],
          [
           686
          ],
          [
           689
          ],
          [
           703
          ],
          [
           713
          ],
          [
           721
          ],
          [
           731
          ],
          [
           745
          ],
          [
           770
          ],
          [
           1018
          ],
          [
           1047
          ],
          [
           1061
          ],
          [
           1098
          ],
          [
           1289
          ],
          [
           1362
          ]
         ],
         "hovertemplate": "Neighborhood=StoneBr<br>GrLivArea=%{x}<br>SalePrice=%{y}<br>Id=%{customdata[0]}<extra></extra>",
         "legendgroup": "StoneBr",
         "marker": {
          "color": "#FF97FF",
          "symbol": "circle"
         },
         "mode": "markers",
         "name": "StoneBr",
         "showlegend": true,
         "type": "scattergl",
         "x": [
          2945,
          1767,
          2234,
          1593,
          1922,
          1856,
          1502,
          1652,
          2504,
          1826,
          2046,
          2090,
          1419,
          2576,
          1228,
          1742,
          1616,
          1337,
          3279,
          1360,
          2868,
          1338,
          1088,
          1659,
          1530
         ],
         "xaxis": "x",
         "y": [
          438780,
          239000,
          501837,
          286000,
          377426,
          394432,
          212000,
          251000,
          325000,
          319000,
          372500,
          207500,
          392000,
          361919,
          189000,
          275000,
          236500,
          180000,
          538000,
          187500,
          556581,
          213500,
          170000,
          278000,
          260000
         ],
         "yaxis": "y"
        },
        {
         "customdata": [
          [
           70
          ],
          [
           121
          ],
          [
           154
          ],
          [
           167
          ],
          [
           177
          ],
          [
           250
          ],
          [
           272
          ],
          [
           280
          ],
          [
           352
          ],
          [
           359
          ],
          [
           372
          ],
          [
           385
          ],
          [
           452
          ],
          [
           458
          ],
          [
           589
          ],
          [
           683
          ],
          [
           707
          ],
          [
           790
          ],
          [
           801
          ],
          [
           819
          ],
          [
           829
          ],
          [
           849
          ],
          [
           940
          ],
          [
           1066
          ],
          [
           1174
          ],
          [
           1263
          ],
          [
           1271
          ],
          [
           1288
          ]
         ],
         "hovertemplate": "Neighborhood=ClearCr<br>GrLivArea=%{x}<br>SalePrice=%{y}<br>Id=%{customdata[0]}<extra></extra>",
         "legendgroup": "ClearCr",
         "marker": {
          "color": "#FECB52",
          "symbol": "circle"
         },
         "mode": "markers",
         "name": "ClearCr",
         "showlegend": true,
         "type": "scattergl",
         "x": [
          2287,
          988,
          1252,
          1867,
          2060,
          2144,
          1363,
          2022,
          1453,
          1352,
          1588,
          1953,
          1533,
          1663,
          1473,
          1291,
          1824,
          2087,
          1688,
          1052,
          2126,
          2358,
          2403,
          2260,
          3086,
          1788,
          1524,
          1582
         ],
         "xaxis": "x",
         "y": [
          225000,
          180000,
          235000,
          190000,
          211000,
          277000,
          241500,
          192000,
          190000,
          130000,
          134432,
          240000,
          280000,
          256000,
          143000,
          173000,
          302000,
          187500,
          200000,
          155000,
          185000,
          240000,
          244400,
          328000,
          200500,
          161500,
          260000,
          190000
         ],
         "yaxis": "y"
        },
        {
         "customdata": [
          [
           127
          ],
          [
           196
          ],
          [
           505
          ],
          [
           551
          ],
          [
           676
          ],
          [
           963
          ],
          [
           1161
          ],
          [
           1422
          ],
          [
           1432
          ]
         ],
         "hovertemplate": "Neighborhood=NPkVill<br>GrLivArea=%{x}<br>SalePrice=%{y}<br>Id=%{customdata[0]}<extra></extra>",
         "legendgroup": "NPkVill",
         "marker": {
          "color": "#636efa",
          "symbol": "circle"
         },
         "mode": "markers",
         "name": "NPkVill",
         "showlegend": true,
         "type": "scattergl",
         "x": [
          958,
          1456,
          1322,
          1069,
          1441,
          1548,
          1456,
          1069,
          958
         ],
         "xaxis": "x",
         "y": [
          128000,
          148500,
          147000,
          140000,
          148500,
          155000,
          146000,
          127500,
          143750
         ],
         "yaxis": "y"
        },
        {
         "customdata": [
          [
           220
          ],
          [
           230
          ],
          [
           386
          ],
          [
           444
          ],
          [
           466
          ],
          [
           560
          ],
          [
           598
          ],
          [
           640
          ],
          [
           791
          ],
          [
           852
          ],
          [
           983
          ],
          [
           1005
          ],
          [
           1020
          ],
          [
           1024
          ],
          [
           1127
          ],
          [
           1395
          ],
          [
           1416
          ]
         ],
         "hovertemplate": "Neighborhood=Blmngtn<br>GrLivArea=%{x}<br>SalePrice=%{y}<br>Id=%{customdata[0]}<extra></extra>",
         "legendgroup": "Blmngtn",
         "marker": {
          "color": "#EF553B",
          "symbol": "circle"
         },
         "mode": "markers",
         "name": "Blmngtn",
         "showlegend": true,
         "type": "scattergl",
         "x": [
          1248,
          1555,
          1269,
          1258,
          1414,
          1557,
          1402,
          1567,
          1145,
          1456,
          1266,
          1504,
          1506,
          1504,
          1555,
          1500,
          1569
         ],
         "xaxis": "x",
         "y": [
          167240,
          192500,
          192000,
          172500,
          178740,
          234000,
          194201,
          264561,
          160200,
          215000,
          159895,
          181000,
          213490,
          191000,
          174000,
          246578,
          175900
         ],
         "yaxis": "y"
        },
        {
         "customdata": [
          [
           226
          ],
          [
           228
          ],
          [
           233
          ],
          [
           236
          ],
          [
           364
          ],
          [
           431
          ],
          [
           433
          ],
          [
           501
          ],
          [
           656
          ],
          [
           838
          ],
          [
           1030
          ],
          [
           1105
          ],
          [
           1220
          ],
          [
           1292
          ],
          [
           1335
          ],
          [
           1379
          ]
         ],
         "hovertemplate": "Neighborhood=BrDale<br>GrLivArea=%{x}<br>SalePrice=%{y}<br>Id=%{customdata[0]}<extra></extra>",
         "legendgroup": "BrDale",
         "marker": {
          "color": "#00cc96",
          "symbol": "circle"
         },
         "mode": "markers",
         "name": "BrDale",
         "showlegend": true,
         "type": "scattergl",
         "x": [
          1302,
          987,
          987,
          987,
          987,
          987,
          1365,
          1218,
          1092,
          987,
          1218,
          1302,
          1218,
          1302,
          1365,
          987
         ],
         "xaxis": "x",
         "y": [
          112000,
          106000,
          94500,
          89500,
          118000,
          85400,
          122500,
          113000,
          88000,
          100000,
          118000,
          106000,
          91500,
          119500,
          125000,
          83000
         ],
         "yaxis": "y"
        },
        {
         "customdata": [
          [
           268
          ],
          [
           292
          ],
          [
           355
          ],
          [
           381
          ],
          [
           407
          ],
          [
           462
          ],
          [
           566
          ],
          [
           577
          ],
          [
           636
          ],
          [
           682
          ],
          [
           800
          ],
          [
           824
          ],
          [
           841
          ],
          [
           884
          ],
          [
           1010
          ],
          [
           1031
          ],
          [
           1032
          ],
          [
           1093
          ],
          [
           1101
          ],
          [
           1131
          ],
          [
           1235
          ],
          [
           1285
          ],
          [
           1361
          ],
          [
           1377
          ],
          [
           1400
          ]
         ],
         "hovertemplate": "Neighborhood=SWISU<br>GrLivArea=%{x}<br>SalePrice=%{y}<br>Id=%{customdata[0]}<extra></extra>",
         "legendgroup": "SWISU",
         "marker": {
          "color": "#ab63fa",
          "symbol": "circle"
         },
         "mode": "markers",
         "name": "SWISU",
         "showlegend": true,
         "type": "scattergl",
         "x": [
          2192,
          1716,
          1595,
          1691,
          1639,
          1135,
          1647,
          1477,
          3395,
          1520,
          1768,
          1489,
          1482,
          2230,
          1522,
          1928,
          3082,
          1694,
          438,
          1981,
          1964,
          2447,
          2601,
          790,
          1608
         ],
         "xaxis": "x",
         "y": [
          179500,
          135900,
          140000,
          127000,
          115000,
          155000,
          128000,
          145000,
          200000,
          159434,
          175000,
          139500,
          140000,
          118500,
          102000,
          160000,
          197000,
          136500,
          60000,
          135000,
          130000,
          169000,
          189000,
          91000,
          137450
         ],
         "yaxis": "y"
        },
        {
         "customdata": [
          [
           600
          ],
          [
           957
          ]
         ],
         "hovertemplate": "Neighborhood=Blueste<br>GrLivArea=%{x}<br>SalePrice=%{y}<br>Id=%{customdata[0]}<extra></extra>",
         "legendgroup": "Blueste",
         "marker": {
          "color": "#FFA15A",
          "symbol": "circle"
         },
         "mode": "markers",
         "name": "Blueste",
         "showlegend": true,
         "type": "scattergl",
         "x": [
          1556,
          1229
         ],
         "xaxis": "x",
         "y": [
          151000,
          124000
         ],
         "yaxis": "y"
        }
       ],
       "layout": {
        "height": 800,
        "legend": {
         "title": {
          "text": "Neighborhood"
         },
         "tracegroupgap": 0
        },
        "margin": {
         "t": 60
        },
        "template": {
         "data": {
          "bar": [
           {
            "error_x": {
             "color": "#2a3f5f"
            },
            "error_y": {
             "color": "#2a3f5f"
            },
            "marker": {
             "line": {
              "color": "#E5ECF6",
              "width": 0.5
             },
             "pattern": {
              "fillmode": "overlay",
              "size": 10,
              "solidity": 0.2
             }
            },
            "type": "bar"
           }
          ],
          "barpolar": [
           {
            "marker": {
             "line": {
              "color": "#E5ECF6",
              "width": 0.5
             },
             "pattern": {
              "fillmode": "overlay",
              "size": 10,
              "solidity": 0.2
             }
            },
            "type": "barpolar"
           }
          ],
          "carpet": [
           {
            "aaxis": {
             "endlinecolor": "#2a3f5f",
             "gridcolor": "white",
             "linecolor": "white",
             "minorgridcolor": "white",
             "startlinecolor": "#2a3f5f"
            },
            "baxis": {
             "endlinecolor": "#2a3f5f",
             "gridcolor": "white",
             "linecolor": "white",
             "minorgridcolor": "white",
             "startlinecolor": "#2a3f5f"
            },
            "type": "carpet"
           }
          ],
          "choropleth": [
           {
            "colorbar": {
             "outlinewidth": 0,
             "ticks": ""
            },
            "type": "choropleth"
           }
          ],
          "contour": [
           {
            "colorbar": {
             "outlinewidth": 0,
             "ticks": ""
            },
            "colorscale": [
             [
              0,
              "#0d0887"
             ],
             [
              0.1111111111111111,
              "#46039f"
             ],
             [
              0.2222222222222222,
              "#7201a8"
             ],
             [
              0.3333333333333333,
              "#9c179e"
             ],
             [
              0.4444444444444444,
              "#bd3786"
             ],
             [
              0.5555555555555556,
              "#d8576b"
             ],
             [
              0.6666666666666666,
              "#ed7953"
             ],
             [
              0.7777777777777778,
              "#fb9f3a"
             ],
             [
              0.8888888888888888,
              "#fdca26"
             ],
             [
              1,
              "#f0f921"
             ]
            ],
            "type": "contour"
           }
          ],
          "contourcarpet": [
           {
            "colorbar": {
             "outlinewidth": 0,
             "ticks": ""
            },
            "type": "contourcarpet"
           }
          ],
          "heatmap": [
           {
            "colorbar": {
             "outlinewidth": 0,
             "ticks": ""
            },
            "colorscale": [
             [
              0,
              "#0d0887"
             ],
             [
              0.1111111111111111,
              "#46039f"
             ],
             [
              0.2222222222222222,
              "#7201a8"
             ],
             [
              0.3333333333333333,
              "#9c179e"
             ],
             [
              0.4444444444444444,
              "#bd3786"
             ],
             [
              0.5555555555555556,
              "#d8576b"
             ],
             [
              0.6666666666666666,
              "#ed7953"
             ],
             [
              0.7777777777777778,
              "#fb9f3a"
             ],
             [
              0.8888888888888888,
              "#fdca26"
             ],
             [
              1,
              "#f0f921"
             ]
            ],
            "type": "heatmap"
           }
          ],
          "heatmapgl": [
           {
            "colorbar": {
             "outlinewidth": 0,
             "ticks": ""
            },
            "colorscale": [
             [
              0,
              "#0d0887"
             ],
             [
              0.1111111111111111,
              "#46039f"
             ],
             [
              0.2222222222222222,
              "#7201a8"
             ],
             [
              0.3333333333333333,
              "#9c179e"
             ],
             [
              0.4444444444444444,
              "#bd3786"
             ],
             [
              0.5555555555555556,
              "#d8576b"
             ],
             [
              0.6666666666666666,
              "#ed7953"
             ],
             [
              0.7777777777777778,
              "#fb9f3a"
             ],
             [
              0.8888888888888888,
              "#fdca26"
             ],
             [
              1,
              "#f0f921"
             ]
            ],
            "type": "heatmapgl"
           }
          ],
          "histogram": [
           {
            "marker": {
             "pattern": {
              "fillmode": "overlay",
              "size": 10,
              "solidity": 0.2
             }
            },
            "type": "histogram"
           }
          ],
          "histogram2d": [
           {
            "colorbar": {
             "outlinewidth": 0,
             "ticks": ""
            },
            "colorscale": [
             [
              0,
              "#0d0887"
             ],
             [
              0.1111111111111111,
              "#46039f"
             ],
             [
              0.2222222222222222,
              "#7201a8"
             ],
             [
              0.3333333333333333,
              "#9c179e"
             ],
             [
              0.4444444444444444,
              "#bd3786"
             ],
             [
              0.5555555555555556,
              "#d8576b"
             ],
             [
              0.6666666666666666,
              "#ed7953"
             ],
             [
              0.7777777777777778,
              "#fb9f3a"
             ],
             [
              0.8888888888888888,
              "#fdca26"
             ],
             [
              1,
              "#f0f921"
             ]
            ],
            "type": "histogram2d"
           }
          ],
          "histogram2dcontour": [
           {
            "colorbar": {
             "outlinewidth": 0,
             "ticks": ""
            },
            "colorscale": [
             [
              0,
              "#0d0887"
             ],
             [
              0.1111111111111111,
              "#46039f"
             ],
             [
              0.2222222222222222,
              "#7201a8"
             ],
             [
              0.3333333333333333,
              "#9c179e"
             ],
             [
              0.4444444444444444,
              "#bd3786"
             ],
             [
              0.5555555555555556,
              "#d8576b"
             ],
             [
              0.6666666666666666,
              "#ed7953"
             ],
             [
              0.7777777777777778,
              "#fb9f3a"
             ],
             [
              0.8888888888888888,
              "#fdca26"
             ],
             [
              1,
              "#f0f921"
             ]
            ],
            "type": "histogram2dcontour"
           }
          ],
          "mesh3d": [
           {
            "colorbar": {
             "outlinewidth": 0,
             "ticks": ""
            },
            "type": "mesh3d"
           }
          ],
          "parcoords": [
           {
            "line": {
             "colorbar": {
              "outlinewidth": 0,
              "ticks": ""
             }
            },
            "type": "parcoords"
           }
          ],
          "pie": [
           {
            "automargin": true,
            "type": "pie"
           }
          ],
          "scatter": [
           {
            "fillpattern": {
             "fillmode": "overlay",
             "size": 10,
             "solidity": 0.2
            },
            "type": "scatter"
           }
          ],
          "scatter3d": [
           {
            "line": {
             "colorbar": {
              "outlinewidth": 0,
              "ticks": ""
             }
            },
            "marker": {
             "colorbar": {
              "outlinewidth": 0,
              "ticks": ""
             }
            },
            "type": "scatter3d"
           }
          ],
          "scattercarpet": [
           {
            "marker": {
             "colorbar": {
              "outlinewidth": 0,
              "ticks": ""
             }
            },
            "type": "scattercarpet"
           }
          ],
          "scattergeo": [
           {
            "marker": {
             "colorbar": {
              "outlinewidth": 0,
              "ticks": ""
             }
            },
            "type": "scattergeo"
           }
          ],
          "scattergl": [
           {
            "marker": {
             "colorbar": {
              "outlinewidth": 0,
              "ticks": ""
             }
            },
            "type": "scattergl"
           }
          ],
          "scattermapbox": [
           {
            "marker": {
             "colorbar": {
              "outlinewidth": 0,
              "ticks": ""
             }
            },
            "type": "scattermapbox"
           }
          ],
          "scatterpolar": [
           {
            "marker": {
             "colorbar": {
              "outlinewidth": 0,
              "ticks": ""
             }
            },
            "type": "scatterpolar"
           }
          ],
          "scatterpolargl": [
           {
            "marker": {
             "colorbar": {
              "outlinewidth": 0,
              "ticks": ""
             }
            },
            "type": "scatterpolargl"
           }
          ],
          "scatterternary": [
           {
            "marker": {
             "colorbar": {
              "outlinewidth": 0,
              "ticks": ""
             }
            },
            "type": "scatterternary"
           }
          ],
          "surface": [
           {
            "colorbar": {
             "outlinewidth": 0,
             "ticks": ""
            },
            "colorscale": [
             [
              0,
              "#0d0887"
             ],
             [
              0.1111111111111111,
              "#46039f"
             ],
             [
              0.2222222222222222,
              "#7201a8"
             ],
             [
              0.3333333333333333,
              "#9c179e"
             ],
             [
              0.4444444444444444,
              "#bd3786"
             ],
             [
              0.5555555555555556,
              "#d8576b"
             ],
             [
              0.6666666666666666,
              "#ed7953"
             ],
             [
              0.7777777777777778,
              "#fb9f3a"
             ],
             [
              0.8888888888888888,
              "#fdca26"
             ],
             [
              1,
              "#f0f921"
             ]
            ],
            "type": "surface"
           }
          ],
          "table": [
           {
            "cells": {
             "fill": {
              "color": "#EBF0F8"
             },
             "line": {
              "color": "white"
             }
            },
            "header": {
             "fill": {
              "color": "#C8D4E3"
             },
             "line": {
              "color": "white"
             }
            },
            "type": "table"
           }
          ]
         },
         "layout": {
          "annotationdefaults": {
           "arrowcolor": "#2a3f5f",
           "arrowhead": 0,
           "arrowwidth": 1
          },
          "autotypenumbers": "strict",
          "coloraxis": {
           "colorbar": {
            "outlinewidth": 0,
            "ticks": ""
           }
          },
          "colorscale": {
           "diverging": [
            [
             0,
             "#8e0152"
            ],
            [
             0.1,
             "#c51b7d"
            ],
            [
             0.2,
             "#de77ae"
            ],
            [
             0.3,
             "#f1b6da"
            ],
            [
             0.4,
             "#fde0ef"
            ],
            [
             0.5,
             "#f7f7f7"
            ],
            [
             0.6,
             "#e6f5d0"
            ],
            [
             0.7,
             "#b8e186"
            ],
            [
             0.8,
             "#7fbc41"
            ],
            [
             0.9,
             "#4d9221"
            ],
            [
             1,
             "#276419"
            ]
           ],
           "sequential": [
            [
             0,
             "#0d0887"
            ],
            [
             0.1111111111111111,
             "#46039f"
            ],
            [
             0.2222222222222222,
             "#7201a8"
            ],
            [
             0.3333333333333333,
             "#9c179e"
            ],
            [
             0.4444444444444444,
             "#bd3786"
            ],
            [
             0.5555555555555556,
             "#d8576b"
            ],
            [
             0.6666666666666666,
             "#ed7953"
            ],
            [
             0.7777777777777778,
             "#fb9f3a"
            ],
            [
             0.8888888888888888,
             "#fdca26"
            ],
            [
             1,
             "#f0f921"
            ]
           ],
           "sequentialminus": [
            [
             0,
             "#0d0887"
            ],
            [
             0.1111111111111111,
             "#46039f"
            ],
            [
             0.2222222222222222,
             "#7201a8"
            ],
            [
             0.3333333333333333,
             "#9c179e"
            ],
            [
             0.4444444444444444,
             "#bd3786"
            ],
            [
             0.5555555555555556,
             "#d8576b"
            ],
            [
             0.6666666666666666,
             "#ed7953"
            ],
            [
             0.7777777777777778,
             "#fb9f3a"
            ],
            [
             0.8888888888888888,
             "#fdca26"
            ],
            [
             1,
             "#f0f921"
            ]
           ]
          },
          "colorway": [
           "#636efa",
           "#EF553B",
           "#00cc96",
           "#ab63fa",
           "#FFA15A",
           "#19d3f3",
           "#FF6692",
           "#B6E880",
           "#FF97FF",
           "#FECB52"
          ],
          "font": {
           "color": "#2a3f5f"
          },
          "geo": {
           "bgcolor": "white",
           "lakecolor": "white",
           "landcolor": "#E5ECF6",
           "showlakes": true,
           "showland": true,
           "subunitcolor": "white"
          },
          "hoverlabel": {
           "align": "left"
          },
          "hovermode": "closest",
          "mapbox": {
           "style": "light"
          },
          "paper_bgcolor": "white",
          "plot_bgcolor": "#E5ECF6",
          "polar": {
           "angularaxis": {
            "gridcolor": "white",
            "linecolor": "white",
            "ticks": ""
           },
           "bgcolor": "#E5ECF6",
           "radialaxis": {
            "gridcolor": "white",
            "linecolor": "white",
            "ticks": ""
           }
          },
          "scene": {
           "xaxis": {
            "backgroundcolor": "#E5ECF6",
            "gridcolor": "white",
            "gridwidth": 2,
            "linecolor": "white",
            "showbackground": true,
            "ticks": "",
            "zerolinecolor": "white"
           },
           "yaxis": {
            "backgroundcolor": "#E5ECF6",
            "gridcolor": "white",
            "gridwidth": 2,
            "linecolor": "white",
            "showbackground": true,
            "ticks": "",
            "zerolinecolor": "white"
           },
           "zaxis": {
            "backgroundcolor": "#E5ECF6",
            "gridcolor": "white",
            "gridwidth": 2,
            "linecolor": "white",
            "showbackground": true,
            "ticks": "",
            "zerolinecolor": "white"
           }
          },
          "shapedefaults": {
           "line": {
            "color": "#2a3f5f"
           }
          },
          "ternary": {
           "aaxis": {
            "gridcolor": "white",
            "linecolor": "white",
            "ticks": ""
           },
           "baxis": {
            "gridcolor": "white",
            "linecolor": "white",
            "ticks": ""
           },
           "bgcolor": "#E5ECF6",
           "caxis": {
            "gridcolor": "white",
            "linecolor": "white",
            "ticks": ""
           }
          },
          "title": {
           "x": 0.05
          },
          "xaxis": {
           "automargin": true,
           "gridcolor": "white",
           "linecolor": "white",
           "ticks": "",
           "title": {
            "standoff": 15
           },
           "zerolinecolor": "white",
           "zerolinewidth": 2
          },
          "yaxis": {
           "automargin": true,
           "gridcolor": "white",
           "linecolor": "white",
           "ticks": "",
           "title": {
            "standoff": 15
           },
           "zerolinecolor": "white",
           "zerolinewidth": 2
          }
         }
        },
        "xaxis": {
         "anchor": "y",
         "domain": [
          0,
          1
         ],
         "title": {
          "text": "GrLivArea"
         }
        },
        "yaxis": {
         "anchor": "x",
         "domain": [
          0,
          1
         ],
         "title": {
          "text": "SalePrice"
         }
        }
       }
      }
     },
     "metadata": {},
     "output_type": "display_data"
    }
   ],
   "source": [
    "fig = px.scatter(train.drop([523,1298]), x=\"GrLivArea\", y=label, hover_data=['Id'],color='Neighborhood',height=800)\n",
    "fig.show()"
   ]
  },
  {
   "cell_type": "markdown",
   "metadata": {},
   "source": [
    "Null values"
   ]
  },
  {
   "cell_type": "code",
   "execution_count": 17,
   "metadata": {},
   "outputs": [
    {
     "data": {
      "text/html": [
       "<div>\n",
       "<style scoped>\n",
       "    .dataframe tbody tr th:only-of-type {\n",
       "        vertical-align: middle;\n",
       "    }\n",
       "\n",
       "    .dataframe tbody tr th {\n",
       "        vertical-align: top;\n",
       "    }\n",
       "\n",
       "    .dataframe thead th {\n",
       "        text-align: right;\n",
       "    }\n",
       "</style>\n",
       "<table border=\"1\" class=\"dataframe\">\n",
       "  <thead>\n",
       "    <tr style=\"text-align: right;\">\n",
       "      <th></th>\n",
       "      <th>0</th>\n",
       "    </tr>\n",
       "  </thead>\n",
       "  <tbody>\n",
       "    <tr>\n",
       "      <th>LotFrontage</th>\n",
       "      <td>259</td>\n",
       "    </tr>\n",
       "    <tr>\n",
       "      <th>Alley</th>\n",
       "      <td>1369</td>\n",
       "    </tr>\n",
       "    <tr>\n",
       "      <th>MasVnrType</th>\n",
       "      <td>8</td>\n",
       "    </tr>\n",
       "    <tr>\n",
       "      <th>MasVnrArea</th>\n",
       "      <td>8</td>\n",
       "    </tr>\n",
       "    <tr>\n",
       "      <th>BsmtQual</th>\n",
       "      <td>37</td>\n",
       "    </tr>\n",
       "    <tr>\n",
       "      <th>BsmtCond</th>\n",
       "      <td>37</td>\n",
       "    </tr>\n",
       "    <tr>\n",
       "      <th>BsmtExposure</th>\n",
       "      <td>38</td>\n",
       "    </tr>\n",
       "    <tr>\n",
       "      <th>BsmtFinType1</th>\n",
       "      <td>37</td>\n",
       "    </tr>\n",
       "    <tr>\n",
       "      <th>BsmtFinType2</th>\n",
       "      <td>38</td>\n",
       "    </tr>\n",
       "    <tr>\n",
       "      <th>Electrical</th>\n",
       "      <td>1</td>\n",
       "    </tr>\n",
       "    <tr>\n",
       "      <th>GarageYrBlt</th>\n",
       "      <td>81</td>\n",
       "    </tr>\n",
       "    <tr>\n",
       "      <th>GarageFinish</th>\n",
       "      <td>81</td>\n",
       "    </tr>\n",
       "    <tr>\n",
       "      <th>Fence</th>\n",
       "      <td>1179</td>\n",
       "    </tr>\n",
       "    <tr>\n",
       "      <th>MiscFeature</th>\n",
       "      <td>1406</td>\n",
       "    </tr>\n",
       "  </tbody>\n",
       "</table>\n",
       "</div>"
      ],
      "text/plain": [
       "                 0\n",
       "LotFrontage    259\n",
       "Alley         1369\n",
       "MasVnrType       8\n",
       "MasVnrArea       8\n",
       "BsmtQual        37\n",
       "BsmtCond        37\n",
       "BsmtExposure    38\n",
       "BsmtFinType1    37\n",
       "BsmtFinType2    38\n",
       "Electrical       1\n",
       "GarageYrBlt     81\n",
       "GarageFinish    81\n",
       "Fence         1179\n",
       "MiscFeature   1406"
      ]
     },
     "execution_count": 17,
     "metadata": {},
     "output_type": "execute_result"
    }
   ],
   "source": [
    "count=train.isna().sum()\n",
    "count=pd.DataFrame(count)\n",
    "count[count[0]!=0]"
   ]
  },
  {
   "cell_type": "code",
   "execution_count": 18,
   "metadata": {},
   "outputs": [],
   "source": [
    "int_cat_f=['SaleCondition','TotRmsAbvGrd','ExterQual','Exterior1st','Neighborhood',\n",
    "            'GarageFinish','KitchenQual','SaleType','PoolQC', 'OverallCond',\n",
    "            'FullBath','HouseStyle','Condition1','MSZoning','BldgType','BsmtQual']\n",
    "int_num_f=['LotArea','LotFrontage','BsmtFinSF1','TotalBsmtSF',\n",
    "            'GrLivArea','GarageYrBlt','GarageArea','YearBuilt','MSSubClass','GarageCars','OverallQual']\n",
    "int_ord_f=[]"
   ]
  },
  {
   "cell_type": "code",
   "execution_count": 24,
   "metadata": {},
   "outputs": [],
   "source": [
    "from sklearn.compose import ColumnTransformer\n",
    "from sklearn.pipeline import Pipeline\n",
    "from sklearn.impute import SimpleImputer\n",
    "from sklearn.preprocessing import StandardScaler ,KBinsDiscretizer, OrdinalEncoder\n",
    "from sklearn.dummy import DummyRegressor"
   ]
  },
  {
   "cell_type": "code",
   "execution_count": 22,
   "metadata": {},
   "outputs": [],
   "source": [
    "\n",
    "def pipeline_builder(n_cols,c_cols,o_cols,b_cols):\n",
    "    numeric_transformer = Pipeline(steps=[\n",
    "        ('inp',SimpleImputer(strategy='median')),\n",
    "        ('scaler', StandardScaler())])\n",
    "    categorical_transformer = Pipeline(steps=[\n",
    "    ('onehot', OneHotEncoder(handle_unknown='ignore'))])\n",
    "    binned_transformer = Pipeline(steps=[('inp',SimpleImputer(strategy='median')),\n",
    "                                    ('KBinsDiscretizer',KBinsDiscretizer(n_bins=10))])\n",
    "    ordinal_transformer = Pipeline(steps=[('onehot', OrdinalEncoder())])\n",
    "    preprocessor = ColumnTransformer(\n",
    "    transformers=[\n",
    "        ('num', numeric_transformer, n_cols),\n",
    "        ('cat', categorical_transformer, c_cols),\n",
    "        ('ord', ordinal_transformer, o_cols),\n",
    "        ('bin',binned_transformer, b_cols)\n",
    "        ])\n",
    "    pipeline = Pipeline(steps=[('preprocessor', preprocessor),\n",
    "                           ('regressor', DummyRegressor())])\n",
    "    pipeline\n",
    "    return pipeline, preprocessor"
   ]
  },
  {
   "cell_type": "code",
   "execution_count": 21,
   "metadata": {},
   "outputs": [
    {
     "data": {
      "text/html": [
       "<div>\n",
       "<style scoped>\n",
       "    .dataframe tbody tr th:only-of-type {\n",
       "        vertical-align: middle;\n",
       "    }\n",
       "\n",
       "    .dataframe tbody tr th {\n",
       "        vertical-align: top;\n",
       "    }\n",
       "\n",
       "    .dataframe thead th {\n",
       "        text-align: right;\n",
       "    }\n",
       "</style>\n",
       "<table border=\"1\" class=\"dataframe\">\n",
       "  <thead>\n",
       "    <tr style=\"text-align: right;\">\n",
       "      <th></th>\n",
       "      <th>Id</th>\n",
       "      <th>MSSubClass</th>\n",
       "      <th>MSZoning</th>\n",
       "      <th>LotFrontage</th>\n",
       "      <th>LotArea</th>\n",
       "      <th>Street</th>\n",
       "      <th>Alley</th>\n",
       "      <th>LotShape</th>\n",
       "      <th>LandContour</th>\n",
       "      <th>Utilities</th>\n",
       "      <th>...</th>\n",
       "      <th>Fence</th>\n",
       "      <th>MiscFeature</th>\n",
       "      <th>MiscVal</th>\n",
       "      <th>MoSold</th>\n",
       "      <th>YrSold</th>\n",
       "      <th>SaleType</th>\n",
       "      <th>SaleCondition</th>\n",
       "      <th>SalePrice</th>\n",
       "      <th>TotFlrSF</th>\n",
       "      <th>nFlrs</th>\n",
       "    </tr>\n",
       "  </thead>\n",
       "  <tbody>\n",
       "    <tr>\n",
       "      <th>0</th>\n",
       "      <td>1</td>\n",
       "      <td>60</td>\n",
       "      <td>RL</td>\n",
       "      <td>65.0</td>\n",
       "      <td>8450</td>\n",
       "      <td>Pave</td>\n",
       "      <td>NaN</td>\n",
       "      <td>Reg</td>\n",
       "      <td>Lvl</td>\n",
       "      <td>AllPub</td>\n",
       "      <td>...</td>\n",
       "      <td>NaN</td>\n",
       "      <td>NaN</td>\n",
       "      <td>0</td>\n",
       "      <td>2</td>\n",
       "      <td>2008</td>\n",
       "      <td>WD</td>\n",
       "      <td>Normal</td>\n",
       "      <td>208500</td>\n",
       "      <td>1710</td>\n",
       "      <td>2.0</td>\n",
       "    </tr>\n",
       "    <tr>\n",
       "      <th>1</th>\n",
       "      <td>2</td>\n",
       "      <td>20</td>\n",
       "      <td>RL</td>\n",
       "      <td>80.0</td>\n",
       "      <td>9600</td>\n",
       "      <td>Pave</td>\n",
       "      <td>NaN</td>\n",
       "      <td>Reg</td>\n",
       "      <td>Lvl</td>\n",
       "      <td>AllPub</td>\n",
       "      <td>...</td>\n",
       "      <td>NaN</td>\n",
       "      <td>NaN</td>\n",
       "      <td>0</td>\n",
       "      <td>5</td>\n",
       "      <td>2007</td>\n",
       "      <td>WD</td>\n",
       "      <td>Normal</td>\n",
       "      <td>181500</td>\n",
       "      <td>1262</td>\n",
       "      <td>1.0</td>\n",
       "    </tr>\n",
       "    <tr>\n",
       "      <th>2</th>\n",
       "      <td>3</td>\n",
       "      <td>60</td>\n",
       "      <td>RL</td>\n",
       "      <td>68.0</td>\n",
       "      <td>11250</td>\n",
       "      <td>Pave</td>\n",
       "      <td>NaN</td>\n",
       "      <td>IR1</td>\n",
       "      <td>Lvl</td>\n",
       "      <td>AllPub</td>\n",
       "      <td>...</td>\n",
       "      <td>NaN</td>\n",
       "      <td>NaN</td>\n",
       "      <td>0</td>\n",
       "      <td>9</td>\n",
       "      <td>2008</td>\n",
       "      <td>WD</td>\n",
       "      <td>Normal</td>\n",
       "      <td>223500</td>\n",
       "      <td>1786</td>\n",
       "      <td>2.0</td>\n",
       "    </tr>\n",
       "    <tr>\n",
       "      <th>3</th>\n",
       "      <td>4</td>\n",
       "      <td>70</td>\n",
       "      <td>RL</td>\n",
       "      <td>60.0</td>\n",
       "      <td>9550</td>\n",
       "      <td>Pave</td>\n",
       "      <td>NaN</td>\n",
       "      <td>IR1</td>\n",
       "      <td>Lvl</td>\n",
       "      <td>AllPub</td>\n",
       "      <td>...</td>\n",
       "      <td>NaN</td>\n",
       "      <td>NaN</td>\n",
       "      <td>0</td>\n",
       "      <td>2</td>\n",
       "      <td>2006</td>\n",
       "      <td>WD</td>\n",
       "      <td>Abnorml</td>\n",
       "      <td>140000</td>\n",
       "      <td>1717</td>\n",
       "      <td>2.0</td>\n",
       "    </tr>\n",
       "    <tr>\n",
       "      <th>4</th>\n",
       "      <td>5</td>\n",
       "      <td>60</td>\n",
       "      <td>RL</td>\n",
       "      <td>84.0</td>\n",
       "      <td>14260</td>\n",
       "      <td>Pave</td>\n",
       "      <td>NaN</td>\n",
       "      <td>IR1</td>\n",
       "      <td>Lvl</td>\n",
       "      <td>AllPub</td>\n",
       "      <td>...</td>\n",
       "      <td>NaN</td>\n",
       "      <td>NaN</td>\n",
       "      <td>0</td>\n",
       "      <td>12</td>\n",
       "      <td>2008</td>\n",
       "      <td>WD</td>\n",
       "      <td>Normal</td>\n",
       "      <td>250000</td>\n",
       "      <td>2198</td>\n",
       "      <td>2.0</td>\n",
       "    </tr>\n",
       "    <tr>\n",
       "      <th>...</th>\n",
       "      <td>...</td>\n",
       "      <td>...</td>\n",
       "      <td>...</td>\n",
       "      <td>...</td>\n",
       "      <td>...</td>\n",
       "      <td>...</td>\n",
       "      <td>...</td>\n",
       "      <td>...</td>\n",
       "      <td>...</td>\n",
       "      <td>...</td>\n",
       "      <td>...</td>\n",
       "      <td>...</td>\n",
       "      <td>...</td>\n",
       "      <td>...</td>\n",
       "      <td>...</td>\n",
       "      <td>...</td>\n",
       "      <td>...</td>\n",
       "      <td>...</td>\n",
       "      <td>...</td>\n",
       "      <td>...</td>\n",
       "      <td>...</td>\n",
       "    </tr>\n",
       "    <tr>\n",
       "      <th>1455</th>\n",
       "      <td>1456</td>\n",
       "      <td>60</td>\n",
       "      <td>RL</td>\n",
       "      <td>62.0</td>\n",
       "      <td>7917</td>\n",
       "      <td>Pave</td>\n",
       "      <td>NaN</td>\n",
       "      <td>Reg</td>\n",
       "      <td>Lvl</td>\n",
       "      <td>AllPub</td>\n",
       "      <td>...</td>\n",
       "      <td>NaN</td>\n",
       "      <td>NaN</td>\n",
       "      <td>0</td>\n",
       "      <td>8</td>\n",
       "      <td>2007</td>\n",
       "      <td>WD</td>\n",
       "      <td>Normal</td>\n",
       "      <td>175000</td>\n",
       "      <td>1647</td>\n",
       "      <td>2.0</td>\n",
       "    </tr>\n",
       "    <tr>\n",
       "      <th>1456</th>\n",
       "      <td>1457</td>\n",
       "      <td>20</td>\n",
       "      <td>RL</td>\n",
       "      <td>85.0</td>\n",
       "      <td>13175</td>\n",
       "      <td>Pave</td>\n",
       "      <td>NaN</td>\n",
       "      <td>Reg</td>\n",
       "      <td>Lvl</td>\n",
       "      <td>AllPub</td>\n",
       "      <td>...</td>\n",
       "      <td>MnPrv</td>\n",
       "      <td>NaN</td>\n",
       "      <td>0</td>\n",
       "      <td>2</td>\n",
       "      <td>2010</td>\n",
       "      <td>WD</td>\n",
       "      <td>Normal</td>\n",
       "      <td>210000</td>\n",
       "      <td>2073</td>\n",
       "      <td>1.0</td>\n",
       "    </tr>\n",
       "    <tr>\n",
       "      <th>1457</th>\n",
       "      <td>1458</td>\n",
       "      <td>70</td>\n",
       "      <td>RL</td>\n",
       "      <td>66.0</td>\n",
       "      <td>9042</td>\n",
       "      <td>Pave</td>\n",
       "      <td>NaN</td>\n",
       "      <td>Reg</td>\n",
       "      <td>Lvl</td>\n",
       "      <td>AllPub</td>\n",
       "      <td>...</td>\n",
       "      <td>GdPrv</td>\n",
       "      <td>Shed</td>\n",
       "      <td>2500</td>\n",
       "      <td>5</td>\n",
       "      <td>2010</td>\n",
       "      <td>WD</td>\n",
       "      <td>Normal</td>\n",
       "      <td>266500</td>\n",
       "      <td>2340</td>\n",
       "      <td>2.0</td>\n",
       "    </tr>\n",
       "    <tr>\n",
       "      <th>1458</th>\n",
       "      <td>1459</td>\n",
       "      <td>20</td>\n",
       "      <td>RL</td>\n",
       "      <td>68.0</td>\n",
       "      <td>9717</td>\n",
       "      <td>Pave</td>\n",
       "      <td>NaN</td>\n",
       "      <td>Reg</td>\n",
       "      <td>Lvl</td>\n",
       "      <td>AllPub</td>\n",
       "      <td>...</td>\n",
       "      <td>NaN</td>\n",
       "      <td>NaN</td>\n",
       "      <td>0</td>\n",
       "      <td>4</td>\n",
       "      <td>2010</td>\n",
       "      <td>WD</td>\n",
       "      <td>Normal</td>\n",
       "      <td>142125</td>\n",
       "      <td>1078</td>\n",
       "      <td>1.0</td>\n",
       "    </tr>\n",
       "    <tr>\n",
       "      <th>1459</th>\n",
       "      <td>1460</td>\n",
       "      <td>20</td>\n",
       "      <td>RL</td>\n",
       "      <td>75.0</td>\n",
       "      <td>9937</td>\n",
       "      <td>Pave</td>\n",
       "      <td>NaN</td>\n",
       "      <td>Reg</td>\n",
       "      <td>Lvl</td>\n",
       "      <td>AllPub</td>\n",
       "      <td>...</td>\n",
       "      <td>NaN</td>\n",
       "      <td>NaN</td>\n",
       "      <td>0</td>\n",
       "      <td>6</td>\n",
       "      <td>2008</td>\n",
       "      <td>WD</td>\n",
       "      <td>Normal</td>\n",
       "      <td>147500</td>\n",
       "      <td>1256</td>\n",
       "      <td>1.0</td>\n",
       "    </tr>\n",
       "  </tbody>\n",
       "</table>\n",
       "<p>1460 rows × 83 columns</p>\n",
       "</div>"
      ],
      "text/plain": [
       "        Id  MSSubClass MSZoning  LotFrontage  LotArea Street Alley LotShape  \\\n",
       "0        1          60       RL         65.0     8450   Pave   NaN      Reg   \n",
       "1        2          20       RL         80.0     9600   Pave   NaN      Reg   \n",
       "2        3          60       RL         68.0    11250   Pave   NaN      IR1   \n",
       "3        4          70       RL         60.0     9550   Pave   NaN      IR1   \n",
       "4        5          60       RL         84.0    14260   Pave   NaN      IR1   \n",
       "...    ...         ...      ...          ...      ...    ...   ...      ...   \n",
       "1455  1456          60       RL         62.0     7917   Pave   NaN      Reg   \n",
       "1456  1457          20       RL         85.0    13175   Pave   NaN      Reg   \n",
       "1457  1458          70       RL         66.0     9042   Pave   NaN      Reg   \n",
       "1458  1459          20       RL         68.0     9717   Pave   NaN      Reg   \n",
       "1459  1460          20       RL         75.0     9937   Pave   NaN      Reg   \n",
       "\n",
       "     LandContour Utilities  ...  Fence MiscFeature MiscVal MoSold YrSold  \\\n",
       "0            Lvl    AllPub  ...    NaN         NaN       0      2   2008   \n",
       "1            Lvl    AllPub  ...    NaN         NaN       0      5   2007   \n",
       "2            Lvl    AllPub  ...    NaN         NaN       0      9   2008   \n",
       "3            Lvl    AllPub  ...    NaN         NaN       0      2   2006   \n",
       "4            Lvl    AllPub  ...    NaN         NaN       0     12   2008   \n",
       "...          ...       ...  ...    ...         ...     ...    ...    ...   \n",
       "1455         Lvl    AllPub  ...    NaN         NaN       0      8   2007   \n",
       "1456         Lvl    AllPub  ...  MnPrv         NaN       0      2   2010   \n",
       "1457         Lvl    AllPub  ...  GdPrv        Shed    2500      5   2010   \n",
       "1458         Lvl    AllPub  ...    NaN         NaN       0      4   2010   \n",
       "1459         Lvl    AllPub  ...    NaN         NaN       0      6   2008   \n",
       "\n",
       "     SaleType SaleCondition  SalePrice  TotFlrSF  nFlrs  \n",
       "0          WD        Normal     208500      1710    2.0  \n",
       "1          WD        Normal     181500      1262    1.0  \n",
       "2          WD        Normal     223500      1786    2.0  \n",
       "3          WD       Abnorml     140000      1717    2.0  \n",
       "4          WD        Normal     250000      2198    2.0  \n",
       "...       ...           ...        ...       ...    ...  \n",
       "1455       WD        Normal     175000      1647    2.0  \n",
       "1456       WD        Normal     210000      2073    1.0  \n",
       "1457       WD        Normal     266500      2340    2.0  \n",
       "1458       WD        Normal     142125      1078    1.0  \n",
       "1459       WD        Normal     147500      1256    1.0  \n",
       "\n",
       "[1460 rows x 83 columns]"
      ]
     },
     "execution_count": 21,
     "metadata": {},
     "output_type": "execute_result"
    }
   ],
   "source": [
    "train"
   ]
  },
  {
   "cell_type": "code",
   "execution_count": 29,
   "metadata": {},
   "outputs": [],
   "source": [
    "pipe,prep=pipeline_builder(int_num_f,[],[],[])\n"
   ]
  },
  {
   "cell_type": "code",
   "execution_count": 51,
   "metadata": {},
   "outputs": [],
   "source": [
    "result=prep.fit_transform(train.drop([523,1298]))"
   ]
  },
  {
   "cell_type": "code",
   "execution_count": 52,
   "metadata": {},
   "outputs": [],
   "source": [
    "from minisom import MiniSom"
   ]
  },
  {
   "cell_type": "code",
   "execution_count": 78,
   "metadata": {},
   "outputs": [
    {
     "name": "stdout",
     "output_type": "stream",
     "text": [
      " [ 500 / 500 ] 100% - 0:00:00 left \n",
      " quantization error: 1.290217767218165\n"
     ]
    }
   ],
   "source": [
    "som_shape=(15,15)\n",
    "\n",
    "som = MiniSom(som_shape[0], som_shape[1], result.shape[1], sigma=1.5, learning_rate=.7, activation_distance='euclidean',\n",
    "              topology='rectangular', neighborhood_function='gaussian', random_seed=10)\n",
    "\n",
    "som.train_batch(result, 500, verbose=True)"
   ]
  },
  {
   "cell_type": "code",
   "execution_count": 79,
   "metadata": {},
   "outputs": [],
   "source": [
    "xx, yy = som.get_euclidean_coordinates()\n",
    "umatrix = som.distance_map()\n",
    "weights = som.get_weights()\n"
   ]
  },
  {
   "cell_type": "code",
   "execution_count": 80,
   "metadata": {},
   "outputs": [],
   "source": [
    "from matplotlib.patches import RegularPolygon, Ellipse\n",
    "from mpl_toolkits.axes_grid1 import make_axes_locatable\n",
    "from matplotlib import cm, colorbar\n",
    "from matplotlib.lines import Line2D"
   ]
  },
  {
   "cell_type": "code",
   "execution_count": 81,
   "metadata": {},
   "outputs": [
    {
     "data": {
      "application/vnd.plotly.v1+json": {
       "config": {
        "plotlyServerURL": "https://plot.ly"
       },
       "data": [
        {
         "colorscale": [
          [
           0,
           "#440154"
          ],
          [
           0.1111111111111111,
           "#482878"
          ],
          [
           0.2222222222222222,
           "#3e4989"
          ],
          [
           0.3333333333333333,
           "#31688e"
          ],
          [
           0.4444444444444444,
           "#26828e"
          ],
          [
           0.5555555555555556,
           "#1f9e89"
          ],
          [
           0.6666666666666666,
           "#35b779"
          ],
          [
           0.7777777777777778,
           "#6ece58"
          ],
          [
           0.8888888888888888,
           "#b5de2b"
          ],
          [
           1,
           "#fde725"
          ]
         ],
         "type": "heatmap",
         "z": [
          [
           0.3471428629377949,
           0.2690893871101183,
           0.1942774604654567,
           0.2027523829020147,
           0.5949229781387275,
           null,
           0.7903768315686479,
           0.476609525743606,
           0.21084881373746292,
           0.37152768144710885,
           0.3034204109231753,
           0.6353820144272748,
           0.300591239406057,
           0.42528543611185443,
           0.289983043500387
          ],
          [
           0.4431848007436205,
           null,
           0.3079385633781319,
           0.34116129542911555,
           0.44680499105852367,
           0.9764113226404814,
           null,
           0.6436849620729945,
           0.28765402234539794,
           0.3748894262127175,
           0.37567204409261373,
           0.4460684203310148,
           0.49370162774199483,
           0.40607754891199366,
           0.3114866339368277
          ],
          [
           null,
           0.20030719252942852,
           0.14205306223741782,
           0.19123553490244638,
           0.45644749367347354,
           null,
           0.5927931146167639,
           0.40049752531887867,
           0.25338396470825725,
           0.22220784199302415,
           0.3240981769845317,
           0.5376891832699826,
           0.257129994818749,
           0.6005560117470796,
           0.294589502484242
          ],
          [
           null,
           0.2378468158832346,
           0.24742759512673163,
           0.19886761835890496,
           null,
           0.2296100769775946,
           0.2592890638175321,
           0.21455722553582526,
           0.21758984359114172,
           0.30866578626512714,
           0.2722550471831758,
           0.7057736695140732,
           0.36122302368362186,
           0.2836828832897455,
           0.32172608370317407
          ],
          [
           null,
           0.1656493801550379,
           0.23829531835395912,
           0.13147456265509574,
           null,
           0.2913474508525815,
           0.1966800369074314,
           0.19578749332456255,
           0.23349590517493563,
           0.2934217820640025,
           0.3115755913418798,
           0.4679865198250179,
           0.5895942380267758,
           0.2371970949638884,
           0.20795844321893253
          ],
          [
           0.21283000333206636,
           null,
           null,
           0.4098115501141542,
           0.24332932788816902,
           0.3781310873504822,
           0.42943470210975804,
           0.26213048865533617,
           null,
           0.24222500213665943,
           0.21351101268562145,
           0.23113242318693394,
           0.439721325330931,
           0.29934794185892755,
           0.22269083359918995
          ],
          [
           0.33362303660966214,
           null,
           0.4109417468527163,
           0.3951153647614722,
           0.32914059517219035,
           0.31687552431572513,
           0.3954109580684655,
           0.30969306172497835,
           0.4226138884250957,
           0.3074633875157333,
           0.25197925318492176,
           0.2824339249187736,
           0.1807577539701357,
           0.17402265758501154,
           0.1671239593896484
          ],
          [
           null,
           0.2948835901608838,
           0.31716162497517975,
           0.367130088477705,
           0.23897230787873286,
           null,
           0.21558636585543442,
           0.2646488775763109,
           0.39356809482704114,
           0.2938913169422266,
           0.6679761197916809,
           null,
           0.26727829962291366,
           0.2659567113537951,
           0.17261246007644288
          ],
          [
           0.39499984884053446,
           0.46756569705278805,
           null,
           null,
           null,
           0.2144582146034935,
           0.2127970425652762,
           0.3449752469734137,
           0.30772993895790113,
           0.3591313307152229,
           0.24142114049425076,
           0.2565770462253098,
           0.17449319860949625,
           0.19003895798846515,
           0.3174742160750938
          ],
          [
           null,
           0.2853313377179227,
           null,
           null,
           0.2893918932337409,
           0.32520034492155175,
           0.3227290602635597,
           0.4256588567494601,
           null,
           0.23102424362109986,
           0.2123556176830313,
           0.18381063682033813,
           0.20055036512840907,
           0.20458492738917025,
           0.2464332758598269
          ],
          [
           0.20975935170152832,
           0.32847954075840663,
           0.2380311754113017,
           null,
           0.3831672664391892,
           0.19573932965072463,
           0.31152384615995904,
           0.6359055074283636,
           null,
           0.33503477351586236,
           0.30686660102901997,
           null,
           0.18018078053937658,
           0.24665346748486347,
           0.2151165001776885
          ],
          [
           0.3559503945784476,
           0.32049069189001206,
           0.38081208804916844,
           0.3011661607403076,
           0.3507755277466332,
           0.5438105194375269,
           0.5979357907056112,
           0.6023663694983477,
           0.34666398952099414,
           0.266899289380131,
           0.28571532292953583,
           0.22801963734540626,
           0.13513941217361097,
           0.3142300104958831,
           0.25889131608875054
          ],
          [
           0.30182968942663624,
           0.45091685635185486,
           0.5911510239624086,
           0.3132688028027814,
           0.36620736916547975,
           0.7250232908642479,
           0.24220331254202732,
           0.2489461670390175,
           0.2851587277019721,
           0.2283970808177926,
           0.40268167021603907,
           0.24425411389275944,
           0.16031231266310778,
           0.15462608731804936,
           0.23711035772240194
          ],
          [
           0.16339617797695954,
           null,
           0.29089931301100763,
           0.42625208193281616,
           0.42738129063118807,
           0.3460459140209559,
           0.2509267147661527,
           0.24219692992474146,
           0.2386720371732194,
           0.30229056527956094,
           0.34039879484217134,
           0.5913070639233926,
           null,
           0.18978580775501955,
           0.28816297326898693
          ],
          [
           0.2622720149158589,
           0.15117205041459927,
           0.19709769696807491,
           0.377185916529575,
           0.3819615095239531,
           0.275748577020516,
           0.295694395622471,
           0.25887729919303487,
           0.33712983165818444,
           0.2567430062257824,
           0.3519142996477642,
           0.20349489946267418,
           0.350903417614431,
           0.2466465638500832,
           0.16148293543955372
          ]
         ]
        }
       ],
       "layout": {
        "template": {
         "data": {
          "bar": [
           {
            "error_x": {
             "color": "#2a3f5f"
            },
            "error_y": {
             "color": "#2a3f5f"
            },
            "marker": {
             "line": {
              "color": "#E5ECF6",
              "width": 0.5
             },
             "pattern": {
              "fillmode": "overlay",
              "size": 10,
              "solidity": 0.2
             }
            },
            "type": "bar"
           }
          ],
          "barpolar": [
           {
            "marker": {
             "line": {
              "color": "#E5ECF6",
              "width": 0.5
             },
             "pattern": {
              "fillmode": "overlay",
              "size": 10,
              "solidity": 0.2
             }
            },
            "type": "barpolar"
           }
          ],
          "carpet": [
           {
            "aaxis": {
             "endlinecolor": "#2a3f5f",
             "gridcolor": "white",
             "linecolor": "white",
             "minorgridcolor": "white",
             "startlinecolor": "#2a3f5f"
            },
            "baxis": {
             "endlinecolor": "#2a3f5f",
             "gridcolor": "white",
             "linecolor": "white",
             "minorgridcolor": "white",
             "startlinecolor": "#2a3f5f"
            },
            "type": "carpet"
           }
          ],
          "choropleth": [
           {
            "colorbar": {
             "outlinewidth": 0,
             "ticks": ""
            },
            "type": "choropleth"
           }
          ],
          "contour": [
           {
            "colorbar": {
             "outlinewidth": 0,
             "ticks": ""
            },
            "colorscale": [
             [
              0,
              "#0d0887"
             ],
             [
              0.1111111111111111,
              "#46039f"
             ],
             [
              0.2222222222222222,
              "#7201a8"
             ],
             [
              0.3333333333333333,
              "#9c179e"
             ],
             [
              0.4444444444444444,
              "#bd3786"
             ],
             [
              0.5555555555555556,
              "#d8576b"
             ],
             [
              0.6666666666666666,
              "#ed7953"
             ],
             [
              0.7777777777777778,
              "#fb9f3a"
             ],
             [
              0.8888888888888888,
              "#fdca26"
             ],
             [
              1,
              "#f0f921"
             ]
            ],
            "type": "contour"
           }
          ],
          "contourcarpet": [
           {
            "colorbar": {
             "outlinewidth": 0,
             "ticks": ""
            },
            "type": "contourcarpet"
           }
          ],
          "heatmap": [
           {
            "colorbar": {
             "outlinewidth": 0,
             "ticks": ""
            },
            "colorscale": [
             [
              0,
              "#0d0887"
             ],
             [
              0.1111111111111111,
              "#46039f"
             ],
             [
              0.2222222222222222,
              "#7201a8"
             ],
             [
              0.3333333333333333,
              "#9c179e"
             ],
             [
              0.4444444444444444,
              "#bd3786"
             ],
             [
              0.5555555555555556,
              "#d8576b"
             ],
             [
              0.6666666666666666,
              "#ed7953"
             ],
             [
              0.7777777777777778,
              "#fb9f3a"
             ],
             [
              0.8888888888888888,
              "#fdca26"
             ],
             [
              1,
              "#f0f921"
             ]
            ],
            "type": "heatmap"
           }
          ],
          "heatmapgl": [
           {
            "colorbar": {
             "outlinewidth": 0,
             "ticks": ""
            },
            "colorscale": [
             [
              0,
              "#0d0887"
             ],
             [
              0.1111111111111111,
              "#46039f"
             ],
             [
              0.2222222222222222,
              "#7201a8"
             ],
             [
              0.3333333333333333,
              "#9c179e"
             ],
             [
              0.4444444444444444,
              "#bd3786"
             ],
             [
              0.5555555555555556,
              "#d8576b"
             ],
             [
              0.6666666666666666,
              "#ed7953"
             ],
             [
              0.7777777777777778,
              "#fb9f3a"
             ],
             [
              0.8888888888888888,
              "#fdca26"
             ],
             [
              1,
              "#f0f921"
             ]
            ],
            "type": "heatmapgl"
           }
          ],
          "histogram": [
           {
            "marker": {
             "pattern": {
              "fillmode": "overlay",
              "size": 10,
              "solidity": 0.2
             }
            },
            "type": "histogram"
           }
          ],
          "histogram2d": [
           {
            "colorbar": {
             "outlinewidth": 0,
             "ticks": ""
            },
            "colorscale": [
             [
              0,
              "#0d0887"
             ],
             [
              0.1111111111111111,
              "#46039f"
             ],
             [
              0.2222222222222222,
              "#7201a8"
             ],
             [
              0.3333333333333333,
              "#9c179e"
             ],
             [
              0.4444444444444444,
              "#bd3786"
             ],
             [
              0.5555555555555556,
              "#d8576b"
             ],
             [
              0.6666666666666666,
              "#ed7953"
             ],
             [
              0.7777777777777778,
              "#fb9f3a"
             ],
             [
              0.8888888888888888,
              "#fdca26"
             ],
             [
              1,
              "#f0f921"
             ]
            ],
            "type": "histogram2d"
           }
          ],
          "histogram2dcontour": [
           {
            "colorbar": {
             "outlinewidth": 0,
             "ticks": ""
            },
            "colorscale": [
             [
              0,
              "#0d0887"
             ],
             [
              0.1111111111111111,
              "#46039f"
             ],
             [
              0.2222222222222222,
              "#7201a8"
             ],
             [
              0.3333333333333333,
              "#9c179e"
             ],
             [
              0.4444444444444444,
              "#bd3786"
             ],
             [
              0.5555555555555556,
              "#d8576b"
             ],
             [
              0.6666666666666666,
              "#ed7953"
             ],
             [
              0.7777777777777778,
              "#fb9f3a"
             ],
             [
              0.8888888888888888,
              "#fdca26"
             ],
             [
              1,
              "#f0f921"
             ]
            ],
            "type": "histogram2dcontour"
           }
          ],
          "mesh3d": [
           {
            "colorbar": {
             "outlinewidth": 0,
             "ticks": ""
            },
            "type": "mesh3d"
           }
          ],
          "parcoords": [
           {
            "line": {
             "colorbar": {
              "outlinewidth": 0,
              "ticks": ""
             }
            },
            "type": "parcoords"
           }
          ],
          "pie": [
           {
            "automargin": true,
            "type": "pie"
           }
          ],
          "scatter": [
           {
            "fillpattern": {
             "fillmode": "overlay",
             "size": 10,
             "solidity": 0.2
            },
            "type": "scatter"
           }
          ],
          "scatter3d": [
           {
            "line": {
             "colorbar": {
              "outlinewidth": 0,
              "ticks": ""
             }
            },
            "marker": {
             "colorbar": {
              "outlinewidth": 0,
              "ticks": ""
             }
            },
            "type": "scatter3d"
           }
          ],
          "scattercarpet": [
           {
            "marker": {
             "colorbar": {
              "outlinewidth": 0,
              "ticks": ""
             }
            },
            "type": "scattercarpet"
           }
          ],
          "scattergeo": [
           {
            "marker": {
             "colorbar": {
              "outlinewidth": 0,
              "ticks": ""
             }
            },
            "type": "scattergeo"
           }
          ],
          "scattergl": [
           {
            "marker": {
             "colorbar": {
              "outlinewidth": 0,
              "ticks": ""
             }
            },
            "type": "scattergl"
           }
          ],
          "scattermapbox": [
           {
            "marker": {
             "colorbar": {
              "outlinewidth": 0,
              "ticks": ""
             }
            },
            "type": "scattermapbox"
           }
          ],
          "scatterpolar": [
           {
            "marker": {
             "colorbar": {
              "outlinewidth": 0,
              "ticks": ""
             }
            },
            "type": "scatterpolar"
           }
          ],
          "scatterpolargl": [
           {
            "marker": {
             "colorbar": {
              "outlinewidth": 0,
              "ticks": ""
             }
            },
            "type": "scatterpolargl"
           }
          ],
          "scatterternary": [
           {
            "marker": {
             "colorbar": {
              "outlinewidth": 0,
              "ticks": ""
             }
            },
            "type": "scatterternary"
           }
          ],
          "surface": [
           {
            "colorbar": {
             "outlinewidth": 0,
             "ticks": ""
            },
            "colorscale": [
             [
              0,
              "#0d0887"
             ],
             [
              0.1111111111111111,
              "#46039f"
             ],
             [
              0.2222222222222222,
              "#7201a8"
             ],
             [
              0.3333333333333333,
              "#9c179e"
             ],
             [
              0.4444444444444444,
              "#bd3786"
             ],
             [
              0.5555555555555556,
              "#d8576b"
             ],
             [
              0.6666666666666666,
              "#ed7953"
             ],
             [
              0.7777777777777778,
              "#fb9f3a"
             ],
             [
              0.8888888888888888,
              "#fdca26"
             ],
             [
              1,
              "#f0f921"
             ]
            ],
            "type": "surface"
           }
          ],
          "table": [
           {
            "cells": {
             "fill": {
              "color": "#EBF0F8"
             },
             "line": {
              "color": "white"
             }
            },
            "header": {
             "fill": {
              "color": "#C8D4E3"
             },
             "line": {
              "color": "white"
             }
            },
            "type": "table"
           }
          ]
         },
         "layout": {
          "annotationdefaults": {
           "arrowcolor": "#2a3f5f",
           "arrowhead": 0,
           "arrowwidth": 1
          },
          "autotypenumbers": "strict",
          "coloraxis": {
           "colorbar": {
            "outlinewidth": 0,
            "ticks": ""
           }
          },
          "colorscale": {
           "diverging": [
            [
             0,
             "#8e0152"
            ],
            [
             0.1,
             "#c51b7d"
            ],
            [
             0.2,
             "#de77ae"
            ],
            [
             0.3,
             "#f1b6da"
            ],
            [
             0.4,
             "#fde0ef"
            ],
            [
             0.5,
             "#f7f7f7"
            ],
            [
             0.6,
             "#e6f5d0"
            ],
            [
             0.7,
             "#b8e186"
            ],
            [
             0.8,
             "#7fbc41"
            ],
            [
             0.9,
             "#4d9221"
            ],
            [
             1,
             "#276419"
            ]
           ],
           "sequential": [
            [
             0,
             "#0d0887"
            ],
            [
             0.1111111111111111,
             "#46039f"
            ],
            [
             0.2222222222222222,
             "#7201a8"
            ],
            [
             0.3333333333333333,
             "#9c179e"
            ],
            [
             0.4444444444444444,
             "#bd3786"
            ],
            [
             0.5555555555555556,
             "#d8576b"
            ],
            [
             0.6666666666666666,
             "#ed7953"
            ],
            [
             0.7777777777777778,
             "#fb9f3a"
            ],
            [
             0.8888888888888888,
             "#fdca26"
            ],
            [
             1,
             "#f0f921"
            ]
           ],
           "sequentialminus": [
            [
             0,
             "#0d0887"
            ],
            [
             0.1111111111111111,
             "#46039f"
            ],
            [
             0.2222222222222222,
             "#7201a8"
            ],
            [
             0.3333333333333333,
             "#9c179e"
            ],
            [
             0.4444444444444444,
             "#bd3786"
            ],
            [
             0.5555555555555556,
             "#d8576b"
            ],
            [
             0.6666666666666666,
             "#ed7953"
            ],
            [
             0.7777777777777778,
             "#fb9f3a"
            ],
            [
             0.8888888888888888,
             "#fdca26"
            ],
            [
             1,
             "#f0f921"
            ]
           ]
          },
          "colorway": [
           "#636efa",
           "#EF553B",
           "#00cc96",
           "#ab63fa",
           "#FFA15A",
           "#19d3f3",
           "#FF6692",
           "#B6E880",
           "#FF97FF",
           "#FECB52"
          ],
          "font": {
           "color": "#2a3f5f"
          },
          "geo": {
           "bgcolor": "white",
           "lakecolor": "white",
           "landcolor": "#E5ECF6",
           "showlakes": true,
           "showland": true,
           "subunitcolor": "white"
          },
          "hoverlabel": {
           "align": "left"
          },
          "hovermode": "closest",
          "mapbox": {
           "style": "light"
          },
          "paper_bgcolor": "white",
          "plot_bgcolor": "#E5ECF6",
          "polar": {
           "angularaxis": {
            "gridcolor": "white",
            "linecolor": "white",
            "ticks": ""
           },
           "bgcolor": "#E5ECF6",
           "radialaxis": {
            "gridcolor": "white",
            "linecolor": "white",
            "ticks": ""
           }
          },
          "scene": {
           "xaxis": {
            "backgroundcolor": "#E5ECF6",
            "gridcolor": "white",
            "gridwidth": 2,
            "linecolor": "white",
            "showbackground": true,
            "ticks": "",
            "zerolinecolor": "white"
           },
           "yaxis": {
            "backgroundcolor": "#E5ECF6",
            "gridcolor": "white",
            "gridwidth": 2,
            "linecolor": "white",
            "showbackground": true,
            "ticks": "",
            "zerolinecolor": "white"
           },
           "zaxis": {
            "backgroundcolor": "#E5ECF6",
            "gridcolor": "white",
            "gridwidth": 2,
            "linecolor": "white",
            "showbackground": true,
            "ticks": "",
            "zerolinecolor": "white"
           }
          },
          "shapedefaults": {
           "line": {
            "color": "#2a3f5f"
           }
          },
          "ternary": {
           "aaxis": {
            "gridcolor": "white",
            "linecolor": "white",
            "ticks": ""
           },
           "baxis": {
            "gridcolor": "white",
            "linecolor": "white",
            "ticks": ""
           },
           "bgcolor": "#E5ECF6",
           "caxis": {
            "gridcolor": "white",
            "linecolor": "white",
            "ticks": ""
           }
          },
          "title": {
           "x": 0.05
          },
          "xaxis": {
           "automargin": true,
           "gridcolor": "white",
           "linecolor": "white",
           "ticks": "",
           "title": {
            "standoff": 15
           },
           "zerolinecolor": "white",
           "zerolinewidth": 2
          },
          "yaxis": {
           "automargin": true,
           "gridcolor": "white",
           "linecolor": "white",
           "ticks": "",
           "title": {
            "standoff": 15
           },
           "zerolinecolor": "white",
           "zerolinewidth": 2
          }
         }
        },
        "title": {
         "text": "quality plot"
        }
       }
      }
     },
     "metadata": {},
     "output_type": "display_data"
    }
   ],
   "source": [
    "import plotly.graph_objects as go\n",
    "\n",
    "win_map = som.win_map(result)\n",
    "size=som.distance_map().shape[0]\n",
    "qualities=np.empty((size,size))\n",
    "qualities[:]=np.NaN\n",
    "for position, values in win_map.items():\n",
    "    qualities[position[0], position[1]] = np.mean(abs(values-som.get_weights()[position[0], position[1]]))\n",
    "\n",
    "layout = go.Layout(title='quality plot')\n",
    "fig = go.Figure(layout=layout)\n",
    "fig.add_trace(go.Heatmap(z=qualities, colorscale='Viridis'))\n",
    "fig.show()"
   ]
  },
  {
   "cell_type": "code",
   "execution_count": 87,
   "metadata": {},
   "outputs": [
    {
     "data": {
      "text/plain": [
       "11"
      ]
     },
     "execution_count": 87,
     "metadata": {},
     "output_type": "execute_result"
    }
   ],
   "source": [
    "len(int_num_f)"
   ]
  },
  {
   "cell_type": "code",
   "execution_count": 88,
   "metadata": {},
   "outputs": [
    {
     "data": {
      "image/png": "[encoded data removed]",
      "text/plain": [
       "<Figure size 1500x1000 with 11 Axes>"
      ]
     },
     "metadata": {},
     "output_type": "display_data"
    }
   ],
   "source": [
    "W = som.get_weights()\n",
    "plt.figure(figsize=(15, 10))\n",
    "for i, f in enumerate(int_num_f):\n",
    "    plt.subplot(3,5, i+1)\n",
    "    plt.title(f)\n",
    "    plt.pcolor(W[:,:,i].T, cmap='coolwarm')\n",
    "    plt.xticks(np.arange(size+1))\n",
    "    plt.yticks(np.arange(size+1))\n",
    "plt.tight_layout()\n",
    "plt.show()"
   ]
  },
  {
   "cell_type": "code",
   "execution_count": 89,
   "metadata": {},
   "outputs": [
    {
     "data": {
      "image/png": "[encoded data removed]",
      "text/plain": [
       "<Figure size 900x900 with 2 Axes>"
      ]
     },
     "metadata": {},
     "output_type": "display_data"
    }
   ],
   "source": [
    "plt.figure(figsize=(9, 9))\n",
    "\n",
    "plt.pcolor(som.distance_map().T, cmap='bone_r')  # plotting the distance map as background\n",
    "plt.colorbar()\n",
    "\n",
    "# Plotting the response for each pattern in the iris dataset\n",
    "# different colors and markers for each label\n",
    "markers = ['o', 's', 'D']\n",
    "colors = ['C0', 'C1', 'C2']\n",
    "for cnt, xx in enumerate(result):\n",
    "    w = som.winner(xx)  # getting the winner\n",
    "    # palce a marker on the winning position for the sample xx\n",
    "\n",
    "\n",
    "plt.show()"
   ]
  }
 ],
 "metadata": {
  "kernelspec": {
   "display_name": "Python 3.8.8 ('base')",
   "language": "python",
   "name": "python3"
  },
  "language_info": {
   "codemirror_mode": {
    "name": "ipython",
    "version": 3
   },
   "file_extension": ".py",
   "mimetype": "text/x-python",
   "name": "python",
   "nbconvert_exporter": "python",
   "pygments_lexer": "ipython3",
   "version": "3.10.13"
  },
  "orig_nbformat": 4,
  "vscode": {
   "interpreter": {
    "hash": "68b83d36125722a4cfa54faf6473e9cfaf94e2e30a32ae0e02287cb9789563ab"
   }
  }
 },
 "nbformat": 4,
 "nbformat_minor": 2
}
